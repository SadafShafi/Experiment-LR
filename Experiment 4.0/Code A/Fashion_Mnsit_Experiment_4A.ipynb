{
  "nbformat": 4,
  "nbformat_minor": 0,
  "metadata": {
    "colab": {
      "name": "Fashion Mnsit Experiment 3.0.ipynb",
      "provenance": [],
      "collapsed_sections": []
    },
    "kernelspec": {
      "display_name": "Python 3",
      "name": "python3"
    },
    "accelerator": "GPU"
  },
  "cells": [
    {
      "cell_type": "markdown",
      "metadata": {
        "id": "KfFZwtotppg4"
      },
      "source": [
        "*Save and Load results from here*"
      ]
    },
    {
      "cell_type": "code",
      "metadata": {
        "id": "IfeQyoKhlJ_C"
      },
      "source": [
        "def record_Results(key,results):\n",
        "  import json\n",
        "  from google.colab import drive\n",
        "\n",
        "\n",
        "  drive.mount('/content/drive')\n",
        "\n",
        "  dictionary ={\n",
        "      key : results\n",
        "  } \n",
        "  json_object = json.dumps(dictionary)\n",
        "\n",
        "  FILE_PATH = \"/content/drive/My Drive/Results/\"+\"Fashion_Mnsit_Experiment_3.0.\"+str(key)+\".json\"\n",
        "  f = open(FILE_PATH, \"w\")\n",
        "  f.write(json_object)\n",
        "  print(\"recorded\")\n",
        "\n",
        "def Get_Results(file):\n",
        "  import json\n",
        "  from google.colab import drive\n",
        "\n",
        "  drive.mount('/content/drive')\n",
        "\n",
        "  FILE_PATH = \"/content/drive/My Drive/Results/\"+\"Fashion_Mnsit_Experiment_3.0.\"+str(file)+\".json\"\n",
        "  f = open(FILE_PATH, \"r\")\n",
        "  json_object = json.load(f)\n",
        "  \n",
        "  return json_object"
      ],
      "execution_count": null,
      "outputs": []
    },
    {
      "cell_type": "markdown",
      "metadata": {
        "id": "SFon9WVa4q0L"
      },
      "source": [
        "# **BS increasing with each epoch and hence the LR**"
      ]
    },
    {
      "cell_type": "code",
      "metadata": {
        "id": "iAve6DCL4JH4"
      },
      "source": [
        "import tensorflow as tf\n",
        "from tensorflow.keras import datasets, layers, models\n",
        "import matplotlib.pyplot as plt"
      ],
      "execution_count": null,
      "outputs": []
    },
    {
      "cell_type": "markdown",
      "metadata": {
        "id": "cNdv7he28E0B"
      },
      "source": [
        "**STARTING GPU**"
      ]
    },
    {
      "cell_type": "code",
      "metadata": {
        "colab": {
          "base_uri": "https://localhost:8080/"
        },
        "id": "9SUjTleWIogY",
        "outputId": "7d499174-5593-4c4a-d04d-fe338d7fb628"
      },
      "source": [
        "%tensorflow_version 2.x\n",
        "import tensorflow as tf\n",
        "device_name = tf.test.gpu_device_name()\n",
        "if device_name != '/device:GPU:0':\n",
        "  raise SystemError('GPU device not found')\n",
        "print('Found GPU at: {}'.format(device_name))"
      ],
      "execution_count": null,
      "outputs": [
        {
          "output_type": "stream",
          "text": [
            "Found GPU at: /device:GPU:0\n"
          ],
          "name": "stdout"
        }
      ]
    },
    {
      "cell_type": "code",
      "metadata": {
        "colab": {
          "base_uri": "https://localhost:8080/"
        },
        "id": "Azwjhr5ZIpqD",
        "outputId": "671e62b3-921d-41dc-da11-2556c9add976"
      },
      "source": [
        "%tensorflow_version 2.x\n",
        "import tensorflow as tf\n",
        "import timeit\n",
        "\n",
        "device_name = tf.test.gpu_device_name()\n",
        "if device_name != '/device:GPU:0':\n",
        "  print(\n",
        "      '\\n\\nThis error most likely means that this notebook is not '\n",
        "      'configured to use a GPU.  Change this in Notebook Settings via the '\n",
        "      'command palette (cmd/ctrl-shift-P) or the Edit menu.\\n\\n')\n",
        "  raise SystemError('GPU device not found')\n",
        "\n",
        "def cpu():\n",
        "  with tf.device('/cpu:0'):\n",
        "    random_image_cpu = tf.random.normal((100, 100, 100, 3))\n",
        "    net_cpu = tf.keras.layers.Conv2D(32, 7)(random_image_cpu)\n",
        "    return tf.math.reduce_sum(net_cpu)\n",
        "\n",
        "def gpu():\n",
        "  with tf.device('/device:GPU:0'):\n",
        "    random_image_gpu = tf.random.normal((100, 100, 100, 3))\n",
        "    net_gpu = tf.keras.layers.Conv2D(32, 7)(random_image_gpu)\n",
        "    return tf.math.reduce_sum(net_gpu)\n",
        "  \n",
        "# We run each op once to warm up; see: https://stackoverflow.com/a/45067900\n",
        "cpu()\n",
        "gpu()\n",
        "\n",
        "# Run the op several times.\n",
        "print('Time (s) to convolve 32x7x7x3 filter over random 100x100x100x3 images '\n",
        "      '(batch x height x width x channel). Sum of ten runs.')\n",
        "print('CPU (s):')\n",
        "cpu_time = timeit.timeit('cpu()', number=10, setup=\"from __main__ import cpu\")\n",
        "print(cpu_time)\n",
        "print('GPU (s):')\n",
        "gpu_time = timeit.timeit('gpu()', number=10, setup=\"from __main__ import gpu\")\n",
        "print(gpu_time)\n",
        "print('GPU speedup over CPU: {}x'.format(int(cpu_time/gpu_time)))"
      ],
      "execution_count": null,
      "outputs": [
        {
          "output_type": "stream",
          "text": [
            "Time (s) to convolve 32x7x7x3 filter over random 100x100x100x3 images (batch x height x width x channel). Sum of ten runs.\n",
            "CPU (s):\n",
            "2.9103832600000032\n",
            "GPU (s):\n",
            "0.039617339999992396\n",
            "GPU speedup over CPU: 73x\n"
          ],
          "name": "stdout"
        }
      ]
    },
    {
      "cell_type": "code",
      "metadata": {
        "id": "JWoEqyMuXFF4",
        "colab": {
          "base_uri": "https://localhost:8080/"
        },
        "outputId": "cf2d7ab0-6c8a-4019-c1c0-423ab8dea8f9"
      },
      "source": [
        "(train_images, train_labels), (test_images, test_labels) = datasets.fashion_mnist.load_data()\n",
        "\n",
        "# Normalize pixel values to be between 0 and 1\n",
        "train_images, test_images = train_images / 255.0, test_images / 255.0\n"
      ],
      "execution_count": null,
      "outputs": [
        {
          "output_type": "stream",
          "text": [
            "Downloading data from https://storage.googleapis.com/tensorflow/tf-keras-datasets/train-labels-idx1-ubyte.gz\n",
            "32768/29515 [=================================] - 0s 0us/step\n",
            "Downloading data from https://storage.googleapis.com/tensorflow/tf-keras-datasets/train-images-idx3-ubyte.gz\n",
            "26427392/26421880 [==============================] - 0s 0us/step\n",
            "Downloading data from https://storage.googleapis.com/tensorflow/tf-keras-datasets/t10k-labels-idx1-ubyte.gz\n",
            "8192/5148 [===============================================] - 0s 0us/step\n",
            "Downloading data from https://storage.googleapis.com/tensorflow/tf-keras-datasets/t10k-images-idx3-ubyte.gz\n",
            "4423680/4422102 [==============================] - 0s 0us/step\n"
          ],
          "name": "stdout"
        }
      ]
    },
    {
      "cell_type": "code",
      "metadata": {
        "id": "AywTbvwmQv_r"
      },
      "source": [
        "def fashion_model():\n",
        "  model = tf.keras.Sequential()\n",
        "  # Must define the input shape in the first layer of the neural network\n",
        "  model.add(tf.keras.layers.Conv2D(filters=64, kernel_size=2, padding='same', activation='relu', input_shape=(28,28,1))) \n",
        "  model.add(tf.keras.layers.MaxPooling2D(pool_size=2))\n",
        "  model.add(tf.keras.layers.Dropout(0.3))\n",
        "\n",
        "  model.add(tf.keras.layers.Conv2D(filters=32, kernel_size=2, padding='same', activation='relu'))\n",
        "  model.add(tf.keras.layers.MaxPooling2D(pool_size=2))\n",
        "  model.add(tf.keras.layers.Dropout(0.3))\n",
        "\n",
        "  model.add(tf.keras.layers.Flatten())\n",
        "  model.add(tf.keras.layers.Dense(256, activation='relu'))\n",
        "  model.add(tf.keras.layers.Dropout(0.5))\n",
        "  model.add(tf.keras.layers.Dense(10, activation='softmax'))\n",
        "\n",
        "  model.compile(optimizer='adam',\n",
        "              loss=tf.keras.losses.SparseCategoricalCrossentropy(from_logits=True),\n",
        "              metrics=['accuracy'])\n",
        "\n",
        "  return model\n",
        "# fashion_model()"
      ],
      "execution_count": null,
      "outputs": []
    },
    {
      "cell_type": "code",
      "metadata": {
        "colab": {
          "base_uri": "https://localhost:8080/"
        },
        "id": "H4ASuCIVNXGU",
        "outputId": "01b1713b-33c1-4d19-e6c9-b3a29483cb70"
      },
      "source": [
        "fashion_model().summary()"
      ],
      "execution_count": null,
      "outputs": [
        {
          "output_type": "stream",
          "text": [
            "Model: \"sequential\"\n",
            "_________________________________________________________________\n",
            "Layer (type)                 Output Shape              Param #   \n",
            "=================================================================\n",
            "conv2d_22 (Conv2D)           (None, 28, 28, 64)        320       \n",
            "_________________________________________________________________\n",
            "max_pooling2d (MaxPooling2D) (None, 14, 14, 64)        0         \n",
            "_________________________________________________________________\n",
            "dropout (Dropout)            (None, 14, 14, 64)        0         \n",
            "_________________________________________________________________\n",
            "conv2d_23 (Conv2D)           (None, 14, 14, 32)        8224      \n",
            "_________________________________________________________________\n",
            "max_pooling2d_1 (MaxPooling2 (None, 7, 7, 32)          0         \n",
            "_________________________________________________________________\n",
            "dropout_1 (Dropout)          (None, 7, 7, 32)          0         \n",
            "_________________________________________________________________\n",
            "flatten (Flatten)            (None, 1568)              0         \n",
            "_________________________________________________________________\n",
            "dense (Dense)                (None, 256)               401664    \n",
            "_________________________________________________________________\n",
            "dropout_2 (Dropout)          (None, 256)               0         \n",
            "_________________________________________________________________\n",
            "dense_1 (Dense)              (None, 10)                2570      \n",
            "=================================================================\n",
            "Total params: 412,778\n",
            "Trainable params: 412,778\n",
            "Non-trainable params: 0\n",
            "_________________________________________________________________\n"
          ],
          "name": "stdout"
        }
      ]
    },
    {
      "cell_type": "code",
      "metadata": {
        "id": "45M1nSqEFW3_"
      },
      "source": [
        "def Plotter(acc,val_acc,loss,val_loss,l_r):\n",
        "  \n",
        "  plt.plot(acc, label='accuracy')\n",
        "  plt.plot(val_acc, label = 'val_accuracy')\n",
        "  plt.xlabel('Epoch')\n",
        "  plt.ylabel('Accuracy')\n",
        "  plt.legend(loc='lower right')\n",
        "  plt.show()\n",
        "\n",
        "\n",
        "  plt.plot(loss, label='loss')\n",
        "  plt.plot(val_loss, label = 'val_loss')\n",
        "  plt.xlabel('Epoch')\n",
        "  plt.ylabel('loss')\n",
        "  plt.legend(loc='lower right')\n",
        "  plt.show()\n",
        "\n",
        "  plt.plot(l_r, label='Learning Rate')\n",
        "  # plt.plot(val_loss, label = 'val_loss')\n",
        "  plt.xlabel('Epoch')\n",
        "  plt.ylabel('LR')\n",
        "  plt.legend(loc='lower right')\n",
        "  plt.show()"
      ],
      "execution_count": null,
      "outputs": []
    },
    {
      "cell_type": "code",
      "metadata": {
        "id": "hf4G6RHVEqUu"
      },
      "source": [
        "model = fashion_model()"
      ],
      "execution_count": null,
      "outputs": []
    },
    {
      "cell_type": "code",
      "metadata": {
        "colab": {
          "base_uri": "https://localhost:8080/"
        },
        "id": "Cfgi-C9u36vL",
        "outputId": "7a44b8ee-6838-4b40-e0a1-d856e2752e9b"
      },
      "source": [
        "train_images.shape"
      ],
      "execution_count": null,
      "outputs": [
        {
          "output_type": "execute_result",
          "data": {
            "text/plain": [
              "(60000, 28, 28)"
            ]
          },
          "metadata": {
            "tags": []
          },
          "execution_count": 10
        }
      ]
    },
    {
      "cell_type": "code",
      "metadata": {
        "colab": {
          "base_uri": "https://localhost:8080/"
        },
        "id": "jSD7RKv01uKS",
        "outputId": "18991254-ecf8-44d8-fabc-c0240f73680f"
      },
      "source": [
        "train_images = train_images.reshape(-1, 28, 28, 1)\n",
        "test_images = test_images.reshape(-1, 28, 28, 1)\n",
        "train_images.shape"
      ],
      "execution_count": null,
      "outputs": [
        {
          "output_type": "execute_result",
          "data": {
            "text/plain": [
              "(60000, 28, 28, 1)"
            ]
          },
          "metadata": {
            "tags": []
          },
          "execution_count": 11
        }
      ]
    },
    {
      "cell_type": "code",
      "metadata": {
        "colab": {
          "base_uri": "https://localhost:8080/",
          "height": 279
        },
        "id": "Qq6kCZLpZT-t",
        "outputId": "f123363b-aedf-447a-dd9b-678c7ea07fd7"
      },
      "source": [
        "from random import random,randint,randrange,uniform\n",
        "lr = []\n",
        "epoo=70\n",
        "for z,batch_size in zip(range(1,epoo+1),range(5,10000,5)):\n",
        "\n",
        "  # print(z,(batch_size)/((z+1)**(3/2))/80)\n",
        "  \n",
        "\n",
        "\n",
        "  # if (z%2 == 0):\n",
        "  LR = random() * batch_size/10000\n",
        "  lr.append(LR)\n",
        "#   else:\n",
        "#     LR = random() * z/10000\n",
        "#     lr.append(LR)\n",
        "\n",
        "# lr = lr[::-1] \n",
        "lord_LR = lr\n",
        "# print(min(lr))\n",
        "\n",
        "\n",
        "plt.plot(lr, label='Learning Rate')\n",
        "plt.xlabel('Epoch')\n",
        "plt.ylabel('LR')\n",
        "plt.legend(loc='lower right')\n",
        "plt.show()\n",
        "\n",
        "\n",
        "# lr = []\n",
        "# epoo=150\n",
        "# for z,batch_size in zip(range(1,epoo+1),range(5,10000,5)):\n",
        "\n",
        "#   # print(z,(batch_size)/((z+1)**(3/2))/80)\n",
        "  \n",
        "\n",
        "#   LR = random() * z/10000\n",
        "#   # LR=LR/8\n",
        "#   lr.append(LR)\n",
        "\n",
        "# plt.plot(lr, label='Learning Rate')\n",
        "# plt.xlabel('Epoch')\n",
        "# plt.ylabel('LR')\n",
        "# plt.legend(loc='lower right')\n",
        "# plt.show()"
      ],
      "execution_count": null,
      "outputs": [
        {
          "output_type": "display_data",
          "data": {
            "image/png": "[encoded data removed]",
            "text/plain": [
              "<Figure size 432x288 with 1 Axes>"
            ]
          },
          "metadata": {
            "tags": [],
            "needs_background": "light"
          }
        }
      ]
    },
    {
      "cell_type": "markdown",
      "metadata": {
        "id": "3Mw-wspT-rrF"
      },
      "source": [
        "**Test for LR**"
      ]
    },
    {
      "cell_type": "code",
      "metadata": {
        "id": "9d_uY9su-Qzg"
      },
      "source": [
        "# lr = []\n",
        "# epoo=150\n",
        "# for z,batch_size in zip(range(1,epoo+1),range(5,10000,5)):\n",
        "\n",
        "#   # print(z,(batch_size)/((z+1)**(3/2))/80)\n",
        "\n",
        "\n",
        "#   LR = (batch_size)/((z+1)**(3/2)*80)\n",
        "#   LR=LR/8\n",
        "#   lr.append(LR)\n",
        "\n",
        "# plt.plot(lr, label='Learning Rate')\n",
        "# # plt.plot(val_loss, label = 'val_loss')\n",
        "# plt.xlabel('Epoch')\n",
        "# plt.ylabel('LR')\n",
        "# plt.legend(loc='lower right')\n",
        "# plt.show()"
      ],
      "execution_count": null,
      "outputs": []
    },
    {
      "cell_type": "markdown",
      "metadata": {
        "id": "r-JI73CgFFOa"
      },
      "source": [
        "**Normal default fit** : LR and Batch Size default"
      ]
    },
    {
      "cell_type": "code",
      "metadata": {
        "id": "o5qbc-A1ihfG",
        "colab": {
          "base_uri": "https://localhost:8080/"
        },
        "outputId": "d0e32f5c-3f06-4211-de5d-d1dbeac9c909"
      },
      "source": [
        "# train_images = train_images.reshape(28,28,-1)\n",
        "# test_images = test_images.reshape(28,28,-1)\n",
        "history = model.fit(train_images, train_labels, epochs=epoo,\n",
        "                    validation_data=(test_images, test_labels))\n",
        "\n",
        "\n",
        "\n"
      ],
      "execution_count": null,
      "outputs": [
        {
          "output_type": "stream",
          "text": [
            "Epoch 1/70\n",
            "1875/1875 [==============================] - 8s 3ms/step - loss: 0.7629 - accuracy: 0.7167 - val_loss: 0.3906 - val_accuracy: 0.8562\n",
            "Epoch 2/70\n",
            "1875/1875 [==============================] - 6s 3ms/step - loss: 0.4049 - accuracy: 0.8535 - val_loss: 0.3282 - val_accuracy: 0.8810\n",
            "Epoch 3/70\n",
            "1875/1875 [==============================] - 6s 3ms/step - loss: 0.3526 - accuracy: 0.8714 - val_loss: 0.3005 - val_accuracy: 0.8909\n",
            "Epoch 4/70\n",
            "1875/1875 [==============================] - 6s 3ms/step - loss: 0.3269 - accuracy: 0.8804 - val_loss: 0.2785 - val_accuracy: 0.8969\n",
            "Epoch 5/70\n",
            "1875/1875 [==============================] - 6s 3ms/step - loss: 0.3064 - accuracy: 0.8878 - val_loss: 0.2862 - val_accuracy: 0.8939\n",
            "Epoch 6/70\n",
            "1875/1875 [==============================] - 6s 3ms/step - loss: 0.2924 - accuracy: 0.8907 - val_loss: 0.2599 - val_accuracy: 0.9050\n",
            "Epoch 7/70\n",
            "1875/1875 [==============================] - 6s 3ms/step - loss: 0.2713 - accuracy: 0.8999 - val_loss: 0.2425 - val_accuracy: 0.9109\n",
            "Epoch 8/70\n",
            "1875/1875 [==============================] - 6s 3ms/step - loss: 0.2681 - accuracy: 0.9027 - val_loss: 0.2479 - val_accuracy: 0.9074\n",
            "Epoch 9/70\n",
            "1875/1875 [==============================] - 6s 3ms/step - loss: 0.2642 - accuracy: 0.9023 - val_loss: 0.2461 - val_accuracy: 0.9103\n",
            "Epoch 10/70\n",
            "1875/1875 [==============================] - 6s 3ms/step - loss: 0.2574 - accuracy: 0.9064 - val_loss: 0.2486 - val_accuracy: 0.9118\n",
            "Epoch 11/70\n",
            "1875/1875 [==============================] - 6s 3ms/step - loss: 0.2485 - accuracy: 0.9061 - val_loss: 0.2355 - val_accuracy: 0.9150\n",
            "Epoch 12/70\n",
            "1875/1875 [==============================] - 6s 3ms/step - loss: 0.2409 - accuracy: 0.9096 - val_loss: 0.2353 - val_accuracy: 0.9161\n",
            "Epoch 13/70\n",
            "1875/1875 [==============================] - 6s 3ms/step - loss: 0.2370 - accuracy: 0.9122 - val_loss: 0.2331 - val_accuracy: 0.9181\n",
            "Epoch 14/70\n",
            "1875/1875 [==============================] - 6s 3ms/step - loss: 0.2352 - accuracy: 0.9140 - val_loss: 0.2338 - val_accuracy: 0.9167\n",
            "Epoch 15/70\n",
            "1875/1875 [==============================] - 6s 3ms/step - loss: 0.2311 - accuracy: 0.9133 - val_loss: 0.2267 - val_accuracy: 0.9165\n",
            "Epoch 16/70\n",
            "1875/1875 [==============================] - 6s 3ms/step - loss: 0.2285 - accuracy: 0.9161 - val_loss: 0.2206 - val_accuracy: 0.9209\n",
            "Epoch 17/70\n",
            "1875/1875 [==============================] - 6s 3ms/step - loss: 0.2257 - accuracy: 0.9163 - val_loss: 0.2244 - val_accuracy: 0.9211\n",
            "Epoch 18/70\n",
            "1875/1875 [==============================] - 6s 3ms/step - loss: 0.2242 - accuracy: 0.9171 - val_loss: 0.2250 - val_accuracy: 0.9182\n",
            "Epoch 19/70\n",
            "1875/1875 [==============================] - 6s 3ms/step - loss: 0.2247 - accuracy: 0.9161 - val_loss: 0.2229 - val_accuracy: 0.9203\n",
            "Epoch 20/70\n",
            "1875/1875 [==============================] - 6s 3ms/step - loss: 0.2208 - accuracy: 0.9191 - val_loss: 0.2255 - val_accuracy: 0.9198\n",
            "Epoch 21/70\n",
            "1875/1875 [==============================] - 6s 3ms/step - loss: 0.2141 - accuracy: 0.9198 - val_loss: 0.2228 - val_accuracy: 0.9198\n",
            "Epoch 22/70\n",
            "1875/1875 [==============================] - 6s 3ms/step - loss: 0.2126 - accuracy: 0.9204 - val_loss: 0.2277 - val_accuracy: 0.9176\n",
            "Epoch 23/70\n",
            "1875/1875 [==============================] - 6s 3ms/step - loss: 0.2148 - accuracy: 0.9199 - val_loss: 0.2150 - val_accuracy: 0.9261\n",
            "Epoch 24/70\n",
            "1875/1875 [==============================] - 6s 3ms/step - loss: 0.2122 - accuracy: 0.9218 - val_loss: 0.2210 - val_accuracy: 0.9236\n",
            "Epoch 25/70\n",
            "1875/1875 [==============================] - 6s 3ms/step - loss: 0.2093 - accuracy: 0.9224 - val_loss: 0.2283 - val_accuracy: 0.9215\n",
            "Epoch 26/70\n",
            "1875/1875 [==============================] - 6s 3ms/step - loss: 0.2078 - accuracy: 0.9216 - val_loss: 0.2210 - val_accuracy: 0.9245\n",
            "Epoch 27/70\n",
            "1875/1875 [==============================] - 6s 3ms/step - loss: 0.2110 - accuracy: 0.9218 - val_loss: 0.2156 - val_accuracy: 0.9236\n",
            "Epoch 28/70\n",
            "1875/1875 [==============================] - 6s 3ms/step - loss: 0.2020 - accuracy: 0.9244 - val_loss: 0.2189 - val_accuracy: 0.9245\n",
            "Epoch 29/70\n",
            "1875/1875 [==============================] - 6s 3ms/step - loss: 0.2024 - accuracy: 0.9248 - val_loss: 0.2220 - val_accuracy: 0.9198\n",
            "Epoch 30/70\n",
            "1875/1875 [==============================] - 6s 3ms/step - loss: 0.2013 - accuracy: 0.9236 - val_loss: 0.2288 - val_accuracy: 0.9193\n",
            "Epoch 31/70\n",
            "1875/1875 [==============================] - 6s 3ms/step - loss: 0.2029 - accuracy: 0.9235 - val_loss: 0.2232 - val_accuracy: 0.9237\n",
            "Epoch 32/70\n",
            "1875/1875 [==============================] - 6s 3ms/step - loss: 0.1932 - accuracy: 0.9266 - val_loss: 0.2168 - val_accuracy: 0.9246\n",
            "Epoch 33/70\n",
            "1875/1875 [==============================] - 6s 3ms/step - loss: 0.1976 - accuracy: 0.9254 - val_loss: 0.2152 - val_accuracy: 0.9260\n",
            "Epoch 34/70\n",
            "1875/1875 [==============================] - 6s 3ms/step - loss: 0.1994 - accuracy: 0.9245 - val_loss: 0.2252 - val_accuracy: 0.9243\n",
            "Epoch 35/70\n",
            "1875/1875 [==============================] - 6s 3ms/step - loss: 0.2009 - accuracy: 0.9261 - val_loss: 0.2355 - val_accuracy: 0.9207\n",
            "Epoch 36/70\n",
            "1875/1875 [==============================] - 6s 3ms/step - loss: 0.1959 - accuracy: 0.9261 - val_loss: 0.2194 - val_accuracy: 0.9231\n",
            "Epoch 37/70\n",
            "1875/1875 [==============================] - 6s 3ms/step - loss: 0.1961 - accuracy: 0.9266 - val_loss: 0.2240 - val_accuracy: 0.9207\n",
            "Epoch 38/70\n",
            "1875/1875 [==============================] - 6s 3ms/step - loss: 0.1968 - accuracy: 0.9279 - val_loss: 0.2152 - val_accuracy: 0.9256\n",
            "Epoch 39/70\n",
            "1875/1875 [==============================] - 6s 3ms/step - loss: 0.1909 - accuracy: 0.9270 - val_loss: 0.2228 - val_accuracy: 0.9234\n",
            "Epoch 40/70\n",
            "1875/1875 [==============================] - 6s 3ms/step - loss: 0.1971 - accuracy: 0.9268 - val_loss: 0.2228 - val_accuracy: 0.9263\n",
            "Epoch 41/70\n",
            "1875/1875 [==============================] - 6s 3ms/step - loss: 0.1919 - accuracy: 0.9297 - val_loss: 0.2212 - val_accuracy: 0.9233\n",
            "Epoch 42/70\n",
            "1875/1875 [==============================] - 6s 3ms/step - loss: 0.1899 - accuracy: 0.9286 - val_loss: 0.2163 - val_accuracy: 0.9285\n",
            "Epoch 43/70\n",
            "1875/1875 [==============================] - 6s 3ms/step - loss: 0.1886 - accuracy: 0.9289 - val_loss: 0.2191 - val_accuracy: 0.9250\n",
            "Epoch 44/70\n",
            "1875/1875 [==============================] - 6s 3ms/step - loss: 0.1826 - accuracy: 0.9311 - val_loss: 0.2224 - val_accuracy: 0.9243\n",
            "Epoch 45/70\n",
            "1875/1875 [==============================] - 6s 3ms/step - loss: 0.1840 - accuracy: 0.9313 - val_loss: 0.2185 - val_accuracy: 0.9251\n",
            "Epoch 46/70\n",
            "1875/1875 [==============================] - 6s 3ms/step - loss: 0.1865 - accuracy: 0.9306 - val_loss: 0.2235 - val_accuracy: 0.9256\n",
            "Epoch 47/70\n",
            "1875/1875 [==============================] - 6s 3ms/step - loss: 0.1856 - accuracy: 0.9313 - val_loss: 0.2273 - val_accuracy: 0.9245\n",
            "Epoch 48/70\n",
            "1875/1875 [==============================] - 6s 3ms/step - loss: 0.1790 - accuracy: 0.9331 - val_loss: 0.2160 - val_accuracy: 0.9245\n",
            "Epoch 49/70\n",
            "1875/1875 [==============================] - 6s 3ms/step - loss: 0.1846 - accuracy: 0.9306 - val_loss: 0.2160 - val_accuracy: 0.9272\n",
            "Epoch 50/70\n",
            "1875/1875 [==============================] - 6s 3ms/step - loss: 0.1829 - accuracy: 0.9316 - val_loss: 0.2155 - val_accuracy: 0.9268\n",
            "Epoch 51/70\n",
            "1875/1875 [==============================] - 6s 3ms/step - loss: 0.1835 - accuracy: 0.9297 - val_loss: 0.2216 - val_accuracy: 0.9268\n",
            "Epoch 52/70\n",
            "1875/1875 [==============================] - 6s 3ms/step - loss: 0.1840 - accuracy: 0.9314 - val_loss: 0.2351 - val_accuracy: 0.9233\n",
            "Epoch 53/70\n",
            "1875/1875 [==============================] - 6s 3ms/step - loss: 0.1849 - accuracy: 0.9320 - val_loss: 0.2197 - val_accuracy: 0.9238\n",
            "Epoch 54/70\n",
            "1875/1875 [==============================] - 6s 3ms/step - loss: 0.1869 - accuracy: 0.9318 - val_loss: 0.2160 - val_accuracy: 0.9278\n",
            "Epoch 55/70\n",
            "1875/1875 [==============================] - 6s 3ms/step - loss: 0.1778 - accuracy: 0.9311 - val_loss: 0.2167 - val_accuracy: 0.9245\n",
            "Epoch 56/70\n",
            "1875/1875 [==============================] - 6s 3ms/step - loss: 0.1811 - accuracy: 0.9317 - val_loss: 0.2238 - val_accuracy: 0.9270\n",
            "Epoch 57/70\n",
            "1875/1875 [==============================] - 6s 3ms/step - loss: 0.1796 - accuracy: 0.9341 - val_loss: 0.2266 - val_accuracy: 0.9244\n",
            "Epoch 58/70\n",
            "1875/1875 [==============================] - 6s 3ms/step - loss: 0.1758 - accuracy: 0.9338 - val_loss: 0.2194 - val_accuracy: 0.9281\n",
            "Epoch 59/70\n",
            "1875/1875 [==============================] - 6s 3ms/step - loss: 0.1789 - accuracy: 0.9354 - val_loss: 0.2255 - val_accuracy: 0.9232\n",
            "Epoch 60/70\n",
            "1875/1875 [==============================] - 6s 3ms/step - loss: 0.1835 - accuracy: 0.9327 - val_loss: 0.2261 - val_accuracy: 0.9272\n",
            "Epoch 61/70\n",
            "1875/1875 [==============================] - 6s 3ms/step - loss: 0.1806 - accuracy: 0.9318 - val_loss: 0.2150 - val_accuracy: 0.9274\n",
            "Epoch 62/70\n",
            "1875/1875 [==============================] - 6s 3ms/step - loss: 0.1802 - accuracy: 0.9320 - val_loss: 0.2348 - val_accuracy: 0.9208\n",
            "Epoch 63/70\n",
            "1875/1875 [==============================] - 6s 3ms/step - loss: 0.1724 - accuracy: 0.9360 - val_loss: 0.2212 - val_accuracy: 0.9237\n",
            "Epoch 64/70\n",
            "1875/1875 [==============================] - 6s 3ms/step - loss: 0.1823 - accuracy: 0.9316 - val_loss: 0.2267 - val_accuracy: 0.9246\n",
            "Epoch 65/70\n",
            "1875/1875 [==============================] - 6s 3ms/step - loss: 0.1702 - accuracy: 0.9361 - val_loss: 0.2244 - val_accuracy: 0.9247\n",
            "Epoch 66/70\n",
            "1875/1875 [==============================] - 6s 3ms/step - loss: 0.1765 - accuracy: 0.9357 - val_loss: 0.2282 - val_accuracy: 0.9233\n",
            "Epoch 67/70\n",
            "1875/1875 [==============================] - 6s 3ms/step - loss: 0.1766 - accuracy: 0.9340 - val_loss: 0.2205 - val_accuracy: 0.9265\n",
            "Epoch 68/70\n",
            "1875/1875 [==============================] - 6s 3ms/step - loss: 0.1762 - accuracy: 0.9367 - val_loss: 0.2171 - val_accuracy: 0.9304\n",
            "Epoch 69/70\n",
            "1875/1875 [==============================] - 6s 3ms/step - loss: 0.1806 - accuracy: 0.9321 - val_loss: 0.2316 - val_accuracy: 0.9242\n",
            "Epoch 70/70\n",
            "1875/1875 [==============================] - 6s 3ms/step - loss: 0.1789 - accuracy: 0.9337 - val_loss: 0.2217 - val_accuracy: 0.9285\n"
          ],
          "name": "stdout"
        }
      ]
    },
    {
      "cell_type": "code",
      "metadata": {
        "id": "-s0FQOl5d9h4"
      },
      "source": [
        "acc_1 = history.history['accuracy']\n",
        "val_acc_1 = history.history['val_accuracy']"
      ],
      "execution_count": null,
      "outputs": []
    },
    {
      "cell_type": "code",
      "metadata": {
        "id": "NetOPNdvur-t",
        "colab": {
          "base_uri": "https://localhost:8080/"
        },
        "outputId": "f84d6e42-683f-4d12-e5af-8e1ef30ac9cd"
      },
      "source": [
        "#Save these values in your jsonm\n",
        "record_Results(\"acc_1\",acc_1)\n",
        "record_Results(\"val_acc_1\",val_acc_1)"
      ],
      "execution_count": null,
      "outputs": [
        {
          "output_type": "stream",
          "text": [
            "Mounted at /content/drive\n",
            "recorded\n",
            "Drive already mounted at /content/drive; to attempt to forcibly remount, call drive.mount(\"/content/drive\", force_remount=True).\n",
            "recorded\n"
          ],
          "name": "stdout"
        }
      ]
    },
    {
      "cell_type": "code",
      "metadata": {
        "id": "4nKamdPXux0d",
        "colab": {
          "base_uri": "https://localhost:8080/"
        },
        "outputId": "5814bd36-9b41-479e-edd1-581eaf2510d3"
      },
      "source": [
        "#Get the saved results\n",
        "acc_1 = Get_Results(\"acc_1\")[\"acc_1\"]\n",
        "val_acc_1 = Get_Results(\"val_acc_1\")[\"val_acc_1\"]"
      ],
      "execution_count": null,
      "outputs": [
        {
          "output_type": "stream",
          "text": [
            "Drive already mounted at /content/drive; to attempt to forcibly remount, call drive.mount(\"/content/drive\", force_remount=True).\n",
            "Drive already mounted at /content/drive; to attempt to forcibly remount, call drive.mount(\"/content/drive\", force_remount=True).\n"
          ],
          "name": "stdout"
        }
      ]
    },
    {
      "cell_type": "code",
      "metadata": {
        "id": "gtyDF0MKUcM7",
        "colab": {
          "base_uri": "https://localhost:8080/",
          "height": 558
        },
        "outputId": "2d2cfa7c-6901-4e00-d968-6240f7aa8326"
      },
      "source": [
        "plt.plot(history.history['accuracy'], label='accuracy')\n",
        "plt.plot(history.history['val_accuracy'], label = 'val_accuracy')\n",
        "plt.xlabel('Epoch')\n",
        "plt.ylabel('Accuracy')\n",
        "plt.legend(loc='lower right')\n",
        "plt.show()\n",
        "\n",
        "test_loss, test_acc = model.evaluate(test_images,  test_labels, verbose=2)\n",
        "\n",
        "plt.plot(history.history['loss'], label='loss')\n",
        "plt.plot(history.history['val_loss'], label = 'val_loss')\n",
        "plt.xlabel('Epoch')\n",
        "plt.ylabel('loss')\n",
        "plt.legend(loc='lower right')\n",
        "plt.show()"
      ],
      "execution_count": null,
      "outputs": [
        {
          "output_type": "display_data",
          "data": {
            "image/png": "[encoded data removed]",
            "text/plain": [
              "<Figure size 432x288 with 1 Axes>"
            ]
          },
          "metadata": {
            "tags": [],
            "needs_background": "light"
          }
        },
        {
          "output_type": "stream",
          "text": [
            "313/313 - 1s - loss: 0.2217 - accuracy: 0.9285\n"
          ],
          "name": "stdout"
        },
        {
          "output_type": "display_data",
          "data": {
            "image/png": "[encoded data removed]",
            "text/plain": [
              "<Figure size 432x288 with 1 Axes>"
            ]
          },
          "metadata": {
            "tags": [],
            "needs_background": "light"
          }
        }
      ]
    },
    {
      "cell_type": "markdown",
      "metadata": {
        "id": "p8bP4hOz8PbR"
      },
      "source": [
        "**LR ∝ BS/Epoch**"
      ]
    },
    {
      "cell_type": "code",
      "metadata": {
        "id": "hGg5WxHXhj5G",
        "colab": {
          "base_uri": "https://localhost:8080/"
        },
        "outputId": "dbb2a317-9ac7-4fde-f084-a2b8d1c767f8"
      },
      "source": [
        "model = fashion_model()\n",
        "\n",
        "from keras.callbacks import LearningRateScheduler\n",
        "\n",
        "LR = 0.01\n",
        "epoch = 1\n",
        "batch_size = 100\n",
        "\n",
        "val_acc = []\n",
        "acc = []\n",
        "val_loss = []\n",
        "loss = []\n",
        "l_r = []\n",
        "\n",
        "num = 0\n",
        "\n",
        "x = 0\n",
        "# kr = lr\n",
        "for z,batch_size in zip(range(1,epoo),range(5,10000,5)):\n",
        "\n",
        "  # if (z%2 == 0):\n",
        "  LR = random() * batch_size/10000\n",
        "  # lr.append(LR)\n",
        "  # else:\n",
        "  #   LR = random() * z/10000\n",
        "  # lr.append(LR)\n",
        "\n",
        "  print(\"\\n\\nepoch {z}, Learning Rate {LR}, Batch Size  {batch_size} \"\n",
        "                    .format(z=z,LR=LR,batch_size=batch_size))\n",
        "\n",
        "  def set_LR(epoch,lr):\n",
        "    global LR\n",
        "    global l_r\n",
        "    global x\n",
        "    global lord_LR \n",
        "\n",
        "    LR=lord_LR[x]\n",
        "    x+=1\n",
        "    if(LR>0.009):\n",
        "      LR = 0.009\n",
        "    l_r.append(LR)\n",
        "    return LR\n",
        "\n",
        "  call = [ LearningRateScheduler(set_LR,verbose=1) ]\n",
        "\n",
        "  history = model.fit(\n",
        "            train_images, train_labels, \n",
        "            validation_data=(test_images, test_labels),\n",
        "            epochs=epoch,\n",
        "            batch_size=batch_size,\n",
        "            callbacks=call\n",
        "            )\n",
        "\n",
        "\n",
        "\n",
        "  acc.append(history.history['accuracy'])\n",
        "  val_acc.append(history.history['val_accuracy'])\n",
        "  loss.append(history.history['loss'])\n",
        "  val_loss.append(history.history['val_loss'])\n",
        "\n",
        "  # if(num >= 50 ):\n",
        "  #   x = input(\"type anything if you want to continue >  \")\n",
        "  #   num = 0\n",
        "  # num += 1\n"
      ],
      "execution_count": null,
      "outputs": [
        {
          "output_type": "stream",
          "text": [
            "\n",
            "\n",
            "epoch 1, Learning Rate 1.0928879395005197e-06, Batch Size  5 \n",
            "\n",
            "Epoch 00001: LearningRateScheduler reducing learning rate to 0.00019337557347862128.\n",
            "12000/12000 [==============================] - 32s 3ms/step - loss: 0.8137 - accuracy: 0.7003 - val_loss: 0.4015 - val_accuracy: 0.8533\n",
            "\n",
            "\n",
            "epoch 2, Learning Rate 0.0009338353094435444, Batch Size  10 \n",
            "\n",
            "Epoch 00001: LearningRateScheduler reducing learning rate to 5.138299970070981e-06.\n",
            "6000/6000 [==============================] - 19s 3ms/step - loss: 0.4321 - accuracy: 0.8447 - val_loss: 0.3814 - val_accuracy: 0.8609\n",
            "\n",
            "\n",
            "epoch 3, Learning Rate 0.00017567720203008974, Batch Size  15 \n",
            "\n",
            "Epoch 00001: LearningRateScheduler reducing learning rate to 0.0003518715327366761.\n",
            "4000/4000 [==============================] - 15s 4ms/step - loss: 0.4111 - accuracy: 0.8502 - val_loss: 0.3411 - val_accuracy: 0.8761\n",
            "\n",
            "\n",
            "epoch 4, Learning Rate 0.0014792460555973113, Batch Size  20 \n",
            "\n",
            "Epoch 00001: LearningRateScheduler reducing learning rate to 0.0018620434161284202.\n",
            "3000/3000 [==============================] - 13s 4ms/step - loss: 0.4175 - accuracy: 0.8473 - val_loss: 0.3561 - val_accuracy: 0.8675\n",
            "\n",
            "\n",
            "epoch 5, Learning Rate 0.0022261537479092044, Batch Size  25 \n",
            "\n",
            "Epoch 00001: LearningRateScheduler reducing learning rate to 0.0013831157956714247.\n",
            "2400/2400 [==============================] - 11s 4ms/step - loss: 0.3420 - accuracy: 0.8732 - val_loss: 0.2916 - val_accuracy: 0.8924\n",
            "\n",
            "\n",
            "epoch 6, Learning Rate 0.0007769941039583612, Batch Size  30 \n",
            "\n",
            "Epoch 00001: LearningRateScheduler reducing learning rate to 0.0014270696122048038.\n",
            "2000/2000 [==============================] - 8s 4ms/step - loss: 0.3148 - accuracy: 0.8831 - val_loss: 0.2768 - val_accuracy: 0.8986\n",
            "\n",
            "\n",
            "epoch 7, Learning Rate 0.003286183648123633, Batch Size  35 \n",
            "\n",
            "Epoch 00001: LearningRateScheduler reducing learning rate to 0.0034497667649409005.\n",
            "1715/1715 [==============================] - 8s 5ms/step - loss: 0.3602 - accuracy: 0.8672 - val_loss: 0.3080 - val_accuracy: 0.8847\n",
            "\n",
            "\n",
            "epoch 8, Learning Rate 0.0020180797483003365, Batch Size  40 \n",
            "\n",
            "Epoch 00001: LearningRateScheduler reducing learning rate to 0.0033505822996227224.\n",
            "1500/1500 [==============================] - 7s 5ms/step - loss: 0.3431 - accuracy: 0.8741 - val_loss: 0.2895 - val_accuracy: 0.8922\n",
            "\n",
            "\n",
            "epoch 9, Learning Rate 0.0008293852943724913, Batch Size  45 \n",
            "\n",
            "Epoch 00001: LearningRateScheduler reducing learning rate to 0.00017238616411285835.\n",
            "1334/1334 [==============================] - 6s 5ms/step - loss: 0.2894 - accuracy: 0.8926 - val_loss: 0.2562 - val_accuracy: 0.9055\n",
            "\n",
            "\n",
            "epoch 10, Learning Rate 0.0007674619785445119, Batch Size  50 \n",
            "\n",
            "Epoch 00001: LearningRateScheduler reducing learning rate to 0.0010163054201240563.\n",
            "1200/1200 [==============================] - 5s 4ms/step - loss: 0.2767 - accuracy: 0.8978 - val_loss: 0.2503 - val_accuracy: 0.9088\n",
            "\n",
            "\n",
            "epoch 11, Learning Rate 0.004052336365429989, Batch Size  55 \n",
            "\n",
            "Epoch 00001: LearningRateScheduler reducing learning rate to 0.001731044479123934.\n",
            "1091/1091 [==============================] - 5s 5ms/step - loss: 0.2784 - accuracy: 0.8963 - val_loss: 0.2451 - val_accuracy: 0.9103\n",
            "\n",
            "\n",
            "epoch 12, Learning Rate 0.0011723057287342112, Batch Size  60 \n",
            "\n",
            "Epoch 00001: LearningRateScheduler reducing learning rate to 0.005662368941659295.\n",
            "1000/1000 [==============================] - 5s 5ms/step - loss: 0.3636 - accuracy: 0.8666 - val_loss: 0.3314 - val_accuracy: 0.8759\n",
            "\n",
            "\n",
            "epoch 13, Learning Rate 0.0059239851876917975, Batch Size  65 \n",
            "\n",
            "Epoch 00001: LearningRateScheduler reducing learning rate to 0.0030816172254585694.\n",
            "924/924 [==============================] - 5s 5ms/step - loss: 0.3147 - accuracy: 0.8826 - val_loss: 0.2703 - val_accuracy: 0.9013\n",
            "\n",
            "\n",
            "epoch 14, Learning Rate 0.005089924934256815, Batch Size  70 \n",
            "\n",
            "Epoch 00001: LearningRateScheduler reducing learning rate to 0.00564002852614455.\n",
            "858/858 [==============================] - 4s 5ms/step - loss: 0.3445 - accuracy: 0.8722 - val_loss: 0.2801 - val_accuracy: 0.8964\n",
            "\n",
            "\n",
            "epoch 15, Learning Rate 9.616653611949994e-05, Batch Size  75 \n",
            "\n",
            "Epoch 00001: LearningRateScheduler reducing learning rate to 0.0017271913681371049.\n",
            "800/800 [==============================] - 4s 5ms/step - loss: 0.2860 - accuracy: 0.8920 - val_loss: 0.2504 - val_accuracy: 0.9080\n",
            "\n",
            "\n",
            "epoch 16, Learning Rate 0.0024272729542167723, Batch Size  80 \n",
            "\n",
            "Epoch 00001: LearningRateScheduler reducing learning rate to 0.0016712213041033994.\n",
            "750/750 [==============================] - 4s 5ms/step - loss: 0.2661 - accuracy: 0.9011 - val_loss: 0.2418 - val_accuracy: 0.9111\n",
            "\n",
            "\n",
            "epoch 17, Learning Rate 0.0043708774773760384, Batch Size  85 \n",
            "\n",
            "Epoch 00001: LearningRateScheduler reducing learning rate to 0.002728567546789704.\n",
            "706/706 [==============================] - 4s 5ms/step - loss: 0.2764 - accuracy: 0.8970 - val_loss: 0.2501 - val_accuracy: 0.9099\n",
            "\n",
            "\n",
            "epoch 18, Learning Rate 0.00460856137876376, Batch Size  90 \n",
            "\n",
            "Epoch 00001: LearningRateScheduler reducing learning rate to 0.0007727613072430303.\n",
            "667/667 [==============================] - 4s 5ms/step - loss: 0.2496 - accuracy: 0.9062 - val_loss: 0.2345 - val_accuracy: 0.9161\n",
            "\n",
            "\n",
            "epoch 19, Learning Rate 0.004864484548557132, Batch Size  95 \n",
            "\n",
            "Epoch 00001: LearningRateScheduler reducing learning rate to 0.002899120962179406.\n",
            "632/632 [==============================] - 3s 5ms/step - loss: 0.2658 - accuracy: 0.8994 - val_loss: 0.2472 - val_accuracy: 0.9124\n",
            "\n",
            "\n",
            "epoch 20, Learning Rate 0.0036872725015529603, Batch Size  100 \n",
            "\n",
            "Epoch 00001: LearningRateScheduler reducing learning rate to 0.008036790749410954.\n",
            "600/600 [==============================] - 3s 6ms/step - loss: 0.3568 - accuracy: 0.8690 - val_loss: 0.3022 - val_accuracy: 0.8908\n",
            "\n",
            "\n",
            "epoch 21, Learning Rate 0.008196262922115517, Batch Size  105 \n",
            "\n",
            "Epoch 00001: LearningRateScheduler reducing learning rate to 0.00035441658323390483.\n",
            "572/572 [==============================] - 3s 6ms/step - loss: 0.3090 - accuracy: 0.8856 - val_loss: 0.2617 - val_accuracy: 0.9063\n",
            "\n",
            "\n",
            "epoch 22, Learning Rate 0.0022990321312933585, Batch Size  110 \n",
            "\n",
            "Epoch 00001: LearningRateScheduler reducing learning rate to 0.006681101642962465.\n",
            "546/546 [==============================] - 3s 6ms/step - loss: 0.3357 - accuracy: 0.8777 - val_loss: 0.2842 - val_accuracy: 0.8962\n",
            "\n",
            "\n",
            "epoch 23, Learning Rate 0.0024299712939850945, Batch Size  115 \n",
            "\n",
            "Epoch 00001: LearningRateScheduler reducing learning rate to 0.0050390147350225884.\n",
            "522/522 [==============================] - 3s 6ms/step - loss: 0.3089 - accuracy: 0.8868 - val_loss: 0.2709 - val_accuracy: 0.9004\n",
            "\n",
            "\n",
            "epoch 24, Learning Rate 0.0011895433495921948, Batch Size  120 \n",
            "\n",
            "Epoch 00001: LearningRateScheduler reducing learning rate to 0.0015845353261238655.\n",
            "500/500 [==============================] - 3s 7ms/step - loss: 0.2654 - accuracy: 0.9022 - val_loss: 0.2518 - val_accuracy: 0.9087\n",
            "\n",
            "\n",
            "epoch 25, Learning Rate 0.0006417140321381632, Batch Size  125 \n",
            "\n",
            "Epoch 00001: LearningRateScheduler reducing learning rate to 0.00776243460694488.\n",
            "480/480 [==============================] - 3s 7ms/step - loss: 0.3285 - accuracy: 0.8782 - val_loss: 0.2809 - val_accuracy: 0.8950\n",
            "\n",
            "\n",
            "epoch 26, Learning Rate 0.008277699106457957, Batch Size  130 \n",
            "\n",
            "Epoch 00001: LearningRateScheduler reducing learning rate to 0.006969902192280803.\n",
            "462/462 [==============================] - 3s 7ms/step - loss: 0.3196 - accuracy: 0.8817 - val_loss: 0.2862 - val_accuracy: 0.8972\n",
            "\n",
            "\n",
            "epoch 27, Learning Rate 0.01085589382070006, Batch Size  135 \n",
            "\n",
            "Epoch 00001: LearningRateScheduler reducing learning rate to 0.009.\n",
            "445/445 [==============================] - 3s 7ms/step - loss: 0.3478 - accuracy: 0.8734 - val_loss: 0.2784 - val_accuracy: 0.9027\n",
            "\n",
            "\n",
            "epoch 28, Learning Rate 0.0018209138807800229, Batch Size  140 \n",
            "\n",
            "Epoch 00001: LearningRateScheduler reducing learning rate to 0.001981310225517414.\n",
            "429/429 [==============================] - 3s 8ms/step - loss: 0.2830 - accuracy: 0.8955 - val_loss: 0.2483 - val_accuracy: 0.9105\n",
            "\n",
            "\n",
            "epoch 29, Learning Rate 0.005935033257318549, Batch Size  145 \n",
            "\n",
            "Epoch 00001: LearningRateScheduler reducing learning rate to 0.006467167354542052.\n",
            "414/414 [==============================] - 3s 8ms/step - loss: 0.3013 - accuracy: 0.8882 - val_loss: 0.2559 - val_accuracy: 0.9053\n",
            "\n",
            "\n",
            "epoch 30, Learning Rate 0.004065048131068162, Batch Size  150 \n",
            "\n",
            "Epoch 00001: LearningRateScheduler reducing learning rate to 0.009.\n",
            "400/400 [==============================] - 3s 8ms/step - loss: 0.3318 - accuracy: 0.8779 - val_loss: 0.2902 - val_accuracy: 0.8953\n",
            "\n",
            "\n",
            "epoch 31, Learning Rate 0.015280259334585591, Batch Size  155 \n",
            "\n",
            "Epoch 00001: LearningRateScheduler reducing learning rate to 0.006934658990033279.\n",
            "388/388 [==============================] - 3s 8ms/step - loss: 0.3056 - accuracy: 0.8889 - val_loss: 0.2669 - val_accuracy: 0.9053\n",
            "\n",
            "\n",
            "epoch 32, Learning Rate 0.009844849028981265, Batch Size  160 \n",
            "\n",
            "Epoch 00001: LearningRateScheduler reducing learning rate to 0.006492718951087169.\n",
            "375/375 [==============================] - 3s 9ms/step - loss: 0.2958 - accuracy: 0.8902 - val_loss: 0.2602 - val_accuracy: 0.9069\n",
            "\n",
            "\n",
            "epoch 33, Learning Rate 0.013588330158382678, Batch Size  165 \n",
            "\n",
            "Epoch 00001: LearningRateScheduler reducing learning rate to 0.009.\n",
            "364/364 [==============================] - 3s 9ms/step - loss: 0.3192 - accuracy: 0.8820 - val_loss: 0.2745 - val_accuracy: 0.9018\n",
            "\n",
            "\n",
            "epoch 34, Learning Rate 0.014674110985153822, Batch Size  170 \n",
            "\n",
            "Epoch 00001: LearningRateScheduler reducing learning rate to 0.000960178479882993.\n",
            "353/353 [==============================] - 3s 9ms/step - loss: 0.2757 - accuracy: 0.8987 - val_loss: 0.2462 - val_accuracy: 0.9128\n",
            "\n",
            "\n",
            "epoch 35, Learning Rate 0.0032924687174055605, Batch Size  175 \n",
            "\n",
            "Epoch 00001: LearningRateScheduler reducing learning rate to 0.009.\n",
            "343/343 [==============================] - 3s 9ms/step - loss: 0.3167 - accuracy: 0.8835 - val_loss: 0.2846 - val_accuracy: 0.8961\n",
            "\n",
            "\n",
            "epoch 36, Learning Rate 0.01059956311329503, Batch Size  180 \n",
            "\n",
            "Epoch 00001: LearningRateScheduler reducing learning rate to 0.009.\n",
            "334/334 [==============================] - 3s 10ms/step - loss: 0.3180 - accuracy: 0.8837 - val_loss: 0.2760 - val_accuracy: 0.9010\n",
            "\n",
            "\n",
            "epoch 37, Learning Rate 0.0028879737161018187, Batch Size  185 \n",
            "\n",
            "Epoch 00001: LearningRateScheduler reducing learning rate to 0.009.\n",
            "325/325 [==============================] - 3s 10ms/step - loss: 0.3202 - accuracy: 0.8831 - val_loss: 0.2757 - val_accuracy: 0.8976\n",
            "\n",
            "\n",
            "epoch 38, Learning Rate 0.004360438741966384, Batch Size  190 \n",
            "\n",
            "Epoch 00001: LearningRateScheduler reducing learning rate to 0.009.\n",
            "316/316 [==============================] - 3s 10ms/step - loss: 0.3218 - accuracy: 0.8825 - val_loss: 0.2707 - val_accuracy: 0.9041\n",
            "\n",
            "\n",
            "epoch 39, Learning Rate 0.01718540632134816, Batch Size  195 \n",
            "\n",
            "Epoch 00001: LearningRateScheduler reducing learning rate to 0.0008993045895864622.\n",
            "308/308 [==============================] - 3s 10ms/step - loss: 0.2740 - accuracy: 0.8987 - val_loss: 0.2439 - val_accuracy: 0.9122\n",
            "\n",
            "\n",
            "epoch 40, Learning Rate 0.0019502288853422843, Batch Size  200 \n",
            "\n",
            "Epoch 00001: LearningRateScheduler reducing learning rate to 0.001840467284681504.\n",
            "300/300 [==============================] - 3s 11ms/step - loss: 0.2529 - accuracy: 0.9051 - val_loss: 0.2469 - val_accuracy: 0.9108\n",
            "\n",
            "\n",
            "epoch 41, Learning Rate 0.006988338741618095, Batch Size  205 \n",
            "\n",
            "Epoch 00001: LearningRateScheduler reducing learning rate to 0.009.\n",
            "293/293 [==============================] - 3s 11ms/step - loss: 0.3089 - accuracy: 0.8863 - val_loss: 0.2696 - val_accuracy: 0.9035\n",
            "\n",
            "\n",
            "epoch 42, Learning Rate 0.012832580544107037, Batch Size  210 \n",
            "\n",
            "Epoch 00001: LearningRateScheduler reducing learning rate to 0.008731525334785696.\n",
            "286/286 [==============================] - 3s 10ms/step - loss: 0.3002 - accuracy: 0.8880 - val_loss: 0.2723 - val_accuracy: 0.8991\n",
            "\n",
            "\n",
            "epoch 43, Learning Rate 0.0008200165189926759, Batch Size  215 \n",
            "\n",
            "Epoch 00001: LearningRateScheduler reducing learning rate to 0.009.\n",
            "280/280 [==============================] - 3s 10ms/step - loss: 0.3092 - accuracy: 0.8868 - val_loss: 0.2660 - val_accuracy: 0.9063\n",
            "\n",
            "\n",
            "epoch 44, Learning Rate 0.008822234167223433, Batch Size  220 \n",
            "\n",
            "Epoch 00001: LearningRateScheduler reducing learning rate to 0.009.\n",
            "273/273 [==============================] - 3s 10ms/step - loss: 0.3051 - accuracy: 0.8877 - val_loss: 0.2737 - val_accuracy: 0.9029\n",
            "\n",
            "\n",
            "epoch 45, Learning Rate 0.00273462478239232, Batch Size  225 \n",
            "\n",
            "Epoch 00001: LearningRateScheduler reducing learning rate to 0.009.\n",
            "267/267 [==============================] - 3s 10ms/step - loss: 0.3022 - accuracy: 0.8880 - val_loss: 0.2637 - val_accuracy: 0.9061\n",
            "\n",
            "\n",
            "epoch 46, Learning Rate 0.016792271424070283, Batch Size  230 \n",
            "\n",
            "Epoch 00001: LearningRateScheduler reducing learning rate to 0.009.\n",
            "261/261 [==============================] - 3s 11ms/step - loss: 0.2983 - accuracy: 0.8893 - val_loss: 0.2632 - val_accuracy: 0.9074\n",
            "\n",
            "\n",
            "epoch 47, Learning Rate 0.02092162426582348, Batch Size  235 \n",
            "\n",
            "Epoch 00001: LearningRateScheduler reducing learning rate to 0.009.\n",
            "256/256 [==============================] - 3s 11ms/step - loss: 0.2970 - accuracy: 0.8897 - val_loss: 0.2595 - val_accuracy: 0.9077\n",
            "\n",
            "\n",
            "epoch 48, Learning Rate 0.006572262849071196, Batch Size  240 \n",
            "\n",
            "Epoch 00001: LearningRateScheduler reducing learning rate to 0.009.\n",
            "250/250 [==============================] - 3s 11ms/step - loss: 0.2980 - accuracy: 0.8898 - val_loss: 0.2628 - val_accuracy: 0.9090\n",
            "\n",
            "\n",
            "epoch 49, Learning Rate 0.005636855649255235, Batch Size  245 \n",
            "\n",
            "Epoch 00001: LearningRateScheduler reducing learning rate to 0.009.\n",
            "245/245 [==============================] - 3s 11ms/step - loss: 0.2943 - accuracy: 0.8907 - val_loss: 0.2639 - val_accuracy: 0.9061\n",
            "\n",
            "\n",
            "epoch 50, Learning Rate 0.012202986375375107, Batch Size  250 \n",
            "\n",
            "Epoch 00001: LearningRateScheduler reducing learning rate to 0.009.\n",
            "240/240 [==============================] - 3s 11ms/step - loss: 0.2897 - accuracy: 0.8919 - val_loss: 0.2735 - val_accuracy: 0.9035\n",
            "\n",
            "\n",
            "epoch 51, Learning Rate 0.005274027700208166, Batch Size  255 \n",
            "\n",
            "Epoch 00001: LearningRateScheduler reducing learning rate to 0.009.\n",
            "236/236 [==============================] - 3s 11ms/step - loss: 0.2923 - accuracy: 0.8910 - val_loss: 0.2655 - val_accuracy: 0.9011\n",
            "\n",
            "\n",
            "epoch 52, Learning Rate 0.011067081582269957, Batch Size  260 \n",
            "\n",
            "Epoch 00001: LearningRateScheduler reducing learning rate to 0.006817974642008601.\n",
            "231/231 [==============================] - 3s 11ms/step - loss: 0.2775 - accuracy: 0.8964 - val_loss: 0.2595 - val_accuracy: 0.9087\n",
            "\n",
            "\n",
            "epoch 53, Learning Rate 0.02434665796336505, Batch Size  265 \n",
            "\n",
            "Epoch 00001: LearningRateScheduler reducing learning rate to 0.009.\n",
            "227/227 [==============================] - 3s 12ms/step - loss: 0.2832 - accuracy: 0.8936 - val_loss: 0.2636 - val_accuracy: 0.9062\n",
            "\n",
            "\n",
            "epoch 54, Learning Rate 0.0018647694372981981, Batch Size  270 \n",
            "\n",
            "Epoch 00001: LearningRateScheduler reducing learning rate to 0.004182008634182045.\n",
            "223/223 [==============================] - 3s 12ms/step - loss: 0.2523 - accuracy: 0.9044 - val_loss: 0.2429 - val_accuracy: 0.9119\n",
            "\n",
            "\n",
            "epoch 55, Learning Rate 0.026037904550032152, Batch Size  275 \n",
            "\n",
            "Epoch 00001: LearningRateScheduler reducing learning rate to 0.009.\n",
            "219/219 [==============================] - 3s 12ms/step - loss: 0.2810 - accuracy: 0.8966 - val_loss: 0.2583 - val_accuracy: 0.9079\n",
            "\n",
            "\n",
            "epoch 56, Learning Rate 0.019089682031559543, Batch Size  280 \n",
            "\n",
            "Epoch 00001: LearningRateScheduler reducing learning rate to 0.006743526938848619.\n",
            "215/215 [==============================] - 3s 12ms/step - loss: 0.2679 - accuracy: 0.9008 - val_loss: 0.2503 - val_accuracy: 0.9109\n",
            "\n",
            "\n",
            "epoch 57, Learning Rate 0.0023898083492930075, Batch Size  285 \n",
            "\n",
            "Epoch 00001: LearningRateScheduler reducing learning rate to 0.007337073935154013.\n",
            "211/211 [==============================] - 3s 12ms/step - loss: 0.2642 - accuracy: 0.9007 - val_loss: 0.2557 - val_accuracy: 0.9081\n",
            "\n",
            "\n",
            "epoch 58, Learning Rate 0.01395074386483652, Batch Size  290 \n",
            "\n",
            "Epoch 00001: LearningRateScheduler reducing learning rate to 0.009.\n",
            "207/207 [==============================] - 3s 12ms/step - loss: 0.2804 - accuracy: 0.8969 - val_loss: 0.2651 - val_accuracy: 0.9057\n",
            "\n",
            "\n",
            "epoch 59, Learning Rate 0.018644558799241782, Batch Size  295 \n",
            "\n",
            "Epoch 00001: LearningRateScheduler reducing learning rate to 0.009.\n",
            "204/204 [==============================] - 3s 13ms/step - loss: 0.2757 - accuracy: 0.8972 - val_loss: 0.2640 - val_accuracy: 0.9066\n",
            "\n",
            "\n",
            "epoch 60, Learning Rate 0.014348661219566038, Batch Size  300 \n",
            "\n",
            "Epoch 00001: LearningRateScheduler reducing learning rate to 0.009.\n",
            "200/200 [==============================] - 3s 13ms/step - loss: 0.2787 - accuracy: 0.8953 - val_loss: 0.2629 - val_accuracy: 0.9085\n",
            "\n",
            "\n",
            "epoch 61, Learning Rate 0.007119636458344439, Batch Size  305 \n",
            "\n",
            "Epoch 00001: LearningRateScheduler reducing learning rate to 0.009.\n",
            "197/197 [==============================] - 3s 13ms/step - loss: 0.2773 - accuracy: 0.8978 - val_loss: 0.2611 - val_accuracy: 0.9043\n",
            "\n",
            "\n",
            "epoch 62, Learning Rate 0.0028695646338809237, Batch Size  310 \n",
            "\n",
            "Epoch 00001: LearningRateScheduler reducing learning rate to 0.009.\n",
            "194/194 [==============================] - 3s 13ms/step - loss: 0.2787 - accuracy: 0.8968 - val_loss: 0.2636 - val_accuracy: 0.9080\n",
            "\n",
            "\n",
            "epoch 63, Learning Rate 0.028132371411757607, Batch Size  315 \n",
            "\n",
            "Epoch 00001: LearningRateScheduler reducing learning rate to 0.009.\n",
            "191/191 [==============================] - 3s 13ms/step - loss: 0.2736 - accuracy: 0.8987 - val_loss: 0.2554 - val_accuracy: 0.9090\n",
            "\n",
            "\n",
            "epoch 64, Learning Rate 0.01106202928576699, Batch Size  320 \n",
            "\n",
            "Epoch 00001: LearningRateScheduler reducing learning rate to 0.009.\n",
            "188/188 [==============================] - 3s 13ms/step - loss: 0.2739 - accuracy: 0.8986 - val_loss: 0.2615 - val_accuracy: 0.9060\n",
            "\n",
            "\n",
            "epoch 65, Learning Rate 0.029276260129712055, Batch Size  325 \n",
            "\n",
            "Epoch 00001: LearningRateScheduler reducing learning rate to 0.00019578057814092942.\n",
            "185/185 [==============================] - 3s 14ms/step - loss: 0.2555 - accuracy: 0.9052 - val_loss: 0.2489 - val_accuracy: 0.9119\n",
            "\n",
            "\n",
            "epoch 66, Learning Rate 0.03270624956726778, Batch Size  330 \n",
            "\n",
            "Epoch 00001: LearningRateScheduler reducing learning rate to 0.009.\n",
            "182/182 [==============================] - 3s 14ms/step - loss: 0.2678 - accuracy: 0.9012 - val_loss: 0.2654 - val_accuracy: 0.9057\n",
            "\n",
            "\n",
            "epoch 67, Learning Rate 0.02986878168593455, Batch Size  335 \n",
            "\n",
            "Epoch 00001: LearningRateScheduler reducing learning rate to 0.0011996267998748782.\n",
            "180/180 [==============================] - 3s 14ms/step - loss: 0.2366 - accuracy: 0.9115 - val_loss: 0.2392 - val_accuracy: 0.9167\n",
            "\n",
            "\n",
            "epoch 68, Learning Rate 0.025591042151249428, Batch Size  340 \n",
            "\n",
            "Epoch 00001: LearningRateScheduler reducing learning rate to 0.004647728011765855.\n",
            "177/177 [==============================] - 3s 15ms/step - loss: 0.2363 - accuracy: 0.9115 - val_loss: 0.2420 - val_accuracy: 0.9152\n",
            "\n",
            "\n",
            "epoch 69, Learning Rate 0.02783481732565408, Batch Size  345 \n",
            "\n",
            "Epoch 00001: LearningRateScheduler reducing learning rate to 0.009.\n",
            "174/174 [==============================] - 3s 14ms/step - loss: 0.2612 - accuracy: 0.9023 - val_loss: 0.2586 - val_accuracy: 0.9103\n"
          ],
          "name": "stdout"
        }
      ]
    },
    {
      "cell_type": "code",
      "metadata": {
        "id": "rPvUYjMb-U51"
      },
      "source": [
        "acc_2 = acc\n",
        "val_acc_2 = val_acc"
      ],
      "execution_count": null,
      "outputs": []
    },
    {
      "cell_type": "code",
      "metadata": {
        "colab": {
          "base_uri": "https://localhost:8080/"
        },
        "id": "uuwQdGatvGjO",
        "outputId": "0ead5ab6-fddc-41a4-d8d0-622449b47adc"
      },
      "source": [
        "#Save these values in your jsonm\n",
        "record_Results(\"acc_2\",acc_2)\n",
        "record_Results(\"val_acc_2\",val_acc_2)"
      ],
      "execution_count": null,
      "outputs": [
        {
          "output_type": "stream",
          "text": [
            "Drive already mounted at /content/drive; to attempt to forcibly remount, call drive.mount(\"/content/drive\", force_remount=True).\n",
            "recorded\n",
            "Drive already mounted at /content/drive; to attempt to forcibly remount, call drive.mount(\"/content/drive\", force_remount=True).\n",
            "recorded\n"
          ],
          "name": "stdout"
        }
      ]
    },
    {
      "cell_type": "code",
      "metadata": {
        "colab": {
          "base_uri": "https://localhost:8080/"
        },
        "id": "VEwAoXIAvGjP",
        "outputId": "0b92ab75-5a8a-43bc-a0ca-dd7e4946d08d"
      },
      "source": [
        "#Get the saved results\n",
        "acc_2 = Get_Results(\"acc_2\")[\"acc_2\"]\n",
        "val_acc_2 = Get_Results(\"val_acc_2\")[\"val_acc_2\"]"
      ],
      "execution_count": null,
      "outputs": [
        {
          "output_type": "stream",
          "text": [
            "Drive already mounted at /content/drive; to attempt to forcibly remount, call drive.mount(\"/content/drive\", force_remount=True).\n",
            "Drive already mounted at /content/drive; to attempt to forcibly remount, call drive.mount(\"/content/drive\", force_remount=True).\n"
          ],
          "name": "stdout"
        }
      ]
    },
    {
      "cell_type": "code",
      "metadata": {
        "id": "46nEyb5Ohtsc",
        "colab": {
          "base_uri": "https://localhost:8080/"
        },
        "outputId": "d86985ca-5602-4934-9cb0-55187a7cc96a"
      },
      "source": [
        "Plotter(acc,val_acc,loss,val_loss,l_r)"
      ],
      "execution_count": null,
      "outputs": [
        {
          "output_type": "display_data",
          "data": {
            "image/png": "[encoded data removed]",
            "text/plain": [
              "<Figure size 432x288 with 1 Axes>"
            ]
          },
          "metadata": {
            "tags": [],
            "needs_background": "light"
          }
        },
        {
          "output_type": "display_data",
          "data": {
            "image/png": "[encoded data removed]",
            "text/plain": [
              "<Figure size 432x288 with 1 Axes>"
            ]
          },
          "metadata": {
            "tags": [],
            "needs_background": "light"
          }
        },
        {
          "output_type": "display_data",
          "data": {
            "image/png": "[encoded data removed]",
            "text/plain": [
              "<Figure size 432x288 with 1 Axes>"
            ]
          },
          "metadata": {
            "tags": [],
            "needs_background": "light"
          }
        }
      ]
    },
    {
      "cell_type": "markdown",
      "metadata": {
        "id": "LnLBA5jb03yH"
      },
      "source": [
        "**Keeping batch size constant**"
      ]
    },
    {
      "cell_type": "code",
      "metadata": {
        "colab": {
          "base_uri": "https://localhost:8080/"
        },
        "id": "0JBAWYbrKi3f",
        "outputId": "7895e7c8-f103-4fc0-96ad-48a809ad2bd1"
      },
      "source": [
        "initial_learning_rate = 0.009\n",
        "decay_steps=5\n",
        "decay_rate=0.5\n",
        "LR = []\n",
        "for i in range(51):\n",
        "  lr = initial_learning_rate * decay_rate **(i / decay_steps)\n",
        "  LR.append(lr)\n",
        "plt.plot(LR, label='LR')\n",
        "# plt.plot(history.history['val_loss'], label = 'val_loss')\n",
        "plt.xlabel('Epoch')\n",
        "plt.ylabel('LR')\n",
        "plt.legend(loc='lower right')\n",
        "plt.show()"
      ],
      "execution_count": null,
      "outputs": [
        {
          "output_type": "display_data",
          "data": {
            "image/png": "[encoded data removed]",
            "text/plain": [
              "<Figure size 432x288 with 1 Axes>"
            ]
          },
          "metadata": {
            "tags": [],
            "needs_background": "light"
          }
        }
      ]
    },
    {
      "cell_type": "code",
      "metadata": {
        "colab": {
          "base_uri": "https://localhost:8080/"
        },
        "id": "gdISDBFXEhCV",
        "outputId": "047dd8e2-d918-4c94-8b05-67b990af0455"
      },
      "source": [
        "from keras.callbacks import LearningRateScheduler\n",
        "model = fashion_model()\n",
        "# epoo = 1\n",
        "initial_learning_rate = 0.009\n",
        "decay_steps=5\n",
        "decay_rate=0.5\n",
        "LR = []\n",
        "def setLR(step):\n",
        "  global LR\n",
        "  lr = initial_learning_rate * decay_rate **(step / decay_steps)\n",
        "  LR.append(lr)\n",
        "  # print(\"called here\")\n",
        "  return lr\n",
        "\n",
        "call = [ LearningRateScheduler(setLR,verbose=1) ]\n",
        "\n",
        "history = model.fit(\n",
        "            train_images, train_labels, \n",
        "            validation_data=(test_images, test_labels),\n",
        "            epochs=epoo,\n",
        "            callbacks=call\n",
        "            )"
      ],
      "execution_count": null,
      "outputs": [
        {
          "output_type": "stream",
          "text": [
            "Epoch 1/70\n",
            "\n",
            "Epoch 00001: LearningRateScheduler reducing learning rate to 0.009.\n",
            "1875/1875 [==============================] - 6s 3ms/step - loss: 0.7632 - accuracy: 0.7190 - val_loss: 0.4290 - val_accuracy: 0.8421\n",
            "Epoch 2/70\n",
            "\n",
            "Epoch 00002: LearningRateScheduler reducing learning rate to 0.007834955069665117.\n",
            "1875/1875 [==============================] - 6s 3ms/step - loss: 0.5387 - accuracy: 0.8021 - val_loss: 0.4440 - val_accuracy: 0.8348\n",
            "Epoch 3/70\n",
            "\n",
            "Epoch 00003: LearningRateScheduler reducing learning rate to 0.006820724549296791.\n",
            "1875/1875 [==============================] - 6s 3ms/step - loss: 0.5042 - accuracy: 0.8148 - val_loss: 0.3683 - val_accuracy: 0.8614\n",
            "Epoch 4/70\n",
            "\n",
            "Epoch 00004: LearningRateScheduler reducing learning rate to 0.005937785598478023.\n",
            "1875/1875 [==============================] - 6s 3ms/step - loss: 0.4681 - accuracy: 0.8288 - val_loss: 0.3633 - val_accuracy: 0.8654\n",
            "Epoch 5/70\n",
            "\n",
            "Epoch 00005: LearningRateScheduler reducing learning rate to 0.005169142597486656.\n",
            "1875/1875 [==============================] - 6s 3ms/step - loss: 0.4532 - accuracy: 0.8315 - val_loss: 0.3488 - val_accuracy: 0.8720\n",
            "Epoch 6/70\n",
            "\n",
            "Epoch 00006: LearningRateScheduler reducing learning rate to 0.0045.\n",
            "1875/1875 [==============================] - 6s 3ms/step - loss: 0.4364 - accuracy: 0.8391 - val_loss: 0.3469 - val_accuracy: 0.8748\n",
            "Epoch 7/70\n",
            "\n",
            "Epoch 00007: LearningRateScheduler reducing learning rate to 0.003917477534832558.\n",
            "1875/1875 [==============================] - 6s 3ms/step - loss: 0.4190 - accuracy: 0.8445 - val_loss: 0.3384 - val_accuracy: 0.8778\n",
            "Epoch 8/70\n",
            "\n",
            "Epoch 00008: LearningRateScheduler reducing learning rate to 0.0034103622746483957.\n",
            "1875/1875 [==============================] - 6s 3ms/step - loss: 0.4033 - accuracy: 0.8487 - val_loss: 0.3416 - val_accuracy: 0.8758\n",
            "Epoch 9/70\n",
            "\n",
            "Epoch 00009: LearningRateScheduler reducing learning rate to 0.0029688927992390117.\n",
            "1875/1875 [==============================] - 6s 3ms/step - loss: 0.3989 - accuracy: 0.8527 - val_loss: 0.3300 - val_accuracy: 0.8835\n",
            "Epoch 10/70\n",
            "\n",
            "Epoch 00010: LearningRateScheduler reducing learning rate to 0.002584571298743328.\n",
            "1875/1875 [==============================] - 6s 3ms/step - loss: 0.3866 - accuracy: 0.8548 - val_loss: 0.3137 - val_accuracy: 0.8893\n",
            "Epoch 11/70\n",
            "\n",
            "Epoch 00011: LearningRateScheduler reducing learning rate to 0.00225.\n",
            "1875/1875 [==============================] - 6s 3ms/step - loss: 0.3805 - accuracy: 0.8564 - val_loss: 0.3215 - val_accuracy: 0.8832\n",
            "Epoch 12/70\n",
            "\n",
            "Epoch 00012: LearningRateScheduler reducing learning rate to 0.0019587387674162788.\n",
            "1875/1875 [==============================] - 6s 3ms/step - loss: 0.3815 - accuracy: 0.8573 - val_loss: 0.3086 - val_accuracy: 0.8898\n",
            "Epoch 13/70\n",
            "\n",
            "Epoch 00013: LearningRateScheduler reducing learning rate to 0.0017051811373241979.\n",
            "1875/1875 [==============================] - 6s 3ms/step - loss: 0.3710 - accuracy: 0.8618 - val_loss: 0.2967 - val_accuracy: 0.8934\n",
            "Epoch 14/70\n",
            "\n",
            "Epoch 00014: LearningRateScheduler reducing learning rate to 0.0014844463996195058.\n",
            "1875/1875 [==============================] - 6s 3ms/step - loss: 0.3618 - accuracy: 0.8675 - val_loss: 0.2961 - val_accuracy: 0.8955\n",
            "Epoch 15/70\n",
            "\n",
            "Epoch 00015: LearningRateScheduler reducing learning rate to 0.0012922856493716643.\n",
            "1875/1875 [==============================] - 6s 3ms/step - loss: 0.3551 - accuracy: 0.8685 - val_loss: 0.2997 - val_accuracy: 0.8936\n",
            "Epoch 16/70\n",
            "\n",
            "Epoch 00016: LearningRateScheduler reducing learning rate to 0.001125.\n",
            "1875/1875 [==============================] - 6s 3ms/step - loss: 0.3451 - accuracy: 0.8709 - val_loss: 0.2927 - val_accuracy: 0.8958\n",
            "Epoch 17/70\n",
            "\n",
            "Epoch 00017: LearningRateScheduler reducing learning rate to 0.0009793693837081394.\n",
            "1875/1875 [==============================] - 6s 3ms/step - loss: 0.3459 - accuracy: 0.8735 - val_loss: 0.2894 - val_accuracy: 0.8956\n",
            "Epoch 18/70\n",
            "\n",
            "Epoch 00018: LearningRateScheduler reducing learning rate to 0.0008525905686620989.\n",
            "1875/1875 [==============================] - 6s 3ms/step - loss: 0.3474 - accuracy: 0.8733 - val_loss: 0.2869 - val_accuracy: 0.8963\n",
            "Epoch 19/70\n",
            "\n",
            "Epoch 00019: LearningRateScheduler reducing learning rate to 0.0007422231998097529.\n",
            "1875/1875 [==============================] - 6s 3ms/step - loss: 0.3425 - accuracy: 0.8722 - val_loss: 0.2873 - val_accuracy: 0.8964\n",
            "Epoch 20/70\n",
            "\n",
            "Epoch 00020: LearningRateScheduler reducing learning rate to 0.0006461428246858322.\n",
            "1875/1875 [==============================] - 6s 3ms/step - loss: 0.3325 - accuracy: 0.8767 - val_loss: 0.2864 - val_accuracy: 0.8978\n",
            "Epoch 21/70\n",
            "\n",
            "Epoch 00021: LearningRateScheduler reducing learning rate to 0.0005625.\n",
            "1875/1875 [==============================] - 6s 3ms/step - loss: 0.3333 - accuracy: 0.8756 - val_loss: 0.2794 - val_accuracy: 0.9010\n",
            "Epoch 22/70\n",
            "\n",
            "Epoch 00022: LearningRateScheduler reducing learning rate to 0.0004896846918540697.\n",
            "1875/1875 [==============================] - 6s 3ms/step - loss: 0.3284 - accuracy: 0.8772 - val_loss: 0.2814 - val_accuracy: 0.8990\n",
            "Epoch 23/70\n",
            "\n",
            "Epoch 00023: LearningRateScheduler reducing learning rate to 0.00042629528433104936.\n",
            "1875/1875 [==============================] - 6s 3ms/step - loss: 0.3321 - accuracy: 0.8792 - val_loss: 0.2767 - val_accuracy: 0.9010\n",
            "Epoch 24/70\n",
            "\n",
            "Epoch 00024: LearningRateScheduler reducing learning rate to 0.00037111159990487657.\n",
            "1875/1875 [==============================] - 6s 3ms/step - loss: 0.3278 - accuracy: 0.8799 - val_loss: 0.2771 - val_accuracy: 0.9001\n",
            "Epoch 25/70\n",
            "\n",
            "Epoch 00025: LearningRateScheduler reducing learning rate to 0.0003230714123429161.\n",
            "1875/1875 [==============================] - 6s 3ms/step - loss: 0.3259 - accuracy: 0.8785 - val_loss: 0.2760 - val_accuracy: 0.9015\n",
            "Epoch 26/70\n",
            "\n",
            "Epoch 00026: LearningRateScheduler reducing learning rate to 0.00028125.\n",
            "1875/1875 [==============================] - 6s 3ms/step - loss: 0.3305 - accuracy: 0.8788 - val_loss: 0.2768 - val_accuracy: 0.9006\n",
            "Epoch 27/70\n",
            "\n",
            "Epoch 00027: LearningRateScheduler reducing learning rate to 0.00024484234592703485.\n",
            "1875/1875 [==============================] - 6s 3ms/step - loss: 0.3249 - accuracy: 0.8790 - val_loss: 0.2753 - val_accuracy: 0.9022\n",
            "Epoch 28/70\n",
            "\n",
            "Epoch 00028: LearningRateScheduler reducing learning rate to 0.00021314764216552468.\n",
            "1875/1875 [==============================] - 6s 3ms/step - loss: 0.3247 - accuracy: 0.8806 - val_loss: 0.2748 - val_accuracy: 0.9020\n",
            "Epoch 29/70\n",
            "\n",
            "Epoch 00029: LearningRateScheduler reducing learning rate to 0.00018555579995243828.\n",
            "1875/1875 [==============================] - 6s 3ms/step - loss: 0.3259 - accuracy: 0.8802 - val_loss: 0.2736 - val_accuracy: 0.9025\n",
            "Epoch 30/70\n",
            "\n",
            "Epoch 00030: LearningRateScheduler reducing learning rate to 0.00016153570617145804.\n",
            "1875/1875 [==============================] - 6s 3ms/step - loss: 0.3212 - accuracy: 0.8809 - val_loss: 0.2732 - val_accuracy: 0.9029\n",
            "Epoch 31/70\n",
            "\n",
            "Epoch 00031: LearningRateScheduler reducing learning rate to 0.000140625.\n",
            "1875/1875 [==============================] - 6s 3ms/step - loss: 0.3235 - accuracy: 0.8789 - val_loss: 0.2723 - val_accuracy: 0.9020\n",
            "Epoch 32/70\n",
            "\n",
            "Epoch 00032: LearningRateScheduler reducing learning rate to 0.00012242117296351742.\n",
            "1875/1875 [==============================] - 6s 3ms/step - loss: 0.3268 - accuracy: 0.8816 - val_loss: 0.2753 - val_accuracy: 0.9014\n",
            "Epoch 33/70\n",
            "\n",
            "Epoch 00033: LearningRateScheduler reducing learning rate to 0.00010657382108276234.\n",
            "1875/1875 [==============================] - 6s 3ms/step - loss: 0.3213 - accuracy: 0.8819 - val_loss: 0.2724 - val_accuracy: 0.9031\n",
            "Epoch 34/70\n",
            "\n",
            "Epoch 00034: LearningRateScheduler reducing learning rate to 9.277789997621914e-05.\n",
            "1875/1875 [==============================] - 6s 3ms/step - loss: 0.3197 - accuracy: 0.8809 - val_loss: 0.2713 - val_accuracy: 0.9031\n",
            "Epoch 35/70\n",
            "\n",
            "Epoch 00035: LearningRateScheduler reducing learning rate to 8.076785308572902e-05.\n",
            "1875/1875 [==============================] - 6s 3ms/step - loss: 0.3201 - accuracy: 0.8819 - val_loss: 0.2728 - val_accuracy: 0.9016\n",
            "Epoch 36/70\n",
            "\n",
            "Epoch 00036: LearningRateScheduler reducing learning rate to 7.03125e-05.\n",
            "1875/1875 [==============================] - 6s 3ms/step - loss: 0.3217 - accuracy: 0.8824 - val_loss: 0.2713 - val_accuracy: 0.9036\n",
            "Epoch 37/70\n",
            "\n",
            "Epoch 00037: LearningRateScheduler reducing learning rate to 6.121058648175871e-05.\n",
            "1875/1875 [==============================] - 6s 3ms/step - loss: 0.3212 - accuracy: 0.8814 - val_loss: 0.2728 - val_accuracy: 0.9020\n",
            "Epoch 38/70\n",
            "\n",
            "Epoch 00038: LearningRateScheduler reducing learning rate to 5.328691054138117e-05.\n",
            "1875/1875 [==============================] - 6s 3ms/step - loss: 0.3169 - accuracy: 0.8840 - val_loss: 0.2726 - val_accuracy: 0.9010\n",
            "Epoch 39/70\n",
            "\n",
            "Epoch 00039: LearningRateScheduler reducing learning rate to 4.638894998810957e-05.\n",
            "1875/1875 [==============================] - 6s 3ms/step - loss: 0.3252 - accuracy: 0.8814 - val_loss: 0.2714 - val_accuracy: 0.9034\n",
            "Epoch 40/70\n",
            "\n",
            "Epoch 00040: LearningRateScheduler reducing learning rate to 4.038392654286451e-05.\n",
            "1875/1875 [==============================] - 6s 3ms/step - loss: 0.3176 - accuracy: 0.8812 - val_loss: 0.2724 - val_accuracy: 0.9018\n",
            "Epoch 41/70\n",
            "\n",
            "Epoch 00041: LearningRateScheduler reducing learning rate to 3.515625e-05.\n",
            "1875/1875 [==============================] - 6s 3ms/step - loss: 0.3224 - accuracy: 0.8812 - val_loss: 0.2706 - val_accuracy: 0.9033\n",
            "Epoch 42/70\n",
            "\n",
            "Epoch 00042: LearningRateScheduler reducing learning rate to 3.0605293240879376e-05.\n",
            "1875/1875 [==============================] - 6s 3ms/step - loss: 0.3179 - accuracy: 0.8833 - val_loss: 0.2711 - val_accuracy: 0.9027\n",
            "Epoch 43/70\n",
            "\n",
            "Epoch 00043: LearningRateScheduler reducing learning rate to 2.6643455270690585e-05.\n",
            "1875/1875 [==============================] - 6s 3ms/step - loss: 0.3159 - accuracy: 0.8813 - val_loss: 0.2717 - val_accuracy: 0.9014\n",
            "Epoch 44/70\n",
            "\n",
            "Epoch 00044: LearningRateScheduler reducing learning rate to 2.3194474994054785e-05.\n",
            "1875/1875 [==============================] - 6s 3ms/step - loss: 0.3159 - accuracy: 0.8827 - val_loss: 0.2711 - val_accuracy: 0.9036\n",
            "Epoch 45/70\n",
            "\n",
            "Epoch 00045: LearningRateScheduler reducing learning rate to 2.0191963271432245e-05.\n",
            "1875/1875 [==============================] - 6s 3ms/step - loss: 0.3180 - accuracy: 0.8833 - val_loss: 0.2712 - val_accuracy: 0.9031\n",
            "Epoch 46/70\n",
            "\n",
            "Epoch 00046: LearningRateScheduler reducing learning rate to 1.7578125e-05.\n",
            "1875/1875 [==============================] - 6s 3ms/step - loss: 0.3155 - accuracy: 0.8820 - val_loss: 0.2708 - val_accuracy: 0.9035\n",
            "Epoch 47/70\n",
            "\n",
            "Epoch 00047: LearningRateScheduler reducing learning rate to 1.5302646620439688e-05.\n",
            "1875/1875 [==============================] - 6s 3ms/step - loss: 0.3212 - accuracy: 0.8794 - val_loss: 0.2713 - val_accuracy: 0.9032\n",
            "Epoch 48/70\n",
            "\n",
            "Epoch 00048: LearningRateScheduler reducing learning rate to 1.3321727635345292e-05.\n",
            "1875/1875 [==============================] - 6s 3ms/step - loss: 0.3176 - accuracy: 0.8841 - val_loss: 0.2701 - val_accuracy: 0.9036\n",
            "Epoch 49/70\n",
            "\n",
            "Epoch 00049: LearningRateScheduler reducing learning rate to 1.1597237497027393e-05.\n",
            "1875/1875 [==============================] - 6s 3ms/step - loss: 0.3185 - accuracy: 0.8828 - val_loss: 0.2705 - val_accuracy: 0.9040\n",
            "Epoch 50/70\n",
            "\n",
            "Epoch 00050: LearningRateScheduler reducing learning rate to 1.0095981635716122e-05.\n",
            "1875/1875 [==============================] - 6s 3ms/step - loss: 0.3177 - accuracy: 0.8821 - val_loss: 0.2702 - val_accuracy: 0.9033\n",
            "Epoch 51/70\n",
            "\n",
            "Epoch 00051: LearningRateScheduler reducing learning rate to 8.7890625e-06.\n",
            "1875/1875 [==============================] - 6s 3ms/step - loss: 0.3203 - accuracy: 0.8840 - val_loss: 0.2703 - val_accuracy: 0.9033\n",
            "Epoch 52/70\n",
            "\n",
            "Epoch 00052: LearningRateScheduler reducing learning rate to 7.651323310219844e-06.\n",
            "1875/1875 [==============================] - 6s 3ms/step - loss: 0.3220 - accuracy: 0.8822 - val_loss: 0.2707 - val_accuracy: 0.9041\n",
            "Epoch 53/70\n",
            "\n",
            "Epoch 00053: LearningRateScheduler reducing learning rate to 6.660863817672646e-06.\n",
            "1875/1875 [==============================] - 6s 3ms/step - loss: 0.3168 - accuracy: 0.8831 - val_loss: 0.2706 - val_accuracy: 0.9041\n",
            "Epoch 54/70\n",
            "\n",
            "Epoch 00054: LearningRateScheduler reducing learning rate to 5.798618748513696e-06.\n",
            "1875/1875 [==============================] - 6s 3ms/step - loss: 0.3161 - accuracy: 0.8823 - val_loss: 0.2705 - val_accuracy: 0.9036\n",
            "Epoch 55/70\n",
            "\n",
            "Epoch 00055: LearningRateScheduler reducing learning rate to 5.047990817858061e-06.\n",
            "1875/1875 [==============================] - 6s 3ms/step - loss: 0.3127 - accuracy: 0.8834 - val_loss: 0.2705 - val_accuracy: 0.9034\n",
            "Epoch 56/70\n",
            "\n",
            "Epoch 00056: LearningRateScheduler reducing learning rate to 4.39453125e-06.\n",
            "1875/1875 [==============================] - 6s 3ms/step - loss: 0.3166 - accuracy: 0.8852 - val_loss: 0.2707 - val_accuracy: 0.9038\n",
            "Epoch 57/70\n",
            "\n",
            "Epoch 00057: LearningRateScheduler reducing learning rate to 3.825661655109922e-06.\n",
            "1875/1875 [==============================] - 6s 3ms/step - loss: 0.3141 - accuracy: 0.8842 - val_loss: 0.2709 - val_accuracy: 0.9032\n",
            "Epoch 58/70\n",
            "\n",
            "Epoch 00058: LearningRateScheduler reducing learning rate to 3.330431908836323e-06.\n",
            "1875/1875 [==============================] - 6s 3ms/step - loss: 0.3199 - accuracy: 0.8814 - val_loss: 0.2705 - val_accuracy: 0.9037\n",
            "Epoch 59/70\n",
            "\n",
            "Epoch 00059: LearningRateScheduler reducing learning rate to 2.899309374256848e-06.\n",
            "1875/1875 [==============================] - 6s 3ms/step - loss: 0.3170 - accuracy: 0.8822 - val_loss: 0.2705 - val_accuracy: 0.9037\n",
            "Epoch 60/70\n",
            "\n",
            "Epoch 00060: LearningRateScheduler reducing learning rate to 2.5239954089290306e-06.\n",
            "1875/1875 [==============================] - 6s 3ms/step - loss: 0.3149 - accuracy: 0.8831 - val_loss: 0.2703 - val_accuracy: 0.9030\n",
            "Epoch 61/70\n",
            "\n",
            "Epoch 00061: LearningRateScheduler reducing learning rate to 2.197265625e-06.\n",
            "1875/1875 [==============================] - 6s 3ms/step - loss: 0.3112 - accuracy: 0.8844 - val_loss: 0.2706 - val_accuracy: 0.9034\n",
            "Epoch 62/70\n",
            "\n",
            "Epoch 00062: LearningRateScheduler reducing learning rate to 1.912830827554961e-06.\n",
            "1875/1875 [==============================] - 6s 3ms/step - loss: 0.3141 - accuracy: 0.8854 - val_loss: 0.2705 - val_accuracy: 0.9035\n",
            "Epoch 63/70\n",
            "\n",
            "Epoch 00063: LearningRateScheduler reducing learning rate to 1.6652159544181615e-06.\n",
            "1875/1875 [==============================] - 6s 3ms/step - loss: 0.3216 - accuracy: 0.8823 - val_loss: 0.2705 - val_accuracy: 0.9037\n",
            "Epoch 64/70\n",
            "\n",
            "Epoch 00064: LearningRateScheduler reducing learning rate to 1.449654687128424e-06.\n",
            "1875/1875 [==============================] - 6s 3ms/step - loss: 0.3145 - accuracy: 0.8832 - val_loss: 0.2705 - val_accuracy: 0.9036\n",
            "Epoch 65/70\n",
            "\n",
            "Epoch 00065: LearningRateScheduler reducing learning rate to 1.2619977044645153e-06.\n",
            "1875/1875 [==============================] - 6s 3ms/step - loss: 0.3180 - accuracy: 0.8817 - val_loss: 0.2704 - val_accuracy: 0.9029\n",
            "Epoch 66/70\n",
            "\n",
            "Epoch 00066: LearningRateScheduler reducing learning rate to 1.0986328125e-06.\n",
            "1875/1875 [==============================] - 6s 3ms/step - loss: 0.3208 - accuracy: 0.8820 - val_loss: 0.2704 - val_accuracy: 0.9030\n",
            "Epoch 67/70\n",
            "\n",
            "Epoch 00067: LearningRateScheduler reducing learning rate to 9.564154137774805e-07.\n",
            "1875/1875 [==============================] - 6s 3ms/step - loss: 0.3197 - accuracy: 0.8811 - val_loss: 0.2704 - val_accuracy: 0.9032\n",
            "Epoch 68/70\n",
            "\n",
            "Epoch 00068: LearningRateScheduler reducing learning rate to 8.326079772090808e-07.\n",
            "1875/1875 [==============================] - 6s 3ms/step - loss: 0.3206 - accuracy: 0.8815 - val_loss: 0.2705 - val_accuracy: 0.9032\n",
            "Epoch 69/70\n",
            "\n",
            "Epoch 00069: LearningRateScheduler reducing learning rate to 7.24827343564212e-07.\n",
            "1875/1875 [==============================] - 6s 3ms/step - loss: 0.3129 - accuracy: 0.8845 - val_loss: 0.2705 - val_accuracy: 0.9031\n",
            "Epoch 70/70\n",
            "\n",
            "Epoch 00070: LearningRateScheduler reducing learning rate to 6.309988522322576e-07.\n",
            "1875/1875 [==============================] - 6s 3ms/step - loss: 0.3222 - accuracy: 0.8805 - val_loss: 0.2705 - val_accuracy: 0.9032\n"
          ],
          "name": "stdout"
        }
      ]
    },
    {
      "cell_type": "code",
      "metadata": {
        "id": "V1OVPe1DGChz"
      },
      "source": [
        "\n",
        "acc = []\n",
        "val_acc = []\n",
        "loss = []\n",
        "val_loss = []\n",
        "\n",
        "acc.append(history.history['accuracy'])\n",
        "val_acc.append(history.history['val_accuracy'])\n",
        "loss.append(history.history['loss'])\n",
        "val_loss.append(history.history['val_loss'])"
      ],
      "execution_count": null,
      "outputs": []
    },
    {
      "cell_type": "code",
      "metadata": {
        "id": "QfKKgrkM0x0n",
        "cellView": "form"
      },
      "source": [
        "#@title\n",
        "\n",
        "# model = fashion_model()\n",
        "\n",
        "# from keras.callbacks import LearningRateScheduler\n",
        "\n",
        "# LR = 0.01\n",
        "# epoch = 1\n",
        "# batch_size = 100\n",
        "\n",
        "# val_acc = []\n",
        "# acc = []\n",
        "# val_loss = []\n",
        "# loss = []\n",
        "# l_r = []\n",
        "# for z,batch_size in zip(range(1,50),range(5,10000,5)):\n",
        "\n",
        "#   LR = (batch_size)/(((z+1)**(3/2))*80)\n",
        "#   LR=LR/8\n",
        "\n",
        "#   print(\"\\n\\nepoch {z}, Learning Rate {LR}, Batch Size  {batch_size} \"\n",
        "#                     .format(z=z,LR=LR,batch_size=batch_size))\n",
        "\n",
        "#   def set_LR(epoch,lr):\n",
        "#     global LR\n",
        "#     global l_r\n",
        "#     l_r.append(LR)\n",
        "#     return LR\n",
        "\n",
        "#   call = [ LearningRateScheduler(set_LR,verbose=1) ]\n",
        "\n",
        "#   history = model.fit(\n",
        "#             train_images, train_labels, \n",
        "#             validation_data=(test_images, test_labels),\n",
        "#             epochs=epoch,\n",
        "#             # batch_size=batch_size,\n",
        "#             callbacks=call\n",
        "#             )\n",
        "\n",
        "\n",
        "\n",
        "#   acc.append(history.history['accuracy'])\n",
        "#   val_acc.append(history.history['val_accuracy'])\n",
        "#   loss.append(history.history['loss'])\n",
        "#   val_loss.append(history.history['val_loss'])"
      ],
      "execution_count": null,
      "outputs": []
    },
    {
      "cell_type": "code",
      "metadata": {
        "id": "WKmPKTOI-ZSx"
      },
      "source": [
        "acc_3 = acc[0]\n",
        "val_acc_3 = val_acc[0]\n",
        "\n",
        "# acc_3"
      ],
      "execution_count": null,
      "outputs": []
    },
    {
      "cell_type": "code",
      "metadata": {
        "colab": {
          "base_uri": "https://localhost:8080/"
        },
        "id": "zQCEuvYzvJIn",
        "outputId": "9dcd8651-60f9-4203-999e-221aad082274"
      },
      "source": [
        "#Save these values in your jsonm\n",
        "record_Results(\"acc_3\",acc_3)\n",
        "record_Results(\"val_acc_3\",val_acc_3)"
      ],
      "execution_count": null,
      "outputs": [
        {
          "output_type": "stream",
          "text": [
            "Drive already mounted at /content/drive; to attempt to forcibly remount, call drive.mount(\"/content/drive\", force_remount=True).\n",
            "recorded\n",
            "Drive already mounted at /content/drive; to attempt to forcibly remount, call drive.mount(\"/content/drive\", force_remount=True).\n",
            "recorded\n"
          ],
          "name": "stdout"
        }
      ]
    },
    {
      "cell_type": "code",
      "metadata": {
        "colab": {
          "base_uri": "https://localhost:8080/"
        },
        "id": "TAdFp4TmvJIo",
        "outputId": "dfc192bb-b52e-4d6c-f344-c2c438d86499"
      },
      "source": [
        "#Get the saved results\n",
        "acc_3 = Get_Results(\"acc_3\")[\"acc_3\"]\n",
        "val_acc_3 = Get_Results(\"val_acc_3\")[\"val_acc_3\"]"
      ],
      "execution_count": null,
      "outputs": [
        {
          "output_type": "stream",
          "text": [
            "Drive already mounted at /content/drive; to attempt to forcibly remount, call drive.mount(\"/content/drive\", force_remount=True).\n",
            "Drive already mounted at /content/drive; to attempt to forcibly remount, call drive.mount(\"/content/drive\", force_remount=True).\n"
          ],
          "name": "stdout"
        }
      ]
    },
    {
      "cell_type": "code",
      "metadata": {
        "id": "sMhOsVmX02Jn",
        "colab": {
          "base_uri": "https://localhost:8080/",
          "height": 820
        },
        "outputId": "f0e1ad91-5468-444e-b081-5b8d4011678f"
      },
      "source": [
        "plt.plot(acc_3, label='accuracy')\n",
        "plt.plot(val_acc_3, label = 'val_accuracy')\n",
        "plt.xlabel('Epoch')\n",
        "plt.ylabel('Accuracy')\n",
        "plt.legend(loc='lower right')\n",
        "plt.show()\n",
        "\n",
        "test_loss, test_acc = model.evaluate(test_images,  test_labels, verbose=2)\n",
        "\n",
        "plt.plot(history.history['loss'], label='loss')\n",
        "plt.plot(history.history['val_loss'], label = 'val_loss')\n",
        "plt.xlabel('Epoch')\n",
        "plt.ylabel('loss')\n",
        "plt.legend(loc='lower right')\n",
        "plt.show()\n",
        "\n",
        "\n",
        "plt.plot(LR, label='LR')\n",
        "# plt.plot(history.history['val_loss'], label = 'val_loss')\n",
        "plt.xlabel('Epoch')\n",
        "plt.ylabel('LR')\n",
        "plt.legend(loc='lower right')\n",
        "plt.show()"
      ],
      "execution_count": null,
      "outputs": [
        {
          "output_type": "display_data",
          "data": {
            "image/png": "[encoded data removed]",
            "text/plain": [
              "<Figure size 432x288 with 1 Axes>"
            ]
          },
          "metadata": {
            "tags": [],
            "needs_background": "light"
          }
        },
        {
          "output_type": "stream",
          "text": [
            "313/313 - 0s - loss: 0.2705 - accuracy: 0.9032\n"
          ],
          "name": "stdout"
        },
        {
          "output_type": "display_data",
          "data": {
            "image/png": "[encoded data removed]",
            "text/plain": [
              "<Figure size 432x288 with 1 Axes>"
            ]
          },
          "metadata": {
            "tags": [],
            "needs_background": "light"
          }
        },
        {
          "output_type": "display_data",
          "data": {
            "image/png": "[encoded data removed]",
            "text/plain": [
              "<Figure size 432x288 with 1 Axes>"
            ]
          },
          "metadata": {
            "tags": [],
            "needs_background": "light"
          }
        }
      ]
    },
    {
      "cell_type": "markdown",
      "metadata": {
        "id": "DlJErWV1HG06"
      },
      "source": [
        "**LR constant**"
      ]
    },
    {
      "cell_type": "code",
      "metadata": {
        "colab": {
          "base_uri": "https://localhost:8080/"
        },
        "id": "RSS4isyhHHK_",
        "outputId": "be951f05-a533-49a7-a4c3-a6f69b60fc90"
      },
      "source": [
        "model = fashion_model()\n",
        "\n",
        "from keras.callbacks import LearningRateScheduler\n",
        "\n",
        "LR = 0.01\n",
        "epoch = 1\n",
        "batch_size = 100\n",
        "\n",
        "val_acc = []\n",
        "acc = []\n",
        "val_loss = []\n",
        "loss = []\n",
        "l_r = []\n",
        "for z,batch_size in zip(range(1,epoo+1),range(5,10000,5)):\n",
        "\n",
        "  LR = (batch_size)/(((z+1)**(3/2))*80)\n",
        "  LR=LR/8\n",
        "\n",
        "  print(\"\\n\\nepoch {z}, Learning Rate {LR}, Batch Size  {batch_size} \"\n",
        "                    .format(z=z,LR=LR,batch_size=batch_size))\n",
        "\n",
        "  def set_LR(epoch,lr):\n",
        "    global LR\n",
        "    global l_r\n",
        "    l_r.append(LR)\n",
        "    return LR\n",
        "\n",
        "  call = [ LearningRateScheduler(set_LR,verbose=1) ]\n",
        "\n",
        "  history = model.fit(\n",
        "            train_images, train_labels, \n",
        "            validation_data=(test_images, test_labels),\n",
        "            epochs=epoch,\n",
        "            batch_size=batch_size,\n",
        "            # callbacks=call\n",
        "            )\n",
        "\n",
        "\n",
        "\n",
        "  acc.append(history.history['accuracy'])\n",
        "  val_acc.append(history.history['val_accuracy'])\n",
        "  loss.append(history.history['loss'])\n",
        "  val_loss.append(history.history['val_loss'])"
      ],
      "execution_count": null,
      "outputs": [
        {
          "output_type": "stream",
          "text": [
            "\n",
            "\n",
            "epoch 1, Learning Rate 0.002762135864009951, Batch Size  5 \n",
            "12000/12000 [==============================] - 32s 3ms/step - loss: 0.6513 - accuracy: 0.7583 - val_loss: 0.3420 - val_accuracy: 0.8722\n",
            "\n",
            "\n",
            "epoch 2, Learning Rate 0.003007032652029301, Batch Size  10 \n",
            "6000/6000 [==============================] - 20s 3ms/step - loss: 0.3583 - accuracy: 0.8693 - val_loss: 0.3114 - val_accuracy: 0.8833\n",
            "\n",
            "\n",
            "epoch 3, Learning Rate 0.0029296875, Batch Size  15 \n",
            "4000/4000 [==============================] - 16s 4ms/step - loss: 0.3246 - accuracy: 0.8811 - val_loss: 0.2838 - val_accuracy: 0.8957\n",
            "\n",
            "\n",
            "epoch 4, Learning Rate 0.002795084971874737, Batch Size  20 \n",
            "3000/3000 [==============================] - 13s 4ms/step - loss: 0.3034 - accuracy: 0.8894 - val_loss: 0.2670 - val_accuracy: 0.9007\n",
            "\n",
            "\n",
            "epoch 5, Learning Rate 0.0026578664743741078, Batch Size  25 \n",
            "2400/2400 [==============================] - 11s 5ms/step - loss: 0.2855 - accuracy: 0.8932 - val_loss: 0.2711 - val_accuracy: 0.9002\n",
            "\n",
            "\n",
            "epoch 6, Learning Rate 0.0025310120960439324, Batch Size  30 \n",
            "2000/2000 [==============================] - 8s 4ms/step - loss: 0.2732 - accuracy: 0.8967 - val_loss: 0.2523 - val_accuracy: 0.9085\n",
            "\n",
            "\n",
            "epoch 7, Learning Rate 0.0024168688810087074, Batch Size  35 \n",
            "1715/1715 [==============================] - 8s 5ms/step - loss: 0.2684 - accuracy: 0.9013 - val_loss: 0.2441 - val_accuracy: 0.9095\n",
            "\n",
            "\n",
            "epoch 8, Learning Rate 0.0023148148148148147, Batch Size  40 \n",
            "1500/1500 [==============================] - 7s 5ms/step - loss: 0.2586 - accuracy: 0.9034 - val_loss: 0.2428 - val_accuracy: 0.9140\n",
            "\n",
            "\n",
            "epoch 9, Learning Rate 0.002223476479805892, Batch Size  45 \n",
            "1334/1334 [==============================] - 6s 5ms/step - loss: 0.2522 - accuracy: 0.9056 - val_loss: 0.2394 - val_accuracy: 0.9142\n",
            "\n",
            "\n",
            "epoch 10, Learning Rate 0.0021414157995579804, Batch Size  50 \n",
            "1200/1200 [==============================] - 5s 4ms/step - loss: 0.2444 - accuracy: 0.9090 - val_loss: 0.2331 - val_accuracy: 0.9169\n",
            "\n",
            "\n",
            "epoch 11, Learning Rate 0.0020673349482701444, Batch Size  55 \n",
            "1091/1091 [==============================] - 5s 5ms/step - loss: 0.2394 - accuracy: 0.9115 - val_loss: 0.2344 - val_accuracy: 0.9155\n",
            "\n",
            "\n",
            "epoch 12, Learning Rate 0.0020001208998505857, Batch Size  60 \n",
            "1000/1000 [==============================] - 5s 5ms/step - loss: 0.2336 - accuracy: 0.9121 - val_loss: 0.2295 - val_accuracy: 0.9178\n",
            "\n",
            "\n",
            "epoch 13, Learning Rate 0.0019388371344093286, Batch Size  65 \n",
            "924/924 [==============================] - 5s 5ms/step - loss: 0.2271 - accuracy: 0.9148 - val_loss: 0.2264 - val_accuracy: 0.9185\n",
            "\n",
            "\n",
            "epoch 14, Learning Rate 0.0018827002377397163, Batch Size  70 \n",
            "858/858 [==============================] - 4s 5ms/step - loss: 0.2270 - accuracy: 0.9158 - val_loss: 0.2276 - val_accuracy: 0.9189\n",
            "\n",
            "\n",
            "epoch 15, Learning Rate 0.0018310546875, Batch Size  75 \n",
            "800/800 [==============================] - 4s 5ms/step - loss: 0.2250 - accuracy: 0.9158 - val_loss: 0.2248 - val_accuracy: 0.9217\n",
            "\n",
            "\n",
            "epoch 16, Learning Rate 0.0017833501840906836, Batch Size  80 \n",
            "750/750 [==============================] - 4s 5ms/step - loss: 0.2198 - accuracy: 0.9179 - val_loss: 0.2253 - val_accuracy: 0.9214\n",
            "\n",
            "\n",
            "epoch 17, Learning Rate 0.0017391225810433025, Batch Size  85 \n",
            "706/706 [==============================] - 4s 5ms/step - loss: 0.2137 - accuracy: 0.9182 - val_loss: 0.2245 - val_accuracy: 0.9215\n",
            "\n",
            "\n",
            "epoch 18, Learning Rate 0.0016979782934498815, Batch Size  90 \n",
            "667/667 [==============================] - 4s 5ms/step - loss: 0.2103 - accuracy: 0.9211 - val_loss: 0.2210 - val_accuracy: 0.9232\n",
            "\n",
            "\n",
            "epoch 19, Learning Rate 0.0016595817020506251, Batch Size  95 \n",
            "632/632 [==============================] - 3s 5ms/step - loss: 0.2109 - accuracy: 0.9208 - val_loss: 0.2218 - val_accuracy: 0.9193\n",
            "\n",
            "\n",
            "epoch 20, Learning Rate 0.0016236450166368479, Batch Size  100 \n",
            "600/600 [==============================] - 3s 6ms/step - loss: 0.2071 - accuracy: 0.9220 - val_loss: 0.2218 - val_accuracy: 0.9229\n",
            "\n",
            "\n",
            "epoch 21, Learning Rate 0.0015899201148678337, Batch Size  105 \n",
            "572/572 [==============================] - 3s 6ms/step - loss: 0.2032 - accuracy: 0.9244 - val_loss: 0.2174 - val_accuracy: 0.9221\n",
            "\n",
            "\n",
            "epoch 22, Learning Rate 0.001558191952872162, Batch Size  110 \n",
            "546/546 [==============================] - 3s 6ms/step - loss: 0.2025 - accuracy: 0.9230 - val_loss: 0.2246 - val_accuracy: 0.9223\n",
            "\n",
            "\n",
            "epoch 23, Learning Rate 0.001528273222765112, Batch Size  115 \n",
            "522/522 [==============================] - 3s 7ms/step - loss: 0.1988 - accuracy: 0.9247 - val_loss: 0.2154 - val_accuracy: 0.9243\n",
            "\n",
            "\n",
            "epoch 24, Learning Rate 0.0015, Batch Size  120 \n",
            "500/500 [==============================] - 3s 7ms/step - loss: 0.2000 - accuracy: 0.9262 - val_loss: 0.2167 - val_accuracy: 0.9246\n",
            "\n",
            "\n",
            "epoch 25, Learning Rate 0.0014732281786221757, Batch Size  125 \n",
            "480/480 [==============================] - 3s 7ms/step - loss: 0.1942 - accuracy: 0.9286 - val_loss: 0.2152 - val_accuracy: 0.9265\n",
            "\n",
            "\n",
            "epoch 26, Learning Rate 0.0014478305361622559, Batch Size  130 \n",
            "462/462 [==============================] - 3s 7ms/step - loss: 0.1950 - accuracy: 0.9282 - val_loss: 0.2156 - val_accuracy: 0.9246\n",
            "\n",
            "\n",
            "epoch 27, Learning Rate 0.0014236943040247117, Batch Size  135 \n",
            "445/445 [==============================] - 3s 7ms/step - loss: 0.1925 - accuracy: 0.9285 - val_loss: 0.2141 - val_accuracy: 0.9258\n",
            "\n",
            "\n",
            "epoch 28, Learning Rate 0.0014007191457320722, Batch Size  140 \n",
            "429/429 [==============================] - 3s 8ms/step - loss: 0.1921 - accuracy: 0.9285 - val_loss: 0.2125 - val_accuracy: 0.9249\n",
            "\n",
            "\n",
            "epoch 29, Learning Rate 0.0013788154659418242, Batch Size  145 \n",
            "414/414 [==============================] - 3s 8ms/step - loss: 0.1879 - accuracy: 0.9293 - val_loss: 0.2106 - val_accuracy: 0.9269\n",
            "\n",
            "\n",
            "epoch 30, Learning Rate 0.0013579029891137217, Batch Size  150 \n",
            "400/400 [==============================] - 3s 8ms/step - loss: 0.1895 - accuracy: 0.9283 - val_loss: 0.2138 - val_accuracy: 0.9251\n",
            "\n",
            "\n",
            "epoch 31, Learning Rate 0.00133790955912982, Batch Size  155 \n",
            "388/388 [==============================] - 3s 8ms/step - loss: 0.1857 - accuracy: 0.9305 - val_loss: 0.2137 - val_accuracy: 0.9261\n",
            "\n",
            "\n",
            "epoch 32, Learning Rate 0.0013187701208764986, Batch Size  160 \n",
            "375/375 [==============================] - 3s 9ms/step - loss: 0.1829 - accuracy: 0.9300 - val_loss: 0.2115 - val_accuracy: 0.9270\n",
            "\n",
            "\n",
            "epoch 33, Learning Rate 0.0013004258524133253, Batch Size  165 \n",
            "364/364 [==============================] - 3s 9ms/step - loss: 0.1815 - accuracy: 0.9316 - val_loss: 0.2118 - val_accuracy: 0.9281\n",
            "\n",
            "\n",
            "epoch 34, Learning Rate 0.001282823422355784, Batch Size  170 \n",
            "353/353 [==============================] - 3s 9ms/step - loss: 0.1808 - accuracy: 0.9307 - val_loss: 0.2094 - val_accuracy: 0.9273\n",
            "\n",
            "\n",
            "epoch 35, Learning Rate 0.0012659143518518518, Batch Size  175 \n",
            "343/343 [==============================] - 3s 10ms/step - loss: 0.1813 - accuracy: 0.9320 - val_loss: 0.2106 - val_accuracy: 0.9270\n",
            "\n",
            "\n",
            "epoch 36, Learning Rate 0.0012496544643143715, Batch Size  180 \n",
            "334/334 [==============================] - 3s 10ms/step - loss: 0.1779 - accuracy: 0.9319 - val_loss: 0.2110 - val_accuracy: 0.9289\n",
            "\n",
            "\n",
            "epoch 37, Learning Rate 0.0012340034090950276, Batch Size  185 \n",
            "325/325 [==============================] - 3s 10ms/step - loss: 0.1762 - accuracy: 0.9337 - val_loss: 0.2103 - val_accuracy: 0.9271\n",
            "\n",
            "\n",
            "epoch 38, Learning Rate 0.0012189242477150062, Batch Size  190 \n",
            "316/316 [==============================] - 3s 10ms/step - loss: 0.1746 - accuracy: 0.9347 - val_loss: 0.2108 - val_accuracy: 0.9278\n",
            "\n",
            "\n",
            "epoch 39, Learning Rate 0.0012043830932281915, Batch Size  195 \n",
            "308/308 [==============================] - 3s 10ms/step - loss: 0.1769 - accuracy: 0.9334 - val_loss: 0.2103 - val_accuracy: 0.9269\n",
            "\n",
            "\n",
            "epoch 40, Learning Rate 0.0011903487948826683, Batch Size  200 \n",
            "300/300 [==============================] - 3s 11ms/step - loss: 0.1748 - accuracy: 0.9334 - val_loss: 0.2093 - val_accuracy: 0.9279\n",
            "\n",
            "\n",
            "epoch 41, Learning Rate 0.0011767926615412515, Batch Size  205 \n",
            "293/293 [==============================] - 3s 11ms/step - loss: 0.1712 - accuracy: 0.9359 - val_loss: 0.2107 - val_accuracy: 0.9287\n",
            "\n",
            "\n",
            "epoch 42, Learning Rate 0.0011636882183810675, Batch Size  210 \n",
            "286/286 [==============================] - 3s 10ms/step - loss: 0.1733 - accuracy: 0.9338 - val_loss: 0.2119 - val_accuracy: 0.9278\n",
            "\n",
            "\n",
            "epoch 43, Learning Rate 0.0011510109922624144, Batch Size  215 \n",
            "280/280 [==============================] - 3s 10ms/step - loss: 0.1704 - accuracy: 0.9347 - val_loss: 0.2073 - val_accuracy: 0.9294\n",
            "\n",
            "\n",
            "epoch 44, Learning Rate 0.0011387383218748929, Batch Size  220 \n",
            "273/273 [==============================] - 3s 10ms/step - loss: 0.1719 - accuracy: 0.9345 - val_loss: 0.2093 - val_accuracy: 0.9284\n",
            "\n",
            "\n",
            "epoch 45, Learning Rate 0.0011268491893631745, Batch Size  225 \n",
            "267/267 [==============================] - 3s 10ms/step - loss: 0.1658 - accuracy: 0.9368 - val_loss: 0.2164 - val_accuracy: 0.9272\n",
            "\n",
            "\n",
            "epoch 46, Learning Rate 0.001115324070628848, Batch Size  230 \n",
            "261/261 [==============================] - 3s 11ms/step - loss: 0.1677 - accuracy: 0.9373 - val_loss: 0.2117 - val_accuracy: 0.9306\n",
            "\n",
            "\n",
            "epoch 47, Learning Rate 0.001104144801917009, Batch Size  235 \n",
            "256/256 [==============================] - 3s 11ms/step - loss: 0.1688 - accuracy: 0.9361 - val_loss: 0.2130 - val_accuracy: 0.9290\n",
            "\n",
            "\n",
            "epoch 48, Learning Rate 0.0010932944606413995, Batch Size  240 \n",
            "250/250 [==============================] - 3s 11ms/step - loss: 0.1662 - accuracy: 0.9373 - val_loss: 0.2114 - val_accuracy: 0.9281\n",
            "\n",
            "\n",
            "epoch 49, Learning Rate 0.0010827572586919007, Batch Size  245 \n",
            "245/245 [==============================] - 3s 11ms/step - loss: 0.1664 - accuracy: 0.9360 - val_loss: 0.2125 - val_accuracy: 0.9266\n",
            "\n",
            "\n",
            "epoch 50, Learning Rate 0.00107251844671263, Batch Size  250 \n",
            "240/240 [==============================] - 3s 12ms/step - loss: 0.1644 - accuracy: 0.9362 - val_loss: 0.2100 - val_accuracy: 0.9288\n",
            "\n",
            "\n",
            "epoch 51, Learning Rate 0.0010625642280456236, Batch Size  255 \n",
            "236/236 [==============================] - 3s 11ms/step - loss: 0.1633 - accuracy: 0.9389 - val_loss: 0.2107 - val_accuracy: 0.9305\n",
            "\n",
            "\n",
            "epoch 52, Learning Rate 0.00105288168121047, Batch Size  260 \n",
            "231/231 [==============================] - 3s 11ms/step - loss: 0.1642 - accuracy: 0.9375 - val_loss: 0.2125 - val_accuracy: 0.9284\n",
            "\n",
            "\n",
            "epoch 53, Learning Rate 0.0010434586899394646, Batch Size  265 \n",
            "227/227 [==============================] - 3s 12ms/step - loss: 0.1618 - accuracy: 0.9389 - val_loss: 0.2167 - val_accuracy: 0.9282\n",
            "\n",
            "\n",
            "epoch 54, Learning Rate 0.0010342838799152008, Batch Size  270 \n",
            "223/223 [==============================] - 3s 12ms/step - loss: 0.1609 - accuracy: 0.9384 - val_loss: 0.2086 - val_accuracy: 0.9317\n",
            "\n",
            "\n",
            "epoch 55, Learning Rate 0.001025346561466472, Batch Size  275 \n",
            "219/219 [==============================] - 3s 12ms/step - loss: 0.1628 - accuracy: 0.9388 - val_loss: 0.2166 - val_accuracy: 0.9295\n",
            "\n",
            "\n",
            "epoch 56, Learning Rate 0.0010166366775718537, Batch Size  280 \n",
            "215/215 [==============================] - 3s 12ms/step - loss: 0.1632 - accuracy: 0.9392 - val_loss: 0.2128 - val_accuracy: 0.9276\n",
            "\n",
            "\n",
            "epoch 57, Learning Rate 0.0010081447566007793, Batch Size  285 \n",
            "211/211 [==============================] - 3s 12ms/step - loss: 0.1619 - accuracy: 0.9379 - val_loss: 0.2142 - val_accuracy: 0.9305\n",
            "\n",
            "\n",
            "epoch 58, Learning Rate 0.0009998618692912851, Batch Size  290 \n",
            "207/207 [==============================] - 3s 12ms/step - loss: 0.1623 - accuracy: 0.9394 - val_loss: 0.2114 - val_accuracy: 0.9300\n",
            "\n",
            "\n",
            "epoch 59, Learning Rate 0.0009917795895236007, Batch Size  295 \n",
            "204/204 [==============================] - 3s 13ms/step - loss: 0.1581 - accuracy: 0.9400 - val_loss: 0.2100 - val_accuracy: 0.9319\n",
            "\n",
            "\n",
            "epoch 60, Learning Rate 0.0009838899585007375, Batch Size  300 \n",
            "200/200 [==============================] - 3s 13ms/step - loss: 0.1574 - accuracy: 0.9405 - val_loss: 0.2174 - val_accuracy: 0.9264\n",
            "\n",
            "\n",
            "epoch 61, Learning Rate 0.0009761854519923916, Batch Size  305 \n",
            "197/197 [==============================] - 3s 13ms/step - loss: 0.1560 - accuracy: 0.9411 - val_loss: 0.2092 - val_accuracy: 0.9300\n",
            "\n",
            "\n",
            "epoch 62, Learning Rate 0.0009686589503378012, Batch Size  310 \n",
            "194/194 [==============================] - 3s 13ms/step - loss: 0.1538 - accuracy: 0.9409 - val_loss: 0.2129 - val_accuracy: 0.9282\n",
            "\n",
            "\n",
            "epoch 63, Learning Rate 0.0009613037109375, Batch Size  315 \n",
            "191/191 [==============================] - 3s 13ms/step - loss: 0.1522 - accuracy: 0.9425 - val_loss: 0.2134 - val_accuracy: 0.9311\n",
            "\n",
            "\n",
            "epoch 64, Learning Rate 0.0009541133429939111, Batch Size  320 \n",
            "188/188 [==============================] - 3s 13ms/step - loss: 0.1571 - accuracy: 0.9411 - val_loss: 0.2115 - val_accuracy: 0.9309\n",
            "\n",
            "\n",
            "epoch 65, Learning Rate 0.0009470817842870061, Batch Size  325 \n",
            "185/185 [==============================] - 3s 14ms/step - loss: 0.1536 - accuracy: 0.9412 - val_loss: 0.2099 - val_accuracy: 0.9322\n",
            "\n",
            "\n",
            "epoch 66, Learning Rate 0.0009402032797943266, Batch Size  330 \n",
            "182/182 [==============================] - 3s 14ms/step - loss: 0.1549 - accuracy: 0.9409 - val_loss: 0.2106 - val_accuracy: 0.9324\n",
            "\n",
            "\n",
            "epoch 67, Learning Rate 0.0009334723619849673, Batch Size  335 \n",
            "180/180 [==============================] - 3s 14ms/step - loss: 0.1533 - accuracy: 0.9413 - val_loss: 0.2110 - val_accuracy: 0.9319\n",
            "\n",
            "\n",
            "epoch 68, Learning Rate 0.0009268838326349984, Batch Size  340 \n",
            "177/177 [==============================] - 3s 15ms/step - loss: 0.1514 - accuracy: 0.9435 - val_loss: 0.2095 - val_accuracy: 0.9320\n",
            "\n",
            "\n",
            "epoch 69, Learning Rate 0.0009204327460276023, Batch Size  345 \n",
            "174/174 [==============================] - 2s 14ms/step - loss: 0.1548 - accuracy: 0.9414 - val_loss: 0.2099 - val_accuracy: 0.9307\n",
            "\n",
            "\n",
            "epoch 70, Learning Rate 0.0009141143934151601, Batch Size  350 \n",
            "172/172 [==============================] - 3s 15ms/step - loss: 0.1482 - accuracy: 0.9437 - val_loss: 0.2108 - val_accuracy: 0.9314\n"
          ],
          "name": "stdout"
        }
      ]
    },
    {
      "cell_type": "code",
      "metadata": {
        "cellView": "form",
        "id": "6eG4pZO_p1aj"
      },
      "source": [
        "#@title\n",
        "\n",
        "# # model = fashion_model()\n",
        "\n",
        "# from keras.callbacks import LearningRateScheduler\n",
        "\n",
        "# # LR = 0.01\n",
        "# # epoch = 1\n",
        "# # batch_size = 100\n",
        "\n",
        "# # val_acc = []\n",
        "# # acc = []\n",
        "# # val_loss = []\n",
        "# # loss = []\n",
        "# # l_r = []\n",
        "# for z,batch_size in zip(range(epoo//2,epoo+1),range(250,10000,5)):\n",
        "\n",
        "#   LR = (batch_size)/(((z+1)**(3/2))*80)\n",
        "#   LR=LR/8\n",
        "\n",
        "#   print(\"\\n\\nepoch {z}, Learning Rate {LR}, Batch Size  {batch_size} \"\n",
        "#                     .format(z=z,LR=LR,batch_size=batch_size))\n",
        "\n",
        "#   def set_LR(epoch,lr):\n",
        "#     global LR\n",
        "#     global l_r\n",
        "#     l_r.append(LR)\n",
        "#     return LR\n",
        "\n",
        "#   call = [ LearningRateScheduler(set_LR,verbose=1) ]\n",
        "\n",
        "#   history = model.fit(\n",
        "#             train_images, train_labels, \n",
        "#             validation_data=(test_images, test_labels),\n",
        "#             epochs=epoch,\n",
        "#             batch_size=batch_size,\n",
        "#             # callbacks=call\n",
        "#             )\n",
        "\n",
        "\n",
        "\n",
        "#   acc.append(history.history['accuracy'])\n",
        "#   val_acc.append(history.history['val_accuracy'])\n",
        "#   loss.append(history.history['loss'])\n",
        "#   val_loss.append(history.history['val_loss'])"
      ],
      "execution_count": null,
      "outputs": []
    },
    {
      "cell_type": "code",
      "metadata": {
        "id": "8tFP1Xt6ddhd"
      },
      "source": [
        "acc_4 = acc\n",
        "val_acc_4 = val_acc\n"
      ],
      "execution_count": null,
      "outputs": []
    },
    {
      "cell_type": "code",
      "metadata": {
        "colab": {
          "base_uri": "https://localhost:8080/"
        },
        "id": "dbhH2W7xvMg8",
        "outputId": "1587a670-ba84-440b-fdf5-515198b4d6c7"
      },
      "source": [
        "#Save these values in your jsonm\n",
        "record_Results(\"acc_4\",acc_4)\n",
        "record_Results(\"val_acc_4\",val_acc_4)"
      ],
      "execution_count": null,
      "outputs": [
        {
          "output_type": "stream",
          "text": [
            "Drive already mounted at /content/drive; to attempt to forcibly remount, call drive.mount(\"/content/drive\", force_remount=True).\n",
            "recorded\n",
            "Drive already mounted at /content/drive; to attempt to forcibly remount, call drive.mount(\"/content/drive\", force_remount=True).\n",
            "recorded\n"
          ],
          "name": "stdout"
        }
      ]
    },
    {
      "cell_type": "code",
      "metadata": {
        "colab": {
          "base_uri": "https://localhost:8080/"
        },
        "id": "BNeWthHcvMg-",
        "outputId": "c9b551d4-b81d-42b7-b4f1-8bc0f69eface"
      },
      "source": [
        "#Get the saved results\n",
        "acc_4 = Get_Results(\"acc_4\")[\"acc_4\"]\n",
        "val_acc_4 = Get_Results(\"val_acc_4\")[\"val_acc_4\"]"
      ],
      "execution_count": null,
      "outputs": [
        {
          "output_type": "stream",
          "text": [
            "Drive already mounted at /content/drive; to attempt to forcibly remount, call drive.mount(\"/content/drive\", force_remount=True).\n",
            "Drive already mounted at /content/drive; to attempt to forcibly remount, call drive.mount(\"/content/drive\", force_remount=True).\n"
          ],
          "name": "stdout"
        }
      ]
    },
    {
      "cell_type": "code",
      "metadata": {
        "colab": {
          "base_uri": "https://localhost:8080/"
        },
        "id": "5sFIEfpbwliu",
        "outputId": "f0ecde34-afbc-438b-ae03-2c164a202509"
      },
      "source": [
        "Plotter(acc,val_acc,loss,val_loss,l_r)"
      ],
      "execution_count": null,
      "outputs": [
        {
          "output_type": "display_data",
          "data": {
            "image/png": "[encoded data removed]",
            "text/plain": [
              "<Figure size 432x288 with 1 Axes>"
            ]
          },
          "metadata": {
            "tags": [],
            "needs_background": "light"
          }
        },
        {
          "output_type": "display_data",
          "data": {
            "image/png": "[encoded data removed]",
            "text/plain": [
              "<Figure size 432x288 with 1 Axes>"
            ]
          },
          "metadata": {
            "tags": [],
            "needs_background": "light"
          }
        },
        {
          "output_type": "display_data",
          "data": {
            "image/png": "[encoded data removed]",
            "text/plain": [
              "<Figure size 432x288 with 1 Axes>"
            ]
          },
          "metadata": {
            "tags": [],
            "needs_background": "light"
          }
        }
      ]
    },
    {
      "cell_type": "markdown",
      "metadata": {
        "id": "-sAHkvA8-ov7"
      },
      "source": [
        "**Plotting all of them**\n",
        "\n",
        "---\n",
        "\n"
      ]
    },
    {
      "cell_type": "code",
      "metadata": {
        "colab": {
          "base_uri": "https://localhost:8080/"
        },
        "id": "0ONe0jubdjia",
        "outputId": "ba339d5a-ff9d-4c2a-f253-8198bfd377b3"
      },
      "source": [
        "plt.figure(figsize=(15, 10))\n",
        "\n",
        "plt.plot(acc_1, label='LR & BS = const acc',ls='-.',c='b')\n",
        "plt.plot(val_acc_1, label = 'LR & BS = const val_acc',c='b')\n",
        "plt.plot(acc_2, label='LR ∝ BS/epoch acc',ls='-.',c='r')\n",
        "plt.plot(val_acc_2, label = 'LR ∝ BS_/epoch val_acc',c='r')\n",
        "plt.plot(acc_3, label='BS = const acc',ls='-.',c='g')\n",
        "plt.plot(val_acc_3, label = 'BS = const val_acc',c='g')\n",
        "plt.plot(acc_4, label='LR = const acc',ls='-.',c='y')\n",
        "plt.plot(val_acc_4, label = 'LR = const val_acc',c='y')\n",
        "\n",
        "plt.xlabel('Epoch')\n",
        "plt.ylabel('Accuracy')\n",
        "plt.legend(loc='lower right')\n",
        "plt.show()\n",
        "\n",
        "\n",
        "# case4_fashion_acc,case4_fashion_val_acc0"
      ],
      "execution_count": null,
      "outputs": [
        {
          "output_type": "display_data",
          "data": {
            "image/png": "[encoded data removed]",
            "text/plain": [
              "<Figure size 1080x720 with 1 Axes>"
            ]
          },
          "metadata": {
            "tags": [],
            "needs_background": "light"
          }
        }
      ]
    },
    {
      "cell_type": "code",
      "metadata": {
        "id": "kDOZp0YUSVDL"
      },
      "source": [
        "# acc_1_dif = []\n",
        "# for i in range(len(acc_1)): acc_1_dif.append(acc_1[i] - val_acc_1[i]) \n",
        "# acc_2_dif = []\n",
        "# for i in range(len(acc_2)): acc_2_dif.append(acc_2[i][0] - val_acc_2[i][0]) \n",
        "# acc_3_dif = []\n",
        "# for i in range(len(acc_3)): acc_3_dif.append(acc_3[i][0] - val_acc_3[i][0]) \n",
        "# acc_4_dif = []\n",
        "# for i in range(len(acc_4)): acc_4_dif.append(acc_4[i][0] - val_acc_4[i][0]) "
      ],
      "execution_count": null,
      "outputs": []
    },
    {
      "cell_type": "code",
      "metadata": {
        "id": "Y86_qZ77SVzR",
        "colab": {
          "base_uri": "https://localhost:8080/"
        },
        "outputId": "ddb0f221-2c21-4d74-ef5a-4db7cea4751e"
      },
      "source": [
        "plt.figure(figsize=(15, 10))\n",
        "\n",
        "plt.plot(acc_1_dif, label='LR & BS = const acc',ls='-.',c='b')\n",
        "# plt.plot(val_acc_1, label = 'LR & BS = const val_acc',c='b')\n",
        "plt.plot(acc_2_dif, label='LR ∝ BS/epoch acc',ls='-.',c='r')\n",
        "# plt.plot(val_acc_2, label = 'LR ∝ BS_/epoch val_acc',c='r')\n",
        "plt.plot(acc_3_dif, label='BS = const acc',ls='-.',c='g')\n",
        "# plt.plot(val_acc_3, label = 'BS = const val_acc',c='g')\n",
        "# plt.plot(acc_4_dif, label='LR = const acc',ls='-.',c='y')\n",
        "# plt.plot(val_acc_4, label = 'LR = const val_acc',c='y')\n",
        "\n",
        "plt.xlabel('Epoch')\n",
        "plt.ylabel('Accuracy')\n",
        "plt.legend(loc='lower right')\n",
        "plt.show()"
      ],
      "execution_count": null,
      "outputs": [
        {
          "output_type": "error",
          "ename": "NameError",
          "evalue": "ignored",
          "traceback": [
            "\u001b[0;31m---------------------------------------------------------------------------\u001b[0m",
            "\u001b[0;31mNameError\u001b[0m                                 Traceback (most recent call last)",
            "\u001b[0;32m<ipython-input-40-22e84b3ceab4>\u001b[0m in \u001b[0;36m<module>\u001b[0;34m()\u001b[0m\n\u001b[1;32m      1\u001b[0m \u001b[0mplt\u001b[0m\u001b[0;34m.\u001b[0m\u001b[0mfigure\u001b[0m\u001b[0;34m(\u001b[0m\u001b[0mfigsize\u001b[0m\u001b[0;34m=\u001b[0m\u001b[0;34m(\u001b[0m\u001b[0;36m15\u001b[0m\u001b[0;34m,\u001b[0m \u001b[0;36m10\u001b[0m\u001b[0;34m)\u001b[0m\u001b[0;34m)\u001b[0m\u001b[0;34m\u001b[0m\u001b[0;34m\u001b[0m\u001b[0m\n\u001b[1;32m      2\u001b[0m \u001b[0;34m\u001b[0m\u001b[0m\n\u001b[0;32m----> 3\u001b[0;31m \u001b[0mplt\u001b[0m\u001b[0;34m.\u001b[0m\u001b[0mplot\u001b[0m\u001b[0;34m(\u001b[0m\u001b[0macc_1_dif\u001b[0m\u001b[0;34m,\u001b[0m \u001b[0mlabel\u001b[0m\u001b[0;34m=\u001b[0m\u001b[0;34m'LR & BS = const acc'\u001b[0m\u001b[0;34m,\u001b[0m\u001b[0mls\u001b[0m\u001b[0;34m=\u001b[0m\u001b[0;34m'-.'\u001b[0m\u001b[0;34m,\u001b[0m\u001b[0mc\u001b[0m\u001b[0;34m=\u001b[0m\u001b[0;34m'b'\u001b[0m\u001b[0;34m)\u001b[0m\u001b[0;34m\u001b[0m\u001b[0;34m\u001b[0m\u001b[0m\n\u001b[0m\u001b[1;32m      4\u001b[0m \u001b[0;31m# plt.plot(val_acc_1, label = 'LR & BS = const val_acc',c='b')\u001b[0m\u001b[0;34m\u001b[0m\u001b[0;34m\u001b[0m\u001b[0;34m\u001b[0m\u001b[0m\n\u001b[1;32m      5\u001b[0m \u001b[0mplt\u001b[0m\u001b[0;34m.\u001b[0m\u001b[0mplot\u001b[0m\u001b[0;34m(\u001b[0m\u001b[0macc_2_dif\u001b[0m\u001b[0;34m,\u001b[0m \u001b[0mlabel\u001b[0m\u001b[0;34m=\u001b[0m\u001b[0;34m'LR ∝ BS/epoch acc'\u001b[0m\u001b[0;34m,\u001b[0m\u001b[0mls\u001b[0m\u001b[0;34m=\u001b[0m\u001b[0;34m'-.'\u001b[0m\u001b[0;34m,\u001b[0m\u001b[0mc\u001b[0m\u001b[0;34m=\u001b[0m\u001b[0;34m'r'\u001b[0m\u001b[0;34m)\u001b[0m\u001b[0;34m\u001b[0m\u001b[0;34m\u001b[0m\u001b[0m\n",
            "\u001b[0;31mNameError\u001b[0m: name 'acc_1_dif' is not defined"
          ]
        },
        {
          "output_type": "display_data",
          "data": {
            "text/plain": [
              "<Figure size 1080x720 with 0 Axes>"
            ]
          },
          "metadata": {
            "tags": []
          }
        }
      ]
    },
    {
      "cell_type": "code",
      "metadata": {
        "id": "gXPO5fVUTzt8"
      },
      "source": [
        ""
      ],
      "execution_count": null,
      "outputs": []
    }
  ]
}