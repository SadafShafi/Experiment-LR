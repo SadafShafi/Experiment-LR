{
  "nbformat": 4,
  "nbformat_minor": 0,
  "metadata": {
    "colab": {
      "name": "CIFAR10_Experiment_4A.ipynb",
      "provenance": [],
      "collapsed_sections": []
    },
    "kernelspec": {
      "display_name": "Python 3",
      "name": "python3"
    },
    "accelerator": "GPU"
  },
  "cells": [
    {
      "cell_type": "markdown",
      "metadata": {
        "id": "KfFZwtotppg4"
      },
      "source": [
        "*Save and Load results from here*"
      ]
    },
    {
      "cell_type": "code",
      "metadata": {
        "id": "IfeQyoKhlJ_C"
      },
      "source": [
        "def record_Results(key,results):\n",
        "  import json\n",
        "  from google.colab import drive\n",
        "\n",
        "\n",
        "  drive.mount('/content/drive')\n",
        "\n",
        "  dictionary ={\n",
        "      key : results\n",
        "  } \n",
        "  json_object = json.dumps(dictionary)\n",
        "\n",
        "  FILE_PATH = \"/content/drive/My Drive/Results/\"+\"CIFAR10_Experiment_4A\"+str(key)+\".json\"\n",
        "  f = open(FILE_PATH, \"w\")\n",
        "  f.write(json_object)\n",
        "  print(\"recorded\")\n",
        "\n",
        "def Get_Results(file):\n",
        "  import json\n",
        "  from google.colab import drive\n",
        "\n",
        "  drive.mount('/content/drive')\n",
        "\n",
        "  FILE_PATH = \"/content/drive/My Drive/Results/\"+\"CIFAR10_Experiment_4A\"+str(file)+\".json\"\n",
        "  f = open(FILE_PATH, \"r\")\n",
        "  json_object = json.load(f)\n",
        "  \n",
        "  return json_object"
      ],
      "execution_count": null,
      "outputs": []
    },
    {
      "cell_type": "markdown",
      "metadata": {
        "id": "NADyjDNG0hUj"
      },
      "source": [
        "# **BS increasing with each epoch and hence the LR**"
      ]
    },
    {
      "cell_type": "markdown",
      "metadata": {
        "id": "cNdv7he28E0B"
      },
      "source": [
        "**STARTING GPU**"
      ]
    },
    {
      "cell_type": "code",
      "metadata": {
        "colab": {
          "base_uri": "https://localhost:8080/"
        },
        "id": "9SUjTleWIogY",
        "outputId": "35dc5fb3-1cba-4088-e779-1d26b92c19db"
      },
      "source": [
        "%tensorflow_version 2.x\n",
        "import tensorflow as tf\n",
        "device_name = tf.test.gpu_device_name()\n",
        "if device_name != '/device:GPU:0':\n",
        "  raise SystemError('GPU device not found')\n",
        "print('Found GPU at: {}'.format(device_name))"
      ],
      "execution_count": null,
      "outputs": [
        {
          "output_type": "stream",
          "text": [
            "Found GPU at: /device:GPU:0\n"
          ],
          "name": "stdout"
        }
      ]
    },
    {
      "cell_type": "code",
      "metadata": {
        "id": "Azwjhr5ZIpqD",
        "colab": {
          "base_uri": "https://localhost:8080/"
        },
        "outputId": "0a2bffb7-3e53-45fe-9a9e-7f985756eb10"
      },
      "source": [
        "%tensorflow_version 2.x\n",
        "import tensorflow as tf\n",
        "import timeit\n",
        "\n",
        "device_name = tf.test.gpu_device_name()\n",
        "if device_name != '/device:GPU:0':\n",
        "  print(\n",
        "      '\\n\\nThis error most likely means that this notebook is not '\n",
        "      'configured to use a GPU.  Change this in Notebook Settings via the '\n",
        "      'command palette (cmd/ctrl-shift-P) or the Edit menu.\\n\\n')\n",
        "  raise SystemError('GPU device not found')\n",
        "\n",
        "def cpu():\n",
        "  with tf.device('/cpu:0'):\n",
        "    random_image_cpu = tf.random.normal((100, 100, 100, 3))\n",
        "    net_cpu = tf.keras.layers.Conv2D(32, 7)(random_image_cpu)\n",
        "    return tf.math.reduce_sum(net_cpu)\n",
        "\n",
        "def gpu():\n",
        "  with tf.device('/device:GPU:0'):\n",
        "    random_image_gpu = tf.random.normal((100, 100, 100, 3))\n",
        "    net_gpu = tf.keras.layers.Conv2D(32, 7)(random_image_gpu)\n",
        "    return tf.math.reduce_sum(net_gpu)\n",
        "  \n",
        "# We run each op once to warm up; see: https://stackoverflow.com/a/45067900\n",
        "cpu()\n",
        "gpu()\n",
        "\n",
        "# Run the op several times.\n",
        "print('Time (s) to convolve 32x7x7x3 filter over random 100x100x100x3 images '\n",
        "      '(batch x height x width x channel). Sum of ten runs.')\n",
        "print('CPU (s):')\n",
        "cpu_time = timeit.timeit('cpu()', number=10, setup=\"from __main__ import cpu\")\n",
        "print(cpu_time)\n",
        "print('GPU (s):')\n",
        "gpu_time = timeit.timeit('gpu()', number=10, setup=\"from __main__ import gpu\")\n",
        "print(gpu_time)\n",
        "print('GPU speedup over CPU: {}x'.format(int(cpu_time/gpu_time)))"
      ],
      "execution_count": null,
      "outputs": [
        {
          "output_type": "stream",
          "text": [
            "Time (s) to convolve 32x7x7x3 filter over random 100x100x100x3 images (batch x height x width x channel). Sum of ten runs.\n",
            "CPU (s):\n",
            "3.771208329999922\n",
            "GPU (s):\n",
            "0.04626038200001403\n",
            "GPU speedup over CPU: 81x\n"
          ],
          "name": "stdout"
        }
      ]
    },
    {
      "cell_type": "code",
      "metadata": {
        "colab": {
          "base_uri": "https://localhost:8080/"
        },
        "id": "rXYtGJUNq6FO",
        "outputId": "df723a36-7df7-47ac-b8af-96b3ad4a2af0"
      },
      "source": [
        "import keras\n",
        "from keras.models import Sequential\n",
        "from keras.utils import np_utils\n",
        "from keras.preprocessing.image import ImageDataGenerator\n",
        "from keras.layers import Dense, Activation, Flatten, Dropout, BatchNormalization\n",
        "from keras.layers import Conv2D, MaxPooling2D\n",
        "from keras.datasets import cifar10\n",
        "from keras import regularizers, optimizers\n",
        "import numpy as np\n",
        "\n",
        "\n",
        "(x_train, y_train), (x_test, y_test) = cifar10.load_data()\n",
        "x_train = x_train.astype('float32')\n",
        "x_test = x_test.astype('float32')\n",
        "\n",
        "#z-score\n",
        "mean = np.mean(x_train,axis=(0,1,2,3))\n",
        "std = np.std(x_train,axis=(0,1,2,3))\n",
        "x_train = (x_train-mean)/(std+1e-7)\n",
        "x_test = (x_test-mean)/(std+1e-7)\n",
        "\n",
        "num_classes = 10\n",
        "y_train = np_utils.to_categorical(y_train,num_classes)\n",
        "y_test = np_utils.to_categorical(y_test,num_classes)\n",
        "\n",
        "baseMapNum = 32\n",
        "weight_decay = 1e-4"
      ],
      "execution_count": null,
      "outputs": [
        {
          "output_type": "stream",
          "text": [
            "Downloading data from https://www.cs.toronto.edu/~kriz/cifar-10-python.tar.gz\n",
            "170500096/170498071 [==============================] - 11s 0us/step\n"
          ],
          "name": "stdout"
        }
      ]
    },
    {
      "cell_type": "code",
      "metadata": {
        "id": "CZ9KZsBirEQz"
      },
      "source": [
        "import tensorflow as tf\n",
        "from tensorflow.keras import datasets, layers, models\n",
        "import matplotlib.pyplot as plt"
      ],
      "execution_count": null,
      "outputs": []
    },
    {
      "cell_type": "code",
      "metadata": {
        "id": "IYVLSfbsbf9K"
      },
      "source": [
        "(train_images, train_labels), (test_images, test_labels) = datasets.cifar10.load_data()\n",
        "\n",
        "# Normalize pixel values to be between 0 and 1\n",
        "train_images, test_images = train_images / 255.0, test_images / 255.0"
      ],
      "execution_count": null,
      "outputs": []
    },
    {
      "cell_type": "code",
      "metadata": {
        "id": "vWv7Nn8PNmWr"
      },
      "source": [
        "def cifar10_model():\n",
        "  model = Sequential()\n",
        "  model.add(Conv2D(baseMapNum, (3,3), padding='same', kernel_regularizer=regularizers.l2(weight_decay), input_shape=x_train.shape[1:]))\n",
        "  model.add(Activation('relu'))\n",
        "  model.add(BatchNormalization())\n",
        "  model.add(Conv2D(baseMapNum, (3,3), padding='same', kernel_regularizer=regularizers.l2(weight_decay)))\n",
        "  model.add(Activation('relu'))\n",
        "  model.add(BatchNormalization())\n",
        "  model.add(MaxPooling2D(pool_size=(2,2)))\n",
        "  model.add(Dropout(0.2))\n",
        "\n",
        "  model.add(Conv2D(2*baseMapNum, (3,3), padding='same', kernel_regularizer=regularizers.l2(weight_decay)))\n",
        "  model.add(Activation('relu'))\n",
        "  model.add(BatchNormalization())\n",
        "  model.add(Conv2D(2*baseMapNum, (3,3), padding='same', kernel_regularizer=regularizers.l2(weight_decay)))\n",
        "  model.add(Activation('relu'))\n",
        "  model.add(BatchNormalization())\n",
        "  model.add(MaxPooling2D(pool_size=(2,2)))\n",
        "  model.add(Dropout(0.3))\n",
        "\n",
        "  model.add(Conv2D(4*baseMapNum, (3,3), padding='same', kernel_regularizer=regularizers.l2(weight_decay)))\n",
        "  model.add(Activation('relu'))\n",
        "  model.add(BatchNormalization())\n",
        "  model.add(Conv2D(4*baseMapNum, (3,3), padding='same', kernel_regularizer=regularizers.l2(weight_decay)))\n",
        "  model.add(Activation('relu'))\n",
        "  model.add(BatchNormalization())\n",
        "  model.add(MaxPooling2D(pool_size=(2,2)))\n",
        "  model.add(Dropout(0.4))\n",
        "\n",
        "  model.add(Flatten())\n",
        "  model.add(Dense(num_classes, activation='softmax'))\n",
        "\n",
        "  # model.summary()\n",
        "\n",
        "  #data augmentation\n",
        "\n",
        "\n",
        "\n",
        "  model.compile(loss='categorical_crossentropy',\n",
        "          optimizer='adam',\n",
        "          metrics=['accuracy'])\n",
        "  \n",
        "  return model\n",
        "\n",
        "datagen = ImageDataGenerator(\n",
        "  featurewise_center=False,\n",
        "  samplewise_center=False,\n",
        "  featurewise_std_normalization=False,\n",
        "  samplewise_std_normalization=False,\n",
        "  zca_whitening=False,\n",
        "  rotation_range=15,\n",
        "  width_shift_range=0.1,\n",
        "  height_shift_range=0.1,\n",
        "  horizontal_flip=True,\n",
        "  vertical_flip=False\n",
        "  )\n",
        "datagen.fit(x_train)"
      ],
      "execution_count": null,
      "outputs": []
    },
    {
      "cell_type": "code",
      "metadata": {
        "id": "Q598fZpLQulb"
      },
      "source": [
        "model = cifar10_model()"
      ],
      "execution_count": null,
      "outputs": []
    },
    {
      "cell_type": "code",
      "metadata": {
        "colab": {
          "base_uri": "https://localhost:8080/"
        },
        "id": "wxa1g4YlPnWN",
        "outputId": "0d874caf-406f-4b1b-a62a-ff00d0df2930"
      },
      "source": [
        "model.summary()"
      ],
      "execution_count": null,
      "outputs": [
        {
          "output_type": "stream",
          "text": [
            "Model: \"sequential\"\n",
            "_________________________________________________________________\n",
            "Layer (type)                 Output Shape              Param #   \n",
            "=================================================================\n",
            "conv2d_22 (Conv2D)           (None, 32, 32, 32)        896       \n",
            "_________________________________________________________________\n",
            "activation (Activation)      (None, 32, 32, 32)        0         \n",
            "_________________________________________________________________\n",
            "batch_normalization (BatchNo (None, 32, 32, 32)        128       \n",
            "_________________________________________________________________\n",
            "conv2d_23 (Conv2D)           (None, 32, 32, 32)        9248      \n",
            "_________________________________________________________________\n",
            "activation_1 (Activation)    (None, 32, 32, 32)        0         \n",
            "_________________________________________________________________\n",
            "batch_normalization_1 (Batch (None, 32, 32, 32)        128       \n",
            "_________________________________________________________________\n",
            "max_pooling2d (MaxPooling2D) (None, 16, 16, 32)        0         \n",
            "_________________________________________________________________\n",
            "dropout (Dropout)            (None, 16, 16, 32)        0         \n",
            "_________________________________________________________________\n",
            "conv2d_24 (Conv2D)           (None, 16, 16, 64)        18496     \n",
            "_________________________________________________________________\n",
            "activation_2 (Activation)    (None, 16, 16, 64)        0         \n",
            "_________________________________________________________________\n",
            "batch_normalization_2 (Batch (None, 16, 16, 64)        256       \n",
            "_________________________________________________________________\n",
            "conv2d_25 (Conv2D)           (None, 16, 16, 64)        36928     \n",
            "_________________________________________________________________\n",
            "activation_3 (Activation)    (None, 16, 16, 64)        0         \n",
            "_________________________________________________________________\n",
            "batch_normalization_3 (Batch (None, 16, 16, 64)        256       \n",
            "_________________________________________________________________\n",
            "max_pooling2d_1 (MaxPooling2 (None, 8, 8, 64)          0         \n",
            "_________________________________________________________________\n",
            "dropout_1 (Dropout)          (None, 8, 8, 64)          0         \n",
            "_________________________________________________________________\n",
            "conv2d_26 (Conv2D)           (None, 8, 8, 128)         73856     \n",
            "_________________________________________________________________\n",
            "activation_4 (Activation)    (None, 8, 8, 128)         0         \n",
            "_________________________________________________________________\n",
            "batch_normalization_4 (Batch (None, 8, 8, 128)         512       \n",
            "_________________________________________________________________\n",
            "conv2d_27 (Conv2D)           (None, 8, 8, 128)         147584    \n",
            "_________________________________________________________________\n",
            "activation_5 (Activation)    (None, 8, 8, 128)         0         \n",
            "_________________________________________________________________\n",
            "batch_normalization_5 (Batch (None, 8, 8, 128)         512       \n",
            "_________________________________________________________________\n",
            "max_pooling2d_2 (MaxPooling2 (None, 4, 4, 128)         0         \n",
            "_________________________________________________________________\n",
            "dropout_2 (Dropout)          (None, 4, 4, 128)         0         \n",
            "_________________________________________________________________\n",
            "flatten (Flatten)            (None, 2048)              0         \n",
            "_________________________________________________________________\n",
            "dense (Dense)                (None, 10)                20490     \n",
            "=================================================================\n",
            "Total params: 309,290\n",
            "Trainable params: 308,394\n",
            "Non-trainable params: 896\n",
            "_________________________________________________________________\n"
          ],
          "name": "stdout"
        }
      ]
    },
    {
      "cell_type": "code",
      "metadata": {
        "id": "45M1nSqEFW3_"
      },
      "source": [
        "def Plotter(acc,val_acc,loss,val_loss,l_r):\n",
        "  \n",
        "  plt.plot(acc, label='accuracy')\n",
        "  plt.plot(val_acc, label = 'val_accuracy')\n",
        "  plt.xlabel('Epoch')\n",
        "  plt.ylabel('Accuracy')\n",
        "  plt.legend(loc='lower right')\n",
        "  plt.show()\n",
        "\n",
        "\n",
        "  plt.plot(loss, label='loss')\n",
        "  plt.plot(val_loss, label = 'val_loss')\n",
        "  plt.xlabel('Epoch')\n",
        "  plt.ylabel('loss')\n",
        "  plt.legend(loc='lower right')\n",
        "  plt.show()\n",
        "\n",
        "  plt.plot(l_r, label='Learning Rate')\n",
        "  # plt.plot(val_loss, label = 'val_loss')\n",
        "  plt.xlabel('Epoch')\n",
        "  plt.ylabel('LR')\n",
        "  plt.legend(loc='lower right')\n",
        "  plt.show()"
      ],
      "execution_count": null,
      "outputs": []
    },
    {
      "cell_type": "markdown",
      "metadata": {
        "id": "3Mw-wspT-rrF"
      },
      "source": [
        "**Test for LR**"
      ]
    },
    {
      "cell_type": "code",
      "metadata": {
        "colab": {
          "base_uri": "https://localhost:8080/",
          "height": 279
        },
        "id": "9d_uY9su-Qzg",
        "outputId": "bd325ae9-07d4-4133-cf68-4e4bc74b061c"
      },
      "source": [
        "from random import random,randint,randrange,uniform\n",
        "lr = []\n",
        "epoo=70\n",
        "for z,batch_size in zip(range(1,epoo+1),range(5,10000,5)):\n",
        "\n",
        "  # print(z,(batch_size)/((z+1)**(3/2))/80)\n",
        "  \n",
        "\n",
        "  LR = random() * batch_size/10000\n",
        "  lr.append(LR)\n",
        "\n",
        "  # if (z%2 == 0):\n",
        "  #   LR = random() * batch_size/10000\n",
        "  #   lr.append(LR)\n",
        "  # else:\n",
        "  #   LR = random() * z/10000\n",
        "  #   lr.append(LR)\n",
        "\n",
        "# lr = lr[::-1] \n",
        "lord_LR = lr\n",
        "# print(min(lr))\n",
        "\n",
        "\n",
        "plt.plot(lr, label='Learning Rate')\n",
        "plt.xlabel('Epoch')\n",
        "plt.ylabel('LR')\n",
        "plt.legend(loc='lower right')\n",
        "plt.show()\n",
        "\n",
        "\n",
        "# lr = []\n",
        "# epoo=150\n",
        "# for z,batch_size in zip(range(1,epoo+1),range(5,10000,5)):\n",
        "\n",
        "#   # print(z,(batch_size)/((z+1)**(3/2))/80)\n",
        "  \n",
        "\n",
        "#   LR = random() * z/10000\n",
        "#   # LR=LR/8\n",
        "#   lr.append(LR)\n",
        "\n",
        "# plt.plot(lr, label='Learning Rate')\n",
        "# plt.xlabel('Epoch')\n",
        "# plt.ylabel('LR')\n",
        "# plt.legend(loc='lower right')\n",
        "# plt.show()"
      ],
      "execution_count": null,
      "outputs": [
        {
          "output_type": "display_data",
          "data": {
            "image/png": "[encoded data removed]",
            "text/plain": [
              "<Figure size 432x288 with 1 Axes>"
            ]
          },
          "metadata": {
            "tags": [],
            "needs_background": "light"
          }
        }
      ]
    },
    {
      "cell_type": "markdown",
      "metadata": {
        "id": "r-JI73CgFFOa"
      },
      "source": [
        "**Normal default fit** : LR and Batch Size default    \n",
        "\n",
        "\n",
        "---\n",
        "Running them in parts\n"
      ]
    },
    {
      "cell_type": "code",
      "metadata": {
        "id": "pedciuqPNnha"
      },
      "source": [
        "# import os\n",
        "\n",
        "# checkpoint_path = \"training_1/cp.ckpt\"\n",
        "# checkpoint_dir = os.path.dirname(checkpoint_path)\n",
        "\n",
        "# # Create a callback that saves the model's weights\n",
        "# cp_callback = tf.keras.callbacks.ModelCheckpoint(filepath=checkpoint_path,\n",
        "#                                                  save_weights_only=True,\n",
        "#                                                  verbose=1)\n",
        "\n",
        "# history = model.fit(datagen.flow(x_train, y_train),\n",
        "#                     epochs=50,validation_data=(x_test,y_test),\n",
        "#                     callbacks = cp_callback)"
      ],
      "execution_count": null,
      "outputs": []
    },
    {
      "cell_type": "code",
      "metadata": {
        "id": "8F-yEBSyMzkN"
      },
      "source": [
        "# acc_1 = []\n",
        "# val_acc_1 = []\n",
        "# loss = []\n",
        "# Vloss = []\n",
        "\n",
        "# acc_1.append(history.history['accuracy'])\n",
        "# val_acc_1.append(history.history['val_accuracy'])\n",
        "\n",
        "# loss.append(history.history['loss'])\n",
        "# Vloss.append(history.history['val_loss'])"
      ],
      "execution_count": null,
      "outputs": []
    },
    {
      "cell_type": "code",
      "metadata": {
        "id": "FB_hAfEvIPgS"
      },
      "source": [
        "# from google.colab import drive\n",
        "# drive.mount('/content/drive')"
      ],
      "execution_count": null,
      "outputs": []
    },
    {
      "cell_type": "code",
      "metadata": {
        "id": "9yCjubWVclXx"
      },
      "source": [
        "# model = cifar10_model()\n",
        "\n",
        "# # Load the previously saved weights\n",
        "# model.load_weights(checkpoint_path)\n",
        "\n",
        "# checkpoint_path = \"training_1/cp.ckpt\"\n",
        "# checkpoint_dir = os.path.dirname(checkpoint_path)\n",
        "\n",
        "# # Create a callback that saves the model's weights\n",
        "# cp_callback = tf.keras.callbacks.ModelCheckpoint(filepath=checkpoint_path,\n",
        "#                                                  save_weights_only=True,\n",
        "#                                                  verbose=1)\n",
        "\n",
        "# history = model.fit(datagen.flow(x_train, y_train),\n",
        "#                     epochs=50,validation_data=(x_test,y_test),\n",
        "#                     callbacks = cp_callback)"
      ],
      "execution_count": null,
      "outputs": []
    },
    {
      "cell_type": "code",
      "metadata": {
        "id": "BtsyuUuXM63M"
      },
      "source": [
        "# acc_1.append(history.history['accuracy'])\n",
        "# val_acc_1.append(history.history['val_accuracy'])\n",
        "\n",
        "# loss.append(history.history['loss'])\n",
        "# Vloss.append(history.history['val_loss'])"
      ],
      "execution_count": null,
      "outputs": []
    },
    {
      "cell_type": "code",
      "metadata": {
        "id": "AR1NeGkVMmai"
      },
      "source": [
        "# model = cifar10_model()\n",
        "\n",
        "# # Load the previously saved weights\n",
        "# model.load_weights(checkpoint_path)\n",
        "\n",
        "# checkpoint_path = \"training_1/cp.ckpt\"\n",
        "# checkpoint_dir = os.path.dirname(checkpoint_path)\n",
        "\n",
        "# # Create a callback that saves the model's weights\n",
        "# cp_callback = tf.keras.callbacks.ModelCheckpoint(filepath=checkpoint_path,\n",
        "#                                                  save_weights_only=True,\n",
        "#                                                  verbose=1)\n",
        "\n",
        "# history = model.fit(datagen.flow(x_train, y_train),\n",
        "#                     epochs=50,validation_data=(x_test,y_test),\n",
        "#                     callbacks = cp_callback)"
      ],
      "execution_count": null,
      "outputs": []
    },
    {
      "cell_type": "code",
      "metadata": {
        "id": "Dfcv0ZkjNIDu"
      },
      "source": [
        "# acc_1.append(history.history['accuracy'])\n",
        "# val_acc_1.append(history.history['val_accuracy'])\n",
        "\n",
        "# loss.append(history.history['loss'])\n",
        "# Vloss.append(history.history['val_loss'])"
      ],
      "execution_count": null,
      "outputs": []
    },
    {
      "cell_type": "code",
      "metadata": {
        "id": "lJYz2hCAYXhu"
      },
      "source": [
        "# model = cifar10_model()\n",
        "\n",
        "# # Load the previously saved weights\n",
        "# model.load_weights(checkpoint_path)\n",
        "\n",
        "# checkpoint_path = \"training_1/cp.ckpt\"\n",
        "# checkpoint_dir = os.path.dirname(checkpoint_path)\n",
        "\n",
        "# # Create a callback that saves the model's weights\n",
        "# cp_callback = tf.keras.callbacks.ModelCheckpoint(filepath=checkpoint_path,\n",
        "#                                                  save_weights_only=True,\n",
        "#                                                  verbose=1)\n",
        "\n",
        "# history = model.fit(datagen.flow(x_train, y_train),\n",
        "#                     epochs=50,validation_data=(x_test,y_test),\n",
        "#                     callbacks = cp_callback)"
      ],
      "execution_count": null,
      "outputs": []
    },
    {
      "cell_type": "code",
      "metadata": {
        "id": "IpcTMcvkI2a3"
      },
      "source": [
        "# acc_1.append(history.history['accuracy'])\n",
        "# val_acc_1.append(history.history['val_accuracy'])\n",
        "\n",
        "# loss.append(history.history['loss'])\n",
        "# Vloss.append(history.history['val_loss'])"
      ],
      "execution_count": null,
      "outputs": []
    },
    {
      "cell_type": "code",
      "metadata": {
        "colab": {
          "base_uri": "https://localhost:8080/"
        },
        "id": "-yhUeYzwMnoa",
        "outputId": "c027c8f1-8332-4bcc-e49d-540bf24359f7"
      },
      "source": [
        "model = cifar10_model()\n",
        "\n",
        "# Load the previously saved weights\n",
        "# model.load_weights(checkpoint_path)\n",
        "\n",
        "# checkpoint_path = \"training_1/cp.ckpt\"\n",
        "# checkpoint_dir = os.path.dirname(checkpoint_path)\n",
        "\n",
        "# Create a callback that saves the model's weights\n",
        "# cp_callback = tf.keras.callbacks.ModelCheckpoint(filepath=checkpoint_path,\n",
        "#                                                  save_weights_only=True,\n",
        "#                                                  verbose=1)\n",
        "\n",
        "history = model.fit(datagen.flow(x_train, y_train),\n",
        "                    epochs=epoo,\n",
        "                    validation_data=(x_test,y_test),\n",
        "                    # callbacks = cp_callback\n",
        "                    )"
      ],
      "execution_count": null,
      "outputs": [
        {
          "output_type": "stream",
          "text": [
            "Epoch 1/70\n",
            "1563/1563 [==============================] - 51s 32ms/step - loss: 2.3345 - accuracy: 0.3463 - val_loss: 1.4229 - val_accuracy: 0.5425\n",
            "Epoch 2/70\n",
            "1563/1563 [==============================] - 50s 32ms/step - loss: 1.3934 - accuracy: 0.5489 - val_loss: 1.0857 - val_accuracy: 0.6480\n",
            "Epoch 3/70\n",
            "1563/1563 [==============================] - 50s 32ms/step - loss: 1.1126 - accuracy: 0.6351 - val_loss: 0.8709 - val_accuracy: 0.7261\n",
            "Epoch 4/70\n",
            "1563/1563 [==============================] - 50s 32ms/step - loss: 0.9979 - accuracy: 0.6818 - val_loss: 0.9255 - val_accuracy: 0.7166\n",
            "Epoch 5/70\n",
            "1563/1563 [==============================] - 51s 33ms/step - loss: 0.9253 - accuracy: 0.7107 - val_loss: 0.8075 - val_accuracy: 0.7646\n",
            "Epoch 6/70\n",
            "1563/1563 [==============================] - 50s 32ms/step - loss: 0.8827 - accuracy: 0.7338 - val_loss: 0.7303 - val_accuracy: 0.7886\n",
            "Epoch 7/70\n",
            "1563/1563 [==============================] - 49s 32ms/step - loss: 0.8540 - accuracy: 0.7455 - val_loss: 0.7624 - val_accuracy: 0.7835\n",
            "Epoch 8/70\n",
            "1563/1563 [==============================] - 50s 32ms/step - loss: 0.8337 - accuracy: 0.7590 - val_loss: 0.7493 - val_accuracy: 0.7941\n",
            "Epoch 9/70\n",
            "1563/1563 [==============================] - 49s 32ms/step - loss: 0.8181 - accuracy: 0.7698 - val_loss: 0.7327 - val_accuracy: 0.8068\n",
            "Epoch 10/70\n",
            "1563/1563 [==============================] - 49s 32ms/step - loss: 0.8110 - accuracy: 0.7747 - val_loss: 0.8055 - val_accuracy: 0.7852\n",
            "Epoch 11/70\n",
            "1563/1563 [==============================] - 49s 32ms/step - loss: 0.8020 - accuracy: 0.7781 - val_loss: 0.7288 - val_accuracy: 0.8109\n",
            "Epoch 12/70\n",
            "1563/1563 [==============================] - 50s 32ms/step - loss: 0.7909 - accuracy: 0.7835 - val_loss: 0.7698 - val_accuracy: 0.7974\n",
            "Epoch 13/70\n",
            "1563/1563 [==============================] - 49s 32ms/step - loss: 0.7795 - accuracy: 0.7914 - val_loss: 0.7495 - val_accuracy: 0.8056\n",
            "Epoch 14/70\n",
            "1563/1563 [==============================] - 50s 32ms/step - loss: 0.7683 - accuracy: 0.7941 - val_loss: 0.6836 - val_accuracy: 0.8229\n",
            "Epoch 15/70\n",
            "1563/1563 [==============================] - 49s 32ms/step - loss: 0.7679 - accuracy: 0.7977 - val_loss: 0.6798 - val_accuracy: 0.8293\n",
            "Epoch 16/70\n",
            "1563/1563 [==============================] - 50s 32ms/step - loss: 0.7622 - accuracy: 0.7997 - val_loss: 0.7056 - val_accuracy: 0.8232\n",
            "Epoch 17/70\n",
            "1563/1563 [==============================] - 50s 32ms/step - loss: 0.7558 - accuracy: 0.8004 - val_loss: 0.6825 - val_accuracy: 0.8329\n",
            "Epoch 18/70\n",
            "1563/1563 [==============================] - 50s 32ms/step - loss: 0.7486 - accuracy: 0.8040 - val_loss: 0.7208 - val_accuracy: 0.8223\n",
            "Epoch 19/70\n",
            "1563/1563 [==============================] - 50s 32ms/step - loss: 0.7555 - accuracy: 0.8011 - val_loss: 0.7133 - val_accuracy: 0.8228\n",
            "Epoch 20/70\n",
            "1563/1563 [==============================] - 49s 32ms/step - loss: 0.7420 - accuracy: 0.8094 - val_loss: 0.6886 - val_accuracy: 0.8328\n",
            "Epoch 21/70\n",
            "1563/1563 [==============================] - 50s 32ms/step - loss: 0.7430 - accuracy: 0.8077 - val_loss: 0.7766 - val_accuracy: 0.8010\n",
            "Epoch 22/70\n",
            "1563/1563 [==============================] - 53s 34ms/step - loss: 0.7346 - accuracy: 0.8126 - val_loss: 0.6906 - val_accuracy: 0.8332\n",
            "Epoch 23/70\n",
            "1563/1563 [==============================] - 52s 33ms/step - loss: 0.7373 - accuracy: 0.8112 - val_loss: 0.7100 - val_accuracy: 0.8280\n",
            "Epoch 24/70\n",
            "1563/1563 [==============================] - 52s 33ms/step - loss: 0.7405 - accuracy: 0.8111 - val_loss: 0.6958 - val_accuracy: 0.8322\n",
            "Epoch 25/70\n",
            "1563/1563 [==============================] - 51s 33ms/step - loss: 0.7201 - accuracy: 0.8207 - val_loss: 0.7005 - val_accuracy: 0.8338\n",
            "Epoch 26/70\n",
            "1563/1563 [==============================] - 51s 33ms/step - loss: 0.7229 - accuracy: 0.8164 - val_loss: 0.7214 - val_accuracy: 0.8257\n",
            "Epoch 27/70\n",
            "1563/1563 [==============================] - 50s 32ms/step - loss: 0.7239 - accuracy: 0.8167 - val_loss: 0.6868 - val_accuracy: 0.8344\n",
            "Epoch 28/70\n",
            "1563/1563 [==============================] - 50s 32ms/step - loss: 0.7221 - accuracy: 0.8189 - val_loss: 0.6925 - val_accuracy: 0.8328\n",
            "Epoch 29/70\n",
            "1563/1563 [==============================] - 50s 32ms/step - loss: 0.7304 - accuracy: 0.8136 - val_loss: 0.6743 - val_accuracy: 0.8408\n",
            "Epoch 30/70\n",
            "1563/1563 [==============================] - 50s 32ms/step - loss: 0.7177 - accuracy: 0.8213 - val_loss: 0.6949 - val_accuracy: 0.8335\n",
            "Epoch 31/70\n",
            "1563/1563 [==============================] - 51s 32ms/step - loss: 0.7083 - accuracy: 0.8236 - val_loss: 0.6752 - val_accuracy: 0.8425\n",
            "Epoch 32/70\n",
            "1563/1563 [==============================] - 52s 33ms/step - loss: 0.7192 - accuracy: 0.8187 - val_loss: 0.6812 - val_accuracy: 0.8419\n",
            "Epoch 33/70\n",
            "1563/1563 [==============================] - 52s 33ms/step - loss: 0.7201 - accuracy: 0.8200 - val_loss: 0.7100 - val_accuracy: 0.8280\n",
            "Epoch 34/70\n",
            "1563/1563 [==============================] - 51s 33ms/step - loss: 0.7162 - accuracy: 0.8231 - val_loss: 0.6780 - val_accuracy: 0.8394\n",
            "Epoch 35/70\n",
            "1563/1563 [==============================] - 51s 32ms/step - loss: 0.7129 - accuracy: 0.8235 - val_loss: 0.6480 - val_accuracy: 0.8558\n",
            "Epoch 36/70\n",
            "1563/1563 [==============================] - 51s 33ms/step - loss: 0.7088 - accuracy: 0.8250 - val_loss: 0.6879 - val_accuracy: 0.8380\n",
            "Epoch 37/70\n",
            "1563/1563 [==============================] - 51s 33ms/step - loss: 0.7219 - accuracy: 0.8210 - val_loss: 0.6917 - val_accuracy: 0.8382\n",
            "Epoch 38/70\n",
            "1563/1563 [==============================] - 52s 33ms/step - loss: 0.7023 - accuracy: 0.8288 - val_loss: 0.6752 - val_accuracy: 0.8418\n",
            "Epoch 39/70\n",
            "1563/1563 [==============================] - 51s 33ms/step - loss: 0.7086 - accuracy: 0.8257 - val_loss: 0.7317 - val_accuracy: 0.8264\n",
            "Epoch 40/70\n",
            "1563/1563 [==============================] - 51s 33ms/step - loss: 0.7123 - accuracy: 0.8233 - val_loss: 0.6816 - val_accuracy: 0.8387\n",
            "Epoch 41/70\n",
            "1563/1563 [==============================] - 52s 33ms/step - loss: 0.7149 - accuracy: 0.8244 - val_loss: 0.7040 - val_accuracy: 0.8366\n",
            "Epoch 42/70\n",
            "1563/1563 [==============================] - 52s 33ms/step - loss: 0.7037 - accuracy: 0.8293 - val_loss: 0.6896 - val_accuracy: 0.8422\n",
            "Epoch 43/70\n",
            "1563/1563 [==============================] - 52s 33ms/step - loss: 0.7005 - accuracy: 0.8277 - val_loss: 0.6784 - val_accuracy: 0.8405\n",
            "Epoch 44/70\n",
            "1563/1563 [==============================] - 52s 33ms/step - loss: 0.7104 - accuracy: 0.8246 - val_loss: 0.7033 - val_accuracy: 0.8330\n",
            "Epoch 45/70\n",
            "1563/1563 [==============================] - 52s 33ms/step - loss: 0.7007 - accuracy: 0.8292 - val_loss: 0.6685 - val_accuracy: 0.8485\n",
            "Epoch 46/70\n",
            "1563/1563 [==============================] - 52s 34ms/step - loss: 0.6945 - accuracy: 0.8340 - val_loss: 0.6555 - val_accuracy: 0.8471\n",
            "Epoch 47/70\n",
            "1563/1563 [==============================] - 52s 33ms/step - loss: 0.6847 - accuracy: 0.8365 - val_loss: 0.6608 - val_accuracy: 0.8450\n",
            "Epoch 48/70\n",
            "1563/1563 [==============================] - 53s 34ms/step - loss: 0.6926 - accuracy: 0.8324 - val_loss: 0.6525 - val_accuracy: 0.8486\n",
            "Epoch 49/70\n",
            "1563/1563 [==============================] - 52s 33ms/step - loss: 0.7012 - accuracy: 0.8299 - val_loss: 0.7258 - val_accuracy: 0.8353\n",
            "Epoch 50/70\n",
            "1563/1563 [==============================] - 52s 33ms/step - loss: 0.7012 - accuracy: 0.8290 - val_loss: 0.6620 - val_accuracy: 0.8467\n",
            "Epoch 51/70\n",
            "1563/1563 [==============================] - 52s 34ms/step - loss: 0.6968 - accuracy: 0.8306 - val_loss: 0.6992 - val_accuracy: 0.8362\n",
            "Epoch 52/70\n",
            "1563/1563 [==============================] - 52s 33ms/step - loss: 0.7000 - accuracy: 0.8295 - val_loss: 0.6535 - val_accuracy: 0.8509\n",
            "Epoch 53/70\n",
            "1563/1563 [==============================] - 52s 34ms/step - loss: 0.7011 - accuracy: 0.8291 - val_loss: 0.7033 - val_accuracy: 0.8358\n",
            "Epoch 54/70\n",
            "1563/1563 [==============================] - 53s 34ms/step - loss: 0.6943 - accuracy: 0.8316 - val_loss: 0.7169 - val_accuracy: 0.8316\n",
            "Epoch 55/70\n",
            "1563/1563 [==============================] - 53s 34ms/step - loss: 0.6917 - accuracy: 0.8303 - val_loss: 0.7459 - val_accuracy: 0.8268\n",
            "Epoch 56/70\n",
            "1563/1563 [==============================] - 53s 34ms/step - loss: 0.6854 - accuracy: 0.8343 - val_loss: 0.6901 - val_accuracy: 0.8358\n",
            "Epoch 57/70\n",
            "1563/1563 [==============================] - 53s 34ms/step - loss: 0.6894 - accuracy: 0.8339 - val_loss: 0.6379 - val_accuracy: 0.8611\n",
            "Epoch 58/70\n",
            "1563/1563 [==============================] - 53s 34ms/step - loss: 0.6926 - accuracy: 0.8342 - val_loss: 0.7194 - val_accuracy: 0.8363\n",
            "Epoch 59/70\n",
            "1563/1563 [==============================] - 53s 34ms/step - loss: 0.6982 - accuracy: 0.8316 - val_loss: 0.6897 - val_accuracy: 0.8448\n",
            "Epoch 60/70\n",
            "1563/1563 [==============================] - 53s 34ms/step - loss: 0.7000 - accuracy: 0.8315 - val_loss: 0.7026 - val_accuracy: 0.8358\n",
            "Epoch 61/70\n",
            "1563/1563 [==============================] - 53s 34ms/step - loss: 0.7002 - accuracy: 0.8339 - val_loss: 0.7288 - val_accuracy: 0.8309\n",
            "Epoch 62/70\n",
            "1563/1563 [==============================] - 53s 34ms/step - loss: 0.6888 - accuracy: 0.8349 - val_loss: 0.6957 - val_accuracy: 0.8441\n",
            "Epoch 63/70\n",
            "1563/1563 [==============================] - 53s 34ms/step - loss: 0.6897 - accuracy: 0.8348 - val_loss: 0.6995 - val_accuracy: 0.8356\n",
            "Epoch 64/70\n",
            "1563/1563 [==============================] - 54s 34ms/step - loss: 0.6810 - accuracy: 0.8381 - val_loss: 0.6871 - val_accuracy: 0.8452\n",
            "Epoch 65/70\n",
            "1563/1563 [==============================] - 54s 34ms/step - loss: 0.6809 - accuracy: 0.8374 - val_loss: 0.6355 - val_accuracy: 0.8596\n",
            "Epoch 66/70\n",
            "1563/1563 [==============================] - 53s 34ms/step - loss: 0.6850 - accuracy: 0.8376 - val_loss: 0.6302 - val_accuracy: 0.8579\n",
            "Epoch 67/70\n",
            "1563/1563 [==============================] - 53s 34ms/step - loss: 0.6821 - accuracy: 0.8366 - val_loss: 0.6987 - val_accuracy: 0.8420\n",
            "Epoch 68/70\n",
            "1563/1563 [==============================] - 53s 34ms/step - loss: 0.6859 - accuracy: 0.8368 - val_loss: 0.7110 - val_accuracy: 0.8300\n",
            "Epoch 69/70\n",
            "1563/1563 [==============================] - 53s 34ms/step - loss: 0.6825 - accuracy: 0.8378 - val_loss: 0.6685 - val_accuracy: 0.8499\n",
            "Epoch 70/70\n",
            "1563/1563 [==============================] - 53s 34ms/step - loss: 0.6810 - accuracy: 0.8382 - val_loss: 0.6465 - val_accuracy: 0.8499\n"
          ],
          "name": "stdout"
        }
      ]
    },
    {
      "cell_type": "code",
      "metadata": {
        "id": "hJ0eSeQfMo1x"
      },
      "source": [
        "# acc_1.append(history.history['accuracy'])\n",
        "# val_acc_1.append(history.history['val_accuracy'])\n",
        "\n",
        "# loss.append(history.history['loss'])\n",
        "# Vloss.append(history.history['val_loss'])"
      ],
      "execution_count": null,
      "outputs": []
    },
    {
      "cell_type": "code",
      "metadata": {
        "id": "-s0FQOl5d9h4"
      },
      "source": [
        "acc_1 = history.history['accuracy']\n",
        "val_acc_1 = history.history['val_accuracy']"
      ],
      "execution_count": null,
      "outputs": []
    },
    {
      "cell_type": "code",
      "metadata": {
        "id": "NetOPNdvur-t",
        "colab": {
          "base_uri": "https://localhost:8080/"
        },
        "outputId": "92ad796d-0eea-4f0a-c134-e35ac897735d"
      },
      "source": [
        "#Save these values in your jsonm\n",
        "record_Results(\"acc_1\",acc_1)\n",
        "record_Results(\"val_acc_1\",val_acc_1)"
      ],
      "execution_count": null,
      "outputs": [
        {
          "output_type": "stream",
          "text": [
            "Mounted at /content/drive\n",
            "recorded\n",
            "Drive already mounted at /content/drive; to attempt to forcibly remount, call drive.mount(\"/content/drive\", force_remount=True).\n",
            "recorded\n"
          ],
          "name": "stdout"
        }
      ]
    },
    {
      "cell_type": "code",
      "metadata": {
        "id": "4nKamdPXux0d",
        "colab": {
          "base_uri": "https://localhost:8080/"
        },
        "outputId": "92bf3745-896b-4eaf-ff49-7052755d0381"
      },
      "source": [
        "#Get the saved results\n",
        "acc_1 = Get_Results(\"acc_1\")[\"acc_1\"]\n",
        "val_acc_1 = Get_Results(\"val_acc_1\")[\"val_acc_1\"]"
      ],
      "execution_count": null,
      "outputs": [
        {
          "output_type": "stream",
          "text": [
            "Mounted at /content/drive\n",
            "Drive already mounted at /content/drive; to attempt to forcibly remount, call drive.mount(\"/content/drive\", force_remount=True).\n"
          ],
          "name": "stdout"
        }
      ]
    },
    {
      "cell_type": "code",
      "metadata": {
        "id": "gtyDF0MKUcM7",
        "colab": {
          "base_uri": "https://localhost:8080/",
          "height": 279
        },
        "outputId": "2e791e3a-2b97-49d8-ae79-5ec31bc16aff"
      },
      "source": [
        "plt.plot(acc_1, label='accuracy')\n",
        "plt.plot(val_acc_1, label = 'val_accuracy')\n",
        "plt.xlabel('Epoch')\n",
        "plt.ylabel('Accuracy')\n",
        "plt.legend(loc='lower right')\n",
        "plt.show()\n",
        "\n",
        "# test_loss, test_acc = model.evaluate(test_images,  test_labels, verbose=2)\n",
        "\n",
        "# plt.plot(loss, label='loss')\n",
        "# plt.plot(Vloss, label = 'val_loss')\n",
        "# plt.xlabel('Epoch')\n",
        "# plt.ylabel('loss')\n",
        "# plt.legend(loc='lower right')\n",
        "# plt.show()"
      ],
      "execution_count": null,
      "outputs": [
        {
          "output_type": "display_data",
          "data": {
            "image/png": "[encoded data removed]",
            "text/plain": [
              "<Figure size 432x288 with 1 Axes>"
            ]
          },
          "metadata": {
            "tags": [],
            "needs_background": "light"
          }
        }
      ]
    },
    {
      "cell_type": "markdown",
      "metadata": {
        "id": "p8bP4hOz8PbR"
      },
      "source": [
        "**LR ∝ BS/Epoch**"
      ]
    },
    {
      "cell_type": "code",
      "metadata": {
        "id": "hGg5WxHXhj5G",
        "colab": {
          "base_uri": "https://localhost:8080/"
        },
        "outputId": "c9ed54dd-f08d-4130-c2df-3c777c90be46"
      },
      "source": [
        "model = cifar10_model()\n",
        "from random import random\n",
        "from keras.callbacks import LearningRateScheduler\n",
        "\n",
        "LR = 0.01\n",
        "epoch = 1\n",
        "batch_size = 100\n",
        "\n",
        "val_acc = []\n",
        "acc = []\n",
        "val_loss = []\n",
        "loss = []\n",
        "l_r = []\n",
        "\n",
        "num = 0\n",
        "\n",
        "x = 0\n",
        "# kr = lr\n",
        "for z,batch_size in zip(range(1,epoo),range(5,10000,5)):\n",
        "\n",
        "  # if (z%2 == 0):\n",
        "  LR = random() * batch_size/10000\n",
        "  # lr.append(LR)\n",
        "  # else:\n",
        "  #   LR = random() * z/10000\n",
        "  # lr.append(LR)\n",
        "\n",
        "  print(\"\\n\\nepoch {z}, Learning Rate {LR}, Batch Size  {batch_size} \"\n",
        "                    .format(z=z,LR=LR,batch_size=batch_size))\n",
        "\n",
        "  def set_LR(epoch,lr):\n",
        "    global LR\n",
        "    global l_r\n",
        "    global x\n",
        "    global lord_LR \n",
        "\n",
        "    LR=lord_LR[x]\n",
        "    x+=1\n",
        "    if(LR>0.009):\n",
        "      LR = 0.009\n",
        "    l_r.append(LR)\n",
        "    return LR\n",
        "\n",
        "  call = [ LearningRateScheduler(set_LR,verbose=1) ]\n",
        "\n",
        "  history = model.fit(\n",
        "            datagen.flow(x_train, y_train), \n",
        "            validation_data=(x_test, y_test),\n",
        "            epochs=epoch,\n",
        "            batch_size=batch_size,\n",
        "            callbacks=call\n",
        "            )\n",
        "\n",
        "\n",
        "\n",
        "  acc.append(history.history['accuracy'])\n",
        "  val_acc.append(history.history['val_accuracy'])\n",
        "  loss.append(history.history['loss'])\n",
        "  val_loss.append(history.history['val_loss'])\n",
        "\n",
        "  # if(num >= 50 ):\n",
        "  #   x = input(\"type anything if you want to continue >  \")\n",
        "  #   num = 0\n",
        "  # num += 1\n"
      ],
      "execution_count": null,
      "outputs": [
        {
          "output_type": "stream",
          "text": [
            "\n",
            "\n",
            "epoch 1, Learning Rate 0.0003490910453657519, Batch Size  5 \n",
            "\n",
            "Epoch 00001: LearningRateScheduler reducing learning rate to 3.57850405827731e-05.\n",
            "1563/1563 [==============================] - 60s 38ms/step - loss: 3.4384 - accuracy: 0.2003 - val_loss: 1.7553 - val_accuracy: 0.4231\n",
            "\n",
            "\n",
            "epoch 2, Learning Rate 0.0006287883480594825, Batch Size  10 \n",
            "\n",
            "Epoch 00001: LearningRateScheduler reducing learning rate to 0.0006569039477094487.\n",
            "1563/1563 [==============================] - 55s 35ms/step - loss: 1.8849 - accuracy: 0.4128 - val_loss: 1.5925 - val_accuracy: 0.4982\n",
            "\n",
            "\n",
            "epoch 3, Learning Rate 0.0007123182840531638, Batch Size  15 \n",
            "\n",
            "Epoch 00001: LearningRateScheduler reducing learning rate to 0.0014106014828480934.\n",
            "1563/1563 [==============================] - 55s 35ms/step - loss: 1.4974 - accuracy: 0.5258 - val_loss: 1.3053 - val_accuracy: 0.6032\n",
            "\n",
            "\n",
            "epoch 4, Learning Rate 0.0006140941073721211, Batch Size  20 \n",
            "\n",
            "Epoch 00001: LearningRateScheduler reducing learning rate to 0.000984510195028019.\n",
            "1563/1563 [==============================] - 54s 35ms/step - loss: 1.0962 - accuracy: 0.6345 - val_loss: 0.9513 - val_accuracy: 0.6958\n",
            "\n",
            "\n",
            "epoch 5, Learning Rate 0.0024439668031077558, Batch Size  25 \n",
            "\n",
            "Epoch 00001: LearningRateScheduler reducing learning rate to 0.0016627634361678935.\n",
            "1563/1563 [==============================] - 54s 34ms/step - loss: 1.0429 - accuracy: 0.6607 - val_loss: 1.0712 - val_accuracy: 0.6853\n",
            "\n",
            "\n",
            "epoch 6, Learning Rate 0.00033227941538625815, Batch Size  30 \n",
            "\n",
            "Epoch 00001: LearningRateScheduler reducing learning rate to 0.0016760389331184238.\n",
            "1563/1563 [==============================] - 53s 34ms/step - loss: 0.9691 - accuracy: 0.6965 - val_loss: 0.8736 - val_accuracy: 0.7370\n",
            "\n",
            "\n",
            "epoch 7, Learning Rate 0.0017237235877820556, Batch Size  35 \n",
            "\n",
            "Epoch 00001: LearningRateScheduler reducing learning rate to 0.000292810659941182.\n",
            "1563/1563 [==============================] - 52s 33ms/step - loss: 0.8192 - accuracy: 0.7551 - val_loss: 0.7425 - val_accuracy: 0.7889\n",
            "\n",
            "\n",
            "epoch 8, Learning Rate 0.0035394222976235005, Batch Size  40 \n",
            "\n",
            "Epoch 00001: LearningRateScheduler reducing learning rate to 0.0036346604147991526.\n",
            "1563/1563 [==============================] - 52s 33ms/step - loss: 1.1481 - accuracy: 0.6726 - val_loss: 1.1261 - val_accuracy: 0.7103\n",
            "\n",
            "\n",
            "epoch 9, Learning Rate 0.0035750811649742347, Batch Size  45 \n",
            "\n",
            "Epoch 00001: LearningRateScheduler reducing learning rate to 0.001218495159473177.\n",
            "1563/1563 [==============================] - 52s 33ms/step - loss: 0.9637 - accuracy: 0.7464 - val_loss: 0.8780 - val_accuracy: 0.7723\n",
            "\n",
            "\n",
            "epoch 10, Learning Rate 0.0006509916253106206, Batch Size  50 \n",
            "\n",
            "Epoch 00001: LearningRateScheduler reducing learning rate to 0.0006265568374084723.\n",
            "1563/1563 [==============================] - 51s 33ms/step - loss: 0.8457 - accuracy: 0.7770 - val_loss: 0.7809 - val_accuracy: 0.7980\n",
            "\n",
            "\n",
            "epoch 11, Learning Rate 0.0011570983846639178, Batch Size  55 \n",
            "\n",
            "Epoch 00001: LearningRateScheduler reducing learning rate to 0.004801427926079448.\n",
            "1563/1563 [==============================] - 51s 33ms/step - loss: 1.2714 - accuracy: 0.6721 - val_loss: 1.2146 - val_accuracy: 0.7081\n",
            "\n",
            "\n",
            "epoch 12, Learning Rate 0.005148307183463492, Batch Size  60 \n",
            "\n",
            "Epoch 00001: LearningRateScheduler reducing learning rate to 0.003521214466771984.\n",
            "1563/1563 [==============================] - 51s 33ms/step - loss: 1.1811 - accuracy: 0.7084 - val_loss: 1.0924 - val_accuracy: 0.7392\n",
            "\n",
            "\n",
            "epoch 13, Learning Rate 0.0024350404856081005, Batch Size  65 \n",
            "\n",
            "Epoch 00001: LearningRateScheduler reducing learning rate to 0.006306573394187352.\n",
            "1563/1563 [==============================] - 51s 33ms/step - loss: 1.4165 - accuracy: 0.6605 - val_loss: 1.4869 - val_accuracy: 0.6466\n",
            "\n",
            "\n",
            "epoch 14, Learning Rate 0.00252485180011738, Batch Size  70 \n",
            "\n",
            "Epoch 00001: LearningRateScheduler reducing learning rate to 0.002270059736345379.\n",
            "1563/1563 [==============================] - 50s 32ms/step - loss: 1.1345 - accuracy: 0.7316 - val_loss: 0.9875 - val_accuracy: 0.7714\n",
            "\n",
            "\n",
            "epoch 15, Learning Rate 0.0009566659376257105, Batch Size  75 \n",
            "\n",
            "Epoch 00001: LearningRateScheduler reducing learning rate to 0.0007915492139275858.\n",
            "1563/1563 [==============================] - 50s 32ms/step - loss: 0.9349 - accuracy: 0.7706 - val_loss: 0.8944 - val_accuracy: 0.7891\n",
            "\n",
            "\n",
            "epoch 16, Learning Rate 0.0008283644107992157, Batch Size  80 \n",
            "\n",
            "Epoch 00001: LearningRateScheduler reducing learning rate to 0.005355733832673969.\n",
            "1563/1563 [==============================] - 51s 33ms/step - loss: 1.3023 - accuracy: 0.6821 - val_loss: 1.2270 - val_accuracy: 0.7214\n",
            "\n",
            "\n",
            "epoch 17, Learning Rate 0.004582832590077104, Batch Size  85 \n",
            "\n",
            "Epoch 00001: LearningRateScheduler reducing learning rate to 0.005538284167983678.\n",
            "1563/1563 [==============================] - 51s 33ms/step - loss: 1.3190 - accuracy: 0.6828 - val_loss: 1.2651 - val_accuracy: 0.7114\n",
            "\n",
            "\n",
            "epoch 18, Learning Rate 0.006474410110694431, Batch Size  90 \n",
            "\n",
            "Epoch 00001: LearningRateScheduler reducing learning rate to 0.004545239958803063.\n",
            "1563/1563 [==============================] - 51s 32ms/step - loss: 1.2375 - accuracy: 0.7012 - val_loss: 1.0682 - val_accuracy: 0.7592\n",
            "\n",
            "\n",
            "epoch 19, Learning Rate 0.005292813622187892, Batch Size  95 \n",
            "\n",
            "Epoch 00001: LearningRateScheduler reducing learning rate to 0.0037877710933418777.\n",
            "1563/1563 [==============================] - 51s 33ms/step - loss: 1.1540 - accuracy: 0.7185 - val_loss: 1.0879 - val_accuracy: 0.7427\n",
            "\n",
            "\n",
            "epoch 20, Learning Rate 0.007882717584767369, Batch Size  100 \n",
            "\n",
            "Epoch 00001: LearningRateScheduler reducing learning rate to 0.004133129563351219.\n",
            "1563/1563 [==============================] - 52s 33ms/step - loss: 1.1542 - accuracy: 0.7137 - val_loss: 1.0690 - val_accuracy: 0.7524\n",
            "\n",
            "\n",
            "epoch 21, Learning Rate 0.00364712105793927, Batch Size  105 \n",
            "\n",
            "Epoch 00001: LearningRateScheduler reducing learning rate to 0.005474522452165208.\n",
            "1563/1563 [==============================] - 52s 33ms/step - loss: 1.2523 - accuracy: 0.6952 - val_loss: 1.2167 - val_accuracy: 0.7226\n",
            "\n",
            "\n",
            "epoch 22, Learning Rate 0.004680136612174258, Batch Size  110 \n",
            "\n",
            "Epoch 00001: LearningRateScheduler reducing learning rate to 0.004383634064022932.\n",
            "1563/1563 [==============================] - 52s 33ms/step - loss: 1.1765 - accuracy: 0.7112 - val_loss: 1.1432 - val_accuracy: 0.7291\n",
            "\n",
            "\n",
            "epoch 23, Learning Rate 0.008720698799022649, Batch Size  115 \n",
            "\n",
            "Epoch 00001: LearningRateScheduler reducing learning rate to 0.00172308060406111.\n",
            "1563/1563 [==============================] - 52s 33ms/step - loss: 0.9888 - accuracy: 0.7586 - val_loss: 0.8823 - val_accuracy: 0.7935\n",
            "\n",
            "\n",
            "epoch 24, Learning Rate 0.004660410605564577, Batch Size  120 \n",
            "\n",
            "Epoch 00001: LearningRateScheduler reducing learning rate to 0.009.\n",
            "1563/1563 [==============================] - 51s 33ms/step - loss: 1.5768 - accuracy: 0.6313 - val_loss: 1.5225 - val_accuracy: 0.6646\n",
            "\n",
            "\n",
            "epoch 25, Learning Rate 0.002357705349193109, Batch Size  125 \n",
            "\n",
            "Epoch 00001: LearningRateScheduler reducing learning rate to 0.009.\n",
            "1563/1563 [==============================] - 51s 32ms/step - loss: 1.5322 - accuracy: 0.6413 - val_loss: 1.4469 - val_accuracy: 0.6745\n",
            "\n",
            "\n",
            "epoch 26, Learning Rate 0.009995245739144695, Batch Size  130 \n",
            "\n",
            "Epoch 00001: LearningRateScheduler reducing learning rate to 0.00565359034430531.\n",
            "1563/1563 [==============================] - 51s 33ms/step - loss: 1.3044 - accuracy: 0.6861 - val_loss: 1.2460 - val_accuracy: 0.7140\n",
            "\n",
            "\n",
            "epoch 27, Learning Rate 0.01101491450037365, Batch Size  135 \n",
            "\n",
            "Epoch 00001: LearningRateScheduler reducing learning rate to 0.009.\n",
            "1563/1563 [==============================] - 50s 32ms/step - loss: 1.5414 - accuracy: 0.6360 - val_loss: 1.5375 - val_accuracy: 0.6606\n",
            "\n",
            "\n",
            "epoch 28, Learning Rate 0.013198880833112181, Batch Size  140 \n",
            "\n",
            "Epoch 00001: LearningRateScheduler reducing learning rate to 0.005770291824261296.\n",
            "1563/1563 [==============================] - 50s 32ms/step - loss: 1.3054 - accuracy: 0.6834 - val_loss: 1.1605 - val_accuracy: 0.7253\n",
            "\n",
            "\n",
            "epoch 29, Learning Rate 0.00956795821837722, Batch Size  145 \n",
            "\n",
            "Epoch 00001: LearningRateScheduler reducing learning rate to 0.0012743362791733865.\n",
            "1563/1563 [==============================] - 50s 32ms/step - loss: 1.0472 - accuracy: 0.7436 - val_loss: 0.8636 - val_accuracy: 0.8020\n",
            "\n",
            "\n",
            "epoch 30, Learning Rate 0.003929232316164038, Batch Size  150 \n",
            "\n",
            "Epoch 00001: LearningRateScheduler reducing learning rate to 0.004363441850236093.\n",
            "1563/1563 [==============================] - 50s 32ms/step - loss: 1.1381 - accuracy: 0.7105 - val_loss: 1.2602 - val_accuracy: 0.6805\n",
            "\n",
            "\n",
            "epoch 31, Learning Rate 0.013727360061957907, Batch Size  155 \n",
            "\n",
            "Epoch 00001: LearningRateScheduler reducing learning rate to 0.009.\n",
            "1563/1563 [==============================] - 51s 32ms/step - loss: 1.4765 - accuracy: 0.6434 - val_loss: 1.6464 - val_accuracy: 0.6380\n",
            "\n",
            "\n",
            "epoch 32, Learning Rate 0.0006162697459276405, Batch Size  160 \n",
            "\n",
            "Epoch 00001: LearningRateScheduler reducing learning rate to 0.009.\n",
            "1563/1563 [==============================] - 51s 33ms/step - loss: 1.4869 - accuracy: 0.6450 - val_loss: 1.5445 - val_accuracy: 0.6534\n",
            "\n",
            "\n",
            "epoch 33, Learning Rate 0.0061857630677117316, Batch Size  165 \n",
            "\n",
            "Epoch 00001: LearningRateScheduler reducing learning rate to 0.009.\n",
            "1563/1563 [==============================] - 51s 33ms/step - loss: 1.4695 - accuracy: 0.6483 - val_loss: 1.3392 - val_accuracy: 0.6969\n",
            "\n",
            "\n",
            "epoch 34, Learning Rate 0.005386923188484316, Batch Size  170 \n",
            "\n",
            "Epoch 00001: LearningRateScheduler reducing learning rate to 0.002264578254867348.\n",
            "1563/1563 [==============================] - 51s 33ms/step - loss: 1.1391 - accuracy: 0.7202 - val_loss: 0.9634 - val_accuracy: 0.7633\n",
            "\n",
            "\n",
            "epoch 35, Learning Rate 0.01632911335456995, Batch Size  175 \n",
            "\n",
            "Epoch 00001: LearningRateScheduler reducing learning rate to 0.009.\n",
            "1563/1563 [==============================] - 51s 33ms/step - loss: 1.4820 - accuracy: 0.6364 - val_loss: 1.9205 - val_accuracy: 0.5246\n",
            "\n",
            "\n",
            "epoch 36, Learning Rate 0.016688240536563297, Batch Size  180 \n",
            "\n",
            "Epoch 00001: LearningRateScheduler reducing learning rate to 0.001514722637403365.\n",
            "1563/1563 [==============================] - 51s 33ms/step - loss: 1.1426 - accuracy: 0.7248 - val_loss: 0.9405 - val_accuracy: 0.7728\n",
            "\n",
            "\n",
            "epoch 37, Learning Rate 0.0002983616774605485, Batch Size  185 \n",
            "\n",
            "Epoch 00001: LearningRateScheduler reducing learning rate to 0.0035663943471948263.\n",
            "1563/1563 [==============================] - 50s 32ms/step - loss: 1.0913 - accuracy: 0.7175 - val_loss: 1.1459 - val_accuracy: 0.7231\n",
            "\n",
            "\n",
            "epoch 38, Learning Rate 0.013383659193776737, Batch Size  190 \n",
            "\n",
            "Epoch 00001: LearningRateScheduler reducing learning rate to 0.003927209123430085.\n",
            "1563/1563 [==============================] - 50s 32ms/step - loss: 1.0720 - accuracy: 0.7190 - val_loss: 1.0154 - val_accuracy: 0.7490\n",
            "\n",
            "\n",
            "epoch 39, Learning Rate 0.005413611912342305, Batch Size  195 \n",
            "\n",
            "Epoch 00001: LearningRateScheduler reducing learning rate to 0.005539729097381397.\n",
            "1563/1563 [==============================] - 50s 32ms/step - loss: 1.1735 - accuracy: 0.6956 - val_loss: 1.0989 - val_accuracy: 0.7210\n",
            "\n",
            "\n",
            "epoch 40, Learning Rate 0.013602678237546122, Batch Size  200 \n",
            "\n",
            "Epoch 00001: LearningRateScheduler reducing learning rate to 0.009.\n",
            "1563/1563 [==============================] - 50s 32ms/step - loss: 1.3902 - accuracy: 0.6522 - val_loss: 1.3914 - val_accuracy: 0.6705\n",
            "\n",
            "\n",
            "epoch 41, Learning Rate 0.007379348929442383, Batch Size  205 \n",
            "\n",
            "Epoch 00001: LearningRateScheduler reducing learning rate to 0.009.\n",
            "1563/1563 [==============================] - 50s 32ms/step - loss: 1.4133 - accuracy: 0.6514 - val_loss: 1.3355 - val_accuracy: 0.6870\n",
            "\n",
            "\n",
            "epoch 42, Learning Rate 0.015312925969848235, Batch Size  210 \n",
            "\n",
            "Epoch 00001: LearningRateScheduler reducing learning rate to 0.009.\n",
            "1563/1563 [==============================] - 50s 32ms/step - loss: 1.4218 - accuracy: 0.6480 - val_loss: 1.6802 - val_accuracy: 0.6291\n",
            "\n",
            "\n",
            "epoch 43, Learning Rate 0.006908239369463838, Batch Size  215 \n",
            "\n",
            "Epoch 00001: LearningRateScheduler reducing learning rate to 0.009.\n",
            "1563/1563 [==============================] - 49s 32ms/step - loss: 1.4110 - accuracy: 0.6474 - val_loss: 1.6450 - val_accuracy: 0.6093\n",
            "\n",
            "\n",
            "epoch 44, Learning Rate 0.0035891974688006924, Batch Size  220 \n",
            "\n",
            "Epoch 00001: LearningRateScheduler reducing learning rate to 0.0030100537510977317.\n",
            "1563/1563 [==============================] - 50s 32ms/step - loss: 1.1217 - accuracy: 0.7172 - val_loss: 1.0372 - val_accuracy: 0.7460\n",
            "\n",
            "\n",
            "epoch 45, Learning Rate 0.007497353201609394, Batch Size  225 \n",
            "\n",
            "Epoch 00001: LearningRateScheduler reducing learning rate to 0.005572081252130922.\n",
            "1563/1563 [==============================] - 49s 31ms/step - loss: 1.1700 - accuracy: 0.6941 - val_loss: 1.0332 - val_accuracy: 0.7411\n",
            "\n",
            "\n",
            "epoch 46, Learning Rate 0.0046436953796071285, Batch Size  230 \n",
            "\n",
            "Epoch 00001: LearningRateScheduler reducing learning rate to 0.009.\n",
            "1563/1563 [==============================] - 49s 31ms/step - loss: 1.3730 - accuracy: 0.6479 - val_loss: 1.4037 - val_accuracy: 0.6851\n",
            "\n",
            "\n",
            "epoch 47, Learning Rate 0.007009287774019991, Batch Size  235 \n",
            "\n",
            "Epoch 00001: LearningRateScheduler reducing learning rate to 0.003560079847867041.\n",
            "1563/1563 [==============================] - 50s 32ms/step - loss: 1.1201 - accuracy: 0.7162 - val_loss: 1.0005 - val_accuracy: 0.7455\n",
            "\n",
            "\n",
            "epoch 48, Learning Rate 0.00888161234462651, Batch Size  240 \n",
            "\n",
            "Epoch 00001: LearningRateScheduler reducing learning rate to 0.009.\n",
            "1563/1563 [==============================] - 50s 32ms/step - loss: 1.3817 - accuracy: 0.6506 - val_loss: 1.5616 - val_accuracy: 0.6353\n",
            "\n",
            "\n",
            "epoch 49, Learning Rate 0.012031555902998519, Batch Size  245 \n",
            "\n",
            "Epoch 00001: LearningRateScheduler reducing learning rate to 0.0007643983339744026.\n",
            "1563/1563 [==============================] - 50s 32ms/step - loss: 1.1286 - accuracy: 0.7297 - val_loss: 0.9713 - val_accuracy: 0.7704\n",
            "\n",
            "\n",
            "epoch 50, Learning Rate 0.001361526571752114, Batch Size  250 \n",
            "\n",
            "Epoch 00001: LearningRateScheduler reducing learning rate to 0.009.\n",
            "1563/1563 [==============================] - 50s 32ms/step - loss: 1.4260 - accuracy: 0.6450 - val_loss: 1.2803 - val_accuracy: 0.7044\n",
            "\n",
            "\n",
            "epoch 51, Learning Rate 0.022734554353229745, Batch Size  255 \n",
            "\n",
            "Epoch 00001: LearningRateScheduler reducing learning rate to 0.009.\n",
            "1563/1563 [==============================] - 51s 33ms/step - loss: 1.3971 - accuracy: 0.6516 - val_loss: 1.2737 - val_accuracy: 0.6928\n",
            "\n",
            "\n",
            "epoch 52, Learning Rate 0.005672884834713205, Batch Size  260 \n",
            "\n",
            "Epoch 00001: LearningRateScheduler reducing learning rate to 0.009.\n",
            "1563/1563 [==============================] - 51s 33ms/step - loss: 1.3909 - accuracy: 0.6481 - val_loss: 1.5865 - val_accuracy: 0.6157\n",
            "\n",
            "\n",
            "epoch 53, Learning Rate 0.013588594667758714, Batch Size  265 \n",
            "\n",
            "Epoch 00001: LearningRateScheduler reducing learning rate to 0.009.\n",
            "1563/1563 [==============================] - 50s 32ms/step - loss: 1.3901 - accuracy: 0.6485 - val_loss: 1.2122 - val_accuracy: 0.7003\n",
            "\n",
            "\n",
            "epoch 54, Learning Rate 0.007581050698055625, Batch Size  270 \n",
            "\n",
            "Epoch 00001: LearningRateScheduler reducing learning rate to 0.002217603532641493.\n",
            "1563/1563 [==============================] - 51s 32ms/step - loss: 1.1021 - accuracy: 0.7209 - val_loss: 0.9142 - val_accuracy: 0.7738\n",
            "\n",
            "\n",
            "epoch 55, Learning Rate 0.009927569723553846, Batch Size  275 \n",
            "\n",
            "Epoch 00001: LearningRateScheduler reducing learning rate to 0.009.\n",
            "1563/1563 [==============================] - 51s 32ms/step - loss: 1.3796 - accuracy: 0.6462 - val_loss: 1.3322 - val_accuracy: 0.6857\n",
            "\n",
            "\n",
            "epoch 56, Learning Rate 0.0013817357087219865, Batch Size  280 \n",
            "\n",
            "Epoch 00001: LearningRateScheduler reducing learning rate to 0.009.\n",
            "1563/1563 [==============================] - 50s 32ms/step - loss: 1.3854 - accuracy: 0.6477 - val_loss: 1.6613 - val_accuracy: 0.6049\n",
            "\n",
            "\n",
            "epoch 57, Learning Rate 0.015097921524120005, Batch Size  285 \n",
            "\n",
            "Epoch 00001: LearningRateScheduler reducing learning rate to 0.009.\n",
            "1563/1563 [==============================] - 51s 33ms/step - loss: 1.3750 - accuracy: 0.6472 - val_loss: 1.5183 - val_accuracy: 0.6403\n",
            "\n",
            "\n",
            "epoch 58, Learning Rate 0.005947146587922062, Batch Size  290 \n",
            "\n",
            "Epoch 00001: LearningRateScheduler reducing learning rate to 0.009.\n",
            "1563/1563 [==============================] - 52s 33ms/step - loss: 1.3667 - accuracy: 0.6521 - val_loss: 1.2497 - val_accuracy: 0.6888\n",
            "\n",
            "\n",
            "epoch 59, Learning Rate 0.006036175811476853, Batch Size  295 \n",
            "\n",
            "Epoch 00001: LearningRateScheduler reducing learning rate to 0.009.\n",
            "1563/1563 [==============================] - 51s 33ms/step - loss: 1.3671 - accuracy: 0.6499 - val_loss: 1.3769 - val_accuracy: 0.6622\n",
            "\n",
            "\n",
            "epoch 60, Learning Rate 0.013197782517889192, Batch Size  300 \n",
            "\n",
            "Epoch 00001: LearningRateScheduler reducing learning rate to 0.009.\n",
            "1563/1563 [==============================] - 51s 33ms/step - loss: 1.3659 - accuracy: 0.6505 - val_loss: 1.4825 - val_accuracy: 0.6442\n",
            "\n",
            "\n",
            "epoch 61, Learning Rate 0.025961715778548108, Batch Size  305 \n",
            "\n",
            "Epoch 00001: LearningRateScheduler reducing learning rate to 0.0021173911358971266.\n",
            "1563/1563 [==============================] - 51s 33ms/step - loss: 1.1014 - accuracy: 0.7209 - val_loss: 0.9411 - val_accuracy: 0.7643\n",
            "\n",
            "\n",
            "epoch 62, Learning Rate 0.005277990475747076, Batch Size  310 \n",
            "\n",
            "Epoch 00001: LearningRateScheduler reducing learning rate to 0.009.\n",
            "1563/1563 [==============================] - 50s 32ms/step - loss: 1.3694 - accuracy: 0.6453 - val_loss: 1.3152 - val_accuracy: 0.6863\n",
            "\n",
            "\n",
            "epoch 63, Learning Rate 0.0019902618031505995, Batch Size  315 \n",
            "\n",
            "Epoch 00001: LearningRateScheduler reducing learning rate to 0.0071049694204898825.\n",
            "1563/1563 [==============================] - 51s 33ms/step - loss: 1.2581 - accuracy: 0.6745 - val_loss: 1.2991 - val_accuracy: 0.6994\n",
            "\n",
            "\n",
            "epoch 64, Learning Rate 0.013884826323887383, Batch Size  320 \n",
            "\n",
            "Epoch 00001: LearningRateScheduler reducing learning rate to 0.009.\n",
            "1563/1563 [==============================] - 51s 32ms/step - loss: 1.3475 - accuracy: 0.6517 - val_loss: 1.3002 - val_accuracy: 0.6841\n",
            "\n",
            "\n",
            "epoch 65, Learning Rate 0.018339099687642593, Batch Size  325 \n",
            "\n",
            "Epoch 00001: LearningRateScheduler reducing learning rate to 0.008459424455016277.\n",
            "1563/1563 [==============================] - 51s 33ms/step - loss: 1.3359 - accuracy: 0.6549 - val_loss: 1.4995 - val_accuracy: 0.6418\n",
            "\n",
            "\n",
            "epoch 66, Learning Rate 0.029867253018062513, Batch Size  330 \n",
            "\n",
            "Epoch 00001: LearningRateScheduler reducing learning rate to 0.009.\n",
            "1563/1563 [==============================] - 51s 32ms/step - loss: 1.3557 - accuracy: 0.6501 - val_loss: 1.3419 - val_accuracy: 0.6691\n",
            "\n",
            "\n",
            "epoch 67, Learning Rate 0.02924530094525052, Batch Size  335 \n",
            "\n",
            "Epoch 00001: LearningRateScheduler reducing learning rate to 0.009.\n",
            "1563/1563 [==============================] - 50s 32ms/step - loss: 1.3545 - accuracy: 0.6512 - val_loss: 1.4197 - val_accuracy: 0.6403\n",
            "\n",
            "\n",
            "epoch 68, Learning Rate 0.018676636285010956, Batch Size  340 \n",
            "\n",
            "Epoch 00001: LearningRateScheduler reducing learning rate to 0.007919157970355011.\n",
            "1563/1563 [==============================] - 51s 32ms/step - loss: 1.2940 - accuracy: 0.6637 - val_loss: 1.2198 - val_accuracy: 0.6918\n",
            "\n",
            "\n",
            "epoch 69, Learning Rate 0.027874303134161022, Batch Size  345 \n",
            "\n",
            "Epoch 00001: LearningRateScheduler reducing learning rate to 0.009.\n",
            "1563/1563 [==============================] - 51s 33ms/step - loss: 1.3355 - accuracy: 0.6531 - val_loss: 1.3711 - val_accuracy: 0.6664\n"
          ],
          "name": "stdout"
        }
      ]
    },
    {
      "cell_type": "code",
      "metadata": {
        "id": "rPvUYjMb-U51"
      },
      "source": [
        "acc_2 = acc\n",
        "val_acc_2 = val_acc"
      ],
      "execution_count": null,
      "outputs": []
    },
    {
      "cell_type": "code",
      "metadata": {
        "colab": {
          "base_uri": "https://localhost:8080/"
        },
        "id": "juA91IjMvmr4",
        "outputId": "dd04ee03-1d73-4623-d0a1-3a9006799508"
      },
      "source": [
        "#Save these values in your jsonm\n",
        "record_Results(\"acc_2\",acc_2)\n",
        "record_Results(\"val_acc_2\",val_acc_2)"
      ],
      "execution_count": null,
      "outputs": [
        {
          "output_type": "stream",
          "text": [
            "Drive already mounted at /content/drive; to attempt to forcibly remount, call drive.mount(\"/content/drive\", force_remount=True).\n",
            "recorded\n",
            "Drive already mounted at /content/drive; to attempt to forcibly remount, call drive.mount(\"/content/drive\", force_remount=True).\n",
            "recorded\n"
          ],
          "name": "stdout"
        }
      ]
    },
    {
      "cell_type": "code",
      "metadata": {
        "colab": {
          "base_uri": "https://localhost:8080/"
        },
        "id": "cO5ZF_FXvmr5",
        "outputId": "ec303368-2573-4385-bdd4-68a04e11a468"
      },
      "source": [
        "#Get the saved results\n",
        "acc_2 = Get_Results(\"acc_2\")[\"acc_2\"]\n",
        "val_acc_2 = Get_Results(\"val_acc_2\")[\"val_acc_2\"]"
      ],
      "execution_count": null,
      "outputs": [
        {
          "output_type": "stream",
          "text": [
            "Drive already mounted at /content/drive; to attempt to forcibly remount, call drive.mount(\"/content/drive\", force_remount=True).\n",
            "Drive already mounted at /content/drive; to attempt to forcibly remount, call drive.mount(\"/content/drive\", force_remount=True).\n"
          ],
          "name": "stdout"
        }
      ]
    },
    {
      "cell_type": "code",
      "metadata": {
        "id": "46nEyb5Ohtsc",
        "colab": {
          "base_uri": "https://localhost:8080/",
          "height": 163
        },
        "outputId": "6cc6f97a-b0bb-409a-e924-b5bd0e669d8f"
      },
      "source": [
        "Plotter(acc,val_acc,loss,val_loss,l_r)"
      ],
      "execution_count": null,
      "outputs": [
        {
          "output_type": "error",
          "ename": "NameError",
          "evalue": "ignored",
          "traceback": [
            "\u001b[0;31m---------------------------------------------------------------------------\u001b[0m",
            "\u001b[0;31mNameError\u001b[0m                                 Traceback (most recent call last)",
            "\u001b[0;32m<ipython-input-15-4082314919ef>\u001b[0m in \u001b[0;36m<module>\u001b[0;34m()\u001b[0m\n\u001b[0;32m----> 1\u001b[0;31m \u001b[0mPlotter\u001b[0m\u001b[0;34m(\u001b[0m\u001b[0macc\u001b[0m\u001b[0;34m,\u001b[0m\u001b[0mval_acc\u001b[0m\u001b[0;34m,\u001b[0m\u001b[0mloss\u001b[0m\u001b[0;34m,\u001b[0m\u001b[0mval_loss\u001b[0m\u001b[0;34m,\u001b[0m\u001b[0ml_r\u001b[0m\u001b[0;34m)\u001b[0m\u001b[0;34m\u001b[0m\u001b[0;34m\u001b[0m\u001b[0m\n\u001b[0m",
            "\u001b[0;31mNameError\u001b[0m: name 'acc' is not defined"
          ]
        }
      ]
    },
    {
      "cell_type": "markdown",
      "metadata": {
        "id": "LnLBA5jb03yH"
      },
      "source": [
        "**Keeping batch size constant**"
      ]
    },
    {
      "cell_type": "code",
      "metadata": {
        "id": "1rkPeSC74PtN",
        "colab": {
          "base_uri": "https://localhost:8080/",
          "height": 279
        },
        "outputId": "2f2d537d-899f-45bc-90ab-38b8aab195b8"
      },
      "source": [
        "initial_learning_rate = 0.009\n",
        "decay_steps=5\n",
        "decay_rate=0.5\n",
        "LR = []\n",
        "for i in range(51):\n",
        "  lr = initial_learning_rate * decay_rate **(i / decay_steps)\n",
        "  LR.append(lr)\n",
        "plt.plot(LR, label='LR')\n",
        "# plt.plot(history.history['val_loss'], label = 'val_loss')\n",
        "plt.xlabel('Epoch')\n",
        "plt.ylabel('LR')\n",
        "plt.legend(loc='lower right')\n",
        "plt.show()"
      ],
      "execution_count": null,
      "outputs": [
        {
          "output_type": "display_data",
          "data": {
            "image/png": "[encoded data removed]",
            "text/plain": [
              "<Figure size 432x288 with 1 Axes>"
            ]
          },
          "metadata": {
            "tags": [],
            "needs_background": "light"
          }
        }
      ]
    },
    {
      "cell_type": "code",
      "metadata": {
        "id": "QfKKgrkM0x0n",
        "colab": {
          "base_uri": "https://localhost:8080/"
        },
        "outputId": "7af6fdb2-d2ba-436e-a686-848bb876d8a4"
      },
      "source": [
        "from keras.callbacks import LearningRateScheduler\n",
        "model = cifar10_model()\n",
        "# epoo = 1\n",
        "initial_learning_rate = 0.009\n",
        "decay_steps=5\n",
        "decay_rate=0.5\n",
        "LR = []\n",
        "def setLR(step):\n",
        "  global LR\n",
        "  lr = initial_learning_rate * decay_rate **(step / decay_steps)\n",
        "  LR.append(lr)\n",
        "  print(\"called here\")\n",
        "  return lr\n",
        "\n",
        "call = [ LearningRateScheduler(setLR,verbose=1) ]\n",
        "\n",
        "history = model.fit(\n",
        "            datagen.flow(x_train, y_train), \n",
        "            validation_data=(x_test, y_test),\n",
        "            epochs=epoo,\n",
        "            callbacks=call\n",
        "            )"
      ],
      "execution_count": null,
      "outputs": [
        {
          "output_type": "stream",
          "text": [
            "Epoch 1/70\n",
            "called here\n",
            "\n",
            "Epoch 00001: LearningRateScheduler reducing learning rate to 0.009.\n",
            "1563/1563 [==============================] - 55s 35ms/step - loss: 2.8474 - accuracy: 0.3253 - val_loss: 1.3771 - val_accuracy: 0.5727\n",
            "Epoch 2/70\n",
            "called here\n",
            "\n",
            "Epoch 00002: LearningRateScheduler reducing learning rate to 0.007834955069665117.\n",
            "1563/1563 [==============================] - 53s 34ms/step - loss: 1.4410 - accuracy: 0.5453 - val_loss: 1.4119 - val_accuracy: 0.6079\n",
            "Epoch 3/70\n",
            "called here\n",
            "\n",
            "Epoch 00003: LearningRateScheduler reducing learning rate to 0.006820724549296791.\n",
            "1563/1563 [==============================] - 53s 34ms/step - loss: 1.4032 - accuracy: 0.6005 - val_loss: 1.3633 - val_accuracy: 0.6340\n",
            "Epoch 4/70\n",
            "called here\n",
            "\n",
            "Epoch 00004: LearningRateScheduler reducing learning rate to 0.005937785598478023.\n",
            "1563/1563 [==============================] - 52s 33ms/step - loss: 1.3531 - accuracy: 0.6309 - val_loss: 1.2077 - val_accuracy: 0.6872\n",
            "Epoch 5/70\n",
            "called here\n",
            "\n",
            "Epoch 00005: LearningRateScheduler reducing learning rate to 0.005169142597486656.\n",
            "1563/1563 [==============================] - 53s 34ms/step - loss: 1.2960 - accuracy: 0.6493 - val_loss: 1.3661 - val_accuracy: 0.6564\n",
            "Epoch 6/70\n",
            "called here\n",
            "\n",
            "Epoch 00006: LearningRateScheduler reducing learning rate to 0.0045.\n",
            "1563/1563 [==============================] - 52s 34ms/step - loss: 1.2306 - accuracy: 0.6711 - val_loss: 1.2987 - val_accuracy: 0.6861\n",
            "Epoch 7/70\n",
            "called here\n",
            "\n",
            "Epoch 00007: LearningRateScheduler reducing learning rate to 0.003917477534832558.\n",
            "1563/1563 [==============================] - 52s 33ms/step - loss: 1.1779 - accuracy: 0.6845 - val_loss: 1.1156 - val_accuracy: 0.7078\n",
            "Epoch 8/70\n",
            "called here\n",
            "\n",
            "Epoch 00008: LearningRateScheduler reducing learning rate to 0.0034103622746483957.\n",
            "1563/1563 [==============================] - 52s 33ms/step - loss: 1.1096 - accuracy: 0.7026 - val_loss: 1.0280 - val_accuracy: 0.7259\n",
            "Epoch 9/70\n",
            "called here\n",
            "\n",
            "Epoch 00009: LearningRateScheduler reducing learning rate to 0.0029688927992390117.\n",
            "1563/1563 [==============================] - 52s 33ms/step - loss: 1.0695 - accuracy: 0.7089 - val_loss: 1.0096 - val_accuracy: 0.7388\n",
            "Epoch 10/70\n",
            "called here\n",
            "\n",
            "Epoch 00010: LearningRateScheduler reducing learning rate to 0.002584571298743328.\n",
            "1563/1563 [==============================] - 53s 34ms/step - loss: 1.0182 - accuracy: 0.7207 - val_loss: 0.9537 - val_accuracy: 0.7539\n",
            "Epoch 11/70\n",
            "called here\n",
            "\n",
            "Epoch 00011: LearningRateScheduler reducing learning rate to 0.00225.\n",
            "1563/1563 [==============================] - 53s 34ms/step - loss: 0.9684 - accuracy: 0.7357 - val_loss: 1.0399 - val_accuracy: 0.7222\n",
            "Epoch 12/70\n",
            "called here\n",
            "\n",
            "Epoch 00012: LearningRateScheduler reducing learning rate to 0.0019587387674162788.\n",
            "1563/1563 [==============================] - 53s 34ms/step - loss: 0.9316 - accuracy: 0.7439 - val_loss: 0.8694 - val_accuracy: 0.7694\n",
            "Epoch 13/70\n",
            "called here\n",
            "\n",
            "Epoch 00013: LearningRateScheduler reducing learning rate to 0.0017051811373241979.\n",
            "1563/1563 [==============================] - 53s 34ms/step - loss: 0.8847 - accuracy: 0.7578 - val_loss: 0.8587 - val_accuracy: 0.7803\n",
            "Epoch 14/70\n",
            "called here\n",
            "\n",
            "Epoch 00014: LearningRateScheduler reducing learning rate to 0.0014844463996195058.\n",
            "1563/1563 [==============================] - 53s 34ms/step - loss: 0.8693 - accuracy: 0.7613 - val_loss: 0.8106 - val_accuracy: 0.7856\n",
            "Epoch 15/70\n",
            "called here\n",
            "\n",
            "Epoch 00015: LearningRateScheduler reducing learning rate to 0.0012922856493716643.\n",
            "1563/1563 [==============================] - 53s 34ms/step - loss: 0.8324 - accuracy: 0.7731 - val_loss: 0.7502 - val_accuracy: 0.8019\n",
            "Epoch 16/70\n",
            "called here\n",
            "\n",
            "Epoch 00016: LearningRateScheduler reducing learning rate to 0.001125.\n",
            "1563/1563 [==============================] - 53s 34ms/step - loss: 0.8115 - accuracy: 0.7759 - val_loss: 0.7743 - val_accuracy: 0.8028\n",
            "Epoch 17/70\n",
            "called here\n",
            "\n",
            "Epoch 00017: LearningRateScheduler reducing learning rate to 0.0009793693837081394.\n",
            "1563/1563 [==============================] - 53s 34ms/step - loss: 0.7876 - accuracy: 0.7798 - val_loss: 0.7430 - val_accuracy: 0.8037\n",
            "Epoch 18/70\n",
            "called here\n",
            "\n",
            "Epoch 00018: LearningRateScheduler reducing learning rate to 0.0008525905686620989.\n",
            "1563/1563 [==============================] - 53s 34ms/step - loss: 0.7674 - accuracy: 0.7867 - val_loss: 0.7051 - val_accuracy: 0.8131\n",
            "Epoch 19/70\n",
            "called here\n",
            "\n",
            "Epoch 00019: LearningRateScheduler reducing learning rate to 0.0007422231998097529.\n",
            "1563/1563 [==============================] - 53s 34ms/step - loss: 0.7379 - accuracy: 0.7940 - val_loss: 0.6581 - val_accuracy: 0.8264\n",
            "Epoch 20/70\n",
            "called here\n",
            "\n",
            "Epoch 00020: LearningRateScheduler reducing learning rate to 0.0006461428246858322.\n",
            "1563/1563 [==============================] - 53s 34ms/step - loss: 0.7218 - accuracy: 0.7975 - val_loss: 0.6956 - val_accuracy: 0.8126\n",
            "Epoch 21/70\n",
            "called here\n",
            "\n",
            "Epoch 00021: LearningRateScheduler reducing learning rate to 0.0005625.\n",
            "1563/1563 [==============================] - 53s 34ms/step - loss: 0.7054 - accuracy: 0.8065 - val_loss: 0.6515 - val_accuracy: 0.8265\n",
            "Epoch 22/70\n",
            "called here\n",
            "\n",
            "Epoch 00022: LearningRateScheduler reducing learning rate to 0.0004896846918540697.\n",
            "1563/1563 [==============================] - 52s 33ms/step - loss: 0.6945 - accuracy: 0.8050 - val_loss: 0.6433 - val_accuracy: 0.8268\n",
            "Epoch 23/70\n",
            "called here\n",
            "\n",
            "Epoch 00023: LearningRateScheduler reducing learning rate to 0.00042629528433104936.\n",
            "1563/1563 [==============================] - 51s 33ms/step - loss: 0.6765 - accuracy: 0.8099 - val_loss: 0.6636 - val_accuracy: 0.8188\n",
            "Epoch 24/70\n",
            "called here\n",
            "\n",
            "Epoch 00024: LearningRateScheduler reducing learning rate to 0.00037111159990487657.\n",
            "1563/1563 [==============================] - 51s 33ms/step - loss: 0.6666 - accuracy: 0.8139 - val_loss: 0.6532 - val_accuracy: 0.8206\n",
            "Epoch 25/70\n",
            "called here\n",
            "\n",
            "Epoch 00025: LearningRateScheduler reducing learning rate to 0.0003230714123429161.\n",
            "1563/1563 [==============================] - 52s 34ms/step - loss: 0.6567 - accuracy: 0.8146 - val_loss: 0.6126 - val_accuracy: 0.8356\n",
            "Epoch 26/70\n",
            "called here\n",
            "\n",
            "Epoch 00026: LearningRateScheduler reducing learning rate to 0.00028125.\n",
            "1563/1563 [==============================] - 53s 34ms/step - loss: 0.6459 - accuracy: 0.8164 - val_loss: 0.6367 - val_accuracy: 0.8261\n",
            "Epoch 27/70\n",
            "called here\n",
            "\n",
            "Epoch 00027: LearningRateScheduler reducing learning rate to 0.00024484234592703485.\n",
            "1563/1563 [==============================] - 53s 34ms/step - loss: 0.6363 - accuracy: 0.8202 - val_loss: 0.5864 - val_accuracy: 0.8408\n",
            "Epoch 28/70\n",
            "called here\n",
            "\n",
            "Epoch 00028: LearningRateScheduler reducing learning rate to 0.00021314764216552468.\n",
            "1563/1563 [==============================] - 53s 34ms/step - loss: 0.6259 - accuracy: 0.8229 - val_loss: 0.6007 - val_accuracy: 0.8376\n",
            "Epoch 29/70\n",
            "called here\n",
            "\n",
            "Epoch 00029: LearningRateScheduler reducing learning rate to 0.00018555579995243828.\n",
            "1563/1563 [==============================] - 53s 34ms/step - loss: 0.6188 - accuracy: 0.8244 - val_loss: 0.5922 - val_accuracy: 0.8392\n",
            "Epoch 30/70\n",
            "called here\n",
            "\n",
            "Epoch 00030: LearningRateScheduler reducing learning rate to 0.00016153570617145804.\n",
            "1563/1563 [==============================] - 53s 34ms/step - loss: 0.6071 - accuracy: 0.8254 - val_loss: 0.5968 - val_accuracy: 0.8408\n",
            "Epoch 31/70\n",
            "called here\n",
            "\n",
            "Epoch 00031: LearningRateScheduler reducing learning rate to 0.000140625.\n",
            "1563/1563 [==============================] - 53s 34ms/step - loss: 0.6123 - accuracy: 0.8263 - val_loss: 0.5878 - val_accuracy: 0.8392\n",
            "Epoch 32/70\n",
            "called here\n",
            "\n",
            "Epoch 00032: LearningRateScheduler reducing learning rate to 0.00012242117296351742.\n",
            "1563/1563 [==============================] - 53s 34ms/step - loss: 0.6069 - accuracy: 0.8281 - val_loss: 0.5679 - val_accuracy: 0.8465\n",
            "Epoch 33/70\n",
            "called here\n",
            "\n",
            "Epoch 00033: LearningRateScheduler reducing learning rate to 0.00010657382108276234.\n",
            "1563/1563 [==============================] - 53s 34ms/step - loss: 0.6076 - accuracy: 0.8275 - val_loss: 0.5871 - val_accuracy: 0.8415\n",
            "Epoch 34/70\n",
            "called here\n",
            "\n",
            "Epoch 00034: LearningRateScheduler reducing learning rate to 9.277789997621914e-05.\n",
            "1563/1563 [==============================] - 53s 34ms/step - loss: 0.6018 - accuracy: 0.8297 - val_loss: 0.5828 - val_accuracy: 0.8413\n",
            "Epoch 35/70\n",
            "called here\n",
            "\n",
            "Epoch 00035: LearningRateScheduler reducing learning rate to 8.076785308572902e-05.\n",
            "1563/1563 [==============================] - 53s 34ms/step - loss: 0.5889 - accuracy: 0.8306 - val_loss: 0.5701 - val_accuracy: 0.8459\n",
            "Epoch 36/70\n",
            "called here\n",
            "\n",
            "Epoch 00036: LearningRateScheduler reducing learning rate to 7.03125e-05.\n",
            "1563/1563 [==============================] - 54s 34ms/step - loss: 0.5855 - accuracy: 0.8351 - val_loss: 0.5759 - val_accuracy: 0.8422\n",
            "Epoch 37/70\n",
            "called here\n",
            "\n",
            "Epoch 00037: LearningRateScheduler reducing learning rate to 6.121058648175871e-05.\n",
            "1563/1563 [==============================] - 54s 34ms/step - loss: 0.5838 - accuracy: 0.8334 - val_loss: 0.5702 - val_accuracy: 0.8450\n",
            "Epoch 38/70\n",
            "called here\n",
            "\n",
            "Epoch 00038: LearningRateScheduler reducing learning rate to 5.328691054138117e-05.\n",
            "1563/1563 [==============================] - 54s 35ms/step - loss: 0.5775 - accuracy: 0.8374 - val_loss: 0.5647 - val_accuracy: 0.8454\n",
            "Epoch 39/70\n",
            "called here\n",
            "\n",
            "Epoch 00039: LearningRateScheduler reducing learning rate to 4.638894998810957e-05.\n",
            "1563/1563 [==============================] - 54s 34ms/step - loss: 0.5901 - accuracy: 0.8309 - val_loss: 0.5728 - val_accuracy: 0.8439\n",
            "Epoch 40/70\n",
            "called here\n",
            "\n",
            "Epoch 00040: LearningRateScheduler reducing learning rate to 4.038392654286451e-05.\n",
            "1563/1563 [==============================] - 54s 34ms/step - loss: 0.5811 - accuracy: 0.8344 - val_loss: 0.5669 - val_accuracy: 0.8470\n",
            "Epoch 41/70\n",
            "called here\n",
            "\n",
            "Epoch 00041: LearningRateScheduler reducing learning rate to 3.515625e-05.\n",
            "1563/1563 [==============================] - 54s 35ms/step - loss: 0.5852 - accuracy: 0.8323 - val_loss: 0.5697 - val_accuracy: 0.8450\n",
            "Epoch 42/70\n",
            "called here\n",
            "\n",
            "Epoch 00042: LearningRateScheduler reducing learning rate to 3.0605293240879376e-05.\n",
            "1563/1563 [==============================] - 54s 35ms/step - loss: 0.5813 - accuracy: 0.8344 - val_loss: 0.5627 - val_accuracy: 0.8481\n",
            "Epoch 43/70\n",
            "called here\n",
            "\n",
            "Epoch 00043: LearningRateScheduler reducing learning rate to 2.6643455270690585e-05.\n",
            "1563/1563 [==============================] - 54s 35ms/step - loss: 0.5760 - accuracy: 0.8321 - val_loss: 0.5670 - val_accuracy: 0.8469\n",
            "Epoch 44/70\n",
            "called here\n",
            "\n",
            "Epoch 00044: LearningRateScheduler reducing learning rate to 2.3194474994054785e-05.\n",
            "1563/1563 [==============================] - 54s 35ms/step - loss: 0.5716 - accuracy: 0.8380 - val_loss: 0.5567 - val_accuracy: 0.8482\n",
            "Epoch 45/70\n",
            "called here\n",
            "\n",
            "Epoch 00045: LearningRateScheduler reducing learning rate to 2.0191963271432245e-05.\n",
            "1563/1563 [==============================] - 54s 34ms/step - loss: 0.5830 - accuracy: 0.8323 - val_loss: 0.5607 - val_accuracy: 0.8485\n",
            "Epoch 46/70\n",
            "called here\n",
            "\n",
            "Epoch 00046: LearningRateScheduler reducing learning rate to 1.7578125e-05.\n",
            "1563/1563 [==============================] - 54s 34ms/step - loss: 0.5737 - accuracy: 0.8355 - val_loss: 0.5679 - val_accuracy: 0.8473\n",
            "Epoch 47/70\n",
            "called here\n",
            "\n",
            "Epoch 00047: LearningRateScheduler reducing learning rate to 1.5302646620439688e-05.\n",
            "1563/1563 [==============================] - 54s 35ms/step - loss: 0.5680 - accuracy: 0.8375 - val_loss: 0.5624 - val_accuracy: 0.8491\n",
            "Epoch 48/70\n",
            "called here\n",
            "\n",
            "Epoch 00048: LearningRateScheduler reducing learning rate to 1.3321727635345292e-05.\n",
            "1563/1563 [==============================] - 54s 35ms/step - loss: 0.5737 - accuracy: 0.8343 - val_loss: 0.5591 - val_accuracy: 0.8493\n",
            "Epoch 49/70\n",
            "called here\n",
            "\n",
            "Epoch 00049: LearningRateScheduler reducing learning rate to 1.1597237497027393e-05.\n",
            "1563/1563 [==============================] - 54s 35ms/step - loss: 0.5736 - accuracy: 0.8326 - val_loss: 0.5639 - val_accuracy: 0.8482\n",
            "Epoch 50/70\n",
            "called here\n",
            "\n",
            "Epoch 00050: LearningRateScheduler reducing learning rate to 1.0095981635716122e-05.\n",
            "1563/1563 [==============================] - 54s 35ms/step - loss: 0.5767 - accuracy: 0.8346 - val_loss: 0.5634 - val_accuracy: 0.8487\n",
            "Epoch 51/70\n",
            "called here\n",
            "\n",
            "Epoch 00051: LearningRateScheduler reducing learning rate to 8.7890625e-06.\n",
            "1563/1563 [==============================] - 54s 35ms/step - loss: 0.5766 - accuracy: 0.8346 - val_loss: 0.5630 - val_accuracy: 0.8476\n",
            "Epoch 52/70\n",
            "called here\n",
            "\n",
            "Epoch 00052: LearningRateScheduler reducing learning rate to 7.651323310219844e-06.\n",
            "1563/1563 [==============================] - 54s 35ms/step - loss: 0.5666 - accuracy: 0.8390 - val_loss: 0.5612 - val_accuracy: 0.8488\n",
            "Epoch 53/70\n",
            "called here\n",
            "\n",
            "Epoch 00053: LearningRateScheduler reducing learning rate to 6.660863817672646e-06.\n",
            "1563/1563 [==============================] - 54s 35ms/step - loss: 0.5702 - accuracy: 0.8369 - val_loss: 0.5624 - val_accuracy: 0.8495\n",
            "Epoch 54/70\n",
            "called here\n",
            "\n",
            "Epoch 00054: LearningRateScheduler reducing learning rate to 5.798618748513696e-06.\n",
            "1563/1563 [==============================] - 54s 35ms/step - loss: 0.5815 - accuracy: 0.8323 - val_loss: 0.5609 - val_accuracy: 0.8490\n",
            "Epoch 55/70\n",
            "called here\n",
            "\n",
            "Epoch 00055: LearningRateScheduler reducing learning rate to 5.047990817858061e-06.\n",
            "1563/1563 [==============================] - 54s 35ms/step - loss: 0.5658 - accuracy: 0.8377 - val_loss: 0.5595 - val_accuracy: 0.8495\n",
            "Epoch 56/70\n",
            "called here\n",
            "\n",
            "Epoch 00056: LearningRateScheduler reducing learning rate to 4.39453125e-06.\n",
            "1563/1563 [==============================] - 54s 35ms/step - loss: 0.5702 - accuracy: 0.8359 - val_loss: 0.5604 - val_accuracy: 0.8494\n",
            "Epoch 57/70\n",
            "called here\n",
            "\n",
            "Epoch 00057: LearningRateScheduler reducing learning rate to 3.825661655109922e-06.\n",
            "1563/1563 [==============================] - 54s 34ms/step - loss: 0.5760 - accuracy: 0.8347 - val_loss: 0.5599 - val_accuracy: 0.8494\n",
            "Epoch 58/70\n",
            "called here\n",
            "\n",
            "Epoch 00058: LearningRateScheduler reducing learning rate to 3.330431908836323e-06.\n",
            "1563/1563 [==============================] - 54s 34ms/step - loss: 0.5651 - accuracy: 0.8389 - val_loss: 0.5601 - val_accuracy: 0.8486\n",
            "Epoch 59/70\n",
            "called here\n",
            "\n",
            "Epoch 00059: LearningRateScheduler reducing learning rate to 2.899309374256848e-06.\n",
            "1563/1563 [==============================] - 54s 34ms/step - loss: 0.5715 - accuracy: 0.8377 - val_loss: 0.5587 - val_accuracy: 0.8497\n",
            "Epoch 60/70\n",
            "called here\n",
            "\n",
            "Epoch 00060: LearningRateScheduler reducing learning rate to 2.5239954089290306e-06.\n",
            "1563/1563 [==============================] - 54s 34ms/step - loss: 0.5687 - accuracy: 0.8382 - val_loss: 0.5645 - val_accuracy: 0.8485\n",
            "Epoch 61/70\n",
            "called here\n",
            "\n",
            "Epoch 00061: LearningRateScheduler reducing learning rate to 2.197265625e-06.\n",
            "1563/1563 [==============================] - 54s 34ms/step - loss: 0.5746 - accuracy: 0.8348 - val_loss: 0.5574 - val_accuracy: 0.8498\n",
            "Epoch 62/70\n",
            "called here\n",
            "\n",
            "Epoch 00062: LearningRateScheduler reducing learning rate to 1.912830827554961e-06.\n",
            "1563/1563 [==============================] - 54s 35ms/step - loss: 0.5681 - accuracy: 0.8388 - val_loss: 0.5590 - val_accuracy: 0.8497\n",
            "Epoch 63/70\n",
            "called here\n",
            "\n",
            "Epoch 00063: LearningRateScheduler reducing learning rate to 1.6652159544181615e-06.\n",
            "1563/1563 [==============================] - 54s 35ms/step - loss: 0.5745 - accuracy: 0.8355 - val_loss: 0.5575 - val_accuracy: 0.8498\n",
            "Epoch 64/70\n",
            "called here\n",
            "\n",
            "Epoch 00064: LearningRateScheduler reducing learning rate to 1.449654687128424e-06.\n",
            "1563/1563 [==============================] - 54s 35ms/step - loss: 0.5687 - accuracy: 0.8366 - val_loss: 0.5610 - val_accuracy: 0.8486\n",
            "Epoch 65/70\n",
            "called here\n",
            "\n",
            "Epoch 00065: LearningRateScheduler reducing learning rate to 1.2619977044645153e-06.\n",
            "1563/1563 [==============================] - 54s 35ms/step - loss: 0.5775 - accuracy: 0.8355 - val_loss: 0.5578 - val_accuracy: 0.8497\n",
            "Epoch 66/70\n",
            "called here\n",
            "\n",
            "Epoch 00066: LearningRateScheduler reducing learning rate to 1.0986328125e-06.\n",
            "1563/1563 [==============================] - 54s 35ms/step - loss: 0.5729 - accuracy: 0.8365 - val_loss: 0.5593 - val_accuracy: 0.8492\n",
            "Epoch 67/70\n",
            "called here\n",
            "\n",
            "Epoch 00067: LearningRateScheduler reducing learning rate to 9.564154137774805e-07.\n",
            "1563/1563 [==============================] - 54s 35ms/step - loss: 0.5680 - accuracy: 0.8384 - val_loss: 0.5605 - val_accuracy: 0.8488\n",
            "Epoch 68/70\n",
            "called here\n",
            "\n",
            "Epoch 00068: LearningRateScheduler reducing learning rate to 8.326079772090808e-07.\n",
            "1563/1563 [==============================] - 54s 35ms/step - loss: 0.5673 - accuracy: 0.8382 - val_loss: 0.5592 - val_accuracy: 0.8491\n",
            "Epoch 69/70\n",
            "called here\n",
            "\n",
            "Epoch 00069: LearningRateScheduler reducing learning rate to 7.24827343564212e-07.\n",
            "1563/1563 [==============================] - 54s 35ms/step - loss: 0.5645 - accuracy: 0.8353 - val_loss: 0.5609 - val_accuracy: 0.8490\n",
            "Epoch 70/70\n",
            "called here\n",
            "\n",
            "Epoch 00070: LearningRateScheduler reducing learning rate to 6.309988522322576e-07.\n",
            "1563/1563 [==============================] - 54s 34ms/step - loss: 0.5675 - accuracy: 0.8404 - val_loss: 0.5606 - val_accuracy: 0.8486\n"
          ],
          "name": "stdout"
        }
      ]
    },
    {
      "cell_type": "code",
      "metadata": {
        "id": "CZj_YoMzdQvK"
      },
      "source": [
        "acc_3 = history.history[\"accuracy\"]\n",
        "val_acc_3 = history.history[\"val_accuracy\"]"
      ],
      "execution_count": null,
      "outputs": []
    },
    {
      "cell_type": "code",
      "metadata": {
        "colab": {
          "base_uri": "https://localhost:8080/"
        },
        "id": "tiqgxXLodQm8",
        "outputId": "4a018603-8d98-4b7d-b39c-cdc0e030b529"
      },
      "source": [
        "#Save these values in your jsonm\n",
        "record_Results(\"acc_3\",acc_3)\n",
        "record_Results(\"val_acc_3\",val_acc_3)"
      ],
      "execution_count": null,
      "outputs": [
        {
          "output_type": "stream",
          "text": [
            "Drive already mounted at /content/drive; to attempt to forcibly remount, call drive.mount(\"/content/drive\", force_remount=True).\n",
            "recorded\n",
            "Drive already mounted at /content/drive; to attempt to forcibly remount, call drive.mount(\"/content/drive\", force_remount=True).\n",
            "recorded\n"
          ],
          "name": "stdout"
        }
      ]
    },
    {
      "cell_type": "code",
      "metadata": {
        "colab": {
          "base_uri": "https://localhost:8080/"
        },
        "id": "GC-va9rgdQeq",
        "outputId": "0baf59c5-c6c0-4232-c6d0-ce6d074c59f7"
      },
      "source": [
        "#Get the saved results\n",
        "acc_3 = Get_Results(\"acc_3\")[\"acc_3\"]\n",
        "val_acc_3 = Get_Results(\"val_acc_3\")[\"val_acc_3\"]"
      ],
      "execution_count": null,
      "outputs": [
        {
          "output_type": "stream",
          "text": [
            "Drive already mounted at /content/drive; to attempt to forcibly remount, call drive.mount(\"/content/drive\", force_remount=True).\n",
            "Drive already mounted at /content/drive; to attempt to forcibly remount, call drive.mount(\"/content/drive\", force_remount=True).\n"
          ],
          "name": "stdout"
        }
      ]
    },
    {
      "cell_type": "code",
      "metadata": {
        "colab": {
          "base_uri": "https://localhost:8080/",
          "height": 163
        },
        "id": "ihTymedKdWCi",
        "outputId": "43c3f7be-f8f8-42ac-953b-b9c7c89ab568"
      },
      "source": [
        "Plotter(acc_3,val_acc_3,loss,val_loss,l_r)"
      ],
      "execution_count": null,
      "outputs": [
        {
          "output_type": "error",
          "ename": "NameError",
          "evalue": "ignored",
          "traceback": [
            "\u001b[0;31m---------------------------------------------------------------------------\u001b[0m",
            "\u001b[0;31mNameError\u001b[0m                                 Traceback (most recent call last)",
            "\u001b[0;32m<ipython-input-22-f36ef1014255>\u001b[0m in \u001b[0;36m<module>\u001b[0;34m()\u001b[0m\n\u001b[0;32m----> 1\u001b[0;31m \u001b[0mPlotter\u001b[0m\u001b[0;34m(\u001b[0m\u001b[0macc_3\u001b[0m\u001b[0;34m,\u001b[0m\u001b[0mval_acc_3\u001b[0m\u001b[0;34m,\u001b[0m\u001b[0mloss\u001b[0m\u001b[0;34m,\u001b[0m\u001b[0mval_loss\u001b[0m\u001b[0;34m,\u001b[0m\u001b[0ml_r\u001b[0m\u001b[0;34m)\u001b[0m\u001b[0;34m\u001b[0m\u001b[0;34m\u001b[0m\u001b[0m\n\u001b[0m",
            "\u001b[0;31mNameError\u001b[0m: name 'loss' is not defined"
          ]
        }
      ]
    },
    {
      "cell_type": "markdown",
      "metadata": {
        "id": "DlJErWV1HG06"
      },
      "source": [
        "**LR constant**"
      ]
    },
    {
      "cell_type": "code",
      "metadata": {
        "colab": {
          "base_uri": "https://localhost:8080/"
        },
        "id": "XCKlRYK7dYzJ",
        "outputId": "aafc12be-7a8b-48c1-d92e-4c526e79b426"
      },
      "source": [
        "model = cifar10_model()\n",
        "\n",
        "from keras.callbacks import LearningRateScheduler\n",
        "\n",
        "LR = 0.01\n",
        "epoch = 1\n",
        "batch_size = 100\n",
        "\n",
        "val_acc = []\n",
        "acc = []\n",
        "val_loss = []\n",
        "loss = []\n",
        "l_r = []\n",
        "for z,batch_size in zip(range(1,epoo+1),range(5,10000,5)):\n",
        "\n",
        "  LR = (batch_size)/(((z+1)**(3/2))*80)\n",
        "  LR=LR/8\n",
        "\n",
        "  print(\"\\n\\nepoch {z}, Learning Rate {LR}, Batch Size  {batch_size} \"\n",
        "                    .format(z=z,LR=LR,batch_size=batch_size))\n",
        "\n",
        "  def set_LR(epoch,lr):\n",
        "    global LR\n",
        "    global l_r\n",
        "    l_r.append(LR)\n",
        "    return LR\n",
        "\n",
        "  call = [ LearningRateScheduler(set_LR,verbose=1) ]\n",
        "\n",
        "  history = model.fit(\n",
        "            datagen.flow(x_train, y_train), \n",
        "            validation_data=(x_test, y_test),\n",
        "            epochs=epoch,\n",
        "            batch_size=batch_size,\n",
        "            # callbacks=call\n",
        "            )\n",
        "\n",
        "\n",
        "\n",
        "  acc.append(history.history['accuracy'])\n",
        "  val_acc.append(history.history['val_accuracy'])\n",
        "  loss.append(history.history['loss'])\n",
        "  val_loss.append(history.history['val_loss'])"
      ],
      "execution_count": null,
      "outputs": [
        {
          "output_type": "stream",
          "text": [
            "\n",
            "\n",
            "epoch 1, Learning Rate 0.002762135864009951, Batch Size  5 \n",
            "1563/1563 [==============================] - 59s 37ms/step - loss: 2.3544 - accuracy: 0.3418 - val_loss: 1.4651 - val_accuracy: 0.5238\n",
            "\n",
            "\n",
            "epoch 2, Learning Rate 0.003007032652029301, Batch Size  10 \n",
            "1563/1563 [==============================] - 55s 35ms/step - loss: 1.2935 - accuracy: 0.5692 - val_loss: 1.1340 - val_accuracy: 0.6441\n",
            "\n",
            "\n",
            "epoch 3, Learning Rate 0.0029296875, Batch Size  15 \n",
            "1563/1563 [==============================] - 54s 35ms/step - loss: 1.0741 - accuracy: 0.6462 - val_loss: 0.9383 - val_accuracy: 0.7031\n",
            "\n",
            "\n",
            "epoch 4, Learning Rate 0.002795084971874737, Batch Size  20 \n",
            "1563/1563 [==============================] - 53s 34ms/step - loss: 0.9699 - accuracy: 0.6886 - val_loss: 0.9354 - val_accuracy: 0.7137\n",
            "\n",
            "\n",
            "epoch 5, Learning Rate 0.0026578664743741078, Batch Size  25 \n",
            "1563/1563 [==============================] - 53s 34ms/step - loss: 0.9152 - accuracy: 0.7173 - val_loss: 0.8685 - val_accuracy: 0.7479\n",
            "\n",
            "\n",
            "epoch 6, Learning Rate 0.0025310120960439324, Batch Size  30 \n",
            "1563/1563 [==============================] - 53s 34ms/step - loss: 0.8734 - accuracy: 0.7345 - val_loss: 0.8077 - val_accuracy: 0.7735\n",
            "\n",
            "\n",
            "epoch 7, Learning Rate 0.0024168688810087074, Batch Size  35 \n",
            "1563/1563 [==============================] - 52s 33ms/step - loss: 0.8437 - accuracy: 0.7515 - val_loss: 0.7617 - val_accuracy: 0.7892\n",
            "\n",
            "\n",
            "epoch 8, Learning Rate 0.0023148148148148147, Batch Size  40 \n",
            "1563/1563 [==============================] - 52s 33ms/step - loss: 0.8334 - accuracy: 0.7590 - val_loss: 0.8292 - val_accuracy: 0.7711\n",
            "\n",
            "\n",
            "epoch 9, Learning Rate 0.002223476479805892, Batch Size  45 \n",
            "1563/1563 [==============================] - 52s 33ms/step - loss: 0.8150 - accuracy: 0.7707 - val_loss: 0.8197 - val_accuracy: 0.7761\n",
            "\n",
            "\n",
            "epoch 10, Learning Rate 0.0021414157995579804, Batch Size  50 \n",
            "1563/1563 [==============================] - 52s 34ms/step - loss: 0.8013 - accuracy: 0.7764 - val_loss: 0.8447 - val_accuracy: 0.7754\n",
            "\n",
            "\n",
            "epoch 11, Learning Rate 0.0020673349482701444, Batch Size  55 \n",
            "1563/1563 [==============================] - 52s 33ms/step - loss: 0.7932 - accuracy: 0.7815 - val_loss: 0.7884 - val_accuracy: 0.7912\n",
            "\n",
            "\n",
            "epoch 12, Learning Rate 0.0020001208998505857, Batch Size  60 \n",
            "1563/1563 [==============================] - 52s 33ms/step - loss: 0.7840 - accuracy: 0.7860 - val_loss: 0.7334 - val_accuracy: 0.8061\n",
            "\n",
            "\n",
            "epoch 13, Learning Rate 0.0019388371344093286, Batch Size  65 \n",
            "1563/1563 [==============================] - 52s 33ms/step - loss: 0.7725 - accuracy: 0.7928 - val_loss: 0.7054 - val_accuracy: 0.8186\n",
            "\n",
            "\n",
            "epoch 14, Learning Rate 0.0018827002377397163, Batch Size  70 \n",
            "1563/1563 [==============================] - 52s 33ms/step - loss: 0.7697 - accuracy: 0.7938 - val_loss: 0.7336 - val_accuracy: 0.8108\n",
            "\n",
            "\n",
            "epoch 15, Learning Rate 0.0018310546875, Batch Size  75 \n",
            "1563/1563 [==============================] - 52s 33ms/step - loss: 0.7666 - accuracy: 0.7959 - val_loss: 0.7382 - val_accuracy: 0.8145\n",
            "\n",
            "\n",
            "epoch 16, Learning Rate 0.0017833501840906836, Batch Size  80 \n",
            "1563/1563 [==============================] - 52s 33ms/step - loss: 0.7572 - accuracy: 0.7982 - val_loss: 0.7114 - val_accuracy: 0.8245\n",
            "\n",
            "\n",
            "epoch 17, Learning Rate 0.0017391225810433025, Batch Size  85 \n",
            "1563/1563 [==============================] - 52s 33ms/step - loss: 0.7576 - accuracy: 0.8018 - val_loss: 0.7712 - val_accuracy: 0.8042\n",
            "\n",
            "\n",
            "epoch 18, Learning Rate 0.0016979782934498815, Batch Size  90 \n",
            "1563/1563 [==============================] - 52s 33ms/step - loss: 0.7513 - accuracy: 0.8028 - val_loss: 0.7026 - val_accuracy: 0.8258\n",
            "\n",
            "\n",
            "epoch 19, Learning Rate 0.0016595817020506251, Batch Size  95 \n",
            "1563/1563 [==============================] - 52s 33ms/step - loss: 0.7441 - accuracy: 0.8080 - val_loss: 0.7147 - val_accuracy: 0.8208\n",
            "\n",
            "\n",
            "epoch 20, Learning Rate 0.0016236450166368479, Batch Size  100 \n",
            "1563/1563 [==============================] - 51s 33ms/step - loss: 0.7438 - accuracy: 0.8088 - val_loss: 0.7843 - val_accuracy: 0.8044\n",
            "\n",
            "\n",
            "epoch 21, Learning Rate 0.0015899201148678337, Batch Size  105 \n",
            "1563/1563 [==============================] - 51s 32ms/step - loss: 0.7399 - accuracy: 0.8080 - val_loss: 0.7947 - val_accuracy: 0.8061\n",
            "\n",
            "\n",
            "epoch 22, Learning Rate 0.001558191952872162, Batch Size  110 \n",
            "1563/1563 [==============================] - 52s 33ms/step - loss: 0.7325 - accuracy: 0.8131 - val_loss: 0.7285 - val_accuracy: 0.8213\n",
            "\n",
            "\n",
            "epoch 23, Learning Rate 0.001528273222765112, Batch Size  115 \n",
            "1563/1563 [==============================] - 51s 33ms/step - loss: 0.7337 - accuracy: 0.8139 - val_loss: 0.7255 - val_accuracy: 0.8235\n",
            "\n",
            "\n",
            "epoch 24, Learning Rate 0.0015, Batch Size  120 \n",
            "1563/1563 [==============================] - 51s 33ms/step - loss: 0.7324 - accuracy: 0.8118 - val_loss: 0.6688 - val_accuracy: 0.8372\n",
            "\n",
            "\n",
            "epoch 25, Learning Rate 0.0014732281786221757, Batch Size  125 \n",
            "1563/1563 [==============================] - 51s 33ms/step - loss: 0.7288 - accuracy: 0.8154 - val_loss: 0.7747 - val_accuracy: 0.8109\n",
            "\n",
            "\n",
            "epoch 26, Learning Rate 0.0014478305361622559, Batch Size  130 \n",
            "1563/1563 [==============================] - 52s 33ms/step - loss: 0.7292 - accuracy: 0.8171 - val_loss: 0.6723 - val_accuracy: 0.8416\n",
            "\n",
            "\n",
            "epoch 27, Learning Rate 0.0014236943040247117, Batch Size  135 \n",
            "1563/1563 [==============================] - 52s 33ms/step - loss: 0.7303 - accuracy: 0.8170 - val_loss: 0.7081 - val_accuracy: 0.8246\n",
            "\n",
            "\n",
            "epoch 28, Learning Rate 0.0014007191457320722, Batch Size  140 \n",
            "1563/1563 [==============================] - 52s 33ms/step - loss: 0.7235 - accuracy: 0.8183 - val_loss: 0.7274 - val_accuracy: 0.8254\n",
            "\n",
            "\n",
            "epoch 29, Learning Rate 0.0013788154659418242, Batch Size  145 \n",
            "1563/1563 [==============================] - 51s 33ms/step - loss: 0.7229 - accuracy: 0.8202 - val_loss: 0.6231 - val_accuracy: 0.8552\n",
            "\n",
            "\n",
            "epoch 30, Learning Rate 0.0013579029891137217, Batch Size  150 \n",
            "1563/1563 [==============================] - 51s 33ms/step - loss: 0.7200 - accuracy: 0.8191 - val_loss: 0.6892 - val_accuracy: 0.8338\n",
            "\n",
            "\n",
            "epoch 31, Learning Rate 0.00133790955912982, Batch Size  155 \n",
            "1563/1563 [==============================] - 51s 33ms/step - loss: 0.7142 - accuracy: 0.8221 - val_loss: 0.7058 - val_accuracy: 0.8277\n",
            "\n",
            "\n",
            "epoch 32, Learning Rate 0.0013187701208764986, Batch Size  160 \n",
            "1563/1563 [==============================] - 51s 33ms/step - loss: 0.7181 - accuracy: 0.8206 - val_loss: 0.6684 - val_accuracy: 0.8415\n",
            "\n",
            "\n",
            "epoch 33, Learning Rate 0.0013004258524133253, Batch Size  165 \n",
            "1563/1563 [==============================] - 51s 33ms/step - loss: 0.7165 - accuracy: 0.8230 - val_loss: 0.6729 - val_accuracy: 0.8450\n",
            "\n",
            "\n",
            "epoch 34, Learning Rate 0.001282823422355784, Batch Size  170 \n",
            "1563/1563 [==============================] - 51s 33ms/step - loss: 0.7113 - accuracy: 0.8222 - val_loss: 0.7384 - val_accuracy: 0.8218\n",
            "\n",
            "\n",
            "epoch 35, Learning Rate 0.0012659143518518518, Batch Size  175 \n",
            "1563/1563 [==============================] - 51s 32ms/step - loss: 0.7084 - accuracy: 0.8232 - val_loss: 0.6489 - val_accuracy: 0.8472\n",
            "\n",
            "\n",
            "epoch 36, Learning Rate 0.0012496544643143715, Batch Size  180 \n",
            "1563/1563 [==============================] - 51s 33ms/step - loss: 0.7105 - accuracy: 0.8240 - val_loss: 0.7273 - val_accuracy: 0.8286\n",
            "\n",
            "\n",
            "epoch 37, Learning Rate 0.0012340034090950276, Batch Size  185 \n",
            "1563/1563 [==============================] - 52s 33ms/step - loss: 0.7094 - accuracy: 0.8249 - val_loss: 0.6939 - val_accuracy: 0.8351\n",
            "\n",
            "\n",
            "epoch 38, Learning Rate 0.0012189242477150062, Batch Size  190 \n",
            "1563/1563 [==============================] - 52s 33ms/step - loss: 0.7070 - accuracy: 0.8245 - val_loss: 0.6903 - val_accuracy: 0.8371\n",
            "\n",
            "\n",
            "epoch 39, Learning Rate 0.0012043830932281915, Batch Size  195 \n",
            "1563/1563 [==============================] - 52s 33ms/step - loss: 0.7109 - accuracy: 0.8244 - val_loss: 0.7416 - val_accuracy: 0.8180\n",
            "\n",
            "\n",
            "epoch 40, Learning Rate 0.0011903487948826683, Batch Size  200 \n",
            "1563/1563 [==============================] - 52s 33ms/step - loss: 0.7041 - accuracy: 0.8280 - val_loss: 0.7115 - val_accuracy: 0.8297\n",
            "\n",
            "\n",
            "epoch 41, Learning Rate 0.0011767926615412515, Batch Size  205 \n",
            "1563/1563 [==============================] - 52s 33ms/step - loss: 0.7023 - accuracy: 0.8288 - val_loss: 0.6946 - val_accuracy: 0.8339\n",
            "\n",
            "\n",
            "epoch 42, Learning Rate 0.0011636882183810675, Batch Size  210 \n",
            "1563/1563 [==============================] - 52s 34ms/step - loss: 0.7112 - accuracy: 0.8246 - val_loss: 0.6511 - val_accuracy: 0.8509\n",
            "\n",
            "\n",
            "epoch 43, Learning Rate 0.0011510109922624144, Batch Size  215 \n",
            "1563/1563 [==============================] - 52s 33ms/step - loss: 0.7010 - accuracy: 0.8303 - val_loss: 0.7145 - val_accuracy: 0.8299\n",
            "\n",
            "\n",
            "epoch 44, Learning Rate 0.0011387383218748929, Batch Size  220 \n",
            "1563/1563 [==============================] - 52s 34ms/step - loss: 0.7036 - accuracy: 0.8292 - val_loss: 0.6680 - val_accuracy: 0.8479\n",
            "\n",
            "\n",
            "epoch 45, Learning Rate 0.0011268491893631745, Batch Size  225 \n",
            "1563/1563 [==============================] - 53s 34ms/step - loss: 0.7047 - accuracy: 0.8284 - val_loss: 0.6965 - val_accuracy: 0.8333\n",
            "\n",
            "\n",
            "epoch 46, Learning Rate 0.001115324070628848, Batch Size  230 \n",
            "1563/1563 [==============================] - 53s 34ms/step - loss: 0.6957 - accuracy: 0.8305 - val_loss: 0.6315 - val_accuracy: 0.8546\n",
            "\n",
            "\n",
            "epoch 47, Learning Rate 0.001104144801917009, Batch Size  235 \n",
            "1563/1563 [==============================] - 53s 34ms/step - loss: 0.7005 - accuracy: 0.8290 - val_loss: 0.6845 - val_accuracy: 0.8387\n",
            "\n",
            "\n",
            "epoch 48, Learning Rate 0.0010932944606413995, Batch Size  240 \n",
            "1563/1563 [==============================] - 53s 34ms/step - loss: 0.6961 - accuracy: 0.8295 - val_loss: 0.6543 - val_accuracy: 0.8472\n",
            "\n",
            "\n",
            "epoch 49, Learning Rate 0.0010827572586919007, Batch Size  245 \n",
            "1563/1563 [==============================] - 53s 34ms/step - loss: 0.6968 - accuracy: 0.8318 - val_loss: 0.6637 - val_accuracy: 0.8470\n",
            "\n",
            "\n",
            "epoch 50, Learning Rate 0.00107251844671263, Batch Size  250 \n",
            "1563/1563 [==============================] - 52s 33ms/step - loss: 0.7005 - accuracy: 0.8301 - val_loss: 0.6640 - val_accuracy: 0.8459\n",
            "\n",
            "\n",
            "epoch 51, Learning Rate 0.0010625642280456236, Batch Size  255 \n",
            "1563/1563 [==============================] - 52s 33ms/step - loss: 0.6983 - accuracy: 0.8299 - val_loss: 0.6968 - val_accuracy: 0.8316\n",
            "\n",
            "\n",
            "epoch 52, Learning Rate 0.00105288168121047, Batch Size  260 \n",
            "1563/1563 [==============================] - 52s 33ms/step - loss: 0.6965 - accuracy: 0.8303 - val_loss: 0.6556 - val_accuracy: 0.8482\n",
            "\n",
            "\n",
            "epoch 53, Learning Rate 0.0010434586899394646, Batch Size  265 \n",
            "1563/1563 [==============================] - 52s 33ms/step - loss: 0.6891 - accuracy: 0.8330 - val_loss: 0.6765 - val_accuracy: 0.8421\n",
            "\n",
            "\n",
            "epoch 54, Learning Rate 0.0010342838799152008, Batch Size  270 \n",
            "1563/1563 [==============================] - 52s 34ms/step - loss: 0.6953 - accuracy: 0.8296 - val_loss: 0.7269 - val_accuracy: 0.8278\n",
            "\n",
            "\n",
            "epoch 55, Learning Rate 0.001025346561466472, Batch Size  275 \n",
            "1563/1563 [==============================] - 52s 33ms/step - loss: 0.6900 - accuracy: 0.8341 - val_loss: 0.7241 - val_accuracy: 0.8298\n",
            "\n",
            "\n",
            "epoch 56, Learning Rate 0.0010166366775718537, Batch Size  280 \n",
            "1563/1563 [==============================] - 52s 33ms/step - loss: 0.6916 - accuracy: 0.8341 - val_loss: 0.6944 - val_accuracy: 0.8386\n",
            "\n",
            "\n",
            "epoch 57, Learning Rate 0.0010081447566007793, Batch Size  285 \n",
            "1563/1563 [==============================] - 52s 33ms/step - loss: 0.6910 - accuracy: 0.8347 - val_loss: 0.6321 - val_accuracy: 0.8593\n",
            "\n",
            "\n",
            "epoch 58, Learning Rate 0.0009998618692912851, Batch Size  290 \n",
            "1563/1563 [==============================] - 52s 33ms/step - loss: 0.6925 - accuracy: 0.8333 - val_loss: 0.6479 - val_accuracy: 0.8516\n",
            "\n",
            "\n",
            "epoch 59, Learning Rate 0.0009917795895236007, Batch Size  295 \n",
            "1563/1563 [==============================] - 52s 33ms/step - loss: 0.6873 - accuracy: 0.8332 - val_loss: 0.6109 - val_accuracy: 0.8609\n",
            "\n",
            "\n",
            "epoch 60, Learning Rate 0.0009838899585007375, Batch Size  300 \n",
            "1563/1563 [==============================] - 52s 33ms/step - loss: 0.6923 - accuracy: 0.8327 - val_loss: 0.6638 - val_accuracy: 0.8478\n",
            "\n",
            "\n",
            "epoch 61, Learning Rate 0.0009761854519923916, Batch Size  305 \n",
            "1563/1563 [==============================] - 52s 33ms/step - loss: 0.6875 - accuracy: 0.8349 - val_loss: 0.6551 - val_accuracy: 0.8542\n",
            "\n",
            "\n",
            "epoch 62, Learning Rate 0.0009686589503378012, Batch Size  310 \n",
            "1563/1563 [==============================] - 52s 33ms/step - loss: 0.6934 - accuracy: 0.8327 - val_loss: 0.6761 - val_accuracy: 0.8434\n",
            "\n",
            "\n",
            "epoch 63, Learning Rate 0.0009613037109375, Batch Size  315 \n",
            "1563/1563 [==============================] - 52s 33ms/step - loss: 0.6924 - accuracy: 0.8332 - val_loss: 0.6755 - val_accuracy: 0.8435\n",
            "\n",
            "\n",
            "epoch 64, Learning Rate 0.0009541133429939111, Batch Size  320 \n",
            "1563/1563 [==============================] - 52s 33ms/step - loss: 0.6892 - accuracy: 0.8338 - val_loss: 0.7096 - val_accuracy: 0.8387\n",
            "\n",
            "\n",
            "epoch 65, Learning Rate 0.0009470817842870061, Batch Size  325 \n",
            "1563/1563 [==============================] - 52s 33ms/step - loss: 0.6868 - accuracy: 0.8367 - val_loss: 0.6283 - val_accuracy: 0.8583\n",
            "\n",
            "\n",
            "epoch 66, Learning Rate 0.0009402032797943266, Batch Size  330 \n",
            "1563/1563 [==============================] - 52s 33ms/step - loss: 0.6903 - accuracy: 0.8343 - val_loss: 0.6561 - val_accuracy: 0.8504\n",
            "\n",
            "\n",
            "epoch 67, Learning Rate 0.0009334723619849673, Batch Size  335 \n",
            "1563/1563 [==============================] - 52s 33ms/step - loss: 0.6902 - accuracy: 0.8344 - val_loss: 0.7293 - val_accuracy: 0.8299\n",
            "\n",
            "\n",
            "epoch 68, Learning Rate 0.0009268838326349984, Batch Size  340 \n",
            "1563/1563 [==============================] - 52s 33ms/step - loss: 0.6836 - accuracy: 0.8376 - val_loss: 0.6650 - val_accuracy: 0.8485\n",
            "\n",
            "\n",
            "epoch 69, Learning Rate 0.0009204327460276023, Batch Size  345 \n",
            "1563/1563 [==============================] - 52s 33ms/step - loss: 0.6879 - accuracy: 0.8354 - val_loss: 0.6481 - val_accuracy: 0.8531\n",
            "\n",
            "\n",
            "epoch 70, Learning Rate 0.0009141143934151601, Batch Size  350 \n",
            "1563/1563 [==============================] - 51s 33ms/step - loss: 0.6839 - accuracy: 0.8360 - val_loss: 0.6687 - val_accuracy: 0.8466\n"
          ],
          "name": "stdout"
        }
      ]
    },
    {
      "cell_type": "code",
      "metadata": {
        "id": "rqJsOwbIdcd0"
      },
      "source": [
        "acc_4 = acc\n",
        "val_acc_4 = val_acc"
      ],
      "execution_count": null,
      "outputs": []
    },
    {
      "cell_type": "code",
      "metadata": {
        "colab": {
          "base_uri": "https://localhost:8080/"
        },
        "id": "4VYXQoi3dcUm",
        "outputId": "a05472a7-a14e-438a-ec31-e1baeeaeedbd"
      },
      "source": [
        "#Save these values in your jsonm\n",
        "record_Results(\"acc_4\",acc_4)\n",
        "record_Results(\"val_acc_4\",val_acc_4)"
      ],
      "execution_count": null,
      "outputs": [
        {
          "output_type": "stream",
          "text": [
            "Drive already mounted at /content/drive; to attempt to forcibly remount, call drive.mount(\"/content/drive\", force_remount=True).\n",
            "recorded\n",
            "Drive already mounted at /content/drive; to attempt to forcibly remount, call drive.mount(\"/content/drive\", force_remount=True).\n",
            "recorded\n"
          ],
          "name": "stdout"
        }
      ]
    },
    {
      "cell_type": "code",
      "metadata": {
        "colab": {
          "base_uri": "https://localhost:8080/"
        },
        "id": "3Sh05KbxdcKu",
        "outputId": "25b85ee0-475b-4060-e99a-2b97345a8cd4"
      },
      "source": [
        "#Get the saved results\n",
        "acc_4 = Get_Results(\"acc_4\")[\"acc_4\"]\n",
        "val_acc_4 = Get_Results(\"val_acc_4\")[\"val_acc_4\"]"
      ],
      "execution_count": null,
      "outputs": [
        {
          "output_type": "stream",
          "text": [
            "Drive already mounted at /content/drive; to attempt to forcibly remount, call drive.mount(\"/content/drive\", force_remount=True).\n",
            "Drive already mounted at /content/drive; to attempt to forcibly remount, call drive.mount(\"/content/drive\", force_remount=True).\n"
          ],
          "name": "stdout"
        }
      ]
    },
    {
      "cell_type": "code",
      "metadata": {
        "colab": {
          "base_uri": "https://localhost:8080/",
          "height": 803
        },
        "id": "eWZS9OoZdg0Q",
        "outputId": "3324a62e-6366-4093-a99a-fefeb681f269"
      },
      "source": [
        "Plotter(acc,val_acc,loss,val_loss,l_r)"
      ],
      "execution_count": null,
      "outputs": [
        {
          "output_type": "display_data",
          "data": {
            "image/png": "[encoded data removed]",
            "text/plain": [
              "<Figure size 432x288 with 1 Axes>"
            ]
          },
          "metadata": {
            "tags": [],
            "needs_background": "light"
          }
        },
        {
          "output_type": "display_data",
          "data": {
            "image/png": "[encoded data removed]",
            "text/plain": [
              "<Figure size 432x288 with 1 Axes>"
            ]
          },
          "metadata": {
            "tags": [],
            "needs_background": "light"
          }
        },
        {
          "output_type": "display_data",
          "data": {
            "image/png": "[encoded data removed]",
            "text/plain": [
              "<Figure size 432x288 with 1 Axes>"
            ]
          },
          "metadata": {
            "tags": [],
            "needs_background": "light"
          }
        }
      ]
    },
    {
      "cell_type": "markdown",
      "metadata": {
        "id": "-sAHkvA8-ov7"
      },
      "source": [
        "**Plotting all of them**\n",
        "\n",
        "---\n",
        "\n"
      ]
    },
    {
      "cell_type": "code",
      "metadata": {
        "colab": {
          "base_uri": "https://localhost:8080/",
          "height": 606
        },
        "id": "Q2jMqxxVdlcY",
        "outputId": "17e488f1-c482-4bf0-a372-87946a405d7f"
      },
      "source": [
        "plt.figure(figsize=(15, 10))\n",
        "\n",
        "plt.plot(acc_1, label='LR & BS = const acc',ls='-.',c='b')\n",
        "plt.plot(val_acc_1, label = 'LR & BS = const val_acc',c='b')\n",
        "plt.plot(acc_2, label='LR ∝ BS/epoch acc',ls='-.',c='r')\n",
        "plt.plot(val_acc_2, label = 'LR ∝ BS_/epoch val_acc',c='r')\n",
        "plt.plot(acc_3, label='BS = const acc',ls='-.',c='g')\n",
        "plt.plot(val_acc_3, label = 'BS = const val_acc',c='g')\n",
        "plt.plot(acc_4, label='LR = const acc',ls='-.',c='y')\n",
        "plt.plot(val_acc_4, label = 'LR = const val_acc',c='y')\n",
        "\n",
        "plt.xlabel('Epoch')\n",
        "plt.ylabel('Accuracy')\n",
        "plt.legend(loc='lower right')\n",
        "plt.show()\n",
        "\n",
        "\n",
        "# case4_fashion_acc,case4_fashion_val_acc0"
      ],
      "execution_count": null,
      "outputs": [
        {
          "output_type": "display_data",
          "data": {
            "image/png": "[encoded data removed]",
            "text/plain": [
              "<Figure size 1080x720 with 1 Axes>"
            ]
          },
          "metadata": {
            "tags": [],
            "needs_background": "light"
          }
        }
      ]
    },
    {
      "cell_type": "code",
      "metadata": {
        "id": "XH8OZYiU6g2c"
      },
      "source": [
        ""
      ],
      "execution_count": null,
      "outputs": []
    },
    {
      "cell_type": "code",
      "metadata": {
        "id": "p5RqRTdAbwAF"
      },
      "source": [
        "# "
      ],
      "execution_count": null,
      "outputs": []
    },
    {
      "cell_type": "code",
      "metadata": {
        "id": "kDOZp0YUSVDL"
      },
      "source": [
        "# acc_1_dif = []\n",
        "# for i in range(len(acc_1)): acc_1_dif.append(acc_1[i] - val_acc_1[i]) \n",
        "# acc_2_dif = []\n",
        "# for i in range(len(acc_2)): acc_2_dif.append(acc_2[i][0] - val_acc_2[i][0]) \n",
        "# acc_3_dif = []\n",
        "# for i in range(len(acc_3)): acc_3_dif.append(acc_3[i][0] - val_acc_3[i][0]) \n",
        "# acc_4_dif = []\n",
        "# for i in range(len(acc_4)): acc_4_dif.append(acc_4[i][0] - val_acc_4[i][0]) "
      ],
      "execution_count": null,
      "outputs": []
    },
    {
      "cell_type": "code",
      "metadata": {
        "id": "Y86_qZ77SVzR",
        "colab": {
          "base_uri": "https://localhost:8080/",
          "height": 248
        },
        "outputId": "4c42bdfd-3c75-4991-9398-19010e2964a8"
      },
      "source": [
        "plt.figure(figsize=(15, 10))\n",
        "\n",
        "plt.plot(acc_1_dif, label='LR & BS = const acc',ls='-.',c='b')\n",
        "# plt.plot(val_acc_1, label = 'LR & BS = const val_acc',c='b')\n",
        "plt.plot(acc_2_dif, label='LR ∝ BS/epoch acc',ls='-.',c='r')\n",
        "# plt.plot(val_acc_2, label = 'LR ∝ BS_/epoch val_acc',c='r')\n",
        "plt.plot(acc_3_dif, label='BS = const acc',ls='-.',c='g')\n",
        "# plt.plot(val_acc_3, label = 'BS = const val_acc',c='g')\n",
        "plt.plot(acc_4_dif, label='LR = const acc',ls='-.',c='y')\n",
        "# plt.plot(val_acc_4, label = 'LR = const val_acc',c='y')\n",
        "\n",
        "plt.xlabel('Epoch')\n",
        "plt.ylabel('Accuracy')\n",
        "plt.legend(loc='lower right')\n",
        "plt.show()"
      ],
      "execution_count": null,
      "outputs": [
        {
          "output_type": "error",
          "ename": "NameError",
          "evalue": "ignored",
          "traceback": [
            "\u001b[0;31m---------------------------------------------------------------------------\u001b[0m",
            "\u001b[0;31mNameError\u001b[0m                                 Traceback (most recent call last)",
            "\u001b[0;32m<ipython-input-31-7941dee67196>\u001b[0m in \u001b[0;36m<module>\u001b[0;34m()\u001b[0m\n\u001b[1;32m      1\u001b[0m \u001b[0mplt\u001b[0m\u001b[0;34m.\u001b[0m\u001b[0mfigure\u001b[0m\u001b[0;34m(\u001b[0m\u001b[0mfigsize\u001b[0m\u001b[0;34m=\u001b[0m\u001b[0;34m(\u001b[0m\u001b[0;36m15\u001b[0m\u001b[0;34m,\u001b[0m \u001b[0;36m10\u001b[0m\u001b[0;34m)\u001b[0m\u001b[0;34m)\u001b[0m\u001b[0;34m\u001b[0m\u001b[0;34m\u001b[0m\u001b[0m\n\u001b[1;32m      2\u001b[0m \u001b[0;34m\u001b[0m\u001b[0m\n\u001b[0;32m----> 3\u001b[0;31m \u001b[0mplt\u001b[0m\u001b[0;34m.\u001b[0m\u001b[0mplot\u001b[0m\u001b[0;34m(\u001b[0m\u001b[0macc_1_dif\u001b[0m\u001b[0;34m,\u001b[0m \u001b[0mlabel\u001b[0m\u001b[0;34m=\u001b[0m\u001b[0;34m'LR & BS = const acc'\u001b[0m\u001b[0;34m,\u001b[0m\u001b[0mls\u001b[0m\u001b[0;34m=\u001b[0m\u001b[0;34m'-.'\u001b[0m\u001b[0;34m,\u001b[0m\u001b[0mc\u001b[0m\u001b[0;34m=\u001b[0m\u001b[0;34m'b'\u001b[0m\u001b[0;34m)\u001b[0m\u001b[0;34m\u001b[0m\u001b[0;34m\u001b[0m\u001b[0m\n\u001b[0m\u001b[1;32m      4\u001b[0m \u001b[0;31m# plt.plot(val_acc_1, label = 'LR & BS = const val_acc',c='b')\u001b[0m\u001b[0;34m\u001b[0m\u001b[0;34m\u001b[0m\u001b[0;34m\u001b[0m\u001b[0m\n\u001b[1;32m      5\u001b[0m \u001b[0mplt\u001b[0m\u001b[0;34m.\u001b[0m\u001b[0mplot\u001b[0m\u001b[0;34m(\u001b[0m\u001b[0macc_2_dif\u001b[0m\u001b[0;34m,\u001b[0m \u001b[0mlabel\u001b[0m\u001b[0;34m=\u001b[0m\u001b[0;34m'LR ∝ BS/epoch acc'\u001b[0m\u001b[0;34m,\u001b[0m\u001b[0mls\u001b[0m\u001b[0;34m=\u001b[0m\u001b[0;34m'-.'\u001b[0m\u001b[0;34m,\u001b[0m\u001b[0mc\u001b[0m\u001b[0;34m=\u001b[0m\u001b[0;34m'r'\u001b[0m\u001b[0;34m)\u001b[0m\u001b[0;34m\u001b[0m\u001b[0;34m\u001b[0m\u001b[0m\n",
            "\u001b[0;31mNameError\u001b[0m: name 'acc_1_dif' is not defined"
          ]
        },
        {
          "output_type": "display_data",
          "data": {
            "text/plain": [
              "<Figure size 1080x720 with 0 Axes>"
            ]
          },
          "metadata": {
            "tags": []
          }
        }
      ]
    },
    {
      "cell_type": "code",
      "metadata": {
        "id": "K_-jcMHg2eLO"
      },
      "source": [
        ""
      ],
      "execution_count": null,
      "outputs": []
    }
  ]
}