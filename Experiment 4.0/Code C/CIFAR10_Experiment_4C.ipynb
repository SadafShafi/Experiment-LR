{
  "nbformat": 4,
  "nbformat_minor": 0,
  "metadata": {
    "colab": {
      "name": "CIFAR10_Experiment_3_0.ipynb",
      "provenance": [],
      "collapsed_sections": []
    },
    "kernelspec": {
      "display_name": "Python 3",
      "name": "python3"
    },
    "accelerator": "GPU"
  },
  "cells": [
    {
      "cell_type": "markdown",
      "metadata": {
        "id": "Ei9FK1inJGKA"
      },
      "source": [
        "# *LR decresing wrt epoch (inverse relationship) with random fluctutions *\n",
        "\n",
        "\n",
        "---\n",
        "\n",
        "\n",
        "\n",
        "---\n",
        "\n"
      ]
    },
    {
      "cell_type": "markdown",
      "metadata": {
        "id": "KfFZwtotppg4"
      },
      "source": [
        "*Save and Load results from here*"
      ]
    },
    {
      "cell_type": "code",
      "metadata": {
        "id": "IfeQyoKhlJ_C"
      },
      "source": [
        "def record_Results(key,results):\n",
        "  import json\n",
        "  from google.colab import drive\n",
        "\n",
        "\n",
        "  drive.mount('/content/drive')\n",
        "\n",
        "  dictionary ={\n",
        "      key : results\n",
        "  } \n",
        "  json_object = json.dumps(dictionary)\n",
        "\n",
        "  FILE_PATH = \"/content/drive/My Drive/Results/\"+\"CIFAR10_Experiment_3_0\"+str(key)+\".json\"\n",
        "  f = open(FILE_PATH, \"w\")\n",
        "  f.write(json_object)\n",
        "  print(\"recorded\")\n",
        "\n",
        "def Get_Results(file):\n",
        "  import json\n",
        "  from google.colab import drive\n",
        "\n",
        "  drive.mount('/content/drive')\n",
        "\n",
        "  FILE_PATH = \"/content/drive/My Drive/Results/\"+\"CIFAR10_Experiment_3_0\"+str(file)+\".json\"\n",
        "  f = open(FILE_PATH, \"r\")\n",
        "  json_object = json.load(f)\n",
        "  \n",
        "  return json_object"
      ],
      "execution_count": null,
      "outputs": []
    },
    {
      "cell_type": "markdown",
      "metadata": {
        "id": "cNdv7he28E0B"
      },
      "source": [
        "**STARTING GPU**"
      ]
    },
    {
      "cell_type": "code",
      "metadata": {
        "colab": {
          "base_uri": "https://localhost:8080/"
        },
        "id": "9SUjTleWIogY",
        "outputId": "44a407e3-e5ce-4c65-ee1d-c9b1d83192ff"
      },
      "source": [
        "%tensorflow_version 2.x\n",
        "import tensorflow as tf\n",
        "device_name = tf.test.gpu_device_name()\n",
        "if device_name != '/device:GPU:0':\n",
        "  raise SystemError('GPU device not found')\n",
        "print('Found GPU at: {}'.format(device_name))"
      ],
      "execution_count": null,
      "outputs": [
        {
          "output_type": "stream",
          "text": [
            "Found GPU at: /device:GPU:0\n"
          ],
          "name": "stdout"
        }
      ]
    },
    {
      "cell_type": "code",
      "metadata": {
        "id": "Azwjhr5ZIpqD",
        "colab": {
          "base_uri": "https://localhost:8080/"
        },
        "outputId": "f224c02f-3a17-43b9-ca57-c016c8adfad8"
      },
      "source": [
        "%tensorflow_version 2.x\n",
        "import tensorflow as tf\n",
        "import timeit\n",
        "\n",
        "device_name = tf.test.gpu_device_name()\n",
        "if device_name != '/device:GPU:0':\n",
        "  print(\n",
        "      '\\n\\nThis error most likely means that this notebook is not '\n",
        "      'configured to use a GPU.  Change this in Notebook Settings via the '\n",
        "      'command palette (cmd/ctrl-shift-P) or the Edit menu.\\n\\n')\n",
        "  raise SystemError('GPU device not found')\n",
        "\n",
        "def cpu():\n",
        "  with tf.device('/cpu:0'):\n",
        "    random_image_cpu = tf.random.normal((100, 100, 100, 3))\n",
        "    net_cpu = tf.keras.layers.Conv2D(32, 7)(random_image_cpu)\n",
        "    return tf.math.reduce_sum(net_cpu)\n",
        "\n",
        "def gpu():\n",
        "  with tf.device('/device:GPU:0'):\n",
        "    random_image_gpu = tf.random.normal((100, 100, 100, 3))\n",
        "    net_gpu = tf.keras.layers.Conv2D(32, 7)(random_image_gpu)\n",
        "    return tf.math.reduce_sum(net_gpu)\n",
        "  \n",
        "# We run each op once to warm up; see: https://stackoverflow.com/a/45067900\n",
        "cpu()\n",
        "gpu()\n",
        "\n",
        "# Run the op several times.\n",
        "print('Time (s) to convolve 32x7x7x3 filter over random 100x100x100x3 images '\n",
        "      '(batch x height x width x channel). Sum of ten runs.')\n",
        "print('CPU (s):')\n",
        "cpu_time = timeit.timeit('cpu()', number=10, setup=\"from __main__ import cpu\")\n",
        "print(cpu_time)\n",
        "print('GPU (s):')\n",
        "gpu_time = timeit.timeit('gpu()', number=10, setup=\"from __main__ import gpu\")\n",
        "print(gpu_time)\n",
        "print('GPU speedup over CPU: {}x'.format(int(cpu_time/gpu_time)))"
      ],
      "execution_count": null,
      "outputs": [
        {
          "output_type": "stream",
          "text": [
            "Time (s) to convolve 32x7x7x3 filter over random 100x100x100x3 images (batch x height x width x channel). Sum of ten runs.\n",
            "CPU (s):\n",
            "3.623139642000069\n",
            "GPU (s):\n",
            "0.04716409399998156\n",
            "GPU speedup over CPU: 76x\n"
          ],
          "name": "stdout"
        }
      ]
    },
    {
      "cell_type": "code",
      "metadata": {
        "colab": {
          "base_uri": "https://localhost:8080/"
        },
        "id": "rXYtGJUNq6FO",
        "outputId": "9198235e-e551-4906-d029-6e3d02fe52a3"
      },
      "source": [
        "import keras\n",
        "from keras.models import Sequential\n",
        "from keras.utils import np_utils\n",
        "from keras.preprocessing.image import ImageDataGenerator\n",
        "from keras.layers import Dense, Activation, Flatten, Dropout, BatchNormalization\n",
        "from keras.layers import Conv2D, MaxPooling2D\n",
        "from keras.datasets import cifar10\n",
        "from keras import regularizers, optimizers\n",
        "import numpy as np\n",
        "\n",
        "\n",
        "(x_train, y_train), (x_test, y_test) = cifar10.load_data()\n",
        "x_train = x_train.astype('float32')\n",
        "x_test = x_test.astype('float32')\n",
        "\n",
        "#z-score\n",
        "mean = np.mean(x_train,axis=(0,1,2,3))\n",
        "std = np.std(x_train,axis=(0,1,2,3))\n",
        "x_train = (x_train-mean)/(std+1e-7)\n",
        "x_test = (x_test-mean)/(std+1e-7)\n",
        "\n",
        "num_classes = 10\n",
        "y_train = np_utils.to_categorical(y_train,num_classes)\n",
        "y_test = np_utils.to_categorical(y_test,num_classes)\n",
        "\n",
        "baseMapNum = 32\n",
        "weight_decay = 1e-4"
      ],
      "execution_count": null,
      "outputs": [
        {
          "output_type": "stream",
          "text": [
            "Downloading data from https://www.cs.toronto.edu/~kriz/cifar-10-python.tar.gz\n",
            "170500096/170498071 [==============================] - 6s 0us/step\n"
          ],
          "name": "stdout"
        }
      ]
    },
    {
      "cell_type": "code",
      "metadata": {
        "id": "CZ9KZsBirEQz"
      },
      "source": [
        "import tensorflow as tf\n",
        "from tensorflow.keras import datasets, layers, models\n",
        "import matplotlib.pyplot as plt"
      ],
      "execution_count": null,
      "outputs": []
    },
    {
      "cell_type": "code",
      "metadata": {
        "id": "IYVLSfbsbf9K"
      },
      "source": [
        "(train_images, train_labels), (test_images, test_labels) = datasets.cifar10.load_data()\n",
        "\n",
        "# Normalize pixel values to be between 0 and 1\n",
        "train_images, test_images = train_images / 255.0, test_images / 255.0"
      ],
      "execution_count": null,
      "outputs": []
    },
    {
      "cell_type": "code",
      "metadata": {
        "id": "vWv7Nn8PNmWr"
      },
      "source": [
        "def cifar10_model():\n",
        "  model = Sequential()\n",
        "  model.add(Conv2D(baseMapNum, (3,3), padding='same', kernel_regularizer=regularizers.l2(weight_decay), input_shape=x_train.shape[1:]))\n",
        "  model.add(Activation('relu'))\n",
        "  model.add(BatchNormalization())\n",
        "  model.add(Conv2D(baseMapNum, (3,3), padding='same', kernel_regularizer=regularizers.l2(weight_decay)))\n",
        "  model.add(Activation('relu'))\n",
        "  model.add(BatchNormalization())\n",
        "  model.add(MaxPooling2D(pool_size=(2,2)))\n",
        "  model.add(Dropout(0.2))\n",
        "\n",
        "  model.add(Conv2D(2*baseMapNum, (3,3), padding='same', kernel_regularizer=regularizers.l2(weight_decay)))\n",
        "  model.add(Activation('relu'))\n",
        "  model.add(BatchNormalization())\n",
        "  model.add(Conv2D(2*baseMapNum, (3,3), padding='same', kernel_regularizer=regularizers.l2(weight_decay)))\n",
        "  model.add(Activation('relu'))\n",
        "  model.add(BatchNormalization())\n",
        "  model.add(MaxPooling2D(pool_size=(2,2)))\n",
        "  model.add(Dropout(0.3))\n",
        "\n",
        "  model.add(Conv2D(4*baseMapNum, (3,3), padding='same', kernel_regularizer=regularizers.l2(weight_decay)))\n",
        "  model.add(Activation('relu'))\n",
        "  model.add(BatchNormalization())\n",
        "  model.add(Conv2D(4*baseMapNum, (3,3), padding='same', kernel_regularizer=regularizers.l2(weight_decay)))\n",
        "  model.add(Activation('relu'))\n",
        "  model.add(BatchNormalization())\n",
        "  model.add(MaxPooling2D(pool_size=(2,2)))\n",
        "  model.add(Dropout(0.4))\n",
        "\n",
        "  model.add(Flatten())\n",
        "  model.add(Dense(num_classes, activation='softmax'))\n",
        "\n",
        "  # model.summary()\n",
        "\n",
        "  #data augmentation\n",
        "\n",
        "\n",
        "\n",
        "  model.compile(loss='categorical_crossentropy',\n",
        "          optimizer='adam',\n",
        "          metrics=['accuracy'])\n",
        "  \n",
        "  return model\n",
        "\n",
        "datagen = ImageDataGenerator(\n",
        "  featurewise_center=False,\n",
        "  samplewise_center=False,\n",
        "  featurewise_std_normalization=False,\n",
        "  samplewise_std_normalization=False,\n",
        "  zca_whitening=False,\n",
        "  rotation_range=15,\n",
        "  width_shift_range=0.1,\n",
        "  height_shift_range=0.1,\n",
        "  horizontal_flip=True,\n",
        "  vertical_flip=False\n",
        "  )\n",
        "datagen.fit(x_train)"
      ],
      "execution_count": null,
      "outputs": []
    },
    {
      "cell_type": "code",
      "metadata": {
        "id": "Q598fZpLQulb"
      },
      "source": [
        "model = cifar10_model()"
      ],
      "execution_count": null,
      "outputs": []
    },
    {
      "cell_type": "code",
      "metadata": {
        "colab": {
          "base_uri": "https://localhost:8080/"
        },
        "id": "wxa1g4YlPnWN",
        "outputId": "e70be743-3e83-4bd7-c798-a27c9753f19d"
      },
      "source": [
        "model.summary()"
      ],
      "execution_count": null,
      "outputs": [
        {
          "output_type": "stream",
          "text": [
            "Model: \"sequential\"\n",
            "_________________________________________________________________\n",
            "Layer (type)                 Output Shape              Param #   \n",
            "=================================================================\n",
            "conv2d_22 (Conv2D)           (None, 32, 32, 32)        896       \n",
            "_________________________________________________________________\n",
            "activation (Activation)      (None, 32, 32, 32)        0         \n",
            "_________________________________________________________________\n",
            "batch_normalization (BatchNo (None, 32, 32, 32)        128       \n",
            "_________________________________________________________________\n",
            "conv2d_23 (Conv2D)           (None, 32, 32, 32)        9248      \n",
            "_________________________________________________________________\n",
            "activation_1 (Activation)    (None, 32, 32, 32)        0         \n",
            "_________________________________________________________________\n",
            "batch_normalization_1 (Batch (None, 32, 32, 32)        128       \n",
            "_________________________________________________________________\n",
            "max_pooling2d (MaxPooling2D) (None, 16, 16, 32)        0         \n",
            "_________________________________________________________________\n",
            "dropout (Dropout)            (None, 16, 16, 32)        0         \n",
            "_________________________________________________________________\n",
            "conv2d_24 (Conv2D)           (None, 16, 16, 64)        18496     \n",
            "_________________________________________________________________\n",
            "activation_2 (Activation)    (None, 16, 16, 64)        0         \n",
            "_________________________________________________________________\n",
            "batch_normalization_2 (Batch (None, 16, 16, 64)        256       \n",
            "_________________________________________________________________\n",
            "conv2d_25 (Conv2D)           (None, 16, 16, 64)        36928     \n",
            "_________________________________________________________________\n",
            "activation_3 (Activation)    (None, 16, 16, 64)        0         \n",
            "_________________________________________________________________\n",
            "batch_normalization_3 (Batch (None, 16, 16, 64)        256       \n",
            "_________________________________________________________________\n",
            "max_pooling2d_1 (MaxPooling2 (None, 8, 8, 64)          0         \n",
            "_________________________________________________________________\n",
            "dropout_1 (Dropout)          (None, 8, 8, 64)          0         \n",
            "_________________________________________________________________\n",
            "conv2d_26 (Conv2D)           (None, 8, 8, 128)         73856     \n",
            "_________________________________________________________________\n",
            "activation_4 (Activation)    (None, 8, 8, 128)         0         \n",
            "_________________________________________________________________\n",
            "batch_normalization_4 (Batch (None, 8, 8, 128)         512       \n",
            "_________________________________________________________________\n",
            "conv2d_27 (Conv2D)           (None, 8, 8, 128)         147584    \n",
            "_________________________________________________________________\n",
            "activation_5 (Activation)    (None, 8, 8, 128)         0         \n",
            "_________________________________________________________________\n",
            "batch_normalization_5 (Batch (None, 8, 8, 128)         512       \n",
            "_________________________________________________________________\n",
            "max_pooling2d_2 (MaxPooling2 (None, 4, 4, 128)         0         \n",
            "_________________________________________________________________\n",
            "dropout_2 (Dropout)          (None, 4, 4, 128)         0         \n",
            "_________________________________________________________________\n",
            "flatten (Flatten)            (None, 2048)              0         \n",
            "_________________________________________________________________\n",
            "dense (Dense)                (None, 10)                20490     \n",
            "=================================================================\n",
            "Total params: 309,290\n",
            "Trainable params: 308,394\n",
            "Non-trainable params: 896\n",
            "_________________________________________________________________\n"
          ],
          "name": "stdout"
        }
      ]
    },
    {
      "cell_type": "code",
      "metadata": {
        "id": "45M1nSqEFW3_"
      },
      "source": [
        "def Plotter(acc,val_acc,loss,val_loss,l_r):\n",
        "  \n",
        "  plt.plot(acc, label='accuracy')\n",
        "  plt.plot(val_acc, label = 'val_accuracy')\n",
        "  plt.xlabel('Epoch')\n",
        "  plt.ylabel('Accuracy')\n",
        "  plt.legend(loc='lower right')\n",
        "  plt.show()\n",
        "\n",
        "\n",
        "  plt.plot(loss, label='loss')\n",
        "  plt.plot(val_loss, label = 'val_loss')\n",
        "  plt.xlabel('Epoch')\n",
        "  plt.ylabel('loss')\n",
        "  plt.legend(loc='lower right')\n",
        "  plt.show()\n",
        "\n",
        "  plt.plot(l_r, label='Learning Rate')\n",
        "  # plt.plot(val_loss, label = 'val_loss')\n",
        "  plt.xlabel('Epoch')\n",
        "  plt.ylabel('LR')\n",
        "  plt.legend(loc='lower right')\n",
        "  plt.show()"
      ],
      "execution_count": null,
      "outputs": []
    },
    {
      "cell_type": "markdown",
      "metadata": {
        "id": "3Mw-wspT-rrF"
      },
      "source": [
        "**Test for LR**"
      ]
    },
    {
      "cell_type": "code",
      "metadata": {
        "colab": {
          "base_uri": "https://localhost:8080/",
          "height": 290
        },
        "id": "9d_uY9su-Qzg",
        "outputId": "404bd5d1-9933-4ae7-a042-9611eeb7debf"
      },
      "source": [
        "from random import random,randint,randrange,uniform\n",
        "lr = []\n",
        "epoo=70\n",
        "for z,batch_size in zip(range(1,epoo+1),range(5,10000,5)):\n",
        "\n",
        "  # print(z,(batch_size)/((z+1)**(3/2))/80)\n",
        "  \n",
        "\n",
        "\n",
        "  # if (z%2 == 0):\n",
        "  #   LR = random() * batch_size/10000\n",
        "  #   lr.append(LR)\n",
        "  # else:\n",
        "  LR = random() / (z*10000)\n",
        "  lr.append(LR)\n",
        "\n",
        "lr = lr[::-1] \n",
        "lord_LR = lr\n",
        "# print(min(lr))\n",
        "\n",
        "\n",
        "plt.plot(lr, label='Learning Rate')\n",
        "plt.xlabel('Epoch')\n",
        "plt.ylabel('LR')\n",
        "plt.legend(loc='lower right')\n",
        "plt.show()\n",
        "\n",
        "\n",
        "# lr = []\n",
        "# epoo=150\n",
        "# for z,batch_size in zip(range(1,epoo+1),range(5,10000,5)):\n",
        "\n",
        "#   # print(z,(batch_size)/((z+1)**(3/2))/80)\n",
        "  \n",
        "\n",
        "#   LR = random() * z/10000\n",
        "#   # LR=LR/8\n",
        "#   lr.append(LR)\n",
        "\n",
        "# plt.plot(lr, label='Learning Rate')\n",
        "# plt.xlabel('Epoch')\n",
        "# plt.ylabel('LR')\n",
        "# plt.legend(loc='lower right')\n",
        "# plt.show()"
      ],
      "execution_count": null,
      "outputs": [
        {
          "output_type": "display_data",
          "data": {
            "image/png": "[encoded data removed]",
            "text/plain": [
              "<Figure size 432x288 with 1 Axes>"
            ]
          },
          "metadata": {
            "tags": [],
            "needs_background": "light"
          }
        }
      ]
    },
    {
      "cell_type": "markdown",
      "metadata": {
        "id": "r-JI73CgFFOa"
      },
      "source": [
        "**Normal default fit** : LR and Batch Size default    \n",
        "\n",
        "\n",
        "---\n",
        "Running them in parts\n"
      ]
    },
    {
      "cell_type": "code",
      "metadata": {
        "id": "pedciuqPNnha"
      },
      "source": [
        "# import os\n",
        "\n",
        "# checkpoint_path = \"training_1/cp.ckpt\"\n",
        "# checkpoint_dir = os.path.dirname(checkpoint_path)\n",
        "\n",
        "# # Create a callback that saves the model's weights\n",
        "# cp_callback = tf.keras.callbacks.ModelCheckpoint(filepath=checkpoint_path,\n",
        "#                                                  save_weights_only=True,\n",
        "#                                                  verbose=1)\n",
        "\n",
        "# history = model.fit(datagen.flow(x_train, y_train),\n",
        "#                     epochs=50,validation_data=(x_test,y_test),\n",
        "#                     callbacks = cp_callback)"
      ],
      "execution_count": null,
      "outputs": []
    },
    {
      "cell_type": "code",
      "metadata": {
        "id": "8F-yEBSyMzkN"
      },
      "source": [
        "# acc_1 = []\n",
        "# val_acc_1 = []\n",
        "# loss = []\n",
        "# Vloss = []\n",
        "\n",
        "# acc_1.append(history.history['accuracy'])\n",
        "# val_acc_1.append(history.history['val_accuracy'])\n",
        "\n",
        "# loss.append(history.history['loss'])\n",
        "# Vloss.append(history.history['val_loss'])"
      ],
      "execution_count": null,
      "outputs": []
    },
    {
      "cell_type": "code",
      "metadata": {
        "id": "FB_hAfEvIPgS"
      },
      "source": [
        "# from google.colab import drive\n",
        "# drive.mount('/content/drive')"
      ],
      "execution_count": null,
      "outputs": []
    },
    {
      "cell_type": "code",
      "metadata": {
        "id": "9yCjubWVclXx"
      },
      "source": [
        "# model = cifar10_model()\n",
        "\n",
        "# # Load the previously saved weights\n",
        "# model.load_weights(checkpoint_path)\n",
        "\n",
        "# checkpoint_path = \"training_1/cp.ckpt\"\n",
        "# checkpoint_dir = os.path.dirname(checkpoint_path)\n",
        "\n",
        "# # Create a callback that saves the model's weights\n",
        "# cp_callback = tf.keras.callbacks.ModelCheckpoint(filepath=checkpoint_path,\n",
        "#                                                  save_weights_only=True,\n",
        "#                                                  verbose=1)\n",
        "\n",
        "# history = model.fit(datagen.flow(x_train, y_train),\n",
        "#                     epochs=50,validation_data=(x_test,y_test),\n",
        "#                     callbacks = cp_callback)"
      ],
      "execution_count": null,
      "outputs": []
    },
    {
      "cell_type": "code",
      "metadata": {
        "id": "BtsyuUuXM63M"
      },
      "source": [
        "# acc_1.append(history.history['accuracy'])\n",
        "# val_acc_1.append(history.history['val_accuracy'])\n",
        "\n",
        "# loss.append(history.history['loss'])\n",
        "# Vloss.append(history.history['val_loss'])"
      ],
      "execution_count": null,
      "outputs": []
    },
    {
      "cell_type": "code",
      "metadata": {
        "id": "AR1NeGkVMmai"
      },
      "source": [
        "# model = cifar10_model()\n",
        "\n",
        "# # Load the previously saved weights\n",
        "# model.load_weights(checkpoint_path)\n",
        "\n",
        "# checkpoint_path = \"training_1/cp.ckpt\"\n",
        "# checkpoint_dir = os.path.dirname(checkpoint_path)\n",
        "\n",
        "# # Create a callback that saves the model's weights\n",
        "# cp_callback = tf.keras.callbacks.ModelCheckpoint(filepath=checkpoint_path,\n",
        "#                                                  save_weights_only=True,\n",
        "#                                                  verbose=1)\n",
        "\n",
        "# history = model.fit(datagen.flow(x_train, y_train),\n",
        "#                     epochs=50,validation_data=(x_test,y_test),\n",
        "#                     callbacks = cp_callback)"
      ],
      "execution_count": null,
      "outputs": []
    },
    {
      "cell_type": "code",
      "metadata": {
        "id": "Dfcv0ZkjNIDu"
      },
      "source": [
        "# acc_1.append(history.history['accuracy'])\n",
        "# val_acc_1.append(history.history['val_accuracy'])\n",
        "\n",
        "# loss.append(history.history['loss'])\n",
        "# Vloss.append(history.history['val_loss'])"
      ],
      "execution_count": null,
      "outputs": []
    },
    {
      "cell_type": "code",
      "metadata": {
        "id": "lJYz2hCAYXhu"
      },
      "source": [
        "# model = cifar10_model()\n",
        "\n",
        "# # Load the previously saved weights\n",
        "# model.load_weights(checkpoint_path)\n",
        "\n",
        "# checkpoint_path = \"training_1/cp.ckpt\"\n",
        "# checkpoint_dir = os.path.dirname(checkpoint_path)\n",
        "\n",
        "# # Create a callback that saves the model's weights\n",
        "# cp_callback = tf.keras.callbacks.ModelCheckpoint(filepath=checkpoint_path,\n",
        "#                                                  save_weights_only=True,\n",
        "#                                                  verbose=1)\n",
        "\n",
        "# history = model.fit(datagen.flow(x_train, y_train),\n",
        "#                     epochs=50,validation_data=(x_test,y_test),\n",
        "#                     callbacks = cp_callback)"
      ],
      "execution_count": null,
      "outputs": []
    },
    {
      "cell_type": "code",
      "metadata": {
        "id": "IpcTMcvkI2a3"
      },
      "source": [
        "# acc_1.append(history.history['accuracy'])\n",
        "# val_acc_1.append(history.history['val_accuracy'])\n",
        "\n",
        "# loss.append(history.history['loss'])\n",
        "# Vloss.append(history.history['val_loss'])"
      ],
      "execution_count": null,
      "outputs": []
    },
    {
      "cell_type": "code",
      "metadata": {
        "colab": {
          "base_uri": "https://localhost:8080/"
        },
        "id": "-yhUeYzwMnoa",
        "outputId": "a0e8f117-2624-4700-fc80-997159ae5e5f"
      },
      "source": [
        "model = cifar10_model()\n",
        "\n",
        "# Load the previously saved weights\n",
        "# model.load_weights(checkpoint_path)\n",
        "\n",
        "# checkpoint_path = \"training_1/cp.ckpt\"\n",
        "# checkpoint_dir = os.path.dirname(checkpoint_path)\n",
        "\n",
        "# Create a callback that saves the model's weights\n",
        "# cp_callback = tf.keras.callbacks.ModelCheckpoint(filepath=checkpoint_path,\n",
        "#                                                  save_weights_only=True,\n",
        "#                                                  verbose=1)\n",
        "\n",
        "history = model.fit(datagen.flow(x_train, y_train),\n",
        "                    epochs=epoo,\n",
        "                    validation_data=(x_test,y_test),\n",
        "                    # callbacks = cp_callback\n",
        "                    )"
      ],
      "execution_count": null,
      "outputs": [
        {
          "output_type": "stream",
          "text": [
            "Epoch 1/70\n",
            "1563/1563 [==============================] - 32s 19ms/step - loss: 2.3793 - accuracy: 0.3357 - val_loss: 1.3897 - val_accuracy: 0.5470\n",
            "Epoch 2/70\n",
            "1563/1563 [==============================] - 30s 19ms/step - loss: 1.3681 - accuracy: 0.5416 - val_loss: 1.0424 - val_accuracy: 0.6639\n",
            "Epoch 3/70\n",
            "1563/1563 [==============================] - 30s 19ms/step - loss: 1.0903 - accuracy: 0.6414 - val_loss: 0.9321 - val_accuracy: 0.7118\n",
            "Epoch 4/70\n",
            "1563/1563 [==============================] - 30s 19ms/step - loss: 0.9720 - accuracy: 0.6865 - val_loss: 0.8666 - val_accuracy: 0.7365\n",
            "Epoch 5/70\n",
            "1563/1563 [==============================] - 29s 19ms/step - loss: 0.9024 - accuracy: 0.7164 - val_loss: 0.8757 - val_accuracy: 0.7433\n",
            "Epoch 6/70\n",
            "1563/1563 [==============================] - 30s 19ms/step - loss: 0.8712 - accuracy: 0.7333 - val_loss: 0.7709 - val_accuracy: 0.7804\n",
            "Epoch 7/70\n",
            "1563/1563 [==============================] - 30s 19ms/step - loss: 0.8391 - accuracy: 0.7542 - val_loss: 0.7694 - val_accuracy: 0.7846\n",
            "Epoch 8/70\n",
            "1563/1563 [==============================] - 29s 19ms/step - loss: 0.8286 - accuracy: 0.7608 - val_loss: 0.8248 - val_accuracy: 0.7701\n",
            "Epoch 9/70\n",
            "1563/1563 [==============================] - 29s 19ms/step - loss: 0.8092 - accuracy: 0.7698 - val_loss: 0.7274 - val_accuracy: 0.8049\n",
            "Epoch 10/70\n",
            "1563/1563 [==============================] - 30s 19ms/step - loss: 0.8001 - accuracy: 0.7767 - val_loss: 0.7876 - val_accuracy: 0.7882\n",
            "Epoch 11/70\n",
            "1563/1563 [==============================] - 29s 19ms/step - loss: 0.7918 - accuracy: 0.7817 - val_loss: 0.7814 - val_accuracy: 0.7945\n",
            "Epoch 12/70\n",
            "1563/1563 [==============================] - 30s 19ms/step - loss: 0.7906 - accuracy: 0.7836 - val_loss: 0.7187 - val_accuracy: 0.8110\n",
            "Epoch 13/70\n",
            "1563/1563 [==============================] - 30s 19ms/step - loss: 0.7874 - accuracy: 0.7864 - val_loss: 0.7284 - val_accuracy: 0.8138\n",
            "Epoch 14/70\n",
            "1563/1563 [==============================] - 29s 19ms/step - loss: 0.7662 - accuracy: 0.7917 - val_loss: 0.6791 - val_accuracy: 0.8289\n",
            "Epoch 15/70\n",
            "1563/1563 [==============================] - 30s 19ms/step - loss: 0.7696 - accuracy: 0.7971 - val_loss: 0.6875 - val_accuracy: 0.8274\n",
            "Epoch 16/70\n",
            "1563/1563 [==============================] - 30s 19ms/step - loss: 0.7559 - accuracy: 0.8024 - val_loss: 0.7385 - val_accuracy: 0.8121\n",
            "Epoch 17/70\n",
            "1563/1563 [==============================] - 29s 19ms/step - loss: 0.7561 - accuracy: 0.8013 - val_loss: 0.7229 - val_accuracy: 0.8151\n",
            "Epoch 18/70\n",
            "1563/1563 [==============================] - 30s 19ms/step - loss: 0.7448 - accuracy: 0.8047 - val_loss: 0.7010 - val_accuracy: 0.8265\n",
            "Epoch 19/70\n",
            "1563/1563 [==============================] - 30s 19ms/step - loss: 0.7422 - accuracy: 0.8069 - val_loss: 0.7744 - val_accuracy: 0.8022\n",
            "Epoch 20/70\n",
            "1563/1563 [==============================] - 30s 19ms/step - loss: 0.7372 - accuracy: 0.8068 - val_loss: 0.6724 - val_accuracy: 0.8347\n",
            "Epoch 21/70\n",
            "1563/1563 [==============================] - 30s 19ms/step - loss: 0.7454 - accuracy: 0.8072 - val_loss: 0.6723 - val_accuracy: 0.8375\n",
            "Epoch 22/70\n",
            "1563/1563 [==============================] - 30s 19ms/step - loss: 0.7268 - accuracy: 0.8157 - val_loss: 0.7819 - val_accuracy: 0.8052\n",
            "Epoch 23/70\n",
            "1563/1563 [==============================] - 30s 19ms/step - loss: 0.7308 - accuracy: 0.8146 - val_loss: 0.6668 - val_accuracy: 0.8359\n",
            "Epoch 24/70\n",
            "1563/1563 [==============================] - 30s 19ms/step - loss: 0.7241 - accuracy: 0.8156 - val_loss: 0.6871 - val_accuracy: 0.8346\n",
            "Epoch 25/70\n",
            "1563/1563 [==============================] - 29s 19ms/step - loss: 0.7287 - accuracy: 0.8155 - val_loss: 0.6779 - val_accuracy: 0.8365\n",
            "Epoch 26/70\n",
            "1563/1563 [==============================] - 30s 19ms/step - loss: 0.7289 - accuracy: 0.8128 - val_loss: 0.6883 - val_accuracy: 0.8368\n",
            "Epoch 27/70\n",
            "1563/1563 [==============================] - 29s 19ms/step - loss: 0.7238 - accuracy: 0.8182 - val_loss: 0.6972 - val_accuracy: 0.8346\n",
            "Epoch 28/70\n",
            "1563/1563 [==============================] - 29s 19ms/step - loss: 0.7148 - accuracy: 0.8191 - val_loss: 0.7121 - val_accuracy: 0.8323\n",
            "Epoch 29/70\n",
            "1563/1563 [==============================] - 30s 19ms/step - loss: 0.7250 - accuracy: 0.8183 - val_loss: 0.6904 - val_accuracy: 0.8351\n",
            "Epoch 30/70\n",
            "1563/1563 [==============================] - 29s 19ms/step - loss: 0.7210 - accuracy: 0.8196 - val_loss: 0.6840 - val_accuracy: 0.8392\n",
            "Epoch 31/70\n",
            "1563/1563 [==============================] - 30s 19ms/step - loss: 0.7153 - accuracy: 0.8205 - val_loss: 0.7525 - val_accuracy: 0.8163\n",
            "Epoch 32/70\n",
            "1563/1563 [==============================] - 30s 19ms/step - loss: 0.7090 - accuracy: 0.8222 - val_loss: 0.6960 - val_accuracy: 0.8319\n",
            "Epoch 33/70\n",
            "1563/1563 [==============================] - 29s 19ms/step - loss: 0.7046 - accuracy: 0.8251 - val_loss: 0.6791 - val_accuracy: 0.8399\n",
            "Epoch 34/70\n",
            "1563/1563 [==============================] - 30s 19ms/step - loss: 0.7054 - accuracy: 0.8258 - val_loss: 0.7553 - val_accuracy: 0.8148\n",
            "Epoch 35/70\n",
            "1563/1563 [==============================] - 29s 19ms/step - loss: 0.7137 - accuracy: 0.8220 - val_loss: 0.6491 - val_accuracy: 0.8519\n",
            "Epoch 36/70\n",
            "1563/1563 [==============================] - 29s 19ms/step - loss: 0.6996 - accuracy: 0.8256 - val_loss: 0.6581 - val_accuracy: 0.8464\n",
            "Epoch 37/70\n",
            "1563/1563 [==============================] - 29s 19ms/step - loss: 0.6962 - accuracy: 0.8285 - val_loss: 0.6842 - val_accuracy: 0.8363\n",
            "Epoch 38/70\n",
            "1563/1563 [==============================] - 29s 19ms/step - loss: 0.7061 - accuracy: 0.8240 - val_loss: 0.6453 - val_accuracy: 0.8486\n",
            "Epoch 39/70\n",
            "1563/1563 [==============================] - 29s 19ms/step - loss: 0.7033 - accuracy: 0.8235 - val_loss: 0.6371 - val_accuracy: 0.8511\n",
            "Epoch 40/70\n",
            "1563/1563 [==============================] - 29s 19ms/step - loss: 0.6950 - accuracy: 0.8262 - val_loss: 0.7402 - val_accuracy: 0.8240\n",
            "Epoch 41/70\n",
            "1563/1563 [==============================] - 29s 19ms/step - loss: 0.6995 - accuracy: 0.8278 - val_loss: 0.7087 - val_accuracy: 0.8345\n",
            "Epoch 42/70\n",
            "1563/1563 [==============================] - 29s 19ms/step - loss: 0.6917 - accuracy: 0.8298 - val_loss: 0.7239 - val_accuracy: 0.8314\n",
            "Epoch 43/70\n",
            "1563/1563 [==============================] - 29s 19ms/step - loss: 0.6952 - accuracy: 0.8308 - val_loss: 0.7102 - val_accuracy: 0.8279\n",
            "Epoch 44/70\n",
            "1563/1563 [==============================] - 30s 19ms/step - loss: 0.7068 - accuracy: 0.8254 - val_loss: 0.6706 - val_accuracy: 0.8428\n",
            "Epoch 45/70\n",
            "1563/1563 [==============================] - 30s 19ms/step - loss: 0.6915 - accuracy: 0.8301 - val_loss: 0.6339 - val_accuracy: 0.8541\n",
            "Epoch 46/70\n",
            "1563/1563 [==============================] - 29s 19ms/step - loss: 0.6960 - accuracy: 0.8273 - val_loss: 0.6908 - val_accuracy: 0.8368\n",
            "Epoch 47/70\n",
            "1563/1563 [==============================] - 29s 19ms/step - loss: 0.6893 - accuracy: 0.8291 - val_loss: 0.6121 - val_accuracy: 0.8628\n",
            "Epoch 48/70\n",
            "1563/1563 [==============================] - 30s 19ms/step - loss: 0.6951 - accuracy: 0.8291 - val_loss: 0.6854 - val_accuracy: 0.8396\n",
            "Epoch 49/70\n",
            "1563/1563 [==============================] - 29s 19ms/step - loss: 0.6840 - accuracy: 0.8323 - val_loss: 0.7801 - val_accuracy: 0.8114\n",
            "Epoch 50/70\n",
            "1563/1563 [==============================] - 30s 19ms/step - loss: 0.6921 - accuracy: 0.8289 - val_loss: 0.6795 - val_accuracy: 0.8418\n",
            "Epoch 51/70\n",
            "1563/1563 [==============================] - 30s 19ms/step - loss: 0.6949 - accuracy: 0.8292 - val_loss: 0.6960 - val_accuracy: 0.8365\n",
            "Epoch 52/70\n",
            "1563/1563 [==============================] - 29s 19ms/step - loss: 0.6793 - accuracy: 0.8372 - val_loss: 0.6533 - val_accuracy: 0.8518\n",
            "Epoch 53/70\n",
            "1563/1563 [==============================] - 29s 19ms/step - loss: 0.6947 - accuracy: 0.8313 - val_loss: 0.7186 - val_accuracy: 0.8299\n",
            "Epoch 54/70\n",
            "1563/1563 [==============================] - 29s 19ms/step - loss: 0.6880 - accuracy: 0.8310 - val_loss: 0.7190 - val_accuracy: 0.8333\n",
            "Epoch 55/70\n",
            "1563/1563 [==============================] - 30s 19ms/step - loss: 0.6792 - accuracy: 0.8387 - val_loss: 0.6637 - val_accuracy: 0.8453\n",
            "Epoch 56/70\n",
            "1563/1563 [==============================] - 30s 19ms/step - loss: 0.6833 - accuracy: 0.8360 - val_loss: 0.7355 - val_accuracy: 0.8287\n",
            "Epoch 57/70\n",
            "1563/1563 [==============================] - 30s 19ms/step - loss: 0.6856 - accuracy: 0.8354 - val_loss: 0.6879 - val_accuracy: 0.8431\n",
            "Epoch 58/70\n",
            "1563/1563 [==============================] - 30s 19ms/step - loss: 0.6855 - accuracy: 0.8330 - val_loss: 0.6500 - val_accuracy: 0.8516\n",
            "Epoch 59/70\n",
            "1563/1563 [==============================] - 30s 19ms/step - loss: 0.6773 - accuracy: 0.8352 - val_loss: 0.6429 - val_accuracy: 0.8580\n",
            "Epoch 60/70\n",
            "1563/1563 [==============================] - 29s 19ms/step - loss: 0.6802 - accuracy: 0.8355 - val_loss: 0.7096 - val_accuracy: 0.8390\n",
            "Epoch 61/70\n",
            "1563/1563 [==============================] - 30s 19ms/step - loss: 0.6917 - accuracy: 0.8330 - val_loss: 0.7270 - val_accuracy: 0.8319\n",
            "Epoch 62/70\n",
            "1563/1563 [==============================] - 30s 19ms/step - loss: 0.6837 - accuracy: 0.8360 - val_loss: 0.6518 - val_accuracy: 0.8505\n",
            "Epoch 63/70\n",
            "1563/1563 [==============================] - 30s 19ms/step - loss: 0.6778 - accuracy: 0.8375 - val_loss: 0.6886 - val_accuracy: 0.8378\n",
            "Epoch 64/70\n",
            "1563/1563 [==============================] - 30s 19ms/step - loss: 0.6795 - accuracy: 0.8382 - val_loss: 0.6576 - val_accuracy: 0.8496\n",
            "Epoch 65/70\n",
            "1563/1563 [==============================] - 30s 19ms/step - loss: 0.6766 - accuracy: 0.8368 - val_loss: 0.6680 - val_accuracy: 0.8470\n",
            "Epoch 66/70\n",
            "1563/1563 [==============================] - 29s 19ms/step - loss: 0.6775 - accuracy: 0.8363 - val_loss: 0.6582 - val_accuracy: 0.8479\n",
            "Epoch 67/70\n",
            "1563/1563 [==============================] - 30s 19ms/step - loss: 0.6828 - accuracy: 0.8350 - val_loss: 0.6963 - val_accuracy: 0.8439\n",
            "Epoch 68/70\n",
            "1563/1563 [==============================] - 29s 19ms/step - loss: 0.6826 - accuracy: 0.8367 - val_loss: 0.6779 - val_accuracy: 0.8460\n",
            "Epoch 69/70\n",
            "1563/1563 [==============================] - 30s 19ms/step - loss: 0.6742 - accuracy: 0.8384 - val_loss: 0.6343 - val_accuracy: 0.8623\n",
            "Epoch 70/70\n",
            "1563/1563 [==============================] - 30s 19ms/step - loss: 0.6806 - accuracy: 0.8371 - val_loss: 0.6808 - val_accuracy: 0.8457\n"
          ],
          "name": "stdout"
        }
      ]
    },
    {
      "cell_type": "code",
      "metadata": {
        "id": "-s0FQOl5d9h4"
      },
      "source": [
        "acc_1 = history.history['accuracy']\n",
        "val_acc_1 = history.history['val_accuracy']"
      ],
      "execution_count": null,
      "outputs": []
    },
    {
      "cell_type": "code",
      "metadata": {
        "id": "om_ikWsjOXK-"
      },
      "source": [
        "#Save these values in your jsonm\n",
        "record_Results(\"acc_1\",acc_1)\n",
        "record_Results(\"val_acc_1\",val_acc_1)\n"
      ],
      "execution_count": null,
      "outputs": []
    },
    {
      "cell_type": "code",
      "metadata": {
        "id": "m02HO3IwLiXi",
        "colab": {
          "base_uri": "https://localhost:8080/"
        },
        "outputId": "917020e8-0836-40ab-c2e9-a9023bb5c3db"
      },
      "source": [
        "#Get the saved results\n",
        "acc_1 = Get_Results(\"acc_1\")[\"acc_1\"]\n",
        "val_acc_1 = Get_Results(\"val_acc_1\")[\"val_acc_1\"]"
      ],
      "execution_count": null,
      "outputs": [
        {
          "output_type": "stream",
          "text": [
            "Mounted at /content/drive\n",
            "Drive already mounted at /content/drive; to attempt to forcibly remount, call drive.mount(\"/content/drive\", force_remount=True).\n"
          ],
          "name": "stdout"
        }
      ]
    },
    {
      "cell_type": "code",
      "metadata": {
        "id": "hJ0eSeQfMo1x"
      },
      "source": [
        "# acc_1.append(history.history['accuracy'])\n",
        "# val_acc_1.append(history.history['val_accuracy'])\n",
        "\n",
        "# loss.append(history.history['loss'])\n",
        "# Vloss.append(history.history['val_loss'])"
      ],
      "execution_count": null,
      "outputs": []
    },
    {
      "cell_type": "code",
      "metadata": {
        "id": "gtyDF0MKUcM7",
        "colab": {
          "base_uri": "https://localhost:8080/",
          "height": 279
        },
        "outputId": "37775a39-b302-484c-aafd-b141613f64de"
      },
      "source": [
        "plt.plot(acc_1, label='accuracy')\n",
        "plt.plot(val_acc_1, label = 'val_accuracy')\n",
        "plt.xlabel('Epoch')\n",
        "plt.ylabel('Accuracy')\n",
        "plt.legend(loc='lower right')\n",
        "plt.show()\n",
        "\n",
        "# test_loss, test_acc = model.evaluate(test_images,  test_labels, verbose=2)\n",
        "\n",
        "# plt.plot(loss, label='loss')\n",
        "# plt.plot(Vloss, label = 'val_loss')\n",
        "# plt.xlabel('Epoch')\n",
        "# plt.ylabel('loss')\n",
        "# plt.legend(loc='lower right')\n",
        "# plt.show()"
      ],
      "execution_count": null,
      "outputs": [
        {
          "output_type": "display_data",
          "data": {
            "image/png": "[encoded data removed]",
            "text/plain": [
              "<Figure size 432x288 with 1 Axes>"
            ]
          },
          "metadata": {
            "tags": [],
            "needs_background": "light"
          }
        }
      ]
    },
    {
      "cell_type": "markdown",
      "metadata": {
        "id": "p8bP4hOz8PbR"
      },
      "source": [
        "**LR ∝ BS/Epoch**"
      ]
    },
    {
      "cell_type": "code",
      "metadata": {
        "id": "hGg5WxHXhj5G",
        "colab": {
          "base_uri": "https://localhost:8080/"
        },
        "outputId": "0ad9ca76-e0b4-4a8e-9e77-ad6b7964a4e7"
      },
      "source": [
        "model = cifar10_model()\n",
        "from random import random\n",
        "from keras.callbacks import LearningRateScheduler\n",
        "\n",
        "LR = 0.01\n",
        "epoch = 1\n",
        "batch_size = 100\n",
        "\n",
        "val_acc = []\n",
        "acc = []\n",
        "val_loss = []\n",
        "loss = []\n",
        "l_r = []\n",
        "\n",
        "num = 0\n",
        "\n",
        "x = 0\n",
        "# kr = lr\n",
        "for z,batch_size in zip(range(1,epoo),range(5,10000,5)):\n",
        "\n",
        "  # if (z%2 == 0):\n",
        "  #   LR = random() * batch_size/10000\n",
        "  # # lr.append(LR)\n",
        "  # else:\n",
        "  LR = random() / (z*10000)\n",
        "  # lr.append(LR)\n",
        "\n",
        "  print(\"\\n\\nepoch {z}, Learning Rate {LR}, Batch Size  {batch_size} \"\n",
        "                    .format(z=z,LR=LR,batch_size=batch_size))\n",
        "\n",
        "  def set_LR(epoch,lr):\n",
        "    global LR\n",
        "    global l_r\n",
        "    global x\n",
        "    global lord_LR \n",
        "\n",
        "    LR=lord_LR[x]\n",
        "    x+=1\n",
        "    if(LR>0.009):\n",
        "      LR = 0.009\n",
        "    l_r.append(LR)\n",
        "    return LR\n",
        "\n",
        "  call = [ LearningRateScheduler(set_LR,verbose=1) ]\n",
        "\n",
        "  history = model.fit(\n",
        "            datagen.flow(x_train, y_train), \n",
        "            validation_data=(x_test, y_test),\n",
        "            epochs=epoch,\n",
        "            batch_size=batch_size,\n",
        "            callbacks=call\n",
        "            )\n",
        "\n",
        "\n",
        "\n",
        "  acc.append(history.history['accuracy'])\n",
        "  val_acc.append(history.history['val_accuracy'])\n",
        "  loss.append(history.history['loss'])\n",
        "  val_loss.append(history.history['val_loss'])\n",
        "\n",
        "  # if(num >= 50 ):\n",
        "  #   x = input(\"type anything if you want to continue >  \")\n",
        "  #   num = 0\n",
        "  # num += 1\n"
      ],
      "execution_count": null,
      "outputs": [
        {
          "output_type": "stream",
          "text": [
            "\n",
            "\n",
            "epoch 1, Learning Rate 2.218674794353791e-05, Batch Size  5 \n",
            "\n",
            "Epoch 00001: LearningRateScheduler reducing learning rate to 4.1654709157187815e-07.\n",
            "1563/1563 [==============================] - 34s 21ms/step - loss: 4.5950 - accuracy: 0.1077 - val_loss: 2.9416 - val_accuracy: 0.1243\n",
            "\n",
            "\n",
            "epoch 2, Learning Rate 3.302473535380009e-05, Batch Size  10 \n",
            "\n",
            "Epoch 00001: LearningRateScheduler reducing learning rate to 1.1699997910551156e-07.\n",
            "1563/1563 [==============================] - 31s 20ms/step - loss: 4.2887 - accuracy: 0.1147 - val_loss: 2.8986 - val_accuracy: 0.1290\n",
            "\n",
            "\n",
            "epoch 3, Learning Rate 1.83265876061656e-05, Batch Size  15 \n",
            "\n",
            "Epoch 00001: LearningRateScheduler reducing learning rate to 2.9188713403418406e-07.\n",
            "1563/1563 [==============================] - 31s 20ms/step - loss: 4.1709 - accuracy: 0.1167 - val_loss: 2.8074 - val_accuracy: 0.1399\n",
            "\n",
            "\n",
            "epoch 4, Learning Rate 4.495665459615059e-06, Batch Size  20 \n",
            "\n",
            "Epoch 00001: LearningRateScheduler reducing learning rate to 7.007907307543857e-08.\n",
            "1563/1563 [==============================] - 30s 19ms/step - loss: 4.1129 - accuracy: 0.1219 - val_loss: 2.7920 - val_accuracy: 0.1431\n",
            "\n",
            "\n",
            "epoch 5, Learning Rate 5.93903373680269e-07, Batch Size  25 \n",
            "\n",
            "Epoch 00001: LearningRateScheduler reducing learning rate to 5.935172599769894e-07.\n",
            "1563/1563 [==============================] - 30s 19ms/step - loss: 4.0193 - accuracy: 0.1303 - val_loss: 2.6679 - val_accuracy: 0.1640\n",
            "\n",
            "\n",
            "epoch 6, Learning Rate 9.91195411925568e-08, Batch Size  30 \n",
            "\n",
            "Epoch 00001: LearningRateScheduler reducing learning rate to 1.2944344777206817e-06.\n",
            "1563/1563 [==============================] - 30s 19ms/step - loss: 3.8211 - accuracy: 0.1465 - val_loss: 2.4893 - val_accuracy: 0.2064\n",
            "\n",
            "\n",
            "epoch 7, Learning Rate 2.840346650384243e-06, Batch Size  35 \n",
            "\n",
            "Epoch 00001: LearningRateScheduler reducing learning rate to 1.5614422460606509e-06.\n",
            "1563/1563 [==============================] - 29s 19ms/step - loss: 3.6390 - accuracy: 0.1648 - val_loss: 2.3460 - val_accuracy: 0.2434\n",
            "\n",
            "\n",
            "epoch 8, Learning Rate 1.173571509120597e-05, Batch Size  40 \n",
            "\n",
            "Epoch 00001: LearningRateScheduler reducing learning rate to 1.8130822144293238e-07.\n",
            "1563/1563 [==============================] - 30s 19ms/step - loss: 3.5302 - accuracy: 0.1807 - val_loss: 2.3348 - val_accuracy: 0.2438\n",
            "\n",
            "\n",
            "epoch 9, Learning Rate 5.469664763139969e-06, Batch Size  45 \n",
            "\n",
            "Epoch 00001: LearningRateScheduler reducing learning rate to 1.0123898467303002e-06.\n",
            "1563/1563 [==============================] - 29s 19ms/step - loss: 3.4938 - accuracy: 0.1849 - val_loss: 2.2715 - val_accuracy: 0.2611\n",
            "\n",
            "\n",
            "epoch 10, Learning Rate 1.0056351823217902e-06, Batch Size  50 \n",
            "\n",
            "Epoch 00001: LearningRateScheduler reducing learning rate to 7.751193170247242e-07.\n",
            "1563/1563 [==============================] - 29s 19ms/step - loss: 3.4129 - accuracy: 0.1951 - val_loss: 2.2378 - val_accuracy: 0.2742\n",
            "\n",
            "\n",
            "epoch 11, Learning Rate 2.285551358552948e-06, Batch Size  55 \n",
            "\n",
            "Epoch 00001: LearningRateScheduler reducing learning rate to 4.5642200844683014e-07.\n",
            "1563/1563 [==============================] - 29s 19ms/step - loss: 3.3676 - accuracy: 0.2005 - val_loss: 2.2145 - val_accuracy: 0.2788\n",
            "\n",
            "\n",
            "epoch 12, Learning Rate 7.79524235850035e-06, Batch Size  60 \n",
            "\n",
            "Epoch 00001: LearningRateScheduler reducing learning rate to 8.876235911493765e-07.\n",
            "1563/1563 [==============================] - 29s 19ms/step - loss: 3.3092 - accuracy: 0.2066 - val_loss: 2.1726 - val_accuracy: 0.2915\n",
            "\n",
            "\n",
            "epoch 13, Learning Rate 7.6174308725235895e-06, Batch Size  65 \n",
            "\n",
            "Epoch 00001: LearningRateScheduler reducing learning rate to 1.0508558370910253e-06.\n",
            "1563/1563 [==============================] - 29s 19ms/step - loss: 3.2463 - accuracy: 0.2160 - val_loss: 2.1386 - val_accuracy: 0.3015\n",
            "\n",
            "\n",
            "epoch 14, Learning Rate 1.3604969585442931e-06, Batch Size  70 \n",
            "\n",
            "Epoch 00001: LearningRateScheduler reducing learning rate to 4.089340588491752e-07.\n",
            "1563/1563 [==============================] - 29s 19ms/step - loss: 3.2075 - accuracy: 0.2195 - val_loss: 2.1222 - val_accuracy: 0.3060\n",
            "\n",
            "\n",
            "epoch 15, Learning Rate 6.329681781947895e-06, Batch Size  75 \n",
            "\n",
            "Epoch 00001: LearningRateScheduler reducing learning rate to 3.5500330185860675e-07.\n",
            "1563/1563 [==============================] - 29s 19ms/step - loss: 3.1753 - accuracy: 0.2253 - val_loss: 2.1110 - val_accuracy: 0.3095\n",
            "\n",
            "\n",
            "epoch 16, Learning Rate 6.02175497406384e-07, Batch Size  80 \n",
            "\n",
            "Epoch 00001: LearningRateScheduler reducing learning rate to 6.696874879759447e-07.\n",
            "1563/1563 [==============================] - 29s 19ms/step - loss: 3.1613 - accuracy: 0.2231 - val_loss: 2.0908 - val_accuracy: 0.3140\n",
            "\n",
            "\n",
            "epoch 17, Learning Rate 4.04753370696613e-06, Batch Size  85 \n",
            "\n",
            "Epoch 00001: LearningRateScheduler reducing learning rate to 6.388641799622368e-08.\n",
            "1563/1563 [==============================] - 29s 19ms/step - loss: 3.1367 - accuracy: 0.2289 - val_loss: 2.0865 - val_accuracy: 0.3160\n",
            "\n",
            "\n",
            "epoch 18, Learning Rate 3.6830560438091094e-06, Batch Size  90 \n",
            "\n",
            "Epoch 00001: LearningRateScheduler reducing learning rate to 1.541575984328972e-07.\n",
            "1563/1563 [==============================] - 29s 18ms/step - loss: 3.1353 - accuracy: 0.2243 - val_loss: 2.0825 - val_accuracy: 0.3160\n",
            "\n",
            "\n",
            "epoch 19, Learning Rate 4.20487491653133e-06, Batch Size  95 \n",
            "\n",
            "Epoch 00001: LearningRateScheduler reducing learning rate to 3.734499120534529e-07.\n",
            "1563/1563 [==============================] - 29s 18ms/step - loss: 3.1098 - accuracy: 0.2319 - val_loss: 2.0723 - val_accuracy: 0.3191\n",
            "\n",
            "\n",
            "epoch 20, Learning Rate 2.953472415720932e-06, Batch Size  100 \n",
            "\n",
            "Epoch 00001: LearningRateScheduler reducing learning rate to 5.702712059551758e-07.\n",
            "1563/1563 [==============================] - 29s 19ms/step - loss: 3.0855 - accuracy: 0.2355 - val_loss: 2.0570 - val_accuracy: 0.3257\n",
            "\n",
            "\n",
            "epoch 21, Learning Rate 4.331888271739185e-07, Batch Size  105 \n",
            "\n",
            "Epoch 00001: LearningRateScheduler reducing learning rate to 4.846308478493326e-07.\n",
            "1563/1563 [==============================] - 29s 18ms/step - loss: 3.0582 - accuracy: 0.2384 - val_loss: 2.0430 - val_accuracy: 0.3277\n",
            "\n",
            "\n",
            "epoch 22, Learning Rate 1.5624392156559964e-06, Batch Size  110 \n",
            "\n",
            "Epoch 00001: LearningRateScheduler reducing learning rate to 2.2983666587184774e-08.\n",
            "1563/1563 [==============================] - 29s 19ms/step - loss: 3.0434 - accuracy: 0.2397 - val_loss: 2.0407 - val_accuracy: 0.3285\n",
            "\n",
            "\n",
            "epoch 23, Learning Rate 2.0639287565504088e-06, Batch Size  115 \n",
            "\n",
            "Epoch 00001: LearningRateScheduler reducing learning rate to 1.0587490075980422e-06.\n",
            "1563/1563 [==============================] - 29s 19ms/step - loss: 3.0239 - accuracy: 0.2435 - val_loss: 2.0194 - val_accuracy: 0.3365\n",
            "\n",
            "\n",
            "epoch 24, Learning Rate 1.1888145296409558e-06, Batch Size  120 \n",
            "\n",
            "Epoch 00001: LearningRateScheduler reducing learning rate to 1.1622902163317152e-06.\n",
            "1563/1563 [==============================] - 29s 18ms/step - loss: 2.9893 - accuracy: 0.2475 - val_loss: 1.9955 - val_accuracy: 0.3418\n",
            "\n",
            "\n",
            "epoch 25, Learning Rate 1.7369783579627861e-06, Batch Size  125 \n",
            "\n",
            "Epoch 00001: LearningRateScheduler reducing learning rate to 2.793020042955696e-07.\n",
            "1563/1563 [==============================] - 29s 19ms/step - loss: 2.9635 - accuracy: 0.2478 - val_loss: 1.9916 - val_accuracy: 0.3434\n",
            "\n",
            "\n",
            "epoch 26, Learning Rate 3.2342448545326175e-06, Batch Size  130 \n",
            "\n",
            "Epoch 00001: LearningRateScheduler reducing learning rate to 1.7199944277470022e-06.\n",
            "1563/1563 [==============================] - 29s 18ms/step - loss: 2.9187 - accuracy: 0.2569 - val_loss: 1.9543 - val_accuracy: 0.3531\n",
            "\n",
            "\n",
            "epoch 27, Learning Rate 1.3777919582681791e-06, Batch Size  135 \n",
            "\n",
            "Epoch 00001: LearningRateScheduler reducing learning rate to 1.2423976762886282e-06.\n",
            "1563/1563 [==============================] - 29s 19ms/step - loss: 2.8594 - accuracy: 0.2620 - val_loss: 1.9314 - val_accuracy: 0.3608\n",
            "\n",
            "\n",
            "epoch 28, Learning Rate 1.8277991399225642e-06, Batch Size  140 \n",
            "\n",
            "Epoch 00001: LearningRateScheduler reducing learning rate to 2.116637078141687e-06.\n",
            "1563/1563 [==============================] - 30s 19ms/step - loss: 2.8147 - accuracy: 0.2666 - val_loss: 1.8981 - val_accuracy: 0.3693\n",
            "\n",
            "\n",
            "epoch 29, Learning Rate 1.005343689462732e-06, Batch Size  145 \n",
            "\n",
            "Epoch 00001: LearningRateScheduler reducing learning rate to 9.416228214819549e-07.\n",
            "1563/1563 [==============================] - 29s 19ms/step - loss: 2.7470 - accuracy: 0.2758 - val_loss: 1.8836 - val_accuracy: 0.3744\n",
            "\n",
            "\n",
            "epoch 30, Learning Rate 2.5761445982293693e-06, Batch Size  150 \n",
            "\n",
            "Epoch 00001: LearningRateScheduler reducing learning rate to 1.9362477025755168e-06.\n",
            "1563/1563 [==============================] - 29s 19ms/step - loss: 2.7110 - accuracy: 0.2785 - val_loss: 1.8573 - val_accuracy: 0.3831\n",
            "\n",
            "\n",
            "epoch 31, Learning Rate 3.1715535401788953e-06, Batch Size  155 \n",
            "\n",
            "Epoch 00001: LearningRateScheduler reducing learning rate to 1.1691794557560267e-06.\n",
            "1563/1563 [==============================] - 29s 19ms/step - loss: 2.6781 - accuracy: 0.2841 - val_loss: 1.8388 - val_accuracy: 0.3890\n",
            "\n",
            "\n",
            "epoch 32, Learning Rate 4.738694828754081e-08, Batch Size  160 \n",
            "\n",
            "Epoch 00001: LearningRateScheduler reducing learning rate to 1.3039129797987634e-06.\n",
            "1563/1563 [==============================] - 29s 19ms/step - loss: 2.6464 - accuracy: 0.2879 - val_loss: 1.8260 - val_accuracy: 0.3922\n",
            "\n",
            "\n",
            "epoch 33, Learning Rate 5.295093693425031e-07, Batch Size  165 \n",
            "\n",
            "Epoch 00001: LearningRateScheduler reducing learning rate to 1.9885641335622665e-06.\n",
            "1563/1563 [==============================] - 29s 19ms/step - loss: 2.5891 - accuracy: 0.2929 - val_loss: 1.8158 - val_accuracy: 0.3975\n",
            "\n",
            "\n",
            "epoch 34, Learning Rate 5.68093725421048e-07, Batch Size  170 \n",
            "\n",
            "Epoch 00001: LearningRateScheduler reducing learning rate to 5.08162373742608e-07.\n",
            "1563/1563 [==============================] - 29s 19ms/step - loss: 2.5594 - accuracy: 0.3000 - val_loss: 1.8028 - val_accuracy: 0.4000\n",
            "\n",
            "\n",
            "epoch 35, Learning Rate 3.1886051279573874e-07, Batch Size  175 \n",
            "\n",
            "Epoch 00001: LearningRateScheduler reducing learning rate to 1.9999005974742265e-07.\n",
            "1563/1563 [==============================] - 29s 19ms/step - loss: 2.5511 - accuracy: 0.2965 - val_loss: 1.8023 - val_accuracy: 0.4019\n",
            "\n",
            "\n",
            "epoch 36, Learning Rate 1.1894662481635938e-06, Batch Size  180 \n",
            "\n",
            "Epoch 00001: LearningRateScheduler reducing learning rate to 2.0274726713723562e-06.\n",
            "1563/1563 [==============================] - 30s 19ms/step - loss: 2.5237 - accuracy: 0.3003 - val_loss: 1.7790 - val_accuracy: 0.4068\n",
            "\n",
            "\n",
            "epoch 37, Learning Rate 7.34030835483543e-07, Batch Size  185 \n",
            "\n",
            "Epoch 00001: LearningRateScheduler reducing learning rate to 2.8081543941867067e-07.\n",
            "1563/1563 [==============================] - 29s 19ms/step - loss: 2.5074 - accuracy: 0.3056 - val_loss: 1.7762 - val_accuracy: 0.4069\n",
            "\n",
            "\n",
            "epoch 38, Learning Rate 2.4768070044365343e-06, Batch Size  190 \n",
            "\n",
            "Epoch 00001: LearningRateScheduler reducing learning rate to 1.17174052565241e-06.\n",
            "1563/1563 [==============================] - 29s 19ms/step - loss: 2.4914 - accuracy: 0.3065 - val_loss: 1.7734 - val_accuracy: 0.4081\n",
            "\n",
            "\n",
            "epoch 39, Learning Rate 1.3933687424957796e-06, Batch Size  195 \n",
            "\n",
            "Epoch 00001: LearningRateScheduler reducing learning rate to 1.1620497563099276e-06.\n",
            "1563/1563 [==============================] - 29s 19ms/step - loss: 2.4732 - accuracy: 0.3079 - val_loss: 1.7546 - val_accuracy: 0.4127\n",
            "\n",
            "\n",
            "epoch 40, Learning Rate 1.0044070648254896e-06, Batch Size  200 \n",
            "\n",
            "Epoch 00001: LearningRateScheduler reducing learning rate to 1.62511163841301e-06.\n",
            "1563/1563 [==============================] - 29s 19ms/step - loss: 2.4250 - accuracy: 0.3117 - val_loss: 1.7465 - val_accuracy: 0.4158\n",
            "\n",
            "\n",
            "epoch 41, Learning Rate 1.7384799701371274e-06, Batch Size  205 \n",
            "\n",
            "Epoch 00001: LearningRateScheduler reducing learning rate to 1.6773990905477217e-06.\n",
            "1563/1563 [==============================] - 29s 19ms/step - loss: 2.3891 - accuracy: 0.3219 - val_loss: 1.7356 - val_accuracy: 0.4203\n",
            "\n",
            "\n",
            "epoch 42, Learning Rate 2.3473546894832035e-06, Batch Size  210 \n",
            "\n",
            "Epoch 00001: LearningRateScheduler reducing learning rate to 1.130632738674967e-06.\n",
            "1563/1563 [==============================] - 29s 19ms/step - loss: 2.3742 - accuracy: 0.3219 - val_loss: 1.7284 - val_accuracy: 0.4223\n",
            "\n",
            "\n",
            "epoch 43, Learning Rate 6.451116143401181e-07, Batch Size  215 \n",
            "\n",
            "Epoch 00001: LearningRateScheduler reducing learning rate to 2.2331501361135605e-06.\n",
            "1563/1563 [==============================] - 30s 19ms/step - loss: 2.3425 - accuracy: 0.3249 - val_loss: 1.7187 - val_accuracy: 0.4222\n",
            "\n",
            "\n",
            "epoch 44, Learning Rate 2.0198981071828316e-06, Batch Size  220 \n",
            "\n",
            "Epoch 00001: LearningRateScheduler reducing learning rate to 3.031788060797756e-07.\n",
            "1563/1563 [==============================] - 30s 19ms/step - loss: 2.3180 - accuracy: 0.3261 - val_loss: 1.7211 - val_accuracy: 0.4230\n",
            "\n",
            "\n",
            "epoch 45, Learning Rate 1.3166798654549445e-07, Batch Size  225 \n",
            "\n",
            "Epoch 00001: LearningRateScheduler reducing learning rate to 3.41082114295996e-06.\n",
            "1563/1563 [==============================] - 29s 19ms/step - loss: 2.2810 - accuracy: 0.3299 - val_loss: 1.6922 - val_accuracy: 0.4292\n",
            "\n",
            "\n",
            "epoch 46, Learning Rate 1.093172922307933e-06, Batch Size  230 \n",
            "\n",
            "Epoch 00001: LearningRateScheduler reducing learning rate to 2.7594790783919604e-06.\n",
            "1563/1563 [==============================] - 29s 19ms/step - loss: 2.2387 - accuracy: 0.3384 - val_loss: 1.6825 - val_accuracy: 0.4310\n",
            "\n",
            "\n",
            "epoch 47, Learning Rate 1.30168696550041e-06, Batch Size  235 \n",
            "\n",
            "Epoch 00001: LearningRateScheduler reducing learning rate to 4.0360648166198905e-06.\n",
            "1563/1563 [==============================] - 29s 19ms/step - loss: 2.1951 - accuracy: 0.3466 - val_loss: 1.6583 - val_accuracy: 0.4364\n",
            "\n",
            "\n",
            "epoch 48, Learning Rate 8.135456914071499e-07, Batch Size  240 \n",
            "\n",
            "Epoch 00001: LearningRateScheduler reducing learning rate to 3.3560490512961404e-06.\n",
            "1563/1563 [==============================] - 29s 19ms/step - loss: 2.1444 - accuracy: 0.3522 - val_loss: 1.6543 - val_accuracy: 0.4384\n",
            "\n",
            "\n",
            "epoch 49, Learning Rate 1.2127991861631155e-06, Batch Size  245 \n",
            "\n",
            "Epoch 00001: LearningRateScheduler reducing learning rate to 3.6944626029907694e-06.\n",
            "1563/1563 [==============================] - 29s 19ms/step - loss: 2.1260 - accuracy: 0.3543 - val_loss: 1.6242 - val_accuracy: 0.4444\n",
            "\n",
            "\n",
            "epoch 50, Learning Rate 5.476804612606092e-07, Batch Size  250 \n",
            "\n",
            "Epoch 00001: LearningRateScheduler reducing learning rate to 7.474241238325619e-07.\n",
            "1563/1563 [==============================] - 29s 19ms/step - loss: 2.0891 - accuracy: 0.3601 - val_loss: 1.6366 - val_accuracy: 0.4445\n",
            "\n",
            "\n",
            "epoch 51, Learning Rate 1.8256767050132826e-06, Batch Size  255 \n",
            "\n",
            "Epoch 00001: LearningRateScheduler reducing learning rate to 1.4028914003613558e-06.\n",
            "1563/1563 [==============================] - 29s 19ms/step - loss: 2.0843 - accuracy: 0.3605 - val_loss: 1.6394 - val_accuracy: 0.4416\n",
            "\n",
            "\n",
            "epoch 52, Learning Rate 1.4592285704318314e-06, Batch Size  260 \n",
            "\n",
            "Epoch 00001: LearningRateScheduler reducing learning rate to 1.3730051658438195e-06.\n",
            "1563/1563 [==============================] - 29s 19ms/step - loss: 2.0689 - accuracy: 0.3667 - val_loss: 1.6276 - val_accuracy: 0.4464\n",
            "\n",
            "\n",
            "epoch 53, Learning Rate 5.3216976443490586e-09, Batch Size  265 \n",
            "\n",
            "Epoch 00001: LearningRateScheduler reducing learning rate to 2.745762450167116e-06.\n",
            "1563/1563 [==============================] - 30s 19ms/step - loss: 2.0468 - accuracy: 0.3694 - val_loss: 1.6132 - val_accuracy: 0.4494\n",
            "\n",
            "\n",
            "epoch 54, Learning Rate 9.293992162781225e-08, Batch Size  270 \n",
            "\n",
            "Epoch 00001: LearningRateScheduler reducing learning rate to 3.065418681523423e-06.\n",
            "1563/1563 [==============================] - 31s 20ms/step - loss: 2.0294 - accuracy: 0.3688 - val_loss: 1.5981 - val_accuracy: 0.4516\n",
            "\n",
            "\n",
            "epoch 55, Learning Rate 6.446381628282018e-07, Batch Size  275 \n",
            "\n",
            "Epoch 00001: LearningRateScheduler reducing learning rate to 5.68088409010214e-06.\n",
            "1563/1563 [==============================] - 30s 19ms/step - loss: 1.9986 - accuracy: 0.3775 - val_loss: 1.6019 - val_accuracy: 0.4516\n",
            "\n",
            "\n",
            "epoch 56, Learning Rate 1.2937172342997417e-06, Batch Size  280 \n",
            "\n",
            "Epoch 00001: LearningRateScheduler reducing learning rate to 2.689761168968503e-06.\n",
            "1563/1563 [==============================] - 30s 19ms/step - loss: 1.9664 - accuracy: 0.3827 - val_loss: 1.5901 - val_accuracy: 0.4527\n",
            "\n",
            "\n",
            "epoch 57, Learning Rate 1.073618350355374e-06, Batch Size  285 \n",
            "\n",
            "Epoch 00001: LearningRateScheduler reducing learning rate to 2.5618798893013758e-06.\n",
            "1563/1563 [==============================] - 30s 19ms/step - loss: 1.9314 - accuracy: 0.3915 - val_loss: 1.5785 - val_accuracy: 0.4587\n",
            "\n",
            "\n",
            "epoch 58, Learning Rate 8.597600397379664e-08, Batch Size  290 \n",
            "\n",
            "Epoch 00001: LearningRateScheduler reducing learning rate to 3.3934748665991126e-06.\n",
            "1563/1563 [==============================] - 30s 19ms/step - loss: 1.9371 - accuracy: 0.3893 - val_loss: 1.5706 - val_accuracy: 0.4589\n",
            "\n",
            "\n",
            "epoch 59, Learning Rate 1.6190236059127481e-06, Batch Size  295 \n",
            "\n",
            "Epoch 00001: LearningRateScheduler reducing learning rate to 5.4131663173485945e-06.\n",
            "1563/1563 [==============================] - 29s 19ms/step - loss: 1.8960 - accuracy: 0.4004 - val_loss: 1.5595 - val_accuracy: 0.4597\n",
            "\n",
            "\n",
            "epoch 60, Learning Rate 3.5630462767775985e-07, Batch Size  300 \n",
            "\n",
            "Epoch 00001: LearningRateScheduler reducing learning rate to 6.358433593910754e-06.\n",
            "1563/1563 [==============================] - 30s 19ms/step - loss: 1.8669 - accuracy: 0.4064 - val_loss: 1.5731 - val_accuracy: 0.4618\n",
            "\n",
            "\n",
            "epoch 61, Learning Rate 1.636482772676237e-06, Batch Size  305 \n",
            "\n",
            "Epoch 00001: LearningRateScheduler reducing learning rate to 6.066376562294336e-06.\n",
            "1563/1563 [==============================] - 30s 19ms/step - loss: 1.8289 - accuracy: 0.4145 - val_loss: 1.5540 - val_accuracy: 0.4662\n",
            "\n",
            "\n",
            "epoch 62, Learning Rate 3.6487799109457614e-07, Batch Size  310 \n",
            "\n",
            "Epoch 00001: LearningRateScheduler reducing learning rate to 5.231665176590139e-06.\n",
            "1563/1563 [==============================] - 31s 20ms/step - loss: 1.8098 - accuracy: 0.4194 - val_loss: 1.5546 - val_accuracy: 0.4720\n",
            "\n",
            "\n",
            "epoch 63, Learning Rate 3.591094621673409e-07, Batch Size  315 \n",
            "\n",
            "Epoch 00001: LearningRateScheduler reducing learning rate to 9.224245689170733e-06.\n",
            "1563/1563 [==============================] - 31s 20ms/step - loss: 1.7907 - accuracy: 0.4257 - val_loss: 1.5552 - val_accuracy: 0.4742\n",
            "\n",
            "\n",
            "epoch 64, Learning Rate 1.3276595496563613e-06, Batch Size  320 \n",
            "\n",
            "Epoch 00001: LearningRateScheduler reducing learning rate to 1.2481032071477555e-05.\n",
            "1563/1563 [==============================] - 31s 20ms/step - loss: 1.7579 - accuracy: 0.4342 - val_loss: 1.5693 - val_accuracy: 0.4695\n",
            "\n",
            "\n",
            "epoch 65, Learning Rate 1.5331266312560495e-06, Batch Size  325 \n",
            "\n",
            "Epoch 00001: LearningRateScheduler reducing learning rate to 8.793153685537041e-06.\n",
            "1563/1563 [==============================] - 31s 20ms/step - loss: 1.7215 - accuracy: 0.4446 - val_loss: 1.5667 - val_accuracy: 0.4730\n",
            "\n",
            "\n",
            "epoch 66, Learning Rate 3.8803499475945786e-07, Batch Size  330 \n",
            "\n",
            "Epoch 00001: LearningRateScheduler reducing learning rate to 1.948407472045562e-05.\n",
            "1563/1563 [==============================] - 31s 20ms/step - loss: 1.6766 - accuracy: 0.4558 - val_loss: 1.5359 - val_accuracy: 0.4855\n",
            "\n",
            "\n",
            "epoch 67, Learning Rate 1.1033641946754836e-07, Batch Size  335 \n",
            "\n",
            "Epoch 00001: LearningRateScheduler reducing learning rate to 2.0229079985652686e-05.\n",
            "1563/1563 [==============================] - 30s 19ms/step - loss: 1.6313 - accuracy: 0.4715 - val_loss: 1.5609 - val_accuracy: 0.4859\n",
            "\n",
            "\n",
            "epoch 68, Learning Rate 2.5870363025396503e-07, Batch Size  340 \n",
            "\n",
            "Epoch 00001: LearningRateScheduler reducing learning rate to 1.0536474293632081e-05.\n",
            "1563/1563 [==============================] - 30s 19ms/step - loss: 1.5784 - accuracy: 0.4828 - val_loss: 1.5220 - val_accuracy: 0.4973\n",
            "\n",
            "\n",
            "epoch 69, Learning Rate 3.391291453215308e-07, Batch Size  345 \n",
            "\n",
            "Epoch 00001: LearningRateScheduler reducing learning rate to 4.06275714051267e-05.\n",
            "1563/1563 [==============================] - 30s 19ms/step - loss: 1.5373 - accuracy: 0.4932 - val_loss: 1.3790 - val_accuracy: 0.5349\n"
          ],
          "name": "stdout"
        }
      ]
    },
    {
      "cell_type": "code",
      "metadata": {
        "id": "uQIxPLPoOsrV"
      },
      "source": [
        ""
      ],
      "execution_count": null,
      "outputs": []
    },
    {
      "cell_type": "code",
      "metadata": {
        "id": "rPvUYjMb-U51"
      },
      "source": [
        "acc_2 = acc\n",
        "val_acc_2 = val_acc"
      ],
      "execution_count": null,
      "outputs": []
    },
    {
      "cell_type": "code",
      "metadata": {
        "colab": {
          "base_uri": "https://localhost:8080/"
        },
        "id": "Hpdag7OqOtTj",
        "outputId": "67875599-0976-42aa-904e-ca963ad0c044"
      },
      "source": [
        "#Save these values in your jsonm\n",
        "record_Results(\"acc_2\",acc_2)\n",
        "record_Results(\"val_acc_2\",val_acc_2)\n"
      ],
      "execution_count": null,
      "outputs": [
        {
          "output_type": "stream",
          "text": [
            "Drive already mounted at /content/drive; to attempt to forcibly remount, call drive.mount(\"/content/drive\", force_remount=True).\n",
            "recorded\n",
            "Drive already mounted at /content/drive; to attempt to forcibly remount, call drive.mount(\"/content/drive\", force_remount=True).\n",
            "recorded\n"
          ],
          "name": "stdout"
        }
      ]
    },
    {
      "cell_type": "code",
      "metadata": {
        "colab": {
          "base_uri": "https://localhost:8080/"
        },
        "id": "vFaEEBUeOtTm",
        "outputId": "0da0fe63-a8c9-4c40-be3a-298a0f0ac62d"
      },
      "source": [
        "#Get the saved results\n",
        "acc_2 = Get_Results(\"acc_2\")[\"acc_2\"]\n",
        "val_acc_2 = Get_Results(\"val_acc_2\")[\"val_acc_2\"]"
      ],
      "execution_count": null,
      "outputs": [
        {
          "output_type": "stream",
          "text": [
            "Drive already mounted at /content/drive; to attempt to forcibly remount, call drive.mount(\"/content/drive\", force_remount=True).\n",
            "Drive already mounted at /content/drive; to attempt to forcibly remount, call drive.mount(\"/content/drive\", force_remount=True).\n"
          ],
          "name": "stdout"
        }
      ]
    },
    {
      "cell_type": "code",
      "metadata": {
        "id": "46nEyb5Ohtsc",
        "colab": {
          "base_uri": "https://localhost:8080/",
          "height": 814
        },
        "outputId": "df7aa70c-5fb2-42b1-fc51-5439d8896c5e"
      },
      "source": [
        "Plotter(acc,val_acc,loss,val_loss,l_r)"
      ],
      "execution_count": null,
      "outputs": [
        {
          "output_type": "display_data",
          "data": {
            "image/png": "[encoded data removed]",
            "text/plain": [
              "<Figure size 432x288 with 1 Axes>"
            ]
          },
          "metadata": {
            "tags": [],
            "needs_background": "light"
          }
        },
        {
          "output_type": "display_data",
          "data": {
            "image/png": "[encoded data removed]",
            "text/plain": [
              "<Figure size 432x288 with 1 Axes>"
            ]
          },
          "metadata": {
            "tags": [],
            "needs_background": "light"
          }
        },
        {
          "output_type": "display_data",
          "data": {
            "image/png": "[encoded data removed]",
            "text/plain": [
              "<Figure size 432x288 with 1 Axes>"
            ]
          },
          "metadata": {
            "tags": [],
            "needs_background": "light"
          }
        }
      ]
    },
    {
      "cell_type": "markdown",
      "metadata": {
        "id": "LnLBA5jb03yH"
      },
      "source": [
        "**Keeping batch size constant**"
      ]
    },
    {
      "cell_type": "code",
      "metadata": {
        "id": "1rkPeSC74PtN",
        "colab": {
          "base_uri": "https://localhost:8080/",
          "height": 279
        },
        "outputId": "f932f1c8-de22-4187-ef99-da1887e32677"
      },
      "source": [
        "initial_learning_rate = 0.009\n",
        "decay_steps=5\n",
        "decay_rate=0.5\n",
        "LR = []\n",
        "for i in range(51):\n",
        "  lr = initial_learning_rate * decay_rate **(i / decay_steps)\n",
        "  LR.append(lr)\n",
        "plt.plot(LR, label='LR')\n",
        "# plt.plot(history.history['val_loss'], label = 'val_loss')\n",
        "plt.xlabel('Epoch')\n",
        "plt.ylabel('LR')\n",
        "plt.legend(loc='lower right')\n",
        "plt.show()"
      ],
      "execution_count": null,
      "outputs": [
        {
          "output_type": "display_data",
          "data": {
            "image/png": "[encoded data removed]",
            "text/plain": [
              "<Figure size 432x288 with 1 Axes>"
            ]
          },
          "metadata": {
            "tags": [],
            "needs_background": "light"
          }
        }
      ]
    },
    {
      "cell_type": "code",
      "metadata": {
        "id": "QfKKgrkM0x0n",
        "colab": {
          "base_uri": "https://localhost:8080/"
        },
        "outputId": "3d010184-2171-4395-bb29-aadb63c87e30"
      },
      "source": [
        "from keras.callbacks import LearningRateScheduler\n",
        "model = cifar10_model()\n",
        "# epoo = 1\n",
        "initial_learning_rate = 0.009\n",
        "decay_steps=5\n",
        "decay_rate=0.5\n",
        "LR = []\n",
        "def setLR(step):\n",
        "  global LR\n",
        "  lr = initial_learning_rate * decay_rate **(step / decay_steps)\n",
        "  LR.append(lr)\n",
        "  print(\"called here\")\n",
        "  return lr\n",
        "\n",
        "call = [ LearningRateScheduler(setLR,verbose=1) ]\n",
        "\n",
        "history = model.fit(\n",
        "            datagen.flow(x_train, y_train), \n",
        "            validation_data=(x_test, y_test),\n",
        "            epochs=epoo,\n",
        "            callbacks=call\n",
        "            )"
      ],
      "execution_count": null,
      "outputs": [
        {
          "output_type": "stream",
          "text": [
            "Epoch 1/70\n",
            "called here\n",
            "\n",
            "Epoch 00001: LearningRateScheduler reducing learning rate to 0.009.\n",
            "1563/1563 [==============================] - 31s 19ms/step - loss: 2.8290 - accuracy: 0.3172 - val_loss: 1.4301 - val_accuracy: 0.5417\n",
            "Epoch 2/70\n",
            "called here\n",
            "\n",
            "Epoch 00002: LearningRateScheduler reducing learning rate to 0.007834955069665117.\n",
            "1563/1563 [==============================] - 30s 19ms/step - loss: 1.5109 - accuracy: 0.5212 - val_loss: 1.5528 - val_accuracy: 0.5751\n",
            "Epoch 3/70\n",
            "called here\n",
            "\n",
            "Epoch 00003: LearningRateScheduler reducing learning rate to 0.006820724549296791.\n",
            "1563/1563 [==============================] - 29s 19ms/step - loss: 1.4264 - accuracy: 0.5895 - val_loss: 1.2787 - val_accuracy: 0.6602\n",
            "Epoch 4/70\n",
            "called here\n",
            "\n",
            "Epoch 00004: LearningRateScheduler reducing learning rate to 0.005937785598478023.\n",
            "1563/1563 [==============================] - 30s 19ms/step - loss: 1.3733 - accuracy: 0.6282 - val_loss: 1.2870 - val_accuracy: 0.6733\n",
            "Epoch 5/70\n",
            "called here\n",
            "\n",
            "Epoch 00005: LearningRateScheduler reducing learning rate to 0.005169142597486656.\n",
            "1563/1563 [==============================] - 30s 19ms/step - loss: 1.2980 - accuracy: 0.6488 - val_loss: 1.4053 - val_accuracy: 0.6316\n",
            "Epoch 6/70\n",
            "called here\n",
            "\n",
            "Epoch 00006: LearningRateScheduler reducing learning rate to 0.0045.\n",
            "1563/1563 [==============================] - 29s 19ms/step - loss: 1.2274 - accuracy: 0.6665 - val_loss: 1.1361 - val_accuracy: 0.7039\n",
            "Epoch 7/70\n",
            "called here\n",
            "\n",
            "Epoch 00007: LearningRateScheduler reducing learning rate to 0.003917477534832558.\n",
            "1563/1563 [==============================] - 30s 19ms/step - loss: 1.1750 - accuracy: 0.6826 - val_loss: 1.0525 - val_accuracy: 0.7252\n",
            "Epoch 8/70\n",
            "called here\n",
            "\n",
            "Epoch 00008: LearningRateScheduler reducing learning rate to 0.0034103622746483957.\n",
            "1563/1563 [==============================] - 30s 19ms/step - loss: 1.1098 - accuracy: 0.6970 - val_loss: 1.0808 - val_accuracy: 0.7231\n",
            "Epoch 9/70\n",
            "called here\n",
            "\n",
            "Epoch 00009: LearningRateScheduler reducing learning rate to 0.0029688927992390117.\n",
            "1563/1563 [==============================] - 30s 19ms/step - loss: 1.0579 - accuracy: 0.7113 - val_loss: 1.0187 - val_accuracy: 0.7307\n",
            "Epoch 10/70\n",
            "called here\n",
            "\n",
            "Epoch 00010: LearningRateScheduler reducing learning rate to 0.002584571298743328.\n",
            "1563/1563 [==============================] - 30s 19ms/step - loss: 1.0168 - accuracy: 0.7228 - val_loss: 0.9928 - val_accuracy: 0.7397\n",
            "Epoch 11/70\n",
            "called here\n",
            "\n",
            "Epoch 00011: LearningRateScheduler reducing learning rate to 0.00225.\n",
            "1563/1563 [==============================] - 30s 19ms/step - loss: 0.9788 - accuracy: 0.7299 - val_loss: 0.8786 - val_accuracy: 0.7639\n",
            "Epoch 12/70\n",
            "called here\n",
            "\n",
            "Epoch 00012: LearningRateScheduler reducing learning rate to 0.0019587387674162788.\n",
            "1563/1563 [==============================] - 30s 19ms/step - loss: 0.9335 - accuracy: 0.7446 - val_loss: 0.9390 - val_accuracy: 0.7501\n",
            "Epoch 13/70\n",
            "called here\n",
            "\n",
            "Epoch 00013: LearningRateScheduler reducing learning rate to 0.0017051811373241979.\n",
            "1563/1563 [==============================] - 30s 19ms/step - loss: 0.8960 - accuracy: 0.7531 - val_loss: 0.8464 - val_accuracy: 0.7711\n",
            "Epoch 14/70\n",
            "called here\n",
            "\n",
            "Epoch 00014: LearningRateScheduler reducing learning rate to 0.0014844463996195058.\n",
            "1563/1563 [==============================] - 30s 19ms/step - loss: 0.8705 - accuracy: 0.7589 - val_loss: 0.7231 - val_accuracy: 0.8086\n",
            "Epoch 15/70\n",
            "called here\n",
            "\n",
            "Epoch 00015: LearningRateScheduler reducing learning rate to 0.0012922856493716643.\n",
            "1563/1563 [==============================] - 30s 19ms/step - loss: 0.8444 - accuracy: 0.7627 - val_loss: 0.7805 - val_accuracy: 0.7882\n",
            "Epoch 16/70\n",
            "called here\n",
            "\n",
            "Epoch 00016: LearningRateScheduler reducing learning rate to 0.001125.\n",
            "1563/1563 [==============================] - 30s 19ms/step - loss: 0.7981 - accuracy: 0.7775 - val_loss: 0.7016 - val_accuracy: 0.8128\n",
            "Epoch 17/70\n",
            "called here\n",
            "\n",
            "Epoch 00017: LearningRateScheduler reducing learning rate to 0.0009793693837081394.\n",
            "1563/1563 [==============================] - 30s 19ms/step - loss: 0.7968 - accuracy: 0.7760 - val_loss: 0.7597 - val_accuracy: 0.7963\n",
            "Epoch 18/70\n",
            "called here\n",
            "\n",
            "Epoch 00018: LearningRateScheduler reducing learning rate to 0.0008525905686620989.\n",
            "1563/1563 [==============================] - 30s 19ms/step - loss: 0.7545 - accuracy: 0.7894 - val_loss: 0.6840 - val_accuracy: 0.8176\n",
            "Epoch 19/70\n",
            "called here\n",
            "\n",
            "Epoch 00019: LearningRateScheduler reducing learning rate to 0.0007422231998097529.\n",
            "1563/1563 [==============================] - 30s 19ms/step - loss: 0.7362 - accuracy: 0.7925 - val_loss: 0.6698 - val_accuracy: 0.8205\n",
            "Epoch 20/70\n",
            "called here\n",
            "\n",
            "Epoch 00020: LearningRateScheduler reducing learning rate to 0.0006461428246858322.\n",
            "1563/1563 [==============================] - 30s 19ms/step - loss: 0.7272 - accuracy: 0.7932 - val_loss: 0.6830 - val_accuracy: 0.8136\n",
            "Epoch 21/70\n",
            "called here\n",
            "\n",
            "Epoch 00021: LearningRateScheduler reducing learning rate to 0.0005625.\n",
            "1563/1563 [==============================] - 30s 19ms/step - loss: 0.7177 - accuracy: 0.7986 - val_loss: 0.6499 - val_accuracy: 0.8216\n",
            "Epoch 22/70\n",
            "called here\n",
            "\n",
            "Epoch 00022: LearningRateScheduler reducing learning rate to 0.0004896846918540697.\n",
            "1563/1563 [==============================] - 30s 19ms/step - loss: 0.6981 - accuracy: 0.8022 - val_loss: 0.7094 - val_accuracy: 0.8063\n",
            "Epoch 23/70\n",
            "called here\n",
            "\n",
            "Epoch 00023: LearningRateScheduler reducing learning rate to 0.00042629528433104936.\n",
            "1563/1563 [==============================] - 30s 19ms/step - loss: 0.6915 - accuracy: 0.8023 - val_loss: 0.6543 - val_accuracy: 0.8201\n",
            "Epoch 24/70\n",
            "called here\n",
            "\n",
            "Epoch 00024: LearningRateScheduler reducing learning rate to 0.00037111159990487657.\n",
            "1563/1563 [==============================] - 30s 19ms/step - loss: 0.6744 - accuracy: 0.8053 - val_loss: 0.6548 - val_accuracy: 0.8202\n",
            "Epoch 25/70\n",
            "called here\n",
            "\n",
            "Epoch 00025: LearningRateScheduler reducing learning rate to 0.0003230714123429161.\n",
            "1563/1563 [==============================] - 30s 19ms/step - loss: 0.6609 - accuracy: 0.8127 - val_loss: 0.6405 - val_accuracy: 0.8211\n",
            "Epoch 26/70\n",
            "called here\n",
            "\n",
            "Epoch 00026: LearningRateScheduler reducing learning rate to 0.00028125.\n",
            "1563/1563 [==============================] - 30s 19ms/step - loss: 0.6533 - accuracy: 0.8129 - val_loss: 0.5913 - val_accuracy: 0.8396\n",
            "Epoch 27/70\n",
            "called here\n",
            "\n",
            "Epoch 00027: LearningRateScheduler reducing learning rate to 0.00024484234592703485.\n",
            "1563/1563 [==============================] - 30s 19ms/step - loss: 0.6460 - accuracy: 0.8140 - val_loss: 0.6079 - val_accuracy: 0.8334\n",
            "Epoch 28/70\n",
            "called here\n",
            "\n",
            "Epoch 00028: LearningRateScheduler reducing learning rate to 0.00021314764216552468.\n",
            "1563/1563 [==============================] - 30s 19ms/step - loss: 0.6302 - accuracy: 0.8202 - val_loss: 0.6149 - val_accuracy: 0.8262\n",
            "Epoch 29/70\n",
            "called here\n",
            "\n",
            "Epoch 00029: LearningRateScheduler reducing learning rate to 0.00018555579995243828.\n",
            "1563/1563 [==============================] - 30s 19ms/step - loss: 0.6290 - accuracy: 0.8188 - val_loss: 0.5875 - val_accuracy: 0.8400\n",
            "Epoch 30/70\n",
            "called here\n",
            "\n",
            "Epoch 00030: LearningRateScheduler reducing learning rate to 0.00016153570617145804.\n",
            "1563/1563 [==============================] - 30s 19ms/step - loss: 0.6253 - accuracy: 0.8189 - val_loss: 0.5968 - val_accuracy: 0.8338\n",
            "Epoch 31/70\n",
            "called here\n",
            "\n",
            "Epoch 00031: LearningRateScheduler reducing learning rate to 0.000140625.\n",
            "1563/1563 [==============================] - 30s 19ms/step - loss: 0.6143 - accuracy: 0.8233 - val_loss: 0.6017 - val_accuracy: 0.8341\n",
            "Epoch 32/70\n",
            "called here\n",
            "\n",
            "Epoch 00032: LearningRateScheduler reducing learning rate to 0.00012242117296351742.\n",
            "1563/1563 [==============================] - 30s 19ms/step - loss: 0.6109 - accuracy: 0.8250 - val_loss: 0.5917 - val_accuracy: 0.8362\n",
            "Epoch 33/70\n",
            "called here\n",
            "\n",
            "Epoch 00033: LearningRateScheduler reducing learning rate to 0.00010657382108276234.\n",
            "1563/1563 [==============================] - 30s 19ms/step - loss: 0.6115 - accuracy: 0.8255 - val_loss: 0.5672 - val_accuracy: 0.8421\n",
            "Epoch 34/70\n",
            "called here\n",
            "\n",
            "Epoch 00034: LearningRateScheduler reducing learning rate to 9.277789997621914e-05.\n",
            "1563/1563 [==============================] - 30s 19ms/step - loss: 0.6044 - accuracy: 0.8239 - val_loss: 0.5778 - val_accuracy: 0.8387\n",
            "Epoch 35/70\n",
            "called here\n",
            "\n",
            "Epoch 00035: LearningRateScheduler reducing learning rate to 8.076785308572902e-05.\n",
            "1563/1563 [==============================] - 30s 19ms/step - loss: 0.5999 - accuracy: 0.8292 - val_loss: 0.5750 - val_accuracy: 0.8397\n",
            "Epoch 36/70\n",
            "called here\n",
            "\n",
            "Epoch 00036: LearningRateScheduler reducing learning rate to 7.03125e-05.\n",
            "1563/1563 [==============================] - 30s 19ms/step - loss: 0.5986 - accuracy: 0.8285 - val_loss: 0.5703 - val_accuracy: 0.8402\n",
            "Epoch 37/70\n",
            "called here\n",
            "\n",
            "Epoch 00037: LearningRateScheduler reducing learning rate to 6.121058648175871e-05.\n",
            "1563/1563 [==============================] - 30s 19ms/step - loss: 0.6001 - accuracy: 0.8275 - val_loss: 0.5746 - val_accuracy: 0.8391\n",
            "Epoch 38/70\n",
            "called here\n",
            "\n",
            "Epoch 00038: LearningRateScheduler reducing learning rate to 5.328691054138117e-05.\n",
            "1563/1563 [==============================] - 30s 19ms/step - loss: 0.5947 - accuracy: 0.8242 - val_loss: 0.5729 - val_accuracy: 0.8387\n",
            "Epoch 39/70\n",
            "called here\n",
            "\n",
            "Epoch 00039: LearningRateScheduler reducing learning rate to 4.638894998810957e-05.\n",
            "1563/1563 [==============================] - 30s 19ms/step - loss: 0.5862 - accuracy: 0.8344 - val_loss: 0.5641 - val_accuracy: 0.8420\n",
            "Epoch 40/70\n",
            "called here\n",
            "\n",
            "Epoch 00040: LearningRateScheduler reducing learning rate to 4.038392654286451e-05.\n",
            "1563/1563 [==============================] - 30s 19ms/step - loss: 0.5945 - accuracy: 0.8286 - val_loss: 0.5712 - val_accuracy: 0.8416\n",
            "Epoch 41/70\n",
            "called here\n",
            "\n",
            "Epoch 00041: LearningRateScheduler reducing learning rate to 3.515625e-05.\n",
            "1563/1563 [==============================] - 30s 19ms/step - loss: 0.5931 - accuracy: 0.8287 - val_loss: 0.5629 - val_accuracy: 0.8434\n",
            "Epoch 42/70\n",
            "called here\n",
            "\n",
            "Epoch 00042: LearningRateScheduler reducing learning rate to 3.0605293240879376e-05.\n",
            "1563/1563 [==============================] - 30s 19ms/step - loss: 0.5824 - accuracy: 0.8311 - val_loss: 0.5697 - val_accuracy: 0.8420\n",
            "Epoch 43/70\n",
            "called here\n",
            "\n",
            "Epoch 00043: LearningRateScheduler reducing learning rate to 2.6643455270690585e-05.\n",
            "1563/1563 [==============================] - 30s 19ms/step - loss: 0.5850 - accuracy: 0.8319 - val_loss: 0.5672 - val_accuracy: 0.8421\n",
            "Epoch 44/70\n",
            "called here\n",
            "\n",
            "Epoch 00044: LearningRateScheduler reducing learning rate to 2.3194474994054785e-05.\n",
            "1563/1563 [==============================] - 30s 19ms/step - loss: 0.5868 - accuracy: 0.8315 - val_loss: 0.5692 - val_accuracy: 0.8415\n",
            "Epoch 45/70\n",
            "called here\n",
            "\n",
            "Epoch 00045: LearningRateScheduler reducing learning rate to 2.0191963271432245e-05.\n",
            "1563/1563 [==============================] - 30s 19ms/step - loss: 0.5943 - accuracy: 0.8284 - val_loss: 0.5636 - val_accuracy: 0.8432\n",
            "Epoch 46/70\n",
            "called here\n",
            "\n",
            "Epoch 00046: LearningRateScheduler reducing learning rate to 1.7578125e-05.\n",
            "1563/1563 [==============================] - 30s 19ms/step - loss: 0.5859 - accuracy: 0.8307 - val_loss: 0.5659 - val_accuracy: 0.8425\n",
            "Epoch 47/70\n",
            "called here\n",
            "\n",
            "Epoch 00047: LearningRateScheduler reducing learning rate to 1.5302646620439688e-05.\n",
            "1563/1563 [==============================] - 30s 19ms/step - loss: 0.5838 - accuracy: 0.8321 - val_loss: 0.5609 - val_accuracy: 0.8438\n",
            "Epoch 48/70\n",
            "called here\n",
            "\n",
            "Epoch 00048: LearningRateScheduler reducing learning rate to 1.3321727635345292e-05.\n",
            "1563/1563 [==============================] - 30s 19ms/step - loss: 0.5768 - accuracy: 0.8319 - val_loss: 0.5569 - val_accuracy: 0.8447\n",
            "Epoch 49/70\n",
            "called here\n",
            "\n",
            "Epoch 00049: LearningRateScheduler reducing learning rate to 1.1597237497027393e-05.\n",
            "1563/1563 [==============================] - 30s 19ms/step - loss: 0.5814 - accuracy: 0.8313 - val_loss: 0.5598 - val_accuracy: 0.8447\n",
            "Epoch 50/70\n",
            "called here\n",
            "\n",
            "Epoch 00050: LearningRateScheduler reducing learning rate to 1.0095981635716122e-05.\n",
            "1563/1563 [==============================] - 30s 19ms/step - loss: 0.5884 - accuracy: 0.8300 - val_loss: 0.5594 - val_accuracy: 0.8446\n",
            "Epoch 51/70\n",
            "called here\n",
            "\n",
            "Epoch 00051: LearningRateScheduler reducing learning rate to 8.7890625e-06.\n",
            "1563/1563 [==============================] - 30s 19ms/step - loss: 0.5847 - accuracy: 0.8309 - val_loss: 0.5609 - val_accuracy: 0.8443\n",
            "Epoch 52/70\n",
            "called here\n",
            "\n",
            "Epoch 00052: LearningRateScheduler reducing learning rate to 7.651323310219844e-06.\n",
            "1563/1563 [==============================] - 30s 19ms/step - loss: 0.5838 - accuracy: 0.8340 - val_loss: 0.5624 - val_accuracy: 0.8434\n",
            "Epoch 53/70\n",
            "called here\n",
            "\n",
            "Epoch 00053: LearningRateScheduler reducing learning rate to 6.660863817672646e-06.\n",
            "1563/1563 [==============================] - 30s 19ms/step - loss: 0.5738 - accuracy: 0.8350 - val_loss: 0.5613 - val_accuracy: 0.8429\n",
            "Epoch 54/70\n",
            "called here\n",
            "\n",
            "Epoch 00054: LearningRateScheduler reducing learning rate to 5.798618748513696e-06.\n",
            "1563/1563 [==============================] - 30s 19ms/step - loss: 0.5722 - accuracy: 0.8347 - val_loss: 0.5591 - val_accuracy: 0.8443\n",
            "Epoch 55/70\n",
            "called here\n",
            "\n",
            "Epoch 00055: LearningRateScheduler reducing learning rate to 5.047990817858061e-06.\n",
            "1563/1563 [==============================] - 30s 19ms/step - loss: 0.5813 - accuracy: 0.8302 - val_loss: 0.5586 - val_accuracy: 0.8447\n",
            "Epoch 56/70\n",
            "called here\n",
            "\n",
            "Epoch 00056: LearningRateScheduler reducing learning rate to 4.39453125e-06.\n",
            "1563/1563 [==============================] - 30s 19ms/step - loss: 0.5816 - accuracy: 0.8326 - val_loss: 0.5614 - val_accuracy: 0.8425\n",
            "Epoch 57/70\n",
            "called here\n",
            "\n",
            "Epoch 00057: LearningRateScheduler reducing learning rate to 3.825661655109922e-06.\n",
            "1563/1563 [==============================] - 30s 19ms/step - loss: 0.5778 - accuracy: 0.8338 - val_loss: 0.5605 - val_accuracy: 0.8440\n",
            "Epoch 58/70\n",
            "called here\n",
            "\n",
            "Epoch 00058: LearningRateScheduler reducing learning rate to 3.330431908836323e-06.\n",
            "1563/1563 [==============================] - 30s 19ms/step - loss: 0.5856 - accuracy: 0.8301 - val_loss: 0.5580 - val_accuracy: 0.8445\n",
            "Epoch 59/70\n",
            "called here\n",
            "\n",
            "Epoch 00059: LearningRateScheduler reducing learning rate to 2.899309374256848e-06.\n",
            "1563/1563 [==============================] - 30s 19ms/step - loss: 0.5800 - accuracy: 0.8321 - val_loss: 0.5621 - val_accuracy: 0.8441\n",
            "Epoch 60/70\n",
            "called here\n",
            "\n",
            "Epoch 00060: LearningRateScheduler reducing learning rate to 2.5239954089290306e-06.\n",
            "1563/1563 [==============================] - 30s 19ms/step - loss: 0.5803 - accuracy: 0.8335 - val_loss: 0.5557 - val_accuracy: 0.8461\n",
            "Epoch 61/70\n",
            "called here\n",
            "\n",
            "Epoch 00061: LearningRateScheduler reducing learning rate to 2.197265625e-06.\n",
            "1563/1563 [==============================] - 30s 19ms/step - loss: 0.5851 - accuracy: 0.8301 - val_loss: 0.5589 - val_accuracy: 0.8450\n",
            "Epoch 62/70\n",
            "called here\n",
            "\n",
            "Epoch 00062: LearningRateScheduler reducing learning rate to 1.912830827554961e-06.\n",
            "1563/1563 [==============================] - 30s 19ms/step - loss: 0.5797 - accuracy: 0.8315 - val_loss: 0.5567 - val_accuracy: 0.8452\n",
            "Epoch 63/70\n",
            "called here\n",
            "\n",
            "Epoch 00063: LearningRateScheduler reducing learning rate to 1.6652159544181615e-06.\n",
            "1563/1563 [==============================] - 30s 19ms/step - loss: 0.5813 - accuracy: 0.8307 - val_loss: 0.5585 - val_accuracy: 0.8444\n",
            "Epoch 64/70\n",
            "called here\n",
            "\n",
            "Epoch 00064: LearningRateScheduler reducing learning rate to 1.449654687128424e-06.\n",
            "1563/1563 [==============================] - 30s 19ms/step - loss: 0.5780 - accuracy: 0.8310 - val_loss: 0.5585 - val_accuracy: 0.8456\n",
            "Epoch 65/70\n",
            "called here\n",
            "\n",
            "Epoch 00065: LearningRateScheduler reducing learning rate to 1.2619977044645153e-06.\n",
            "1563/1563 [==============================] - 30s 19ms/step - loss: 0.5771 - accuracy: 0.8320 - val_loss: 0.5605 - val_accuracy: 0.8439\n",
            "Epoch 66/70\n",
            "called here\n",
            "\n",
            "Epoch 00066: LearningRateScheduler reducing learning rate to 1.0986328125e-06.\n",
            "1563/1563 [==============================] - 30s 19ms/step - loss: 0.5700 - accuracy: 0.8334 - val_loss: 0.5602 - val_accuracy: 0.8441\n",
            "Epoch 67/70\n",
            "called here\n",
            "\n",
            "Epoch 00067: LearningRateScheduler reducing learning rate to 9.564154137774805e-07.\n",
            "1563/1563 [==============================] - 30s 19ms/step - loss: 0.5793 - accuracy: 0.8330 - val_loss: 0.5579 - val_accuracy: 0.8454\n",
            "Epoch 68/70\n",
            "called here\n",
            "\n",
            "Epoch 00068: LearningRateScheduler reducing learning rate to 8.326079772090808e-07.\n",
            "1563/1563 [==============================] - 30s 19ms/step - loss: 0.5861 - accuracy: 0.8287 - val_loss: 0.5594 - val_accuracy: 0.8447\n",
            "Epoch 69/70\n",
            "called here\n",
            "\n",
            "Epoch 00069: LearningRateScheduler reducing learning rate to 7.24827343564212e-07.\n",
            "1563/1563 [==============================] - 30s 19ms/step - loss: 0.5787 - accuracy: 0.8318 - val_loss: 0.5592 - val_accuracy: 0.8451\n",
            "Epoch 70/70\n",
            "called here\n",
            "\n",
            "Epoch 00070: LearningRateScheduler reducing learning rate to 6.309988522322576e-07.\n",
            "1563/1563 [==============================] - 30s 19ms/step - loss: 0.5753 - accuracy: 0.8324 - val_loss: 0.5583 - val_accuracy: 0.8453\n"
          ],
          "name": "stdout"
        }
      ]
    },
    {
      "cell_type": "code",
      "metadata": {
        "id": "WKmPKTOI-ZSx"
      },
      "source": [
        "acc_3 = history.history[\"accuracy\"]\n",
        "val_acc_3 = history.history[\"val_accuracy\"]"
      ],
      "execution_count": null,
      "outputs": []
    },
    {
      "cell_type": "code",
      "metadata": {
        "colab": {
          "base_uri": "https://localhost:8080/"
        },
        "id": "DY8Jma29OxQM",
        "outputId": "906e54c4-7b4e-4d13-eb24-3732074f16a2"
      },
      "source": [
        "#Save these values in your jsonm\n",
        "record_Results(\"acc_3\",acc_3)\n",
        "record_Results(\"val_acc_3\",val_acc_3)\n"
      ],
      "execution_count": null,
      "outputs": [
        {
          "output_type": "stream",
          "text": [
            "Drive already mounted at /content/drive; to attempt to forcibly remount, call drive.mount(\"/content/drive\", force_remount=True).\n",
            "recorded\n",
            "Drive already mounted at /content/drive; to attempt to forcibly remount, call drive.mount(\"/content/drive\", force_remount=True).\n",
            "recorded\n"
          ],
          "name": "stdout"
        }
      ]
    },
    {
      "cell_type": "code",
      "metadata": {
        "colab": {
          "base_uri": "https://localhost:8080/"
        },
        "id": "VdHa0KcVOxQO",
        "outputId": "88b88415-a1a8-4cee-e448-4ac53fac9d50"
      },
      "source": [
        "#Get the saved results\n",
        "acc_3 = Get_Results(\"acc_3\")[\"acc_3\"]\n",
        "val_acc_3 = Get_Results(\"val_acc_3\")[\"val_acc_3\"]"
      ],
      "execution_count": null,
      "outputs": [
        {
          "output_type": "stream",
          "text": [
            "Drive already mounted at /content/drive; to attempt to forcibly remount, call drive.mount(\"/content/drive\", force_remount=True).\n",
            "Drive already mounted at /content/drive; to attempt to forcibly remount, call drive.mount(\"/content/drive\", force_remount=True).\n"
          ],
          "name": "stdout"
        }
      ]
    },
    {
      "cell_type": "code",
      "metadata": {
        "id": "sMhOsVmX02Jn",
        "colab": {
          "base_uri": "https://localhost:8080/",
          "height": 814
        },
        "outputId": "32a04db7-2535-4215-fdd8-5c231e8a8333"
      },
      "source": [
        "Plotter(acc_3,val_acc_3,loss,val_loss,l_r)"
      ],
      "execution_count": null,
      "outputs": [
        {
          "output_type": "display_data",
          "data": {
            "image/png": "[encoded data removed]",
            "text/plain": [
              "<Figure size 432x288 with 1 Axes>"
            ]
          },
          "metadata": {
            "tags": [],
            "needs_background": "light"
          }
        },
        {
          "output_type": "display_data",
          "data": {
            "image/png": "[encoded data removed]",
            "text/plain": [
              "<Figure size 432x288 with 1 Axes>"
            ]
          },
          "metadata": {
            "tags": [],
            "needs_background": "light"
          }
        },
        {
          "output_type": "display_data",
          "data": {
            "image/png": "[encoded data removed]",
            "text/plain": [
              "<Figure size 432x288 with 1 Axes>"
            ]
          },
          "metadata": {
            "tags": [],
            "needs_background": "light"
          }
        }
      ]
    },
    {
      "cell_type": "markdown",
      "metadata": {
        "id": "DlJErWV1HG06"
      },
      "source": [
        "**LR constant**"
      ]
    },
    {
      "cell_type": "code",
      "metadata": {
        "id": "RSS4isyhHHK_",
        "colab": {
          "base_uri": "https://localhost:8080/"
        },
        "outputId": "47a9cb18-a1e4-409e-e53e-4d5cb70b0242"
      },
      "source": [
        "model = cifar10_model()\n",
        "\n",
        "from keras.callbacks import LearningRateScheduler\n",
        "\n",
        "LR = 0.01\n",
        "epoch = 1\n",
        "batch_size = 100\n",
        "\n",
        "val_acc = []\n",
        "acc = []\n",
        "val_loss = []\n",
        "loss = []\n",
        "l_r = []\n",
        "for z,batch_size in zip(range(1,epoo+1),range(5,10000,5)):\n",
        "\n",
        "  LR = (batch_size)/(((z+1)**(3/2))*80)\n",
        "  LR=LR/8\n",
        "\n",
        "  print(\"\\n\\nepoch {z}, Learning Rate {LR}, Batch Size  {batch_size} \"\n",
        "                    .format(z=z,LR=LR,batch_size=batch_size))\n",
        "\n",
        "  def set_LR(epoch,lr):\n",
        "    global LR\n",
        "    global l_r\n",
        "    l_r.append(LR)\n",
        "    return LR\n",
        "\n",
        "  call = [ LearningRateScheduler(set_LR,verbose=1) ]\n",
        "\n",
        "  history = model.fit(\n",
        "            datagen.flow(x_train, y_train), \n",
        "            validation_data=(x_test, y_test),\n",
        "            epochs=epoch,\n",
        "            batch_size=batch_size,\n",
        "            # callbacks=call\n",
        "            )\n",
        "\n",
        "\n",
        "\n",
        "  acc.append(history.history['accuracy'])\n",
        "  val_acc.append(history.history['val_accuracy'])\n",
        "  loss.append(history.history['loss'])\n",
        "  val_loss.append(history.history['val_loss'])"
      ],
      "execution_count": null,
      "outputs": [
        {
          "output_type": "stream",
          "text": [
            "\n",
            "\n",
            "epoch 1, Learning Rate 0.002762135864009951, Batch Size  5 \n",
            "1563/1563 [==============================] - 34s 21ms/step - loss: 2.3501 - accuracy: 0.3385 - val_loss: 1.4310 - val_accuracy: 0.5492\n",
            "\n",
            "\n",
            "epoch 2, Learning Rate 0.003007032652029301, Batch Size  10 \n",
            "1563/1563 [==============================] - 31s 20ms/step - loss: 1.2616 - accuracy: 0.5808 - val_loss: 0.9736 - val_accuracy: 0.6913\n",
            "\n",
            "\n",
            "epoch 3, Learning Rate 0.0029296875, Batch Size  15 \n",
            "1563/1563 [==============================] - 31s 20ms/step - loss: 1.0584 - accuracy: 0.6530 - val_loss: 1.1474 - val_accuracy: 0.6653\n",
            "\n",
            "\n",
            "epoch 4, Learning Rate 0.002795084971874737, Batch Size  20 \n",
            "1563/1563 [==============================] - 31s 20ms/step - loss: 0.9610 - accuracy: 0.6918 - val_loss: 0.9014 - val_accuracy: 0.7235\n",
            "\n",
            "\n",
            "epoch 5, Learning Rate 0.0026578664743741078, Batch Size  25 \n",
            "1563/1563 [==============================] - 31s 20ms/step - loss: 0.9060 - accuracy: 0.7180 - val_loss: 0.8672 - val_accuracy: 0.7412\n",
            "\n",
            "\n",
            "epoch 6, Learning Rate 0.0025310120960439324, Batch Size  30 \n",
            "1563/1563 [==============================] - 31s 20ms/step - loss: 0.8666 - accuracy: 0.7398 - val_loss: 0.8421 - val_accuracy: 0.7548\n",
            "\n",
            "\n",
            "epoch 7, Learning Rate 0.0024168688810087074, Batch Size  35 \n",
            "1563/1563 [==============================] - 31s 20ms/step - loss: 0.8473 - accuracy: 0.7484 - val_loss: 0.7854 - val_accuracy: 0.7745\n",
            "\n",
            "\n",
            "epoch 8, Learning Rate 0.0023148148148148147, Batch Size  40 \n",
            "1563/1563 [==============================] - 30s 19ms/step - loss: 0.8288 - accuracy: 0.7606 - val_loss: 0.8210 - val_accuracy: 0.7741\n",
            "\n",
            "\n",
            "epoch 9, Learning Rate 0.002223476479805892, Batch Size  45 \n",
            "1563/1563 [==============================] - 29s 19ms/step - loss: 0.8095 - accuracy: 0.7709 - val_loss: 0.7378 - val_accuracy: 0.8012\n",
            "\n",
            "\n",
            "epoch 10, Learning Rate 0.0021414157995579804, Batch Size  50 \n",
            "1563/1563 [==============================] - 29s 19ms/step - loss: 0.8008 - accuracy: 0.7763 - val_loss: 0.7962 - val_accuracy: 0.7887\n",
            "\n",
            "\n",
            "epoch 11, Learning Rate 0.0020673349482701444, Batch Size  55 \n",
            "1563/1563 [==============================] - 29s 19ms/step - loss: 0.7950 - accuracy: 0.7795 - val_loss: 0.7498 - val_accuracy: 0.8066\n",
            "\n",
            "\n",
            "epoch 12, Learning Rate 0.0020001208998505857, Batch Size  60 \n",
            "1563/1563 [==============================] - 29s 19ms/step - loss: 0.7849 - accuracy: 0.7852 - val_loss: 0.7573 - val_accuracy: 0.8040\n",
            "\n",
            "\n",
            "epoch 13, Learning Rate 0.0019388371344093286, Batch Size  65 \n",
            "1563/1563 [==============================] - 29s 19ms/step - loss: 0.7817 - accuracy: 0.7896 - val_loss: 0.9041 - val_accuracy: 0.7699\n",
            "\n",
            "\n",
            "epoch 14, Learning Rate 0.0018827002377397163, Batch Size  70 \n",
            "1563/1563 [==============================] - 29s 19ms/step - loss: 0.7711 - accuracy: 0.7956 - val_loss: 0.8275 - val_accuracy: 0.7858\n",
            "\n",
            "\n",
            "epoch 15, Learning Rate 0.0018310546875, Batch Size  75 \n",
            "1563/1563 [==============================] - 29s 19ms/step - loss: 0.7634 - accuracy: 0.7969 - val_loss: 0.7904 - val_accuracy: 0.8054\n",
            "\n",
            "\n",
            "epoch 16, Learning Rate 0.0017833501840906836, Batch Size  80 \n",
            "1563/1563 [==============================] - 29s 18ms/step - loss: 0.7612 - accuracy: 0.7985 - val_loss: 0.7237 - val_accuracy: 0.8199\n",
            "\n",
            "\n",
            "epoch 17, Learning Rate 0.0017391225810433025, Batch Size  85 \n",
            "1563/1563 [==============================] - 29s 19ms/step - loss: 0.7560 - accuracy: 0.8010 - val_loss: 0.7245 - val_accuracy: 0.8179\n",
            "\n",
            "\n",
            "epoch 18, Learning Rate 0.0016979782934498815, Batch Size  90 \n",
            "1563/1563 [==============================] - 29s 19ms/step - loss: 0.7580 - accuracy: 0.8021 - val_loss: 0.7346 - val_accuracy: 0.8228\n",
            "\n",
            "\n",
            "epoch 19, Learning Rate 0.0016595817020506251, Batch Size  95 \n",
            "1563/1563 [==============================] - 29s 18ms/step - loss: 0.7547 - accuracy: 0.8035 - val_loss: 0.7009 - val_accuracy: 0.8318\n",
            "\n",
            "\n",
            "epoch 20, Learning Rate 0.0016236450166368479, Batch Size  100 \n",
            "1563/1563 [==============================] - 29s 18ms/step - loss: 0.7466 - accuracy: 0.8061 - val_loss: 0.7333 - val_accuracy: 0.8155\n",
            "\n",
            "\n",
            "epoch 21, Learning Rate 0.0015899201148678337, Batch Size  105 \n",
            "1563/1563 [==============================] - 29s 19ms/step - loss: 0.7422 - accuracy: 0.8093 - val_loss: 0.7103 - val_accuracy: 0.8269\n",
            "\n",
            "\n",
            "epoch 22, Learning Rate 0.001558191952872162, Batch Size  110 \n",
            "1563/1563 [==============================] - 29s 18ms/step - loss: 0.7409 - accuracy: 0.8131 - val_loss: 0.6798 - val_accuracy: 0.8379\n",
            "\n",
            "\n",
            "epoch 23, Learning Rate 0.001528273222765112, Batch Size  115 \n",
            "1563/1563 [==============================] - 29s 18ms/step - loss: 0.7370 - accuracy: 0.8116 - val_loss: 0.6438 - val_accuracy: 0.8461\n",
            "\n",
            "\n",
            "epoch 24, Learning Rate 0.0015, Batch Size  120 \n",
            "1563/1563 [==============================] - 29s 18ms/step - loss: 0.7309 - accuracy: 0.8167 - val_loss: 0.7387 - val_accuracy: 0.8240\n",
            "\n",
            "\n",
            "epoch 25, Learning Rate 0.0014732281786221757, Batch Size  125 \n",
            "1563/1563 [==============================] - 29s 18ms/step - loss: 0.7321 - accuracy: 0.8141 - val_loss: 0.6948 - val_accuracy: 0.8319\n",
            "\n",
            "\n",
            "epoch 26, Learning Rate 0.0014478305361622559, Batch Size  130 \n",
            "1563/1563 [==============================] - 29s 18ms/step - loss: 0.7307 - accuracy: 0.8151 - val_loss: 0.6860 - val_accuracy: 0.8368\n",
            "\n",
            "\n",
            "epoch 27, Learning Rate 0.0014236943040247117, Batch Size  135 \n",
            "1563/1563 [==============================] - 29s 18ms/step - loss: 0.7239 - accuracy: 0.8175 - val_loss: 0.6888 - val_accuracy: 0.8351\n",
            "\n",
            "\n",
            "epoch 28, Learning Rate 0.0014007191457320722, Batch Size  140 \n",
            "1563/1563 [==============================] - 29s 18ms/step - loss: 0.7223 - accuracy: 0.8184 - val_loss: 0.7687 - val_accuracy: 0.8140\n",
            "\n",
            "\n",
            "epoch 29, Learning Rate 0.0013788154659418242, Batch Size  145 \n",
            "1563/1563 [==============================] - 29s 18ms/step - loss: 0.7259 - accuracy: 0.8161 - val_loss: 0.6976 - val_accuracy: 0.8350\n",
            "\n",
            "\n",
            "epoch 30, Learning Rate 0.0013579029891137217, Batch Size  150 \n",
            "1563/1563 [==============================] - 29s 18ms/step - loss: 0.7210 - accuracy: 0.8208 - val_loss: 0.6302 - val_accuracy: 0.8528\n",
            "\n",
            "\n",
            "epoch 31, Learning Rate 0.00133790955912982, Batch Size  155 \n",
            "1563/1563 [==============================] - 29s 18ms/step - loss: 0.7187 - accuracy: 0.8208 - val_loss: 0.7161 - val_accuracy: 0.8312\n",
            "\n",
            "\n",
            "epoch 32, Learning Rate 0.0013187701208764986, Batch Size  160 \n",
            "1563/1563 [==============================] - 29s 19ms/step - loss: 0.7209 - accuracy: 0.8191 - val_loss: 0.7055 - val_accuracy: 0.8333\n",
            "\n",
            "\n",
            "epoch 33, Learning Rate 0.0013004258524133253, Batch Size  165 \n",
            "1563/1563 [==============================] - 29s 18ms/step - loss: 0.7163 - accuracy: 0.8228 - val_loss: 0.6752 - val_accuracy: 0.8446\n",
            "\n",
            "\n",
            "epoch 34, Learning Rate 0.001282823422355784, Batch Size  170 \n",
            "1563/1563 [==============================] - 29s 18ms/step - loss: 0.7172 - accuracy: 0.8215 - val_loss: 0.6816 - val_accuracy: 0.8392\n",
            "\n",
            "\n",
            "epoch 35, Learning Rate 0.0012659143518518518, Batch Size  175 \n",
            "1563/1563 [==============================] - 29s 18ms/step - loss: 0.7115 - accuracy: 0.8233 - val_loss: 0.6904 - val_accuracy: 0.8387\n",
            "\n",
            "\n",
            "epoch 36, Learning Rate 0.0012496544643143715, Batch Size  180 \n",
            "1563/1563 [==============================] - 29s 18ms/step - loss: 0.7072 - accuracy: 0.8255 - val_loss: 0.6960 - val_accuracy: 0.8369\n",
            "\n",
            "\n",
            "epoch 37, Learning Rate 0.0012340034090950276, Batch Size  185 \n",
            "1563/1563 [==============================] - 29s 18ms/step - loss: 0.7134 - accuracy: 0.8220 - val_loss: 0.6770 - val_accuracy: 0.8429\n",
            "\n",
            "\n",
            "epoch 38, Learning Rate 0.0012189242477150062, Batch Size  190 \n",
            "1563/1563 [==============================] - 29s 19ms/step - loss: 0.7095 - accuracy: 0.8230 - val_loss: 0.6590 - val_accuracy: 0.8460\n",
            "\n",
            "\n",
            "epoch 39, Learning Rate 0.0012043830932281915, Batch Size  195 \n",
            "1563/1563 [==============================] - 29s 19ms/step - loss: 0.7083 - accuracy: 0.8247 - val_loss: 0.6952 - val_accuracy: 0.8355\n",
            "\n",
            "\n",
            "epoch 40, Learning Rate 0.0011903487948826683, Batch Size  200 \n",
            "1563/1563 [==============================] - 29s 18ms/step - loss: 0.7102 - accuracy: 0.8250 - val_loss: 0.6941 - val_accuracy: 0.8411\n",
            "\n",
            "\n",
            "epoch 41, Learning Rate 0.0011767926615412515, Batch Size  205 \n",
            "1563/1563 [==============================] - 29s 19ms/step - loss: 0.7063 - accuracy: 0.8246 - val_loss: 0.6413 - val_accuracy: 0.8535\n",
            "\n",
            "\n",
            "epoch 42, Learning Rate 0.0011636882183810675, Batch Size  210 \n",
            "1563/1563 [==============================] - 29s 18ms/step - loss: 0.7091 - accuracy: 0.8248 - val_loss: 0.7198 - val_accuracy: 0.8288\n",
            "\n",
            "\n",
            "epoch 43, Learning Rate 0.0011510109922624144, Batch Size  215 \n",
            "1563/1563 [==============================] - 29s 18ms/step - loss: 0.7064 - accuracy: 0.8270 - val_loss: 0.6568 - val_accuracy: 0.8527\n",
            "\n",
            "\n",
            "epoch 44, Learning Rate 0.0011387383218748929, Batch Size  220 \n",
            "1563/1563 [==============================] - 29s 18ms/step - loss: 0.7030 - accuracy: 0.8276 - val_loss: 0.6822 - val_accuracy: 0.8445\n",
            "\n",
            "\n",
            "epoch 45, Learning Rate 0.0011268491893631745, Batch Size  225 \n",
            "1563/1563 [==============================] - 29s 18ms/step - loss: 0.7011 - accuracy: 0.8278 - val_loss: 0.7261 - val_accuracy: 0.8309\n",
            "\n",
            "\n",
            "epoch 46, Learning Rate 0.001115324070628848, Batch Size  230 \n",
            "1563/1563 [==============================] - 29s 18ms/step - loss: 0.7027 - accuracy: 0.8283 - val_loss: 0.6695 - val_accuracy: 0.8450\n",
            "\n",
            "\n",
            "epoch 47, Learning Rate 0.001104144801917009, Batch Size  235 \n",
            "1563/1563 [==============================] - 29s 19ms/step - loss: 0.7032 - accuracy: 0.8283 - val_loss: 0.6821 - val_accuracy: 0.8419\n",
            "\n",
            "\n",
            "epoch 48, Learning Rate 0.0010932944606413995, Batch Size  240 \n",
            "1563/1563 [==============================] - 29s 18ms/step - loss: 0.6981 - accuracy: 0.8286 - val_loss: 0.6868 - val_accuracy: 0.8445\n",
            "\n",
            "\n",
            "epoch 49, Learning Rate 0.0010827572586919007, Batch Size  245 \n",
            "1563/1563 [==============================] - 29s 19ms/step - loss: 0.7006 - accuracy: 0.8302 - val_loss: 0.6261 - val_accuracy: 0.8592\n",
            "\n",
            "\n",
            "epoch 50, Learning Rate 0.00107251844671263, Batch Size  250 \n",
            "1563/1563 [==============================] - 29s 18ms/step - loss: 0.6971 - accuracy: 0.8313 - val_loss: 0.7224 - val_accuracy: 0.8314\n",
            "\n",
            "\n",
            "epoch 51, Learning Rate 0.0010625642280456236, Batch Size  255 \n",
            "1563/1563 [==============================] - 29s 19ms/step - loss: 0.6967 - accuracy: 0.8306 - val_loss: 0.7616 - val_accuracy: 0.8201\n",
            "\n",
            "\n",
            "epoch 52, Learning Rate 0.00105288168121047, Batch Size  260 \n",
            "1563/1563 [==============================] - 29s 19ms/step - loss: 0.6981 - accuracy: 0.8299 - val_loss: 0.6507 - val_accuracy: 0.8540\n",
            "\n",
            "\n",
            "epoch 53, Learning Rate 0.0010434586899394646, Batch Size  265 \n",
            "1563/1563 [==============================] - 29s 19ms/step - loss: 0.6924 - accuracy: 0.8317 - val_loss: 0.6528 - val_accuracy: 0.8492\n",
            "\n",
            "\n",
            "epoch 54, Learning Rate 0.0010342838799152008, Batch Size  270 \n",
            "1563/1563 [==============================] - 29s 19ms/step - loss: 0.6957 - accuracy: 0.8287 - val_loss: 0.6508 - val_accuracy: 0.8549\n",
            "\n",
            "\n",
            "epoch 55, Learning Rate 0.001025346561466472, Batch Size  275 \n",
            "1563/1563 [==============================] - 29s 19ms/step - loss: 0.6970 - accuracy: 0.8301 - val_loss: 0.6634 - val_accuracy: 0.8517\n",
            "\n",
            "\n",
            "epoch 56, Learning Rate 0.0010166366775718537, Batch Size  280 \n",
            "1563/1563 [==============================] - 29s 19ms/step - loss: 0.6948 - accuracy: 0.8318 - val_loss: 0.6597 - val_accuracy: 0.8511\n",
            "\n",
            "\n",
            "epoch 57, Learning Rate 0.0010081447566007793, Batch Size  285 \n",
            "1563/1563 [==============================] - 30s 19ms/step - loss: 0.6926 - accuracy: 0.8319 - val_loss: 0.7416 - val_accuracy: 0.8305\n",
            "\n",
            "\n",
            "epoch 58, Learning Rate 0.0009998618692912851, Batch Size  290 \n",
            "1563/1563 [==============================] - 31s 20ms/step - loss: 0.6906 - accuracy: 0.8336 - val_loss: 0.6760 - val_accuracy: 0.8433\n",
            "\n",
            "\n",
            "epoch 59, Learning Rate 0.0009917795895236007, Batch Size  295 \n",
            "1563/1563 [==============================] - 31s 20ms/step - loss: 0.7001 - accuracy: 0.8302 - val_loss: 0.6690 - val_accuracy: 0.8503\n",
            "\n",
            "\n",
            "epoch 60, Learning Rate 0.0009838899585007375, Batch Size  300 \n",
            "1563/1563 [==============================] - 31s 20ms/step - loss: 0.6889 - accuracy: 0.8332 - val_loss: 0.6507 - val_accuracy: 0.8537\n",
            "\n",
            "\n",
            "epoch 61, Learning Rate 0.0009761854519923916, Batch Size  305 \n",
            "1563/1563 [==============================] - 31s 20ms/step - loss: 0.6945 - accuracy: 0.8306 - val_loss: 0.6745 - val_accuracy: 0.8467\n",
            "\n",
            "\n",
            "epoch 62, Learning Rate 0.0009686589503378012, Batch Size  310 \n",
            "1563/1563 [==============================] - 30s 19ms/step - loss: 0.6916 - accuracy: 0.8343 - val_loss: 0.6531 - val_accuracy: 0.8533\n",
            "\n",
            "\n",
            "epoch 63, Learning Rate 0.0009613037109375, Batch Size  315 \n",
            "1563/1563 [==============================] - 29s 19ms/step - loss: 0.6931 - accuracy: 0.8340 - val_loss: 0.6704 - val_accuracy: 0.8479\n",
            "\n",
            "\n",
            "epoch 64, Learning Rate 0.0009541133429939111, Batch Size  320 \n",
            "1563/1563 [==============================] - 29s 19ms/step - loss: 0.6833 - accuracy: 0.8356 - val_loss: 0.6441 - val_accuracy: 0.8506\n",
            "\n",
            "\n",
            "epoch 65, Learning Rate 0.0009470817842870061, Batch Size  325 \n",
            "1563/1563 [==============================] - 29s 19ms/step - loss: 0.6921 - accuracy: 0.8330 - val_loss: 0.6704 - val_accuracy: 0.8453\n",
            "\n",
            "\n",
            "epoch 66, Learning Rate 0.0009402032797943266, Batch Size  330 \n",
            "1563/1563 [==============================] - 29s 19ms/step - loss: 0.6922 - accuracy: 0.8327 - val_loss: 0.7069 - val_accuracy: 0.8340\n",
            "\n",
            "\n",
            "epoch 67, Learning Rate 0.0009334723619849673, Batch Size  335 \n",
            "1563/1563 [==============================] - 29s 19ms/step - loss: 0.6878 - accuracy: 0.8336 - val_loss: 0.6457 - val_accuracy: 0.8496\n",
            "\n",
            "\n",
            "epoch 68, Learning Rate 0.0009268838326349984, Batch Size  340 \n",
            "1563/1563 [==============================] - 29s 19ms/step - loss: 0.6831 - accuracy: 0.8376 - val_loss: 0.6660 - val_accuracy: 0.8448\n",
            "\n",
            "\n",
            "epoch 69, Learning Rate 0.0009204327460276023, Batch Size  345 \n",
            "1563/1563 [==============================] - 29s 19ms/step - loss: 0.6840 - accuracy: 0.8370 - val_loss: 0.6652 - val_accuracy: 0.8491\n",
            "\n",
            "\n",
            "epoch 70, Learning Rate 0.0009141143934151601, Batch Size  350 \n",
            "1563/1563 [==============================] - 30s 19ms/step - loss: 0.6875 - accuracy: 0.8358 - val_loss: 0.6605 - val_accuracy: 0.8474\n"
          ],
          "name": "stdout"
        }
      ]
    },
    {
      "cell_type": "code",
      "metadata": {
        "id": "gjIXkRs3O0fl"
      },
      "source": [
        "acc_4 = acc\n",
        "val_acc_4 = val_acc"
      ],
      "execution_count": null,
      "outputs": []
    },
    {
      "cell_type": "code",
      "metadata": {
        "colab": {
          "base_uri": "https://localhost:8080/"
        },
        "id": "j8BqaSZRO1AP",
        "outputId": "f3c3495d-da5b-45d3-cf4f-a34a64198767"
      },
      "source": [
        "#Save these values in your jsonm\n",
        "record_Results(\"acc_4\",acc_4)\n",
        "record_Results(\"val_acc_4\",val_acc_4)\n"
      ],
      "execution_count": null,
      "outputs": [
        {
          "output_type": "stream",
          "text": [
            "Drive already mounted at /content/drive; to attempt to forcibly remount, call drive.mount(\"/content/drive\", force_remount=True).\n",
            "recorded\n",
            "Drive already mounted at /content/drive; to attempt to forcibly remount, call drive.mount(\"/content/drive\", force_remount=True).\n",
            "recorded\n"
          ],
          "name": "stdout"
        }
      ]
    },
    {
      "cell_type": "code",
      "metadata": {
        "colab": {
          "base_uri": "https://localhost:8080/"
        },
        "id": "fQ9YPcHXO1AR",
        "outputId": "89831c26-8002-4343-fe9f-83e45d037559"
      },
      "source": [
        "#Get the saved results\n",
        "acc_4 = Get_Results(\"acc_4\")[\"acc_4\"]\n",
        "val_acc_4 = Get_Results(\"val_acc_4\")[\"val_acc_4\"]"
      ],
      "execution_count": null,
      "outputs": [
        {
          "output_type": "stream",
          "text": [
            "Drive already mounted at /content/drive; to attempt to forcibly remount, call drive.mount(\"/content/drive\", force_remount=True).\n",
            "Drive already mounted at /content/drive; to attempt to forcibly remount, call drive.mount(\"/content/drive\", force_remount=True).\n"
          ],
          "name": "stdout"
        }
      ]
    },
    {
      "cell_type": "code",
      "metadata": {
        "id": "dZL3HUlI6aZl"
      },
      "source": [
        "Plotter(acc,val_acc,loss,val_loss,l_r)"
      ],
      "execution_count": null,
      "outputs": []
    },
    {
      "cell_type": "markdown",
      "metadata": {
        "id": "-sAHkvA8-ov7"
      },
      "source": [
        "**Plotting all of them**\n",
        "\n",
        "---\n",
        "\n"
      ]
    },
    {
      "cell_type": "code",
      "metadata": {
        "colab": {
          "base_uri": "https://localhost:8080/",
          "height": 609
        },
        "id": "XH8OZYiU6g2c",
        "outputId": "8d4ea7b7-6f0f-4ebb-eb24-09bce3242209"
      },
      "source": [
        "plt.figure(figsize=(15, 10))\n",
        "\n",
        "plt.plot(acc_1, label='LR & BS = const acc',ls='-.',c='b')\n",
        "plt.plot(val_acc_1, label = 'LR & BS = const val_acc',c='b')\n",
        "plt.plot(acc_2, label='LR ∝ BS/epoch acc',ls='-.',c='r')\n",
        "plt.plot(val_acc_2, label = 'LR ∝ BS_/epoch val_acc',c='r')\n",
        "plt.plot(acc_3, label='BS = const acc',ls='-.',c='g')\n",
        "plt.plot(val_acc_3, label = 'BS = const val_acc',c='g')\n",
        "plt.plot(acc_4, label='LR = const acc',ls='-.',c='y')\n",
        "plt.plot(val_acc_4, label = 'LR = const val_acc',c='y')\n",
        "\n",
        "plt.xlabel('Epoch')\n",
        "plt.ylabel('Accuracy')\n",
        "plt.legend(loc='lower right')\n",
        "plt.show()\n",
        "\n",
        "\n",
        "# case4_fashion_acc,case4_fashion_val_acc0"
      ],
      "execution_count": null,
      "outputs": [
        {
          "output_type": "display_data",
          "data": {
            "image/png": "[encoded data removed]",
            "text/plain": [
              "<Figure size 1080x720 with 1 Axes>"
            ]
          },
          "metadata": {
            "tags": [],
            "needs_background": "light"
          }
        }
      ]
    },
    {
      "cell_type": "code",
      "metadata": {
        "id": "p5RqRTdAbwAF"
      },
      "source": [
        "# "
      ],
      "execution_count": null,
      "outputs": []
    },
    {
      "cell_type": "code",
      "metadata": {
        "id": "kDOZp0YUSVDL"
      },
      "source": [
        "acc_1_dif = []\n",
        "for i in range(len(acc_1)): acc_1_dif.append(acc_1[i] - val_acc_1[i]) \n",
        "acc_2_dif = []\n",
        "for i in range(len(acc_2)): acc_2_dif.append(acc_2[i][0] - val_acc_2[i][0]) \n",
        "acc_3_dif = []\n",
        "for i in range(len(acc_3)): acc_3_dif.append(acc_3[i][0] - val_acc_3[i][0]) \n",
        "acc_4_dif = []\n",
        "for i in range(len(acc_4)): acc_4_dif.append(acc_4[i][0] - val_acc_4[i][0]) "
      ],
      "execution_count": null,
      "outputs": []
    },
    {
      "cell_type": "code",
      "metadata": {
        "id": "Y86_qZ77SVzR"
      },
      "source": [
        "plt.figure(figsize=(15, 10))\n",
        "\n",
        "plt.plot(acc_1_dif, label='LR & BS = const acc',ls='-.',c='b')\n",
        "# plt.plot(val_acc_1, label = 'LR & BS = const val_acc',c='b')\n",
        "plt.plot(acc_2_dif, label='LR ∝ BS/epoch acc',ls='-.',c='r')\n",
        "# plt.plot(val_acc_2, label = 'LR ∝ BS_/epoch val_acc',c='r')\n",
        "plt.plot(acc_3_dif, label='BS = const acc',ls='-.',c='g')\n",
        "# plt.plot(val_acc_3, label = 'BS = const val_acc',c='g')\n",
        "plt.plot(acc_4_dif, label='LR = const acc',ls='-.',c='y')\n",
        "# plt.plot(val_acc_4, label = 'LR = const val_acc',c='y')\n",
        "\n",
        "plt.xlabel('Epoch')\n",
        "plt.ylabel('Accuracy')\n",
        "plt.legend(loc='lower right')\n",
        "plt.show()"
      ],
      "execution_count": null,
      "outputs": []
    },
    {
      "cell_type": "code",
      "metadata": {
        "id": "6QxYqMd0JClB"
      },
      "source": [
        "!pip install youtube-dl"
      ],
      "execution_count": null,
      "outputs": []
    },
    {
      "cell_type": "code",
      "metadata": {
        "id": "52purCHB2af5"
      },
      "source": [
        "!youtube-dl \"https://www.youtube.com/watch?v=PXDQFBmg1GI&ab_channel=%C3%87erkesTV\""
      ],
      "execution_count": null,
      "outputs": []
    },
    {
      "cell_type": "code",
      "metadata": {
        "id": "K_-jcMHg2eLO"
      },
      "source": [
        ""
      ],
      "execution_count": null,
      "outputs": []
    }
  ]
}